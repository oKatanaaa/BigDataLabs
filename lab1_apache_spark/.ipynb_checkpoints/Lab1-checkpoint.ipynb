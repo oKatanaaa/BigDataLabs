{
 "cells": [
  {
   "cell_type": "code",
   "execution_count": 3,
   "id": "80cfd673",
   "metadata": {},
   "outputs": [
    {
     "name": "stdout",
     "output_type": "stream",
     "text": [
      "Collecting findspark\n",
      "  Downloading findspark-1.4.2-py2.py3-none-any.whl (4.2 kB)\n",
      "Installing collected packages: findspark\n",
      "Successfully installed findspark-1.4.2\n",
      "\u001b[33mWARNING: Running pip as the 'root' user can result in broken permissions and conflicting behaviour with the system package manager. It is recommended to use a virtual environment instead: https://pip.pypa.io/warnings/venv\u001b[0m\n"
     ]
    }
   ],
   "source": [
    "!pip install findspark\n",
    "import findspark\n",
    "findspark.init()"
   ]
  },
  {
   "cell_type": "code",
   "execution_count": 4,
   "id": "45fa4f21",
   "metadata": {},
   "outputs": [],
   "source": [
    "from pyspark import SparkContext, SparkConf\n",
    "import pyspark as ps\n",
    "import os\n",
    "from glob import glob"
   ]
  },
  {
   "cell_type": "code",
   "execution_count": 3,
   "id": "2ea7a903",
   "metadata": {},
   "outputs": [],
   "source": [
    "app_name = \"BigDataLab1\"\n",
    "conf = SparkConf().setAppName(app_name).setMaster('local[1]')\n",
    "sc = SparkContext(conf=conf)"
   ]
  },
  {
   "cell_type": "code",
   "execution_count": 4,
   "id": "c16c0b66",
   "metadata": {},
   "outputs": [
    {
     "data": {
      "text/html": [
       "\n",
       "        <div>\n",
       "            <p><b>SparkContext</b></p>\n",
       "\n",
       "            <p><a href=\"http://maprdemo.mapr.io:4040\">Spark UI</a></p>\n",
       "\n",
       "            <dl>\n",
       "              <dt>Version</dt>\n",
       "                <dd><code>v3.1.2</code></dd>\n",
       "              <dt>Master</dt>\n",
       "                <dd><code>local[1]</code></dd>\n",
       "              <dt>AppName</dt>\n",
       "                <dd><code>BigDataLab1</code></dd>\n",
       "            </dl>\n",
       "        </div>\n",
       "        "
      ],
      "text/plain": [
       "<SparkContext master=local[1] appName=BigDataLab1>"
      ]
     },
     "execution_count": 4,
     "metadata": {},
     "output_type": "execute_result"
    }
   ],
   "source": [
    "sc"
   ]
  },
  {
   "cell_type": "code",
   "execution_count": 5,
   "id": "a5554aba",
   "metadata": {},
   "outputs": [
    {
     "name": "stdout",
     "output_type": "stream",
     "text": [
      "Found 13 items\r\n",
      "-rwxr-xr-x   3 root root        803 2021-10-05 08:24 /data/README.md\r\n",
      "-rwxr-xr-x   3 root root        394 2021-10-05 08:24 /data/list_of_countries_sorted_gini.txt\r\n",
      "-rwxr-xr-x   3 root root   92754328 2021-10-05 08:24 /data/nycTaxiFares.csv\r\n",
      "-rwxr-xr-x   3 root root   19459967 2021-10-05 08:24 /data/nycTaxiFares.gz\r\n",
      "-rwxr-xr-x   3 root root   84135506 2021-10-05 08:24 /data/nycTaxiRides.gz\r\n",
      "-rwxr-xr-x   3 root root  351662006 2021-10-05 08:25 /data/nycTaxiRides4.csv\r\n",
      "-rwxr-xr-x   3 root root   79500408 2021-10-05 08:25 /data/nyctaxi.csv\r\n",
      "-rwxr-xr-x   3 root root   74162295 2021-10-05 08:25 /data/posts_sample.xml\r\n",
      "-rwxr-xr-x   3 root root      40269 2021-10-05 08:25 /data/programming-languages.csv\r\n",
      "-rwxr-xr-x   3 root root       5289 2021-10-05 08:25 /data/stations.csv\r\n",
      "-rwxr-xr-x   3 root root   38213228 2021-10-05 08:25 /data/trips.csv\r\n",
      "drwxr-xr-x   - root root          3 2021-10-05 08:49 /data/warandpeace_histogram.txt\r\n",
      "-rwxr-xr-x   3 root root    5315699 2021-10-05 08:25 /data/warandsociety.txt\r\n"
     ]
    }
   ],
   "source": [
    "!hadoop fs -ls /data"
   ]
  },
  {
   "cell_type": "code",
   "execution_count": 6,
   "id": "85724878",
   "metadata": {},
   "outputs": [
    {
     "data": {
      "text/plain": [
       "12851"
      ]
     },
     "execution_count": 6,
     "metadata": {},
     "output_type": "execute_result"
    }
   ],
   "source": [
    "warandsociety = sc.textFile(\"/mnt/data/warandsociety.txt\")\n",
    "warandsociety.count()"
   ]
  },
  {
   "cell_type": "code",
   "execution_count": 7,
   "id": "4dd01ee0",
   "metadata": {},
   "outputs": [
    {
     "data": {
      "text/plain": [
       "['Лев Николаевич Толстой',\n",
       " 'Война и мир. Книга 1',\n",
       " '',\n",
       " 'Война и мир – 1',\n",
       " '',\n",
       " ' ',\n",
       " ' http://www.lib.ru',\n",
       " '',\n",
       " 'Аннотация ',\n",
       " '']"
      ]
     },
     "execution_count": 7,
     "metadata": {},
     "output_type": "execute_result"
    }
   ],
   "source": [
    "warandsociety.take(10)"
   ]
  },
  {
   "cell_type": "code",
   "execution_count": 8,
   "id": "68a69217",
   "metadata": {},
   "outputs": [
    {
     "data": {
      "text/plain": [
       "1"
      ]
     },
     "execution_count": 8,
     "metadata": {},
     "output_type": "execute_result"
    }
   ],
   "source": [
    "warandsociety.getNumPartitions()"
   ]
  },
  {
   "cell_type": "code",
   "execution_count": 9,
   "id": "bb3bc514",
   "metadata": {},
   "outputs": [],
   "source": [
    "lines_with_war = warandsociety.filter(lambda x: \"война\" in x)"
   ]
  },
  {
   "cell_type": "code",
   "execution_count": 10,
   "id": "5c49f2e0",
   "metadata": {},
   "outputs": [
    {
     "data": {
      "text/plain": [
       "\"– Еh bien, mon prince. Genes et Lucques ne sont plus que des apanages, des поместья, de la famille Buonaparte. Non, je vous previens, que si vous ne me dites pas, que nous avons la guerre, si vous vous permettez encore de pallier toutes les infamies, toutes les atrocites de cet Antichrist (ma parole, j'y crois) – je ne vous connais plus, vous n'etes plus mon ami, vous n'etes plus мой верный раб, comme vous dites. [Ну, что, князь, Генуа и Лукка стали не больше, как поместьями фамилии Бонапарте. Нет, я вас предупреждаю, если вы мне не скажете, что у нас война, если вы еще позволите себе защищать все гадости, все ужасы этого Антихриста (право, я верю, что он Антихрист) – я вас больше не знаю, вы уж не друг мой, вы уж не мой верный раб, как вы говорите.] Ну, здравствуйте, здравствуйте. Je vois que je vous fais peur, [Я вижу, что я вас пугаю,] садитесь и рассказывайте.\""
      ]
     },
     "execution_count": 10,
     "metadata": {},
     "output_type": "execute_result"
    }
   ],
   "source": [
    "lines_with_war.first()"
   ]
  },
  {
   "cell_type": "code",
   "execution_count": 11,
   "id": "d0d45280",
   "metadata": {},
   "outputs": [
    {
     "data": {
      "text/plain": [
       "PythonRDD[5] at RDD at PythonRDD.scala:53"
      ]
     },
     "execution_count": 11,
     "metadata": {},
     "output_type": "execute_result"
    }
   ],
   "source": [
    "lines_with_war.cache()"
   ]
  },
  {
   "cell_type": "code",
   "execution_count": 12,
   "id": "1ee47bd0",
   "metadata": {},
   "outputs": [
    {
     "name": "stdout",
     "output_type": "stream",
     "text": [
      "CPU times: user 10.2 ms, sys: 3.4 ms, total: 13.6 ms\n",
      "Wall time: 383 ms\n"
     ]
    },
    {
     "data": {
      "text/plain": [
       "54"
      ]
     },
     "execution_count": 12,
     "metadata": {},
     "output_type": "execute_result"
    }
   ],
   "source": [
    "%%time\n",
    "lines_with_war.count()"
   ]
  },
  {
   "cell_type": "code",
   "execution_count": 13,
   "id": "7c19dfa1",
   "metadata": {},
   "outputs": [
    {
     "name": "stdout",
     "output_type": "stream",
     "text": [
      "CPU times: user 10.8 ms, sys: 2.72 ms, total: 13.5 ms\n",
      "Wall time: 65.2 ms\n"
     ]
    },
    {
     "data": {
      "text/plain": [
       "54"
      ]
     },
     "execution_count": 13,
     "metadata": {},
     "output_type": "execute_result"
    }
   ],
   "source": [
    "%%time\n",
    "lines_with_war.count()"
   ]
  },
  {
   "cell_type": "code",
   "execution_count": 14,
   "id": "caef7f4e",
   "metadata": {},
   "outputs": [],
   "source": [
    "word_counts = lines_with_war.flatMap(lambda x: map(lambda xx: (xx, 1), x.split(' '))).reduceByKey(lambda a, b: a + b)"
   ]
  },
  {
   "cell_type": "code",
   "execution_count": 15,
   "id": "d4af0ef5",
   "metadata": {},
   "outputs": [
    {
     "data": {
      "text/plain": [
       "[]"
      ]
     },
     "execution_count": 15,
     "metadata": {},
     "output_type": "execute_result"
    }
   ],
   "source": [
    "glob('warandpeace_histogram.txt/*')"
   ]
  },
  {
   "cell_type": "code",
   "execution_count": 23,
   "id": "4d058f9f",
   "metadata": {},
   "outputs": [],
   "source": [
    "#for file in glob('warandpeace_histogram.txt/*'):\n",
    "#    os.remove(file)\n",
    "#os.removedirs('warandpeace_histogram.txt')\n",
    "#word_counts.saveAsTextFile(\"warandpeace_histogram.txt\")"
   ]
  },
  {
   "cell_type": "code",
   "execution_count": 24,
   "id": "6e3a8ae6",
   "metadata": {},
   "outputs": [
    {
     "name": "stdout",
     "output_type": "stream",
     "text": [
      "rm: `/data/warandpeace_histogram.txt': No such file or directory\r\n"
     ]
    }
   ],
   "source": [
    "!hadoop fs -rm -r /data/warandpeace_histogram.txt"
   ]
  },
  {
   "cell_type": "markdown",
   "id": "1512203b",
   "metadata": {},
   "source": [
    "## Operations on sets"
   ]
  },
  {
   "cell_type": "code",
   "execution_count": 25,
   "id": "cf09dc0b",
   "metadata": {},
   "outputs": [],
   "source": [
    "a = sc.parallelize([1, 2, 3, 4])"
   ]
  },
  {
   "cell_type": "code",
   "execution_count": 26,
   "id": "a35b2dce",
   "metadata": {},
   "outputs": [],
   "source": [
    "b = sc.parallelize([3, 4, 6, 7])"
   ]
  },
  {
   "cell_type": "code",
   "execution_count": 27,
   "id": "616e3370",
   "metadata": {},
   "outputs": [
    {
     "data": {
      "text/plain": [
       "[1, 2, 3, 4, 3, 4, 6, 7]"
      ]
     },
     "execution_count": 27,
     "metadata": {},
     "output_type": "execute_result"
    }
   ],
   "source": [
    "a.union(b).collect()"
   ]
  },
  {
   "cell_type": "code",
   "execution_count": 28,
   "id": "106eb454",
   "metadata": {},
   "outputs": [
    {
     "data": {
      "text/plain": [
       "[2, 4, 6, 1, 3, 7]"
      ]
     },
     "execution_count": 28,
     "metadata": {},
     "output_type": "execute_result"
    }
   ],
   "source": [
    "a.union(b).distinct().collect()"
   ]
  },
  {
   "cell_type": "code",
   "execution_count": 29,
   "id": "e370b317",
   "metadata": {},
   "outputs": [
    {
     "data": {
      "text/plain": [
       "[4, 3]"
      ]
     },
     "execution_count": 29,
     "metadata": {},
     "output_type": "execute_result"
    }
   ],
   "source": [
    "a.intersection(b).collect()"
   ]
  },
  {
   "cell_type": "code",
   "execution_count": 30,
   "id": "02ea7424",
   "metadata": {},
   "outputs": [
    {
     "data": {
      "text/plain": [
       "[2, 1]"
      ]
     },
     "execution_count": 30,
     "metadata": {},
     "output_type": "execute_result"
    }
   ],
   "source": [
    "a.subtract(b).collect()"
   ]
  },
  {
   "cell_type": "markdown",
   "id": "8e7a0e55",
   "metadata": {},
   "source": [
    "## Common variables"
   ]
  },
  {
   "cell_type": "markdown",
   "id": "cb597f95",
   "metadata": {},
   "source": [
    "### Boardcast vars"
   ]
  },
  {
   "cell_type": "code",
   "execution_count": 31,
   "id": "ba10ff40",
   "metadata": {},
   "outputs": [],
   "source": [
    "broadcast_var = sc.broadcast([1, 2, 3])"
   ]
  },
  {
   "cell_type": "code",
   "execution_count": 32,
   "id": "d7a8ce63",
   "metadata": {},
   "outputs": [
    {
     "data": {
      "text/plain": [
       "[1, 2, 3]"
      ]
     },
     "execution_count": 32,
     "metadata": {},
     "output_type": "execute_result"
    }
   ],
   "source": [
    "broadcast_var.value"
   ]
  },
  {
   "cell_type": "markdown",
   "id": "8a1976d7",
   "metadata": {},
   "source": [
    "### Accumulator vars"
   ]
  },
  {
   "cell_type": "code",
   "execution_count": 33,
   "id": "7f461589",
   "metadata": {},
   "outputs": [],
   "source": [
    "accum = sc.accumulator(0.0)"
   ]
  },
  {
   "cell_type": "code",
   "execution_count": 34,
   "id": "9d111e7f",
   "metadata": {},
   "outputs": [],
   "source": [
    "sc.parallelize([1, 2, 3, 4]).foreach(lambda x: accum.add(x))"
   ]
  },
  {
   "cell_type": "code",
   "execution_count": 35,
   "id": "db43f0d9",
   "metadata": {},
   "outputs": [
    {
     "data": {
      "text/plain": [
       "10.0"
      ]
     },
     "execution_count": 35,
     "metadata": {},
     "output_type": "execute_result"
    }
   ],
   "source": [
    "accum.value"
   ]
  },
  {
   "cell_type": "code",
   "execution_count": 36,
   "id": "4ea64b22",
   "metadata": {},
   "outputs": [],
   "source": [
    "pair = ('a', 'b')"
   ]
  },
  {
   "cell_type": "markdown",
   "id": "92e7d4a4",
   "metadata": {},
   "source": [
    "## Top-10 most popular taxi numbers in New-York"
   ]
  },
  {
   "cell_type": "code",
   "execution_count": 37,
   "id": "e13ab8b0",
   "metadata": {},
   "outputs": [],
   "source": [
    "taxi = sc.textFile('/mnt/data/nyctaxi.csv')"
   ]
  },
  {
   "cell_type": "code",
   "execution_count": 38,
   "id": "75f826e6",
   "metadata": {},
   "outputs": [
    {
     "data": {
      "text/plain": [
       "['\"_id\",\"_rev\",\"dropoff_datetime\",\"dropoff_latitude\",\"dropoff_longitude\",\"hack_license\",\"medallion\",\"passenger_count\",\"pickup_datetime\",\"pickup_latitude\",\"pickup_longitude\",\"rate_code\",\"store_and_fwd_flag\",\"trip_distance\",\"trip_time_in_secs\",\"vendor_id\"',\n",
       " '\"29b3f4a30dea6688d4c289c9672cb996\",\"1-ddfdec8050c7ef4dc694eeeda6c4625e\",\"2013-01-11 22:03:00\",+4.07033460000000E+001,-7.40144200000000E+001,\"A93D1F7F8998FFB75EEF477EB6077516\",\"68BC16A99E915E44ADA7E639B4DD5F59\",2,\"2013-01-11 21:48:00\",+4.06760670000000E+001,-7.39810790000000E+001,1,,+4.08000000000000E+000,900,\"VTS\"',\n",
       " '\"2a80cfaa425dcec0861e02ae44354500\",\"1-b72234b58a7b0018a1ec5d2ea0797e32\",\"2013-01-11 04:28:00\",+4.08190960000000E+001,-7.39467470000000E+001,\"64CE1B03FDE343BB8DFB512123A525A4\",\"60150AA39B2F654ED6F0C3AF8174A48A\",1,\"2013-01-11 04:07:00\",+4.07280540000000E+001,-7.40020370000000E+001,1,,+8.53000000000000E+000,1260,\"VTS\"',\n",
       " '\"29b3f4a30dea6688d4c289c96758d87e\",\"1-387ec30eac5abda89d2abefdf947b2c1\",\"2013-01-11 22:02:00\",+4.07277180000000E+001,-7.39942860000000E+001,\"2D73B0C44F1699C67AB8AE322433BDB7\",\"6F907BC9A85B7034C8418A24A0A75489\",5,\"2013-01-11 21:46:00\",+4.07577480000000E+001,-7.39649810000000E+001,1,,+3.01000000000000E+000,960,\"VTS\"',\n",
       " '\"2a80cfaa425dcec0861e02ae446226e4\",\"1-aa8b16d6ae44ad906a46cc6581ffea50\",\"2013-01-11 10:03:00\",+4.07643050000000E+001,-7.39544600000000E+001,\"E90018250F0A009433F03BD1E4A4CE53\",\"1AFFD48CC07161DA651625B562FE4D06\",5,\"2013-01-11 09:44:00\",+4.07308080000000E+001,-7.39928280000000E+001,1,,+3.64000000000000E+000,1140,\"VTS\"']"
      ]
     },
     "execution_count": 38,
     "metadata": {},
     "output_type": "execute_result"
    }
   ],
   "source": [
    "taxi.take(5)"
   ]
  },
  {
   "cell_type": "code",
   "execution_count": 39,
   "id": "55bb299f",
   "metadata": {},
   "outputs": [
    {
     "data": {
      "text/plain": [
       "PythonRDD[42] at RDD at PythonRDD.scala:53"
      ]
     },
     "execution_count": 39,
     "metadata": {},
     "output_type": "execute_result"
    }
   ],
   "source": [
    "taxi.mapPartitionsWithIndex(lambda idx, it: it.drop(1) if idx == 0 else it)"
   ]
  },
  {
   "cell_type": "code",
   "execution_count": 40,
   "id": "9c70233b",
   "metadata": {},
   "outputs": [],
   "source": [
    "taxi_parse = taxi.map(lambda line: line.split(','))"
   ]
  },
  {
   "cell_type": "code",
   "execution_count": 41,
   "id": "cd6a870a",
   "metadata": {},
   "outputs": [],
   "source": [
    "taxi_med_key = taxi_parse.map(lambda row: (row[6], 1))"
   ]
  },
  {
   "cell_type": "code",
   "execution_count": 42,
   "id": "851534b4",
   "metadata": {},
   "outputs": [],
   "source": [
    "taxi_med_counts = taxi_med_key.reduceByKey(lambda a, b: a + b)"
   ]
  },
  {
   "cell_type": "code",
   "execution_count": 43,
   "id": "b0e98c30",
   "metadata": {},
   "outputs": [
    {
     "data": {
      "text/plain": [
       "[(44, '\"AB44AD9A03B7CFAF3925103BDCC0AF23\"'),\n",
       " (41, '\"71CACFBADF9568AAE88A843DB511D172\"'),\n",
       " (41, '\"6483B9BFCB216EC88986EA3AB13064E7\"'),\n",
       " (41, '\"4C73459B430339981D78795300433438\"'),\n",
       " (40, '\"67E71D24AF704D814A0A825005ADA72E\"'),\n",
       " (40, '\"02E5A4136FD0A775A023A005A4EABC62\"'),\n",
       " (39, '\"9DFBCD218E7116F34C044F0680A0FB8A\"'),\n",
       " (39, '\"8DEB70907D00AA1D7FF5E2683240549B\"'),\n",
       " (39, '\"7989C2AB3F345F4AB54D3CF1E0480D67\"'),\n",
       " (39, '\"6C9F67DF658DC5636F9E7752F203F70A\"')]"
      ]
     },
     "execution_count": 43,
     "metadata": {},
     "output_type": "execute_result"
    }
   ],
   "source": [
    "taxi_med_counts.map(lambda a: (a[1], a[0])).top(10)"
   ]
  },
  {
   "cell_type": "code",
   "execution_count": 44,
   "id": "1502278e",
   "metadata": {},
   "outputs": [],
   "source": [
    "taxiCounts = taxi.map(lambda line: line.split(',')).map(lambda row: (row[6], 1)).reduceByKey(lambda a, b: a + b)"
   ]
  },
  {
   "cell_type": "code",
   "execution_count": 45,
   "id": "f2a905f7",
   "metadata": {},
   "outputs": [
    {
     "data": {
      "text/plain": [
       "PythonRDD[52] at RDD at PythonRDD.scala:53"
      ]
     },
     "execution_count": 45,
     "metadata": {},
     "output_type": "execute_result"
    }
   ],
   "source": [
    "taxiCounts.cache()"
   ]
  },
  {
   "cell_type": "code",
   "execution_count": 46,
   "id": "33aca597",
   "metadata": {},
   "outputs": [
    {
     "name": "stdout",
     "output_type": "stream",
     "text": [
      "CPU times: user 9.49 ms, sys: 3.13 ms, total: 12.6 ms\n",
      "Wall time: 1.17 s\n"
     ]
    },
    {
     "data": {
      "text/plain": [
       "13371"
      ]
     },
     "execution_count": 46,
     "metadata": {},
     "output_type": "execute_result"
    }
   ],
   "source": [
    "%%time\n",
    "taxiCounts.count()"
   ]
  },
  {
   "cell_type": "code",
   "execution_count": 47,
   "id": "1431319b",
   "metadata": {},
   "outputs": [
    {
     "name": "stdout",
     "output_type": "stream",
     "text": [
      "CPU times: user 12.5 ms, sys: 358 µs, total: 12.8 ms\n",
      "Wall time: 62 ms\n"
     ]
    },
    {
     "data": {
      "text/plain": [
       "13371"
      ]
     },
     "execution_count": 47,
     "metadata": {},
     "output_type": "execute_result"
    }
   ],
   "source": [
    "%%time\n",
    "taxiCounts.count()"
   ]
  },
  {
   "cell_type": "markdown",
   "id": "39b463ba",
   "metadata": {},
   "source": [
    "## Lab 1"
   ]
  },
  {
   "cell_type": "code",
   "execution_count": 48,
   "id": "fd8b1024",
   "metadata": {},
   "outputs": [],
   "source": [
    "trips_data = sc.textFile('/mnt/data/trips.csv')\n",
    "stations_data = sc.textFile('/mnt/data/stations.csv')"
   ]
  },
  {
   "cell_type": "code",
   "execution_count": 49,
   "id": "45878d75",
   "metadata": {},
   "outputs": [
    {
     "data": {
      "text/plain": [
       "'4576,63,2013-08-29 14:13,South Van Ness at Market,66,2013-08-29 14:14,South Van Ness at Market,66,520,Subscriber,94127'"
      ]
     },
     "execution_count": 49,
     "metadata": {},
     "output_type": "execute_result"
    }
   ],
   "source": [
    "trips_header = trips_data.first()\n",
    "trips_header"
   ]
  },
  {
   "cell_type": "code",
   "execution_count": 50,
   "id": "6155838a",
   "metadata": {},
   "outputs": [
    {
     "data": {
      "text/plain": [
       "'2,San Jose Diridon Caltrain Station,37.329732,-121.901782,27,San Jose,2013-08-06,'"
      ]
     },
     "execution_count": 50,
     "metadata": {},
     "output_type": "execute_result"
    }
   ],
   "source": [
    "stations_header = stations_data.first()\n",
    "stations_header"
   ]
  },
  {
   "cell_type": "code",
   "execution_count": 51,
   "id": "1cc89f27",
   "metadata": {},
   "outputs": [
    {
     "data": {
      "text/plain": [
       "[['4607',\n",
       "  '70',\n",
       "  '2013-08-29 14:42',\n",
       "  'San Jose City Hall',\n",
       "  '10',\n",
       "  '2013-08-29 14:43',\n",
       "  'San Jose City Hall',\n",
       "  '10',\n",
       "  '661',\n",
       "  'Subscriber',\n",
       "  '95138'],\n",
       " ['4130',\n",
       "  '71',\n",
       "  '2013-08-29 10:16',\n",
       "  'Mountain View City Hall',\n",
       "  '27',\n",
       "  '2013-08-29 10:17',\n",
       "  'Mountain View City Hall',\n",
       "  '27',\n",
       "  '48',\n",
       "  'Subscriber',\n",
       "  '97214'],\n",
       " ['4251',\n",
       "  '77',\n",
       "  '2013-08-29 11:29',\n",
       "  'San Jose City Hall',\n",
       "  '10',\n",
       "  '2013-08-29 11:30',\n",
       "  'San Jose City Hall',\n",
       "  '10',\n",
       "  '26',\n",
       "  'Subscriber',\n",
       "  '95060']]"
      ]
     },
     "execution_count": 51,
     "metadata": {},
     "output_type": "execute_result"
    }
   ],
   "source": [
    "trips = trips_data.filter(lambda row: row != trips_header).map(lambda row: row.split(\",\"))\n",
    "trips.take(3)"
   ]
  },
  {
   "cell_type": "code",
   "execution_count": 52,
   "id": "fcac7152",
   "metadata": {},
   "outputs": [
    {
     "data": {
      "text/plain": [
       "[['3',\n",
       "  'San Jose Civic Center',\n",
       "  '37.330698',\n",
       "  '-121.888979',\n",
       "  '15',\n",
       "  'San Jose',\n",
       "  '2013-08-05',\n",
       "  ''],\n",
       " ['4',\n",
       "  'Santa Clara at Almaden',\n",
       "  '37.333988',\n",
       "  '-121.894902',\n",
       "  '11',\n",
       "  'San Jose',\n",
       "  '2013-08-06',\n",
       "  ''],\n",
       " ['5',\n",
       "  'Adobe on Almaden',\n",
       "  '37.331415',\n",
       "  '-121.8932',\n",
       "  '19',\n",
       "  'San Jose',\n",
       "  '2013-08-05',\n",
       "  '']]"
      ]
     },
     "execution_count": 52,
     "metadata": {},
     "output_type": "execute_result"
    }
   ],
   "source": [
    "stations = stations_data.filter(lambda row: row != stations_header).map(lambda row: row.split(\",\"))\n",
    "stations.take(3)"
   ]
  },
  {
   "cell_type": "code",
   "execution_count": 53,
   "id": "da2743af",
   "metadata": {},
   "outputs": [
    {
     "data": {
      "text/plain": [
       "[(3,\n",
       "  ['3',\n",
       "   'San Jose Civic Center',\n",
       "   '37.330698',\n",
       "   '-121.888979',\n",
       "   '15',\n",
       "   'San Jose',\n",
       "   '2013-08-05',\n",
       "   ''])]"
      ]
     },
     "execution_count": 53,
     "metadata": {},
     "output_type": "execute_result"
    }
   ],
   "source": [
    "stations_indexed = stations.keyBy(lambda row: int(row[0]))\n",
    "stations_indexed.take(1)"
   ]
  },
  {
   "cell_type": "code",
   "execution_count": 54,
   "id": "7f894541",
   "metadata": {},
   "outputs": [
    {
     "data": {
      "text/plain": [
       "([('San Jose City Hall',\n",
       "   ['4607',\n",
       "    '70',\n",
       "    '2013-08-29 14:42',\n",
       "    'San Jose City Hall',\n",
       "    '10',\n",
       "    '2013-08-29 14:43',\n",
       "    'San Jose City Hall',\n",
       "    '10',\n",
       "    '661',\n",
       "    'Subscriber',\n",
       "    '95138'])],\n",
       " [('San Jose City Hall',\n",
       "   ['4607',\n",
       "    '70',\n",
       "    '2013-08-29 14:42',\n",
       "    'San Jose City Hall',\n",
       "    '10',\n",
       "    '2013-08-29 14:43',\n",
       "    'San Jose City Hall',\n",
       "    '10',\n",
       "    '661',\n",
       "    'Subscriber',\n",
       "    '95138'])])"
      ]
     },
     "execution_count": 54,
     "metadata": {},
     "output_type": "execute_result"
    }
   ],
   "source": [
    "trips_by_start = trips.keyBy(lambda row: row[3])\n",
    "trips_by_end = trips.keyBy(lambda row: row[6])\n",
    "trips_by_start.take(1), trips_by_end.take(1)"
   ]
  },
  {
   "cell_type": "code",
   "execution_count": 55,
   "id": "c2f31da0",
   "metadata": {},
   "outputs": [],
   "source": [
    "start_trips = stations_indexed.join(trips_by_start)\n",
    "end_trips = stations_indexed.join(trips_by_end)"
   ]
  },
  {
   "cell_type": "code",
   "execution_count": 56,
   "id": "6ec5f0d9",
   "metadata": {},
   "outputs": [
    {
     "name": "stdout",
     "output_type": "stream",
     "text": [
      "(3) PythonRDD[80] at RDD at PythonRDD.scala:53 []\n",
      " |  MapPartitionsRDD[72] at mapPartitions at PythonRDD.scala:145 []\n",
      " |  ShuffledRDD[71] at partitionBy at NativeMethodAccessorImpl.java:0 []\n",
      " +-(3) PairwiseRDD[70] at join at <ipython-input-55-ad6851e23532>:1 []\n",
      "    |  PythonRDD[69] at join at <ipython-input-55-ad6851e23532>:1 []\n",
      "    |  UnionRDD[68] at union at NativeMethodAccessorImpl.java:0 []\n",
      "    |  PythonRDD[66] at RDD at PythonRDD.scala:53 []\n",
      "    |  /mnt/data/stations.csv MapPartitionsRDD[58] at textFile at NativeMethodAccessorImpl.java:0 []\n",
      "    |  /mnt/data/stations.csv HadoopRDD[57] at textFile at NativeMethodAccessorImpl.java:0 []\n",
      "    |  PythonRDD[67] at RDD at PythonRDD.scala:53 []\n",
      "    |  /mnt/data/trips.csv MapPartitionsRDD[56] at textFile at NativeMethodAccessorImpl.java:0 []\n",
      "    |  /mnt/data/trips.csv HadoopRDD[55] at textFile at NativeMethodAccessorImpl.java:0 [] \n",
      "\n",
      "\n",
      "\n",
      "(3) PythonRDD[81] at RDD at PythonRDD.scala:53 []\n",
      " |  MapPartitionsRDD[79] at mapPartitions at PythonRDD.scala:145 []\n",
      " |  ShuffledRDD[78] at partitionBy at NativeMethodAccessorImpl.java:0 []\n",
      " +-(3) PairwiseRDD[77] at join at <ipython-input-55-ad6851e23532>:2 []\n",
      "    |  PythonRDD[76] at join at <ipython-input-55-ad6851e23532>:2 []\n",
      "    |  UnionRDD[75] at union at NativeMethodAccessorImpl.java:0 []\n",
      "    |  PythonRDD[73] at RDD at PythonRDD.scala:53 []\n",
      "    |  /mnt/data/stations.csv MapPartitionsRDD[58] at textFile at NativeMethodAccessorImpl.java:0 []\n",
      "    |  /mnt/data/stations.csv HadoopRDD[57] at textFile at NativeMethodAccessorImpl.java:0 []\n",
      "    |  PythonRDD[74] at RDD at PythonRDD.scala:53 []\n",
      "    |  /mnt/data/trips.csv MapPartitionsRDD[56] at textFile at NativeMethodAccessorImpl.java:0 []\n",
      "    |  /mnt/data/trips.csv HadoopRDD[55] at textFile at NativeMethodAccessorImpl.java:0 []\n"
     ]
    }
   ],
   "source": [
    "print(start_trips.toDebugString().decode(), '\\n\\n\\n')\n",
    "print(end_trips.toDebugString().decode())"
   ]
  },
  {
   "cell_type": "code",
   "execution_count": 57,
   "id": "49826c74",
   "metadata": {},
   "outputs": [
    {
     "data": {
      "text/plain": [
       "(0, 0)"
      ]
     },
     "execution_count": 57,
     "metadata": {},
     "output_type": "execute_result"
    }
   ],
   "source": [
    "# Is it a part of the plan?\n",
    "start_trips.count(), end_trips.count()"
   ]
  },
  {
   "cell_type": "markdown",
   "id": "f1994b3e",
   "metadata": {},
   "source": [
    "### Create data model"
   ]
  },
  {
   "cell_type": "code",
   "execution_count": 58,
   "id": "751ebe27",
   "metadata": {},
   "outputs": [],
   "source": [
    "from typing import NamedTuple"
   ]
  },
  {
   "cell_type": "code",
   "execution_count": 59,
   "id": "98da1247",
   "metadata": {},
   "outputs": [],
   "source": [
    "class Station(NamedTuple):\n",
    "    station_id: int\n",
    "    name: str\n",
    "    lat: float\n",
    "    long: float\n",
    "    dockcount: int\n",
    "    landmark: str\n",
    "    installation: str\n",
    "    notes: str\n",
    "\n",
    "    @staticmethod\n",
    "    def init_from_list(row):\n",
    "        return Station(\n",
    "            station_id=int(row[0]),\n",
    "            name=row[1],\n",
    "            lat=float(row[2]),\n",
    "            long=float(row[3]),\n",
    "            dockcount=int(row[4]),\n",
    "            landmark=row[5],\n",
    "            installation=row[6],\n",
    "            notes=row[7]\n",
    "        )"
   ]
  },
  {
   "cell_type": "code",
   "execution_count": 60,
   "id": "069b2d91",
   "metadata": {},
   "outputs": [],
   "source": [
    "from datetime import datetime\n",
    "\n",
    "\n",
    "class Trip(NamedTuple):\n",
    "    trip_id: int\n",
    "    duration: int\n",
    "    start_date: datetime\n",
    "    start_station: str\n",
    "    start_terminal: int\n",
    "    end_date: datetime\n",
    "    end_station: str\n",
    "    end_terminal: int\n",
    "    bike_id: int\n",
    "    subscription_type: str\n",
    "    zip_code: str\n",
    "        \n",
    "    @staticmethod\n",
    "    def init_from_list(row):\n",
    "        return Trip(                             \n",
    "             trip_id=int(row[0]),\n",
    "             duration=int(row[1]),\n",
    "             start_date=datetime.strptime(row[2], '%Y-%m-%d %H:%M'),\n",
    "             start_station=row[3],\n",
    "             start_terminal=int(row[4]),\n",
    "             end_date=datetime.strptime(row[5], '%Y-%m-%d %H:%M'),\n",
    "             end_station=row[6],\n",
    "             end_terminal=row[7],\n",
    "             bike_id=int(row[8]),\n",
    "             subscription_type=row[9],\n",
    "             zip_code=row[10]\n",
    "        )"
   ]
  },
  {
   "cell_type": "code",
   "execution_count": 61,
   "id": "51a4e9f5",
   "metadata": {},
   "outputs": [],
   "source": [
    "trips_internal = trips.map(Trip.init_from_list)"
   ]
  },
  {
   "cell_type": "code",
   "execution_count": 62,
   "id": "cace8eff",
   "metadata": {},
   "outputs": [
    {
     "data": {
      "text/plain": [
       "datetime.datetime(2013, 8, 29, 14, 42)"
      ]
     },
     "execution_count": 62,
     "metadata": {},
     "output_type": "execute_result"
    }
   ],
   "source": [
    "trips_internal.first().start_date"
   ]
  },
  {
   "cell_type": "code",
   "execution_count": 63,
   "id": "20fb240a",
   "metadata": {},
   "outputs": [],
   "source": [
    "stations_internal = stations.map(Station.init_from_list)"
   ]
  },
  {
   "cell_type": "code",
   "execution_count": 64,
   "id": "51f808b3",
   "metadata": {},
   "outputs": [
    {
     "data": {
      "text/plain": [
       "69"
      ]
     },
     "execution_count": 64,
     "metadata": {},
     "output_type": "execute_result"
    }
   ],
   "source": [
    "stations_internal.count()"
   ]
  },
  {
   "cell_type": "code",
   "execution_count": 65,
   "id": "04f2948c",
   "metadata": {},
   "outputs": [],
   "source": [
    "trips_by_start_station = trips_internal.keyBy(lambda record: record.start_station)"
   ]
  },
  {
   "cell_type": "code",
   "execution_count": 66,
   "id": "92852272",
   "metadata": {},
   "outputs": [
    {
     "data": {
      "text/plain": [
       "[('San Jose City Hall',\n",
       "  Trip(trip_id=4607, duration=70, start_date=datetime.datetime(2013, 8, 29, 14, 42), start_station='San Jose City Hall', start_terminal=10, end_date=datetime.datetime(2013, 8, 29, 14, 43), end_station='San Jose City Hall', end_terminal='10', bike_id=661, subscription_type='Subscriber', zip_code='95138'))]"
      ]
     },
     "execution_count": 66,
     "metadata": {},
     "output_type": "execute_result"
    }
   ],
   "source": [
    "trips_by_start_station.take(1)"
   ]
  },
  {
   "cell_type": "markdown",
   "id": "350340c1",
   "metadata": {},
   "source": [
    "## Compute average trip time"
   ]
  },
  {
   "cell_type": "code",
   "execution_count": 67,
   "id": "639c3b45",
   "metadata": {},
   "outputs": [],
   "source": [
    "from functools import reduce"
   ]
  },
  {
   "cell_type": "code",
   "execution_count": 68,
   "id": "37896126",
   "metadata": {},
   "outputs": [],
   "source": [
    "a = trips_by_start_station.mapValues(lambda x: x.duration)\n",
    "#a.count()"
   ]
  },
  {
   "cell_type": "code",
   "execution_count": 69,
   "id": "bdf59c1f",
   "metadata": {},
   "outputs": [],
   "source": [
    "b = a.groupByKey()\n",
    "#b.count()"
   ]
  },
  {
   "cell_type": "code",
   "execution_count": 70,
   "id": "18e33f98",
   "metadata": {},
   "outputs": [],
   "source": [
    "c = b.mapValues(lambda val: reduce(lambda v1, v2: (v1 + v2), val) / len(val))"
   ]
  },
  {
   "cell_type": "code",
   "execution_count": 71,
   "id": "b5afefaa",
   "metadata": {},
   "outputs": [
    {
     "name": "stdout",
     "output_type": "stream",
     "text": [
      "CPU times: user 13.8 ms, sys: 0 ns, total: 13.8 ms\n",
      "Wall time: 6.91 s\n"
     ]
    },
    {
     "data": {
      "text/plain": [
       "[(7758.515789473684, 'Redwood City Public Library'),\n",
       " (6545.869900771775, 'University and Emerson'),\n",
       " (6192.65923566879, 'Rengstorff Avenue / California Street'),\n",
       " (5023.150159744409, 'California Ave Caltrain Station'),\n",
       " (4023.9358288770054, 'Park at Olive'),\n",
       " (3437.027135678392, 'Palo Alto Caltrain Station'),\n",
       " (3419.8175965665237, 'San Antonio Caltrain Station'),\n",
       " (3028.118292682927, 'San Jose Civic Center'),\n",
       " (2776.4931714719273, 'Redwood City Caltrain Station'),\n",
       " (2481.2537313432836, 'Broadway at Main')]"
      ]
     },
     "execution_count": 71,
     "metadata": {},
     "output_type": "execute_result"
    }
   ],
   "source": [
    "%%time\n",
    "c.map(lambda x: x[::-1]).top(10)"
   ]
  },
  {
   "cell_type": "markdown",
   "id": "9c951218",
   "metadata": {},
   "source": [
    "## Compute average trip time using `aggregateByKey`"
   ]
  },
  {
   "cell_type": "code",
   "execution_count": 72,
   "id": "1ddf611d",
   "metadata": {},
   "outputs": [],
   "source": [
    "a = trips_by_start_station.mapValues(lambda x: x.duration)\n",
    "b = a.aggregateByKey(\n",
    "    (0,0),\n",
    "    lambda acc, value: (acc[0] + value, acc[1] + 1),\n",
    "    lambda acc1, acc2: (acc1[0] + acc2[0], acc1[1] + acc2[1]))\n",
    "c = b.mapValues(lambda acc: acc[0] / acc[1])"
   ]
  },
  {
   "cell_type": "code",
   "execution_count": 73,
   "id": "3e18311c",
   "metadata": {},
   "outputs": [
    {
     "name": "stdout",
     "output_type": "stream",
     "text": [
      "CPU times: user 6.61 ms, sys: 9.9 ms, total: 16.5 ms\n",
      "Wall time: 7.04 s\n"
     ]
    },
    {
     "data": {
      "text/plain": [
       "[(7758.515789473684, 'Redwood City Public Library'),\n",
       " (6545.869900771775, 'University and Emerson'),\n",
       " (6192.65923566879, 'Rengstorff Avenue / California Street'),\n",
       " (5023.150159744409, 'California Ave Caltrain Station'),\n",
       " (4023.9358288770054, 'Park at Olive'),\n",
       " (3437.027135678392, 'Palo Alto Caltrain Station'),\n",
       " (3419.8175965665237, 'San Antonio Caltrain Station'),\n",
       " (3028.118292682927, 'San Jose Civic Center'),\n",
       " (2776.4931714719273, 'Redwood City Caltrain Station'),\n",
       " (2481.2537313432836, 'Broadway at Main')]"
      ]
     },
     "execution_count": 73,
     "metadata": {},
     "output_type": "execute_result"
    }
   ],
   "source": [
    "%%time\n",
    "c.map(lambda x: x[::-1]).top(10)"
   ]
  },
  {
   "cell_type": "markdown",
   "id": "c010fa05",
   "metadata": {},
   "source": [
    "## Find the first trip for every station"
   ]
  },
  {
   "cell_type": "code",
   "execution_count": 74,
   "id": "532ac1fa",
   "metadata": {},
   "outputs": [],
   "source": [
    "firstGrouped  = trips_by_start_station \\\n",
    "    .groupByKey() \\\n",
    "    .mapValues(lambda values: sorted(values, key=lambda x: x.start_date ))"
   ]
  },
  {
   "cell_type": "code",
   "execution_count": 75,
   "id": "fc983b08",
   "metadata": {},
   "outputs": [
    {
     "data": {
      "text/plain": [
       "([Trip(trip_id=4081, duration=218, start_date=datetime.datetime(2013, 8, 29, 9, 38), start_station='Mountain View City Hall', start_terminal=27, end_date=datetime.datetime(2013, 8, 29, 9, 41), end_station='Mountain View City Hall', end_terminal='27', bike_id=150, subscription_type='Subscriber', zip_code='97214'),\n",
       "  Trip(trip_id=4084, duration=287, start_date=datetime.datetime(2013, 8, 29, 9, 41), start_station='Mountain View City Hall', start_terminal=27, end_date=datetime.datetime(2013, 8, 29, 9, 46), end_station='Mountain View City Hall', end_terminal='27', bike_id=138, subscription_type='Customer', zip_code='97214'),\n",
       "  Trip(trip_id=4130, duration=71, start_date=datetime.datetime(2013, 8, 29, 10, 16), start_station='Mountain View City Hall', start_terminal=27, end_date=datetime.datetime(2013, 8, 29, 10, 17), end_station='Mountain View City Hall', end_terminal='27', bike_id=48, subscription_type='Subscriber', zip_code='97214'),\n",
       "  Trip(trip_id=4136, duration=688, start_date=datetime.datetime(2013, 8, 29, 10, 20), start_station='Mountain View City Hall', start_terminal=27, end_date=datetime.datetime(2013, 8, 29, 10, 31), end_station='Mountain View City Hall', end_terminal='27', bike_id=149, subscription_type='Customer', zip_code='92545'),\n",
       "  Trip(trip_id=4663, duration=52698, start_date=datetime.datetime(2013, 8, 29, 15, 34), start_station='Mountain View City Hall', start_terminal=27, end_date=datetime.datetime(2013, 8, 30, 6, 12), end_station='Park at Olive', end_terminal='38', bike_id=150, subscription_type='Subscriber', zip_code='94301'),\n",
       "  Trip(trip_id=5091, duration=1061, start_date=datetime.datetime(2013, 8, 29, 22, 11), start_station='Mountain View City Hall', start_terminal=27, end_date=datetime.datetime(2013, 8, 29, 22, 29), end_station='Mountain View City Hall', end_terminal='27', bike_id=56, subscription_type='Subscriber', zip_code='94041'),\n",
       "  Trip(trip_id=5133, duration=246, start_date=datetime.datetime(2013, 8, 30, 7, 27), start_station='Mountain View City Hall', start_terminal=27, end_date=datetime.datetime(2013, 8, 30, 7, 31), end_station='Mountain View Caltrain Station', end_terminal='28', bike_id=155, subscription_type='Customer', zip_code='94302'),\n",
       "  Trip(trip_id=6368, duration=1278, start_date=datetime.datetime(2013, 8, 30, 19, 14), start_station='Mountain View City Hall', start_terminal=27, end_date=datetime.datetime(2013, 8, 30, 19, 36), end_station='Evelyn Park and Ride', end_terminal='30', bike_id=151, subscription_type='Subscriber', zip_code='94040'),\n",
       "  Trip(trip_id=6367, duration=1308, start_date=datetime.datetime(2013, 8, 30, 19, 14), start_station='Mountain View City Hall', start_terminal=27, end_date=datetime.datetime(2013, 8, 30, 19, 36), end_station='Evelyn Park and Ride', end_terminal='30', bike_id=48, subscription_type='Subscriber', zip_code='94040'),\n",
       "  Trip(trip_id=6452, duration=727, start_date=datetime.datetime(2013, 8, 30, 22, 10), start_station='Mountain View City Hall', start_terminal=27, end_date=datetime.datetime(2013, 8, 30, 22, 22), end_station='Mountain View City Hall', end_terminal='27', bike_id=149, subscription_type='Subscriber', zip_code='94041'),\n",
       "  Trip(trip_id=7141, duration=1625, start_date=datetime.datetime(2013, 8, 31, 15, 45), start_station='Mountain View City Hall', start_terminal=27, end_date=datetime.datetime(2013, 8, 31, 16, 12), end_station='Mountain View City Hall', end_terminal='27', bike_id=141, subscription_type='Subscriber', zip_code='94041'),\n",
       "  Trip(trip_id=7190, duration=653, start_date=datetime.datetime(2013, 8, 31, 16, 14), start_station='Mountain View City Hall', start_terminal=27, end_date=datetime.datetime(2013, 8, 31, 16, 25), end_station='Rengstorff Avenue / California Street', end_terminal='33', bike_id=22, subscription_type='Subscriber', zip_code='94040'),\n",
       "  Trip(trip_id=7610, duration=845, start_date=datetime.datetime(2013, 9, 1, 11, 11), start_station='Mountain View City Hall', start_terminal=27, end_date=datetime.datetime(2013, 9, 1, 11, 25), end_station='Rengstorff Avenue / California Street', end_terminal='33', bike_id=138, subscription_type='Customer', zip_code='95051'),\n",
       "  Trip(trip_id=7939, duration=382, start_date=datetime.datetime(2013, 9, 1, 14, 6), start_station='Mountain View City Hall', start_terminal=27, end_date=datetime.datetime(2013, 9, 1, 14, 12), end_station='Mountain View Caltrain Station', end_terminal='28', bike_id=149, subscription_type='Subscriber', zip_code='94040'),\n",
       "  Trip(trip_id=11044, duration=764, start_date=datetime.datetime(2013, 9, 4, 18, 17), start_station='Mountain View City Hall', start_terminal=27, end_date=datetime.datetime(2013, 9, 4, 18, 29), end_station='Rengstorff Avenue / California Street', end_terminal='33', bike_id=138, subscription_type='Subscriber', zip_code='94040'),\n",
       "  Trip(trip_id=11128, duration=245, start_date=datetime.datetime(2013, 9, 4, 20, 25), start_station='Mountain View City Hall', start_terminal=27, end_date=datetime.datetime(2013, 9, 4, 20, 29), end_station='Mountain View Caltrain Station', end_terminal='28', bike_id=84, subscription_type='Subscriber', zip_code='94040'),\n",
       "  Trip(trip_id=13612, duration=1188, start_date=datetime.datetime(2013, 9, 7, 13, 49), start_station='Mountain View City Hall', start_terminal=27, end_date=datetime.datetime(2013, 9, 7, 14, 9), end_station='San Antonio Caltrain Station', end_terminal='29', bike_id=141, subscription_type='Customer', zip_code='94043'),\n",
       "  Trip(trip_id=13779, duration=795, start_date=datetime.datetime(2013, 9, 7, 15, 35), start_station='Mountain View City Hall', start_terminal=27, end_date=datetime.datetime(2013, 9, 7, 15, 49), end_station='Rengstorff Avenue / California Street', end_terminal='33', bike_id=241, subscription_type='Customer', zip_code='94040'),\n",
       "  Trip(trip_id=13780, duration=769, start_date=datetime.datetime(2013, 9, 7, 15, 35), start_station='Mountain View City Hall', start_terminal=27, end_date=datetime.datetime(2013, 9, 7, 15, 48), end_station='Rengstorff Avenue / California Street', end_terminal='33', bike_id=119, subscription_type='Subscriber', zip_code='94040'),\n",
       "  Trip(trip_id=13783, duration=1202, start_date=datetime.datetime(2013, 9, 7, 15, 39), start_station='Mountain View City Hall', start_terminal=27, end_date=datetime.datetime(2013, 9, 7, 15, 59), end_station='San Antonio Caltrain Station', end_terminal='29', bike_id=137, subscription_type='Subscriber', zip_code='95032'),\n",
       "  Trip(trip_id=14150, duration=288, start_date=datetime.datetime(2013, 9, 7, 21, 21), start_station='Mountain View City Hall', start_terminal=27, end_date=datetime.datetime(2013, 9, 7, 21, 26), end_station='Mountain View City Hall', end_terminal='27', bike_id=22, subscription_type='Customer', zip_code=''),\n",
       "  Trip(trip_id=14392, duration=3470, start_date=datetime.datetime(2013, 9, 8, 11, 6), start_station='Mountain View City Hall', start_terminal=27, end_date=datetime.datetime(2013, 9, 8, 12, 4), end_station='Mountain View City Hall', end_terminal='27', bike_id=130, subscription_type='Customer', zip_code='94041'),\n",
       "  Trip(trip_id=14393, duration=3449, start_date=datetime.datetime(2013, 9, 8, 11, 6), start_station='Mountain View City Hall', start_terminal=27, end_date=datetime.datetime(2013, 9, 8, 12, 4), end_station='Mountain View City Hall', end_terminal='27', bike_id=22, subscription_type='Customer', zip_code='94041'),\n",
       "  Trip(trip_id=14395, duration=1792, start_date=datetime.datetime(2013, 9, 8, 11, 7), start_station='Mountain View City Hall', start_terminal=27, end_date=datetime.datetime(2013, 9, 8, 11, 37), end_station='Mountain View City Hall', end_terminal='27', bike_id=257, subscription_type='Subscriber', zip_code='95123'),\n",
       "  Trip(trip_id=14988, duration=110, start_date=datetime.datetime(2013, 9, 8, 18, 37), start_station='Mountain View City Hall', start_terminal=27, end_date=datetime.datetime(2013, 9, 8, 18, 39), end_station='Mountain View City Hall', end_terminal='27', bike_id=129, subscription_type='Subscriber', zip_code='94043'),\n",
       "  Trip(trip_id=14993, duration=6210, start_date=datetime.datetime(2013, 9, 8, 18, 48), start_station='Mountain View City Hall', start_terminal=27, end_date=datetime.datetime(2013, 9, 8, 20, 31), end_station='University and Emerson', end_terminal='35', bike_id=153, subscription_type='Customer', zip_code='94301'),\n",
       "  Trip(trip_id=15725, duration=1205, start_date=datetime.datetime(2013, 9, 9, 16, 7), start_station='Mountain View City Hall', start_terminal=27, end_date=datetime.datetime(2013, 9, 9, 16, 27), end_station='Mountain View City Hall', end_terminal='27', bike_id=149, subscription_type='Customer', zip_code='94087'),\n",
       "  Trip(trip_id=15747, duration=931, start_date=datetime.datetime(2013, 9, 9, 16, 34), start_station='Mountain View City Hall', start_terminal=27, end_date=datetime.datetime(2013, 9, 9, 16, 50), end_station='Mountain View City Hall', end_terminal='27', bike_id=149, subscription_type='Customer', zip_code='94087'),\n",
       "  Trip(trip_id=15865, duration=1072, start_date=datetime.datetime(2013, 9, 9, 17, 47), start_station='Mountain View City Hall', start_terminal=27, end_date=datetime.datetime(2013, 9, 9, 18, 5), end_station='Rengstorff Avenue / California Street', end_terminal='33', bike_id=151, subscription_type='Subscriber', zip_code='94040'),\n",
       "  Trip(trip_id=17266, duration=350, start_date=datetime.datetime(2013, 9, 10, 21, 46), start_station='Mountain View City Hall', start_terminal=27, end_date=datetime.datetime(2013, 9, 10, 21, 51), end_station='Mountain View City Hall', end_terminal='27', bike_id=165, subscription_type='Subscriber', zip_code='94040'),\n",
       "  Trip(trip_id=17268, duration=144, start_date=datetime.datetime(2013, 9, 10, 21, 55), start_station='Mountain View City Hall', start_terminal=27, end_date=datetime.datetime(2013, 9, 10, 21, 57), end_station='Mountain View City Hall', end_terminal='27', bike_id=165, subscription_type='Subscriber', zip_code='94040'),\n",
       "  Trip(trip_id=20819, duration=1719, start_date=datetime.datetime(2013, 9, 13, 18, 50), start_station='Mountain View City Hall', start_terminal=27, end_date=datetime.datetime(2013, 9, 13, 19, 19), end_station='Mountain View City Hall', end_terminal='27', bike_id=163, subscription_type='Customer', zip_code='94043'),\n",
       "  Trip(trip_id=20820, duration=1711, start_date=datetime.datetime(2013, 9, 13, 18, 50), start_station='Mountain View City Hall', start_terminal=27, end_date=datetime.datetime(2013, 9, 13, 19, 19), end_station='Mountain View City Hall', end_terminal='27', bike_id=112, subscription_type='Customer', zip_code='94043'),\n",
       "  Trip(trip_id=20962, duration=1064, start_date=datetime.datetime(2013, 9, 13, 21, 2), start_station='Mountain View City Hall', start_terminal=27, end_date=datetime.datetime(2013, 9, 13, 21, 20), end_station='San Antonio Caltrain Station', end_terminal='29', bike_id=56, subscription_type='Subscriber', zip_code='94040'),\n",
       "  Trip(trip_id=21407, duration=640, start_date=datetime.datetime(2013, 9, 14, 14, 5), start_station='Mountain View City Hall', start_terminal=27, end_date=datetime.datetime(2013, 9, 14, 14, 16), end_station='Evelyn Park and Ride', end_terminal='30', bike_id=112, subscription_type='Customer', zip_code='95110'),\n",
       "  Trip(trip_id=21507, duration=6320, start_date=datetime.datetime(2013, 9, 14, 15, 16), start_station='Mountain View City Hall', start_terminal=27, end_date=datetime.datetime(2013, 9, 14, 17, 1), end_station='Mountain View City Hall', end_terminal='27', bike_id=160, subscription_type='Customer', zip_code='94043'),\n",
       "  Trip(trip_id=22065, duration=19866, start_date=datetime.datetime(2013, 9, 15, 11, 16), start_station='Mountain View City Hall', start_terminal=27, end_date=datetime.datetime(2013, 9, 15, 16, 47), end_station='Mountain View City Hall', end_terminal='27', bike_id=165, subscription_type='Customer', zip_code='94040'),\n",
       "  Trip(trip_id=22095, duration=17723, start_date=datetime.datetime(2013, 9, 15, 11, 52), start_station='Mountain View City Hall', start_terminal=27, end_date=datetime.datetime(2013, 9, 15, 16, 48), end_station='Mountain View City Hall', end_terminal='27', bike_id=125, subscription_type='Customer', zip_code='94022'),\n",
       "  Trip(trip_id=22587, duration=1768, start_date=datetime.datetime(2013, 9, 15, 17, 59), start_station='Mountain View City Hall', start_terminal=27, end_date=datetime.datetime(2013, 9, 15, 18, 28), end_station='Mountain View City Hall', end_terminal='27', bike_id=160, subscription_type='Customer', zip_code='94041'),\n",
       "  Trip(trip_id=22653, duration=765, start_date=datetime.datetime(2013, 9, 15, 19, 41), start_station='Mountain View City Hall', start_terminal=27, end_date=datetime.datetime(2013, 9, 15, 19, 54), end_station='Rengstorff Avenue / California Street', end_terminal='33', bike_id=148, subscription_type='Customer', zip_code='94040'),\n",
       "  Trip(trip_id=27427, duration=3486, start_date=datetime.datetime(2013, 9, 19, 13, 14), start_station='Mountain View City Hall', start_terminal=27, end_date=datetime.datetime(2013, 9, 19, 14, 12), end_station='Mountain View City Hall', end_terminal='27', bike_id=154, subscription_type='Customer', zip_code='94040'),\n",
       "  Trip(trip_id=28065, duration=864, start_date=datetime.datetime(2013, 9, 19, 20, 2), start_station='Mountain View City Hall', start_terminal=27, end_date=datetime.datetime(2013, 9, 19, 20, 17), end_station='San Antonio Caltrain Station', end_terminal='29', bike_id=242, subscription_type='Subscriber', zip_code='94040'),\n",
       "  Trip(trip_id=28834, duration=888, start_date=datetime.datetime(2013, 9, 20, 13, 30), start_station='Mountain View City Hall', start_terminal=27, end_date=datetime.datetime(2013, 9, 20, 13, 45), end_station='Rengstorff Avenue / California Street', end_terminal='33', bike_id=140, subscription_type='Customer', zip_code='22601'),\n",
       "  Trip(trip_id=30575, duration=1596, start_date=datetime.datetime(2013, 9, 22, 14, 24), start_station='Mountain View City Hall', start_terminal=27, end_date=datetime.datetime(2013, 9, 22, 14, 51), end_station='Park at Olive', end_terminal='38', bike_id=165, subscription_type='Customer', zip_code='94040'),\n",
       "  Trip(trip_id=30574, duration=1586, start_date=datetime.datetime(2013, 9, 22, 14, 25), start_station='Mountain View City Hall', start_terminal=27, end_date=datetime.datetime(2013, 9, 22, 14, 51), end_station='Park at Olive', end_terminal='38', bike_id=147, subscription_type='Customer', zip_code='94040'),\n",
       "  Trip(trip_id=31097, duration=184, start_date=datetime.datetime(2013, 9, 23, 7, 46), start_station='Mountain View City Hall', start_terminal=27, end_date=datetime.datetime(2013, 9, 23, 7, 49), end_station='Mountain View Caltrain Station', end_terminal='28', bike_id=152, subscription_type='Subscriber', zip_code='94041'),\n",
       "  Trip(trip_id=31955, duration=309, start_date=datetime.datetime(2013, 9, 23, 17, 19), start_station='Mountain View City Hall', start_terminal=27, end_date=datetime.datetime(2013, 9, 23, 17, 24), end_station='Mountain View Caltrain Station', end_terminal='28', bike_id=647, subscription_type='Subscriber', zip_code='94103'),\n",
       "  Trip(trip_id=31978, duration=278, start_date=datetime.datetime(2013, 9, 23, 17, 30), start_station='Mountain View City Hall', start_terminal=27, end_date=datetime.datetime(2013, 9, 23, 17, 34), end_station='Mountain View Caltrain Station', end_terminal='28', bike_id=150, subscription_type='Subscriber', zip_code='94043'),\n",
       "  Trip(trip_id=32048, duration=208, start_date=datetime.datetime(2013, 9, 23, 17, 54), start_station='Mountain View City Hall', start_terminal=27, end_date=datetime.datetime(2013, 9, 23, 17, 57), end_station='Mountain View Caltrain Station', end_terminal='28', bike_id=125, subscription_type='Subscriber', zip_code='94107'),\n",
       "  Trip(trip_id=32149, duration=288, start_date=datetime.datetime(2013, 9, 23, 18, 45), start_station='Mountain View City Hall', start_terminal=27, end_date=datetime.datetime(2013, 9, 23, 18, 50), end_station='Mountain View Caltrain Station', end_terminal='28', bike_id=654, subscription_type='Subscriber', zip_code='94123'),\n",
       "  Trip(trip_id=32160, duration=206, start_date=datetime.datetime(2013, 9, 23, 18, 53), start_station='Mountain View City Hall', start_terminal=27, end_date=datetime.datetime(2013, 9, 23, 18, 57), end_station='Mountain View Caltrain Station', end_terminal='28', bike_id=157, subscription_type='Subscriber', zip_code='94107'),\n",
       "  Trip(trip_id=32324, duration=1752, start_date=datetime.datetime(2013, 9, 23, 22, 1), start_station='Mountain View City Hall', start_terminal=27, end_date=datetime.datetime(2013, 9, 23, 22, 31), end_station='Mountain View City Hall', end_terminal='27', bike_id=160, subscription_type='Customer', zip_code='94041'),\n",
       "  Trip(trip_id=32325, duration=1703, start_date=datetime.datetime(2013, 9, 23, 22, 2), start_station='Mountain View City Hall', start_terminal=27, end_date=datetime.datetime(2013, 9, 23, 22, 30), end_station='Mountain View City Hall', end_terminal='27', bike_id=129, subscription_type='Customer', zip_code='94041'),\n",
       "  Trip(trip_id=32486, duration=207, start_date=datetime.datetime(2013, 9, 24, 7, 54), start_station='Mountain View City Hall', start_terminal=27, end_date=datetime.datetime(2013, 9, 24, 7, 57), end_station='Mountain View Caltrain Station', end_terminal='28', bike_id=165, subscription_type='Subscriber', zip_code='94041'),\n",
       "  Trip(trip_id=32903, duration=5351, start_date=datetime.datetime(2013, 9, 24, 12, 8), start_station='Mountain View City Hall', start_terminal=27, end_date=datetime.datetime(2013, 9, 24, 13, 37), end_station='San Antonio Caltrain Station', end_terminal='29', bike_id=129, subscription_type='Customer', zip_code='94043'),\n",
       "  Trip(trip_id=32905, duration=5341, start_date=datetime.datetime(2013, 9, 24, 12, 8), start_station='Mountain View City Hall', start_terminal=27, end_date=datetime.datetime(2013, 9, 24, 13, 37), end_station='San Antonio Caltrain Station', end_terminal='29', bike_id=160, subscription_type='Customer', zip_code='94043'),\n",
       "  Trip(trip_id=33353, duration=340, start_date=datetime.datetime(2013, 9, 24, 17, 22), start_station='Mountain View City Hall', start_terminal=27, end_date=datetime.datetime(2013, 9, 24, 17, 27), end_station='Mountain View Caltrain Station', end_terminal='28', bike_id=153, subscription_type='Subscriber', zip_code='94103'),\n",
       "  Trip(trip_id=33499, duration=270, start_date=datetime.datetime(2013, 9, 24, 18, 27), start_station='Mountain View City Hall', start_terminal=27, end_date=datetime.datetime(2013, 9, 24, 18, 31), end_station='Mountain View Caltrain Station', end_terminal='28', bike_id=119, subscription_type='Subscriber', zip_code='94040'),\n",
       "  Trip(trip_id=33839, duration=188, start_date=datetime.datetime(2013, 9, 25, 7, 47), start_station='Mountain View City Hall', start_terminal=27, end_date=datetime.datetime(2013, 9, 25, 7, 50), end_station='Mountain View Caltrain Station', end_terminal='28', bike_id=125, subscription_type='Subscriber', zip_code='94041'),\n",
       "  Trip(trip_id=34878, duration=224, start_date=datetime.datetime(2013, 9, 25, 16, 48), start_station='Mountain View City Hall', start_terminal=27, end_date=datetime.datetime(2013, 9, 25, 16, 52), end_station='Mountain View Caltrain Station', end_terminal='28', bike_id=154, subscription_type='Subscriber', zip_code='94117'),\n",
       "  Trip(trip_id=35096, duration=229, start_date=datetime.datetime(2013, 9, 25, 18, 14), start_station='Mountain View City Hall', start_terminal=27, end_date=datetime.datetime(2013, 9, 25, 18, 18), end_station='Mountain View Caltrain Station', end_terminal='28', bike_id=647, subscription_type='Subscriber', zip_code='94043'),\n",
       "  Trip(trip_id=35127, duration=219, start_date=datetime.datetime(2013, 9, 25, 18, 26), start_station='Mountain View City Hall', start_terminal=27, end_date=datetime.datetime(2013, 9, 25, 18, 29), end_station='Mountain View Caltrain Station', end_terminal='28', bike_id=124, subscription_type='Subscriber', zip_code='94123'),\n",
       "  Trip(trip_id=35269, duration=177, start_date=datetime.datetime(2013, 9, 25, 20, 41), start_station='Mountain View City Hall', start_terminal=27, end_date=datetime.datetime(2013, 9, 25, 20, 44), end_station='Mountain View Caltrain Station', end_terminal='28', bike_id=10, subscription_type='Subscriber', zip_code='94040'),\n",
       "  Trip(trip_id=35459, duration=188, start_date=datetime.datetime(2013, 9, 26, 7, 54), start_station='Mountain View City Hall', start_terminal=27, end_date=datetime.datetime(2013, 9, 26, 7, 57), end_station='Mountain View Caltrain Station', end_terminal='28', bike_id=79, subscription_type='Subscriber', zip_code='94041'),\n",
       "  Trip(trip_id=35890, duration=725, start_date=datetime.datetime(2013, 9, 26, 12, 32), start_station='Mountain View City Hall', start_terminal=27, end_date=datetime.datetime(2013, 9, 26, 12, 44), end_station='Rengstorff Avenue / California Street', end_terminal='33', bike_id=124, subscription_type='Subscriber', zip_code='94040'),\n",
       "  Trip(trip_id=36380, duration=200, start_date=datetime.datetime(2013, 9, 26, 17, 54), start_station='Mountain View City Hall', start_terminal=27, end_date=datetime.datetime(2013, 9, 26, 17, 57), end_station='Mountain View Caltrain Station', end_terminal='28', bike_id=27, subscription_type='Subscriber', zip_code='94040'),\n",
       "  Trip(trip_id=36437, duration=347, start_date=datetime.datetime(2013, 9, 26, 18, 23), start_station='Mountain View City Hall', start_terminal=27, end_date=datetime.datetime(2013, 9, 26, 18, 29), end_station='Mountain View Caltrain Station', end_terminal='28', bike_id=128, subscription_type='Subscriber', zip_code='94103'),\n",
       "  Trip(trip_id=36504, duration=308, start_date=datetime.datetime(2013, 9, 26, 19, 0), start_station='Mountain View City Hall', start_terminal=27, end_date=datetime.datetime(2013, 9, 26, 19, 5), end_station='Mountain View Caltrain Station', end_terminal='28', bike_id=119, subscription_type='Subscriber', zip_code='94133'),\n",
       "  Trip(trip_id=36784, duration=175, start_date=datetime.datetime(2013, 9, 27, 7, 44), start_station='Mountain View City Hall', start_terminal=27, end_date=datetime.datetime(2013, 9, 27, 7, 47), end_station='Mountain View Caltrain Station', end_terminal='28', bike_id=654, subscription_type='Subscriber', zip_code='94041'),\n",
       "  Trip(trip_id=37516, duration=1942, start_date=datetime.datetime(2013, 9, 27, 15, 39), start_station='Mountain View City Hall', start_terminal=27, end_date=datetime.datetime(2013, 9, 27, 16, 11), end_station='Park at Olive', end_terminal='38', bike_id=154, subscription_type='Subscriber', zip_code='94025'),\n",
       "  Trip(trip_id=37696, duration=283, start_date=datetime.datetime(2013, 9, 27, 17, 17), start_station='Mountain View City Hall', start_terminal=27, end_date=datetime.datetime(2013, 9, 27, 17, 21), end_station='Mountain View Caltrain Station', end_terminal='28', bike_id=119, subscription_type='Subscriber', zip_code='94040'),\n",
       "  Trip(trip_id=38719, duration=219, start_date=datetime.datetime(2013, 9, 28, 17, 13), start_station='Mountain View City Hall', start_terminal=27, end_date=datetime.datetime(2013, 9, 28, 17, 17), end_station='Mountain View Caltrain Station', end_terminal='28', bike_id=87, subscription_type='Subscriber', zip_code='94043'),\n",
       "  Trip(trip_id=38725, duration=760, start_date=datetime.datetime(2013, 9, 28, 17, 23), start_station='Mountain View City Hall', start_terminal=27, end_date=datetime.datetime(2013, 9, 28, 17, 35), end_station='San Antonio Caltrain Station', end_terminal='29', bike_id=49, subscription_type='Subscriber', zip_code='94043'),\n",
       "  Trip(trip_id=38836, duration=679, start_date=datetime.datetime(2013, 9, 28, 19, 26), start_station='Mountain View City Hall', start_terminal=27, end_date=datetime.datetime(2013, 9, 28, 19, 37), end_station='Mountain View City Hall', end_terminal='27', bike_id=165, subscription_type='Subscriber', zip_code='94040'),\n",
       "  Trip(trip_id=39703, duration=205, start_date=datetime.datetime(2013, 9, 30, 7, 46), start_station='Mountain View City Hall', start_terminal=27, end_date=datetime.datetime(2013, 9, 30, 7, 50), end_station='Mountain View Caltrain Station', end_terminal='28', bike_id=217, subscription_type='Subscriber', zip_code='94041'),\n",
       "  Trip(trip_id=40429, duration=283, start_date=datetime.datetime(2013, 9, 30, 16, 58), start_station='Mountain View City Hall', start_terminal=27, end_date=datetime.datetime(2013, 9, 30, 17, 3), end_station='Mountain View Caltrain Station', end_terminal='28', bike_id=119, subscription_type='Subscriber', zip_code='95126'),\n",
       "  Trip(trip_id=40511, duration=252, start_date=datetime.datetime(2013, 9, 30, 17, 27), start_station='Mountain View City Hall', start_terminal=27, end_date=datetime.datetime(2013, 9, 30, 17, 31), end_station='Mountain View Caltrain Station', end_terminal='28', bike_id=125, subscription_type='Subscriber', zip_code='94107'),\n",
       "  Trip(trip_id=40514, duration=301, start_date=datetime.datetime(2013, 9, 30, 17, 28), start_station='Mountain View City Hall', start_terminal=27, end_date=datetime.datetime(2013, 9, 30, 17, 33), end_station='Mountain View Caltrain Station', end_terminal='28', bike_id=94, subscription_type='Subscriber', zip_code='94103'),\n",
       "  Trip(trip_id=40586, duration=324, start_date=datetime.datetime(2013, 9, 30, 17, 47), start_station='Mountain View City Hall', start_terminal=27, end_date=datetime.datetime(2013, 9, 30, 17, 52), end_station='Mountain View Caltrain Station', end_terminal='28', bike_id=653, subscription_type='Subscriber', zip_code='94040'),\n",
       "  Trip(trip_id=40631, duration=647, start_date=datetime.datetime(2013, 9, 30, 18, 0), start_station='Mountain View City Hall', start_terminal=27, end_date=datetime.datetime(2013, 9, 30, 18, 11), end_station='Evelyn Park and Ride', end_terminal='30', bike_id=257, subscription_type='Subscriber', zip_code='94043'),\n",
       "  Trip(trip_id=40682, duration=277, start_date=datetime.datetime(2013, 9, 30, 18, 27), start_station='Mountain View City Hall', start_terminal=27, end_date=datetime.datetime(2013, 9, 30, 18, 31), end_station='Mountain View Caltrain Station', end_terminal='28', bike_id=647, subscription_type='Subscriber', zip_code='94133'),\n",
       "  Trip(trip_id=40683, duration=298, start_date=datetime.datetime(2013, 9, 30, 18, 27), start_station='Mountain View City Hall', start_terminal=27, end_date=datetime.datetime(2013, 9, 30, 18, 32), end_station='Mountain View Caltrain Station', end_terminal='28', bike_id=165, subscription_type='Subscriber', zip_code='94123'),\n",
       "  Trip(trip_id=41718, duration=265, start_date=datetime.datetime(2013, 10, 1, 15, 12), start_station='Mountain View City Hall', start_terminal=27, end_date=datetime.datetime(2013, 10, 1, 15, 16), end_station='Mountain View Caltrain Station', end_terminal='28', bike_id=22, subscription_type='Subscriber', zip_code='94043'),\n",
       "  Trip(trip_id=41869, duration=225, start_date=datetime.datetime(2013, 10, 1, 16, 57), start_station='Mountain View City Hall', start_terminal=27, end_date=datetime.datetime(2013, 10, 1, 17, 1), end_station='Mountain View Caltrain Station', end_terminal='28', bike_id=165, subscription_type='Subscriber', zip_code='95126'),\n",
       "  Trip(trip_id=41930, duration=332, start_date=datetime.datetime(2013, 10, 1, 17, 23), start_station='Mountain View City Hall', start_terminal=27, end_date=datetime.datetime(2013, 10, 1, 17, 29), end_station='Mountain View Caltrain Station', end_terminal='28', bike_id=71, subscription_type='Subscriber', zip_code='94103'),\n",
       "  Trip(trip_id=41932, duration=283, start_date=datetime.datetime(2013, 10, 1, 17, 25), start_station='Mountain View City Hall', start_terminal=27, end_date=datetime.datetime(2013, 10, 1, 17, 29), end_station='Mountain View Caltrain Station', end_terminal='28', bike_id=217, subscription_type='Subscriber', zip_code='94040'),\n",
       "  Trip(trip_id=42007, duration=241, start_date=datetime.datetime(2013, 10, 1, 17, 48), start_station='Mountain View City Hall', start_terminal=27, end_date=datetime.datetime(2013, 10, 1, 17, 52), end_station='Mountain View Caltrain Station', end_terminal='28', bike_id=125, subscription_type='Subscriber', zip_code='94107'),\n",
       "  Trip(trip_id=42339, duration=187, start_date=datetime.datetime(2013, 10, 2, 6, 45), start_station='Mountain View City Hall', start_terminal=27, end_date=datetime.datetime(2013, 10, 2, 6, 48), end_station='Mountain View Caltrain Station', end_terminal='28', bike_id=51, subscription_type='Subscriber', zip_code='94041'),\n",
       "  Trip(trip_id=43100, duration=808, start_date=datetime.datetime(2013, 10, 2, 15, 36), start_station='Mountain View City Hall', start_terminal=27, end_date=datetime.datetime(2013, 10, 2, 15, 50), end_station='Rengstorff Avenue / California Street', end_terminal='33', bike_id=264, subscription_type='Subscriber', zip_code='94040'),\n",
       "  Trip(trip_id=43246, duration=240, start_date=datetime.datetime(2013, 10, 2, 16, 59), start_station='Mountain View City Hall', start_terminal=27, end_date=datetime.datetime(2013, 10, 2, 17, 3), end_station='Mountain View Caltrain Station', end_terminal='28', bike_id=139, subscription_type='Subscriber', zip_code='95126'),\n",
       "  Trip(trip_id=43910, duration=208, start_date=datetime.datetime(2013, 10, 3, 8, 40), start_station='Mountain View City Hall', start_terminal=27, end_date=datetime.datetime(2013, 10, 3, 8, 44), end_station='Mountain View Caltrain Station', end_terminal='28', bike_id=694, subscription_type='Subscriber', zip_code='94041'),\n",
       "  Trip(trip_id=44395, duration=252, start_date=datetime.datetime(2013, 10, 3, 13, 53), start_station='Mountain View City Hall', start_terminal=27, end_date=datetime.datetime(2013, 10, 3, 13, 57), end_station='Mountain View Caltrain Station', end_terminal='28', bike_id=125, subscription_type='Subscriber', zip_code='94043'),\n",
       "  Trip(trip_id=44428, duration=1044, start_date=datetime.datetime(2013, 10, 3, 14, 39), start_station='Mountain View City Hall', start_terminal=27, end_date=datetime.datetime(2013, 10, 3, 14, 56), end_station='San Antonio Caltrain Station', end_terminal='29', bike_id=139, subscription_type='Subscriber', zip_code='94025'),\n",
       "  Trip(trip_id=44891, duration=197, start_date=datetime.datetime(2013, 10, 3, 18, 39), start_station='Mountain View City Hall', start_terminal=27, end_date=datetime.datetime(2013, 10, 3, 18, 42), end_station='Mountain View Caltrain Station', end_terminal='28', bike_id=10, subscription_type='Subscriber', zip_code='94040'),\n",
       "  Trip(trip_id=45242, duration=226, start_date=datetime.datetime(2013, 10, 4, 7, 50), start_station='Mountain View City Hall', start_terminal=27, end_date=datetime.datetime(2013, 10, 4, 7, 54), end_station='Mountain View Caltrain Station', end_terminal='28', bike_id=694, subscription_type='Subscriber', zip_code='94041'),\n",
       "  Trip(trip_id=45251, duration=194, start_date=datetime.datetime(2013, 10, 4, 7, 52), start_station='Mountain View City Hall', start_terminal=27, end_date=datetime.datetime(2013, 10, 4, 7, 55), end_station='Mountain View Caltrain Station', end_terminal='28', bike_id=140, subscription_type='Subscriber', zip_code='94041'),\n",
       "  Trip(trip_id=45960, duration=1499, start_date=datetime.datetime(2013, 10, 4, 15, 30), start_station='Mountain View City Hall', start_terminal=27, end_date=datetime.datetime(2013, 10, 4, 15, 55), end_station='Mountain View Caltrain Station', end_terminal='28', bike_id=13, subscription_type='Subscriber', zip_code='94040'),\n",
       "  Trip(trip_id=46181, duration=210, start_date=datetime.datetime(2013, 10, 4, 17, 32), start_station='Mountain View City Hall', start_terminal=27, end_date=datetime.datetime(2013, 10, 4, 17, 35), end_station='Mountain View Caltrain Station', end_terminal='28', bike_id=151, subscription_type='Subscriber', zip_code='94107'),\n",
       "  Trip(trip_id=47513, duration=1240, start_date=datetime.datetime(2013, 10, 6, 9, 20), start_station='Mountain View City Hall', start_terminal=27, end_date=datetime.datetime(2013, 10, 6, 9, 41), end_station='San Antonio Caltrain Station', end_terminal='29', bike_id=694, subscription_type='Subscriber', zip_code='94040'),\n",
       "  Trip(trip_id=47775, duration=214, start_date=datetime.datetime(2013, 10, 6, 13, 42), start_station='Mountain View City Hall', start_terminal=27, end_date=datetime.datetime(2013, 10, 6, 13, 45), end_station='Mountain View Caltrain Station', end_terminal='28', bike_id=662, subscription_type='Subscriber', zip_code='94043'),\n",
       "  Trip(trip_id=49054, duration=235, start_date=datetime.datetime(2013, 10, 7, 16, 26), start_station='Mountain View City Hall', start_terminal=27, end_date=datetime.datetime(2013, 10, 7, 16, 30), end_station='Mountain View Caltrain Station', end_terminal='28', bike_id=647, subscription_type='Subscriber', zip_code='94107'),\n",
       "  Trip(trip_id=49370, duration=250, start_date=datetime.datetime(2013, 10, 7, 18, 52), start_station='Mountain View City Hall', start_terminal=27, end_date=datetime.datetime(2013, 10, 7, 18, 56), end_station='Mountain View Caltrain Station', end_terminal='28', bike_id=93, subscription_type='Subscriber', zip_code='94040'),\n",
       "  Trip(trip_id=49371, duration=241, start_date=datetime.datetime(2013, 10, 7, 18, 52), start_station='Mountain View City Hall', start_terminal=27, end_date=datetime.datetime(2013, 10, 7, 18, 56), end_station='Mountain View Caltrain Station', end_terminal='28', bike_id=129, subscription_type='Subscriber', zip_code='94107'),\n",
       "  Trip(trip_id=49663, duration=178, start_date=datetime.datetime(2013, 10, 8, 7, 52), start_station='Mountain View City Hall', start_terminal=27, end_date=datetime.datetime(2013, 10, 8, 7, 55), end_station='Mountain View Caltrain Station', end_terminal='28', bike_id=653, subscription_type='Subscriber', zip_code='94041'),\n",
       "  Trip(trip_id=50433, duration=242, start_date=datetime.datetime(2013, 10, 8, 17, 0), start_station='Mountain View City Hall', start_terminal=27, end_date=datetime.datetime(2013, 10, 8, 17, 4), end_station='Mountain View Caltrain Station', end_terminal='28', bike_id=83, subscription_type='Subscriber', zip_code='95126'),\n",
       "  Trip(trip_id=50510, duration=272, start_date=datetime.datetime(2013, 10, 8, 17, 29), start_station='Mountain View City Hall', start_terminal=27, end_date=datetime.datetime(2013, 10, 8, 17, 34), end_station='Mountain View Caltrain Station', end_terminal='28', bike_id=71, subscription_type='Subscriber', zip_code='94107'),\n",
       "  Trip(trip_id=50571, duration=227, start_date=datetime.datetime(2013, 10, 8, 17, 51), start_station='Mountain View City Hall', start_terminal=27, end_date=datetime.datetime(2013, 10, 8, 17, 54), end_station='Mountain View Caltrain Station', end_terminal='28', bike_id=305, subscription_type='Subscriber', zip_code='94040'),\n",
       "  Trip(trip_id=50708, duration=256, start_date=datetime.datetime(2013, 10, 8, 18, 57), start_station='Mountain View City Hall', start_terminal=27, end_date=datetime.datetime(2013, 10, 8, 19, 2), end_station='Mountain View Caltrain Station', end_terminal='28', bike_id=647, subscription_type='Subscriber', zip_code='94133'),\n",
       "  Trip(trip_id=50759, duration=181, start_date=datetime.datetime(2013, 10, 8, 19, 43), start_station='Mountain View City Hall', start_terminal=27, end_date=datetime.datetime(2013, 10, 8, 19, 46), end_station='Mountain View Caltrain Station', end_terminal='28', bike_id=129, subscription_type='Subscriber', zip_code='94107'),\n",
       "  Trip(trip_id=51472, duration=16430, start_date=datetime.datetime(2013, 10, 9, 12, 28), start_station='Mountain View City Hall', start_terminal=27, end_date=datetime.datetime(2013, 10, 9, 17, 1), end_station='Mountain View City Hall', end_terminal='27', bike_id=94, subscription_type='Customer', zip_code='99669'),\n",
       "  Trip(trip_id=51881, duration=200, start_date=datetime.datetime(2013, 10, 9, 17, 36), start_station='Mountain View City Hall', start_terminal=27, end_date=datetime.datetime(2013, 10, 9, 17, 39), end_station='Mountain View Caltrain Station', end_terminal='28', bike_id=305, subscription_type='Subscriber', zip_code='94107'),\n",
       "  Trip(trip_id=52132, duration=260, start_date=datetime.datetime(2013, 10, 9, 19, 39), start_station='Mountain View City Hall', start_terminal=27, end_date=datetime.datetime(2013, 10, 9, 19, 44), end_station='Mountain View Caltrain Station', end_terminal='28', bike_id=117, subscription_type='Subscriber', zip_code='95126'),\n",
       "  Trip(trip_id=52184, duration=211, start_date=datetime.datetime(2013, 10, 9, 20, 39), start_station='Mountain View City Hall', start_terminal=27, end_date=datetime.datetime(2013, 10, 9, 20, 43), end_station='Mountain View Caltrain Station', end_terminal='28', bike_id=13, subscription_type='Subscriber', zip_code='94040'),\n",
       "  Trip(trip_id=52192, duration=191, start_date=datetime.datetime(2013, 10, 9, 20, 42), start_station='Mountain View City Hall', start_terminal=27, end_date=datetime.datetime(2013, 10, 9, 20, 45), end_station='Mountain View Caltrain Station', end_terminal='28', bike_id=662, subscription_type='Subscriber', zip_code='94107'),\n",
       "  Trip(trip_id=52411, duration=185, start_date=datetime.datetime(2013, 10, 10, 7, 52), start_station='Mountain View City Hall', start_terminal=27, end_date=datetime.datetime(2013, 10, 10, 7, 55), end_station='Mountain View Caltrain Station', end_terminal='28', bike_id=138, subscription_type='Subscriber', zip_code='94041'),\n",
       "  Trip(trip_id=52823, duration=425, start_date=datetime.datetime(2013, 10, 10, 11, 13), start_station='Mountain View City Hall', start_terminal=27, end_date=datetime.datetime(2013, 10, 10, 11, 20), end_station='Mountain View Caltrain Station', end_terminal='28', bike_id=83, subscription_type='Subscriber', zip_code='95014'),\n",
       "  Trip(trip_id=52959, duration=302, start_date=datetime.datetime(2013, 10, 10, 12, 42), start_station='Mountain View City Hall', start_terminal=27, end_date=datetime.datetime(2013, 10, 10, 12, 47), end_station='Mountain View Caltrain Station', end_terminal='28', bike_id=117, subscription_type='Subscriber', zip_code='95032'),\n",
       "  Trip(trip_id=53316, duration=227, start_date=datetime.datetime(2013, 10, 10, 17, 0), start_station='Mountain View City Hall', start_terminal=27, end_date=datetime.datetime(2013, 10, 10, 17, 4), end_station='Mountain View Caltrain Station', end_terminal='28', bike_id=71, subscription_type='Subscriber', zip_code='95126'),\n",
       "  Trip(trip_id=53430, duration=276, start_date=datetime.datetime(2013, 10, 10, 17, 46), start_station='Mountain View City Hall', start_terminal=27, end_date=datetime.datetime(2013, 10, 10, 17, 51), end_station='Mountain View Caltrain Station', end_terminal='28', bike_id=305, subscription_type='Subscriber', zip_code='94123'),\n",
       "  Trip(trip_id=53594, duration=195, start_date=datetime.datetime(2013, 10, 10, 18, 53), start_station='Mountain View City Hall', start_terminal=27, end_date=datetime.datetime(2013, 10, 10, 18, 56), end_station='Mountain View Caltrain Station', end_terminal='28', bike_id=13, subscription_type='Subscriber', zip_code='94040'),\n",
       "  Trip(trip_id=53686, duration=1476, start_date=datetime.datetime(2013, 10, 10, 20, 54), start_station='Mountain View City Hall', start_terminal=27, end_date=datetime.datetime(2013, 10, 10, 21, 18), end_station='Park at Olive', end_terminal='38', bike_id=94, subscription_type='Customer', zip_code='94306'),\n",
       "  Trip(trip_id=53864, duration=171, start_date=datetime.datetime(2013, 10, 11, 7, 58), start_station='Mountain View City Hall', start_terminal=27, end_date=datetime.datetime(2013, 10, 11, 8, 1), end_station='Mountain View Caltrain Station', end_terminal='28', bike_id=305, subscription_type='Subscriber', zip_code='94041'),\n",
       "  Trip(trip_id=54616, duration=207, start_date=datetime.datetime(2013, 10, 11, 16, 7), start_station='Mountain View City Hall', start_terminal=27, end_date=datetime.datetime(2013, 10, 11, 16, 11), end_station='Mountain View Caltrain Station', end_terminal='28', bike_id=128, subscription_type='Subscriber', zip_code='95126'),\n",
       "  Trip(trip_id=54677, duration=3245, start_date=datetime.datetime(2013, 10, 11, 16, 39), start_station='Mountain View City Hall', start_terminal=27, end_date=datetime.datetime(2013, 10, 11, 17, 33), end_station='Mountain View City Hall', end_terminal='27', bike_id=627, subscription_type='Customer', zip_code='94041'),\n",
       "  Trip(trip_id=54793, duration=304, start_date=datetime.datetime(2013, 10, 11, 17, 20), start_station='Mountain View City Hall', start_terminal=27, end_date=datetime.datetime(2013, 10, 11, 17, 25), end_station='Mountain View Caltrain Station', end_terminal='28', bike_id=13, subscription_type='Subscriber', zip_code='94040'),\n",
       "  Trip(trip_id=54961, duration=285, start_date=datetime.datetime(2013, 10, 11, 18, 54), start_station='Mountain View City Hall', start_terminal=27, end_date=datetime.datetime(2013, 10, 11, 18, 58), end_station='Mountain View Caltrain Station', end_terminal='28', bike_id=124, subscription_type='Subscriber', zip_code='94107'),\n",
       "  Trip(trip_id=55027, duration=219, start_date=datetime.datetime(2013, 10, 11, 20, 41), start_station='Mountain View City Hall', start_terminal=27, end_date=datetime.datetime(2013, 10, 11, 20, 45), end_station='Mountain View Caltrain Station', end_terminal='28', bike_id=692, subscription_type='Subscriber', zip_code='94040'),\n",
       "  Trip(trip_id=56704, duration=200, start_date=datetime.datetime(2013, 10, 13, 17, 41), start_station='Mountain View City Hall', start_terminal=27, end_date=datetime.datetime(2013, 10, 13, 17, 44), end_station='Mountain View Caltrain Station', end_terminal='28', bike_id=716, subscription_type='Subscriber', zip_code='94040'),\n",
       "  Trip(trip_id=56935, duration=187, start_date=datetime.datetime(2013, 10, 14, 7, 48), start_station='Mountain View City Hall', start_terminal=27, end_date=datetime.datetime(2013, 10, 14, 7, 52), end_station='Mountain View Caltrain Station', end_terminal='28', bike_id=95, subscription_type='Subscriber', zip_code='94041'),\n",
       "  Trip(trip_id=57850, duration=334, start_date=datetime.datetime(2013, 10, 14, 17, 25), start_station='Mountain View City Hall', start_terminal=27, end_date=datetime.datetime(2013, 10, 14, 17, 31), end_station='Mountain View Caltrain Station', end_terminal='28', bike_id=197, subscription_type='Subscriber', zip_code='94025'),\n",
       "  Trip(trip_id=57996, duration=282, start_date=datetime.datetime(2013, 10, 14, 18, 18), start_station='Mountain View City Hall', start_terminal=27, end_date=datetime.datetime(2013, 10, 14, 18, 23), end_station='Mountain View Caltrain Station', end_terminal='28', bike_id=36, subscription_type='Subscriber', zip_code='94123'),\n",
       "  Trip(trip_id=58016, duration=238, start_date=datetime.datetime(2013, 10, 14, 18, 24), start_station='Mountain View City Hall', start_terminal=27, end_date=datetime.datetime(2013, 10, 14, 18, 28), end_station='Mountain View Caltrain Station', end_terminal='28', bike_id=167, subscription_type='Subscriber', zip_code='94040'),\n",
       "  Trip(trip_id=58041, duration=176, start_date=datetime.datetime(2013, 10, 14, 18, 39), start_station='Mountain View City Hall', start_terminal=27, end_date=datetime.datetime(2013, 10, 14, 18, 42), end_station='Mountain View Caltrain Station', end_terminal='28', bike_id=702, subscription_type='Subscriber', zip_code='95126'),\n",
       "  Trip(trip_id=58134, duration=218, start_date=datetime.datetime(2013, 10, 14, 20, 9), start_station='Mountain View City Hall', start_terminal=27, end_date=datetime.datetime(2013, 10, 14, 20, 13), end_station='Mountain View Caltrain Station', end_terminal='28', bike_id=252, subscription_type='Subscriber', zip_code='95035'),\n",
       "  Trip(trip_id=58999, duration=344, start_date=datetime.datetime(2013, 10, 15, 13, 10), start_station='Mountain View City Hall', start_terminal=27, end_date=datetime.datetime(2013, 10, 15, 13, 15), end_station='Mountain View Caltrain Station', end_terminal='28', bike_id=36, subscription_type='Subscriber', zip_code='95032'),\n",
       "  Trip(trip_id=59072, duration=263, start_date=datetime.datetime(2013, 10, 15, 13, 58), start_station='Mountain View City Hall', start_terminal=27, end_date=datetime.datetime(2013, 10, 15, 14, 3), end_station='Mountain View Caltrain Station', end_terminal='28', bike_id=195, subscription_type='Subscriber', zip_code='94107'),\n",
       "  Trip(trip_id=59310, duration=229, start_date=datetime.datetime(2013, 10, 15, 17, 2), start_station='Mountain View City Hall', start_terminal=27, end_date=datetime.datetime(2013, 10, 15, 17, 5), end_station='Mountain View Caltrain Station', end_terminal='28', bike_id=110, subscription_type='Subscriber', zip_code='95126'),\n",
       "  Trip(trip_id=59479, duration=187, start_date=datetime.datetime(2013, 10, 15, 17, 53), start_station='Mountain View City Hall', start_terminal=27, end_date=datetime.datetime(2013, 10, 15, 17, 56), end_station='Mountain View Caltrain Station', end_terminal='28', bike_id=98, subscription_type='Subscriber', zip_code='94040'),\n",
       "  Trip(trip_id=59960, duration=177, start_date=datetime.datetime(2013, 10, 16, 8, 12), start_station='Mountain View City Hall', start_terminal=27, end_date=datetime.datetime(2013, 10, 16, 8, 15), end_station='Mountain View Caltrain Station', end_terminal='28', bike_id=201, subscription_type='Subscriber', zip_code='94041'),\n",
       "  Trip(trip_id=60981, duration=203, start_date=datetime.datetime(2013, 10, 16, 18, 0), start_station='Mountain View City Hall', start_terminal=27, end_date=datetime.datetime(2013, 10, 16, 18, 3), end_station='Mountain View Caltrain Station', end_terminal='28', bike_id=98, subscription_type='Subscriber', zip_code='94107'),\n",
       "  Trip(trip_id=62051, duration=348, start_date=datetime.datetime(2013, 10, 17, 13, 20), start_station='Mountain View City Hall', start_terminal=27, end_date=datetime.datetime(2013, 10, 17, 13, 26), end_station='Mountain View Caltrain Station', end_terminal='28', bike_id=698, subscription_type='Subscriber', zip_code='95032'),\n",
       "  Trip(trip_id=63034, duration=208, start_date=datetime.datetime(2013, 10, 18, 7, 47), start_station='Mountain View City Hall', start_terminal=27, end_date=datetime.datetime(2013, 10, 18, 7, 50), end_station='Mountain View Caltrain Station', end_terminal='28', bike_id=167, subscription_type='Subscriber', zip_code='94041'),\n",
       "  Trip(trip_id=63792, duration=2827, start_date=datetime.datetime(2013, 10, 18, 15, 16), start_station='Mountain View City Hall', start_terminal=27, end_date=datetime.datetime(2013, 10, 18, 16, 3), end_station='Mountain View Caltrain Station', end_terminal='28', bike_id=253, subscription_type='Customer', zip_code='55104'),\n",
       "  Trip(trip_id=63960, duration=253, start_date=datetime.datetime(2013, 10, 18, 16, 47), start_station='Mountain View City Hall', start_terminal=27, end_date=datetime.datetime(2013, 10, 18, 16, 51), end_station='Mountain View Caltrain Station', end_terminal='28', bike_id=167, subscription_type='Subscriber', zip_code='94107'),\n",
       "  Trip(trip_id=64013, duration=215, start_date=datetime.datetime(2013, 10, 18, 17, 8), start_station='Mountain View City Hall', start_terminal=27, end_date=datetime.datetime(2013, 10, 18, 17, 12), end_station='Mountain View Caltrain Station', end_terminal='28', bike_id=717, subscription_type='Subscriber', zip_code='94043'),\n",
       "  Trip(trip_id=64048, duration=333, start_date=datetime.datetime(2013, 10, 18, 17, 22), start_station='Mountain View City Hall', start_terminal=27, end_date=datetime.datetime(2013, 10, 18, 17, 28), end_station='Mountain View Caltrain Station', end_terminal='28', bike_id=713, subscription_type='Subscriber', zip_code='94040'),\n",
       "  Trip(trip_id=64347, duration=255, start_date=datetime.datetime(2013, 10, 18, 20, 40), start_station='Mountain View City Hall', start_terminal=27, end_date=datetime.datetime(2013, 10, 18, 20, 44), end_station='Mountain View Caltrain Station', end_terminal='28', bike_id=110, subscription_type='Subscriber', zip_code='94111'),\n",
       "  Trip(trip_id=64579, duration=269, start_date=datetime.datetime(2013, 10, 19, 10, 34), start_station='Mountain View City Hall', start_terminal=27, end_date=datetime.datetime(2013, 10, 19, 10, 39), end_station='Mountain View Caltrain Station', end_terminal='28', bike_id=62, subscription_type='Subscriber', zip_code='94040'),\n",
       "  Trip(trip_id=64583, duration=28670, start_date=datetime.datetime(2013, 10, 19, 10, 37), start_station='Mountain View City Hall', start_terminal=27, end_date=datetime.datetime(2013, 10, 19, 18, 35), end_station='Mountain View City Hall', end_terminal='27', bike_id=302, subscription_type='Customer', zip_code=''),\n",
       "  Trip(trip_id=65193, duration=413, start_date=datetime.datetime(2013, 10, 19, 19, 9), start_station='Mountain View City Hall', start_terminal=27, end_date=datetime.datetime(2013, 10, 19, 19, 16), end_station='Mountain View Caltrain Station', end_terminal='28', bike_id=295, subscription_type='Subscriber', zip_code='95136'),\n",
       "  Trip(trip_id=65635, duration=1022, start_date=datetime.datetime(2013, 10, 20, 15, 4), start_station='Mountain View City Hall', start_terminal=27, end_date=datetime.datetime(2013, 10, 20, 15, 21), end_station='Rengstorff Avenue / California Street', end_terminal='33', bike_id=243, subscription_type='Customer', zip_code='94041'),\n",
       "  Trip(trip_id=65760, duration=2579, start_date=datetime.datetime(2013, 10, 20, 17, 3), start_station='Mountain View City Hall', start_terminal=27, end_date=datetime.datetime(2013, 10, 20, 17, 46), end_station='Rengstorff Avenue / California Street', end_terminal='33', bike_id=243, subscription_type='Customer', zip_code='94040'),\n",
       "  Trip(trip_id=65841, duration=177, start_date=datetime.datetime(2013, 10, 20, 20, 0), start_station='Mountain View City Hall', start_terminal=27, end_date=datetime.datetime(2013, 10, 20, 20, 3), end_station='Mountain View Caltrain Station', end_terminal='28', bike_id=148, subscription_type='Subscriber', zip_code='94043'),\n",
       "  Trip(trip_id=66005, duration=207, start_date=datetime.datetime(2013, 10, 21, 7, 52), start_station='Mountain View City Hall', start_terminal=27, end_date=datetime.datetime(2013, 10, 21, 7, 55), end_station='Mountain View Caltrain Station', end_terminal='28', bike_id=98, subscription_type='Subscriber', zip_code='94041'),\n",
       "  Trip(trip_id=66886, duration=296, start_date=datetime.datetime(2013, 10, 21, 17, 24), start_station='Mountain View City Hall', start_terminal=27, end_date=datetime.datetime(2013, 10, 21, 17, 28), end_station='Mountain View Caltrain Station', end_terminal='28', bike_id=98, subscription_type='Subscriber', zip_code='94103'),\n",
       "  Trip(trip_id=66973, duration=219, start_date=datetime.datetime(2013, 10, 21, 17, 52), start_station='Mountain View City Hall', start_terminal=27, end_date=datetime.datetime(2013, 10, 21, 17, 56), end_station='Mountain View Caltrain Station', end_terminal='28', bike_id=60, subscription_type='Subscriber', zip_code='94107'),\n",
       "  Trip(trip_id=67409, duration=308, start_date=datetime.datetime(2013, 10, 22, 7, 57), start_station='Mountain View City Hall', start_terminal=27, end_date=datetime.datetime(2013, 10, 22, 8, 2), end_station='Mountain View Caltrain Station', end_terminal='28', bike_id=716, subscription_type='Subscriber', zip_code='94041'),\n",
       "  Trip(trip_id=68313, duration=236, start_date=datetime.datetime(2013, 10, 22, 17, 51), start_station='Mountain View City Hall', start_terminal=27, end_date=datetime.datetime(2013, 10, 22, 17, 55), end_station='Mountain View Caltrain Station', end_terminal='28', bike_id=252, subscription_type='Subscriber', zip_code='94107'),\n",
       "  Trip(trip_id=68398, duration=211, start_date=datetime.datetime(2013, 10, 22, 18, 18), start_station='Mountain View City Hall', start_terminal=27, end_date=datetime.datetime(2013, 10, 22, 18, 21), end_station='Mountain View Caltrain Station', end_terminal='28', bike_id=716, subscription_type='Subscriber', zip_code='94040'),\n",
       "  Trip(trip_id=68549, duration=204, start_date=datetime.datetime(2013, 10, 22, 19, 42), start_station='Mountain View City Hall', start_terminal=27, end_date=datetime.datetime(2013, 10, 22, 19, 45), end_station='Mountain View Caltrain Station', end_terminal='28', bike_id=60, subscription_type='Subscriber', zip_code='94107'),\n",
       "  Trip(trip_id=68766, duration=170, start_date=datetime.datetime(2013, 10, 23, 8, 3), start_station='Mountain View City Hall', start_terminal=27, end_date=datetime.datetime(2013, 10, 23, 8, 6), end_station='Mountain View Caltrain Station', end_terminal='28', bike_id=295, subscription_type='Subscriber', zip_code='94041'),\n",
       "  Trip(trip_id=69490, duration=283, start_date=datetime.datetime(2013, 10, 23, 16, 36), start_station='Mountain View City Hall', start_terminal=27, end_date=datetime.datetime(2013, 10, 23, 16, 40), end_station='Mountain View Caltrain Station', end_terminal='28', bike_id=713, subscription_type='Subscriber', zip_code='94107'),\n",
       "  Trip(trip_id=69523, duration=186, start_date=datetime.datetime(2013, 10, 23, 16, 53), start_station='Mountain View City Hall', start_terminal=27, end_date=datetime.datetime(2013, 10, 23, 16, 56), end_station='Mountain View Caltrain Station', end_terminal='28', bike_id=295, subscription_type='Subscriber', zip_code='94123'),\n",
       "  Trip(trip_id=69746, duration=260, start_date=datetime.datetime(2013, 10, 23, 18, 21), start_station='Mountain View City Hall', start_terminal=27, end_date=datetime.datetime(2013, 10, 23, 18, 25), end_station='Mountain View Caltrain Station', end_terminal='28', bike_id=252, subscription_type='Subscriber', zip_code='94107'),\n",
       "  Trip(trip_id=69794, duration=250, start_date=datetime.datetime(2013, 10, 23, 18, 44), start_station='Mountain View City Hall', start_terminal=27, end_date=datetime.datetime(2013, 10, 23, 18, 48), end_station='Mountain View Caltrain Station', end_terminal='28', bike_id=60, subscription_type='Subscriber', zip_code='94040'),\n",
       "  Trip(trip_id=69972, duration=210, start_date=datetime.datetime(2013, 10, 23, 22, 31), start_station='Mountain View City Hall', start_terminal=27, end_date=datetime.datetime(2013, 10, 23, 22, 35), end_station='Mountain View Caltrain Station', end_terminal='28', bike_id=197, subscription_type='Subscriber', zip_code='94107'),\n",
       "  Trip(trip_id=70894, duration=205, start_date=datetime.datetime(2013, 10, 24, 16, 43), start_station='Mountain View City Hall', start_terminal=27, end_date=datetime.datetime(2013, 10, 24, 16, 46), end_station='Mountain View Caltrain Station', end_terminal='28', bike_id=295, subscription_type='Subscriber', zip_code='94107'),\n",
       "  Trip(trip_id=70909, duration=259, start_date=datetime.datetime(2013, 10, 24, 16, 53), start_station='Mountain View City Hall', start_terminal=27, end_date=datetime.datetime(2013, 10, 24, 16, 57), end_station='Mountain View Caltrain Station', end_terminal='28', bike_id=252, subscription_type='Subscriber', zip_code='94107'),\n",
       "  Trip(trip_id=71476, duration=187, start_date=datetime.datetime(2013, 10, 25, 7, 54), start_station='Mountain View City Hall', start_terminal=27, end_date=datetime.datetime(2013, 10, 25, 7, 57), end_station='Mountain View Caltrain Station', end_terminal='28', bike_id=717, subscription_type='Subscriber', zip_code='94041'),\n",
       "  Trip(trip_id=72100, duration=251, start_date=datetime.datetime(2013, 10, 25, 14, 43), start_station='Mountain View City Hall', start_terminal=27, end_date=datetime.datetime(2013, 10, 25, 14, 47), end_station='Mountain View Caltrain Station', end_terminal='28', bike_id=252, subscription_type='Subscriber', zip_code='94040'),\n",
       "  Trip(trip_id=72268, duration=223, start_date=datetime.datetime(2013, 10, 25, 16, 47), start_station='Mountain View City Hall', start_terminal=27, end_date=datetime.datetime(2013, 10, 25, 16, 51), end_station='Mountain View Caltrain Station', end_terminal='28', bike_id=713, subscription_type='Subscriber', zip_code='94107'),\n",
       "  Trip(trip_id=72436, duration=238, start_date=datetime.datetime(2013, 10, 25, 17, 51), start_station='Mountain View City Hall', start_terminal=27, end_date=datetime.datetime(2013, 10, 25, 17, 55), end_station='Mountain View Caltrain Station', end_terminal='28', bike_id=252, subscription_type='Subscriber', zip_code='94107'),\n",
       "  Trip(trip_id=72541, duration=238, start_date=datetime.datetime(2013, 10, 25, 18, 41), start_station='Mountain View City Hall', start_terminal=27, end_date=datetime.datetime(2013, 10, 25, 18, 45), end_station='Mountain View Caltrain Station', end_terminal='28', bike_id=689, subscription_type='Subscriber', zip_code='94111'),\n",
       "  Trip(trip_id=72629, duration=610, start_date=datetime.datetime(2013, 10, 25, 20, 3), start_station='Mountain View City Hall', start_terminal=27, end_date=datetime.datetime(2013, 10, 25, 20, 13), end_station='Rengstorff Avenue / California Street', end_terminal='33', bike_id=713, subscription_type='Customer', zip_code='94040'),\n",
       "  Trip(trip_id=72630, duration=604, start_date=datetime.datetime(2013, 10, 25, 20, 3), start_station='Mountain View City Hall', start_terminal=27, end_date=datetime.datetime(2013, 10, 25, 20, 13), end_station='Rengstorff Avenue / California Street', end_terminal='33', bike_id=75, subscription_type='Customer', zip_code='94040'),\n",
       "  Trip(trip_id=73962, duration=177, start_date=datetime.datetime(2013, 10, 28, 7, 53), start_station='Mountain View City Hall', start_terminal=27, end_date=datetime.datetime(2013, 10, 28, 7, 56), end_station='Mountain View Caltrain Station', end_terminal='28', bike_id=58, subscription_type='Subscriber', zip_code='94041'),\n",
       "  Trip(trip_id=74677, duration=243, start_date=datetime.datetime(2013, 10, 28, 16, 48), start_station='Mountain View City Hall', start_terminal=27, end_date=datetime.datetime(2013, 10, 28, 16, 52), end_station='Mountain View Caltrain Station', end_terminal='28', bike_id=58, subscription_type='Subscriber', zip_code='94107'),\n",
       "  Trip(trip_id=74840, duration=222, start_date=datetime.datetime(2013, 10, 28, 17, 48), start_station='Mountain View City Hall', start_terminal=27, end_date=datetime.datetime(2013, 10, 28, 17, 52), end_station='Mountain View Caltrain Station', end_terminal='28', bike_id=295, subscription_type='Subscriber', zip_code='94107'),\n",
       "  Trip(trip_id=74983, duration=211, start_date=datetime.datetime(2013, 10, 28, 18, 55), start_station='Mountain View City Hall', start_terminal=27, end_date=datetime.datetime(2013, 10, 28, 18, 58), end_station='Mountain View Caltrain Station', end_terminal='28', bike_id=252, subscription_type='Subscriber', zip_code='94107'),\n",
       "  Trip(trip_id=76010, duration=226, start_date=datetime.datetime(2013, 10, 29, 16, 56), start_station='Mountain View City Hall', start_terminal=27, end_date=datetime.datetime(2013, 10, 29, 17, 0), end_station='Mountain View Caltrain Station', end_terminal='28', bike_id=36, subscription_type='Subscriber', zip_code='94107'),\n",
       "  Trip(trip_id=76310, duration=594, start_date=datetime.datetime(2013, 10, 29, 19, 2), start_station='Mountain View City Hall', start_terminal=27, end_date=datetime.datetime(2013, 10, 29, 19, 12), end_station='Rengstorff Avenue / California Street', end_terminal='33', bike_id=698, subscription_type='Subscriber', zip_code='94040'),\n",
       "  Trip(trip_id=76387, duration=182, start_date=datetime.datetime(2013, 10, 29, 20, 38), start_station='Mountain View City Hall', start_terminal=27, end_date=datetime.datetime(2013, 10, 29, 20, 41), end_station='Mountain View Caltrain Station', end_terminal='28', bike_id=60, subscription_type='Subscriber', zip_code='94107'),\n",
       "  Trip(trip_id=76466, duration=234, start_date=datetime.datetime(2013, 10, 30, 6, 14), start_station='Mountain View City Hall', start_terminal=27, end_date=datetime.datetime(2013, 10, 30, 6, 18), end_station='Mountain View Caltrain Station', end_terminal='28', bike_id=685, subscription_type='Subscriber', zip_code='94024'),\n",
       "  Trip(trip_id=76944, duration=272, start_date=datetime.datetime(2013, 10, 30, 10, 37), start_station='Mountain View City Hall', start_terminal=27, end_date=datetime.datetime(2013, 10, 30, 10, 41), end_station='Mountain View Caltrain Station', end_terminal='28', bike_id=697, subscription_type='Subscriber', zip_code='94107'),\n",
       "  Trip(trip_id=77095, duration=1464, start_date=datetime.datetime(2013, 10, 30, 12, 50), start_station='Mountain View City Hall', start_terminal=27, end_date=datetime.datetime(2013, 10, 30, 13, 15), end_station='Mountain View City Hall', end_terminal='27', bike_id=301, subscription_type='Subscriber', zip_code='94040'),\n",
       "  Trip(trip_id=77172, duration=2293, start_date=datetime.datetime(2013, 10, 30, 13, 56), start_station='Mountain View City Hall', start_terminal=27, end_date=datetime.datetime(2013, 10, 30, 14, 34), end_station='Park at Olive', end_terminal='38', bike_id=711, subscription_type='Customer', zip_code='94301'),\n",
       "  Trip(trip_id=77286, duration=636, start_date=datetime.datetime(2013, 10, 30, 15, 50), start_station='Mountain View City Hall', start_terminal=27, end_date=datetime.datetime(2013, 10, 30, 16, 1), end_station='Rengstorff Avenue / California Street', end_terminal='33', bike_id=186, subscription_type='Subscriber', zip_code='94114'),\n",
       "  Trip(trip_id=77374, duration=228, start_date=datetime.datetime(2013, 10, 30, 16, 41), start_station='Mountain View City Hall', start_terminal=27, end_date=datetime.datetime(2013, 10, 30, 16, 45), end_station='Mountain View Caltrain Station', end_terminal='28', bike_id=301, subscription_type='Subscriber', zip_code='94107'),\n",
       "  Trip(trip_id=77624, duration=250, start_date=datetime.datetime(2013, 10, 30, 18, 15), start_station='Mountain View City Hall', start_terminal=27, end_date=datetime.datetime(2013, 10, 30, 18, 19), end_station='Mountain View Caltrain Station', end_terminal='28', bike_id=127, subscription_type='Subscriber', zip_code='94040'),\n",
       "  Trip(trip_id=78815, duration=204, start_date=datetime.datetime(2013, 10, 31, 16, 14), start_station='Mountain View City Hall', start_terminal=27, end_date=datetime.datetime(2013, 10, 31, 16, 18), end_station='Mountain View Caltrain Station', end_terminal='28', bike_id=697, subscription_type='Subscriber', zip_code='94107'),\n",
       "  Trip(trip_id=78974, duration=223, start_date=datetime.datetime(2013, 10, 31, 17, 1), start_station='Mountain View City Hall', start_terminal=27, end_date=datetime.datetime(2013, 10, 31, 17, 5), end_station='Mountain View Caltrain Station', end_terminal='28', bike_id=695, subscription_type='Subscriber', zip_code='95126'),\n",
       "  Trip(trip_id=79131, duration=212, start_date=datetime.datetime(2013, 10, 31, 17, 53), start_station='Mountain View City Hall', start_terminal=27, end_date=datetime.datetime(2013, 10, 31, 17, 57), end_station='Mountain View Caltrain Station', end_terminal='28', bike_id=243, subscription_type='Subscriber', zip_code='94107'),\n",
       "  Trip(trip_id=79871, duration=550, start_date=datetime.datetime(2013, 11, 1, 10, 59), start_station='Mountain View City Hall', start_terminal=27, end_date=datetime.datetime(2013, 11, 1, 11, 8), end_station='Evelyn Park and Ride', end_terminal='30', bike_id=696, subscription_type='Subscriber', zip_code='94043'),\n",
       "  Trip(trip_id=80098, duration=312, start_date=datetime.datetime(2013, 11, 1, 13, 56), start_station='Mountain View City Hall', start_terminal=27, end_date=datetime.datetime(2013, 11, 1, 14, 1), end_station='Mountain View Caltrain Station', end_terminal='28', bike_id=176, subscription_type='Subscriber', zip_code='94040'),\n",
       "  Trip(trip_id=80499, duration=258, start_date=datetime.datetime(2013, 11, 1, 17, 38), start_station='Mountain View City Hall', start_terminal=27, end_date=datetime.datetime(2013, 11, 1, 17, 42), end_station='Mountain View Caltrain Station', end_terminal='28', bike_id=243, subscription_type='Subscriber', zip_code='94107'),\n",
       "  Trip(trip_id=80620, duration=278, start_date=datetime.datetime(2013, 11, 1, 18, 26), start_station='Mountain View City Hall', start_terminal=27, end_date=datetime.datetime(2013, 11, 1, 18, 30), end_station='Mountain View Caltrain Station', end_terminal='28', bike_id=702, subscription_type='Subscriber', zip_code='94111'),\n",
       "  Trip(trip_id=80700, duration=273, start_date=datetime.datetime(2013, 11, 1, 19, 34), start_station='Mountain View City Hall', start_terminal=27, end_date=datetime.datetime(2013, 11, 1, 19, 38), end_station='Mountain View Caltrain Station', end_terminal='28', bike_id=685, subscription_type='Subscriber', zip_code='94040'),\n",
       "  Trip(trip_id=81038, duration=1480, start_date=datetime.datetime(2013, 11, 2, 12, 25), start_station='Mountain View City Hall', start_terminal=27, end_date=datetime.datetime(2013, 11, 2, 12, 50), end_station='Mountain View City Hall', end_terminal='27', bike_id=62, subscription_type='Subscriber', zip_code='94022'),\n",
       "  Trip(trip_id=81933, duration=523, start_date=datetime.datetime(2013, 11, 3, 16, 54), start_station='Mountain View City Hall', start_terminal=27, end_date=datetime.datetime(2013, 11, 3, 17, 2), end_station='Evelyn Park and Ride', end_terminal='30', bike_id=77, subscription_type='Subscriber', zip_code='94043'),\n",
       "  Trip(trip_id=82160, duration=175, start_date=datetime.datetime(2013, 11, 4, 7, 46), start_station='Mountain View City Hall', start_terminal=27, end_date=datetime.datetime(2013, 11, 4, 7, 49), end_station='Mountain View Caltrain Station', end_terminal='28', bike_id=60, subscription_type='Subscriber', zip_code='94041'),\n",
       "  Trip(trip_id=83058, duration=237, start_date=datetime.datetime(2013, 11, 4, 17, 0), start_station='Mountain View City Hall', start_terminal=27, end_date=datetime.datetime(2013, 11, 4, 17, 4), end_station='Mountain View Caltrain Station', end_terminal='28', bike_id=302, subscription_type='Subscriber', zip_code='94107'),\n",
       "  Trip(trip_id=83193, duration=248, start_date=datetime.datetime(2013, 11, 4, 17, 47), start_station='Mountain View City Hall', start_terminal=27, end_date=datetime.datetime(2013, 11, 4, 17, 51), end_station='Mountain View Caltrain Station', end_terminal='28', bike_id=685, subscription_type='Subscriber', zip_code='94107'),\n",
       "  Trip(trip_id=83256, duration=207, start_date=datetime.datetime(2013, 11, 4, 18, 10), start_station='Mountain View City Hall', start_terminal=27, end_date=datetime.datetime(2013, 11, 4, 18, 13), end_station='Mountain View Caltrain Station', end_terminal='28', bike_id=60, subscription_type='Subscriber', zip_code='94040'),\n",
       "  Trip(trip_id=83464, duration=180, start_date=datetime.datetime(2013, 11, 4, 21, 8), start_station='Mountain View City Hall', start_terminal=27, end_date=datetime.datetime(2013, 11, 4, 21, 11), end_station='Mountain View Caltrain Station', end_terminal='28', bike_id=62, subscription_type='Subscriber', zip_code='95035'),\n",
       "  Trip(trip_id=83831, duration=195, start_date=datetime.datetime(2013, 11, 5, 8, 54), start_station='Mountain View City Hall', start_terminal=27, end_date=datetime.datetime(2013, 11, 5, 8, 57), end_station='Mountain View Caltrain Station', end_terminal='28', bike_id=702, subscription_type='Subscriber', zip_code='94024'),\n",
       "  Trip(trip_id=84438, duration=220, start_date=datetime.datetime(2013, 11, 5, 16, 17), start_station='Mountain View City Hall', start_terminal=27, end_date=datetime.datetime(2013, 11, 5, 16, 20), end_station='Mountain View Caltrain Station', end_terminal='28', bike_id=702, subscription_type='Subscriber', zip_code='94107'),\n",
       "  Trip(trip_id=84538, duration=201, start_date=datetime.datetime(2013, 11, 5, 17, 1), start_station='Mountain View City Hall', start_terminal=27, end_date=datetime.datetime(2013, 11, 5, 17, 4), end_station='Mountain View Caltrain Station', end_terminal='28', bike_id=234, subscription_type='Subscriber', zip_code='95126'),\n",
       "  Trip(trip_id=84590, duration=233, start_date=datetime.datetime(2013, 11, 5, 17, 18), start_station='Mountain View City Hall', start_terminal=27, end_date=datetime.datetime(2013, 11, 5, 17, 21), end_station='Mountain View Caltrain Station', end_terminal='28', bike_id=685, subscription_type='Subscriber', zip_code='94107'),\n",
       "  Trip(trip_id=84595, duration=280, start_date=datetime.datetime(2013, 11, 5, 17, 19), start_station='Mountain View City Hall', start_terminal=27, end_date=datetime.datetime(2013, 11, 5, 17, 24), end_station='Mountain View Caltrain Station', end_terminal='28', bike_id=302, subscription_type='Subscriber', zip_code='94040'),\n",
       "  Trip(trip_id=85084, duration=179, start_date=datetime.datetime(2013, 11, 6, 6, 54), start_station='Mountain View City Hall', start_terminal=27, end_date=datetime.datetime(2013, 11, 6, 6, 57), end_station='Mountain View Caltrain Station', end_terminal='28', bike_id=697, subscription_type='Subscriber', zip_code='94024'),\n",
       "  Trip(trip_id=85791, duration=510, start_date=datetime.datetime(2013, 11, 6, 14, 43), start_station='Mountain View City Hall', start_terminal=27, end_date=datetime.datetime(2013, 11, 6, 14, 51), end_station='Mountain View Caltrain Station', end_terminal='28', bike_id=685, subscription_type='Customer', zip_code='28208'),\n",
       "  Trip(trip_id=85967, duration=215, start_date=datetime.datetime(2013, 11, 6, 16, 46), start_station='Mountain View City Hall', start_terminal=27, end_date=datetime.datetime(2013, 11, 6, 16, 50), end_station='Mountain View Caltrain Station', end_terminal='28', bike_id=176, subscription_type='Subscriber', zip_code='94107'),\n",
       "  Trip(trip_id=86004, duration=202, start_date=datetime.datetime(2013, 11, 6, 16, 59), start_station='Mountain View City Hall', start_terminal=27, end_date=datetime.datetime(2013, 11, 6, 17, 3), end_station='Mountain View Caltrain Station', end_terminal='28', bike_id=127, subscription_type='Subscriber', zip_code='95126'),\n",
       "  Trip(trip_id=86151, duration=256, start_date=datetime.datetime(2013, 11, 6, 17, 49), start_station='Mountain View City Hall', start_terminal=27, end_date=datetime.datetime(2013, 11, 6, 17, 54), end_station='Mountain View Caltrain Station', end_terminal='28', bike_id=695, subscription_type='Subscriber', zip_code='94040'),\n",
       "  Trip(trip_id=86221, duration=229, start_date=datetime.datetime(2013, 11, 6, 18, 20), start_station='Mountain View City Hall', start_terminal=27, end_date=datetime.datetime(2013, 11, 6, 18, 24), end_station='Mountain View Caltrain Station', end_terminal='28', bike_id=695, subscription_type='Subscriber', zip_code='94123'),\n",
       "  Trip(trip_id=86491, duration=214, start_date=datetime.datetime(2013, 11, 7, 6, 14), start_station='Mountain View City Hall', start_terminal=27, end_date=datetime.datetime(2013, 11, 7, 6, 17), end_station='Mountain View Caltrain Station', end_terminal='28', bike_id=656, subscription_type='Subscriber', zip_code='94024'),\n",
       "  Trip(trip_id=87310, duration=288, start_date=datetime.datetime(2013, 11, 7, 13, 59), start_station='Mountain View City Hall', start_terminal=27, end_date=datetime.datetime(2013, 11, 7, 14, 4), end_station='Mountain View Caltrain Station', end_terminal='28', bike_id=697, subscription_type='Subscriber', zip_code='94040'),\n",
       "  Trip(trip_id=87410, duration=246, start_date=datetime.datetime(2013, 11, 7, 15, 40), start_station='Mountain View City Hall', start_terminal=27, end_date=datetime.datetime(2013, 11, 7, 15, 44), end_station='Mountain View Caltrain Station', end_terminal='28', bike_id=695, subscription_type='Subscriber', zip_code='94040'),\n",
       "  Trip(trip_id=87473, duration=3836, start_date=datetime.datetime(2013, 11, 7, 16, 21), start_station='Mountain View City Hall', start_terminal=27, end_date=datetime.datetime(2013, 11, 7, 17, 25), end_station='Palo Alto Caltrain Station', end_terminal='34', bike_id=301, subscription_type='Customer', zip_code='94087'),\n",
       "  Trip(trip_id=87475, duration=208, start_date=datetime.datetime(2013, 11, 7, 16, 22), start_station='Mountain View City Hall', start_terminal=27, end_date=datetime.datetime(2013, 11, 7, 16, 25), end_station='Mountain View Caltrain Station', end_terminal='28', bike_id=656, subscription_type='Subscriber', zip_code='94107'),\n",
       "  Trip(trip_id=87681, duration=244, start_date=datetime.datetime(2013, 11, 7, 17, 38), start_station='Mountain View City Hall', start_terminal=27, end_date=datetime.datetime(2013, 11, 7, 17, 42), end_station='Mountain View Caltrain Station', end_terminal='28', bike_id=176, subscription_type='Subscriber', zip_code='94107'),\n",
       "  Trip(trip_id=88203, duration=192, start_date=datetime.datetime(2013, 11, 8, 7, 48), start_station='Mountain View City Hall', start_terminal=27, end_date=datetime.datetime(2013, 11, 8, 7, 51), end_station='Mountain View Caltrain Station', end_terminal='28', bike_id=191, subscription_type='Subscriber', zip_code='94041'),\n",
       "  Trip(trip_id=88798, duration=263, start_date=datetime.datetime(2013, 11, 8, 12, 16), start_station='Mountain View City Hall', start_terminal=27, end_date=datetime.datetime(2013, 11, 8, 12, 21), end_station='Mountain View Caltrain Station', end_terminal='28', bike_id=81, subscription_type='Subscriber', zip_code='94043'),\n",
       "  Trip(trip_id=89233, duration=203, start_date=datetime.datetime(2013, 11, 8, 16, 49), start_station='Mountain View City Hall', start_terminal=27, end_date=datetime.datetime(2013, 11, 8, 16, 52), end_station='Mountain View Caltrain Station', end_terminal='28', bike_id=715, subscription_type='Subscriber', zip_code='94107'),\n",
       "  Trip(trip_id=89353, duration=251, start_date=datetime.datetime(2013, 11, 8, 17, 28), start_station='Mountain View City Hall', start_terminal=27, end_date=datetime.datetime(2013, 11, 8, 17, 33), end_station='Mountain View Caltrain Station', end_terminal='28', bike_id=697, subscription_type='Subscriber', zip_code='94107'),\n",
       "  Trip(trip_id=89525, duration=247, start_date=datetime.datetime(2013, 11, 8, 18, 51), start_station='Mountain View City Hall', start_terminal=27, end_date=datetime.datetime(2013, 11, 8, 18, 55), end_station='Mountain View Caltrain Station', end_terminal='28', bike_id=36, subscription_type='Subscriber', zip_code='94114'),\n",
       "  Trip(trip_id=89524, duration=214, start_date=datetime.datetime(2013, 11, 8, 18, 54), start_station='Mountain View City Hall', start_terminal=27, end_date=datetime.datetime(2013, 11, 8, 18, 57), end_station='Mountain View Caltrain Station', end_terminal='28', bike_id=127, subscription_type='Subscriber', zip_code='94111'),\n",
       "  Trip(trip_id=89592, duration=62, start_date=datetime.datetime(2013, 11, 8, 20, 12), start_station='Mountain View City Hall', start_terminal=27, end_date=datetime.datetime(2013, 11, 8, 20, 13), end_station='Mountain View City Hall', end_terminal='27', bike_id=167, subscription_type='Subscriber', zip_code='94041'),\n",
       "  Trip(trip_id=89649, duration=1221, start_date=datetime.datetime(2013, 11, 8, 21, 22), start_station='Mountain View City Hall', start_terminal=27, end_date=datetime.datetime(2013, 11, 8, 21, 42), end_station='Mountain View Caltrain Station', end_terminal='28', bike_id=58, subscription_type='Subscriber', zip_code='95136'),\n",
       "  Trip(trip_id=90716, duration=345, start_date=datetime.datetime(2013, 11, 10, 10, 26), start_station='Mountain View City Hall', start_terminal=27, end_date=datetime.datetime(2013, 11, 10, 10, 32), end_station='Mountain View Caltrain Station', end_terminal='28', bike_id=716, subscription_type='Subscriber', zip_code='94041'),\n",
       "  Trip(trip_id=90910, duration=4121, start_date=datetime.datetime(2013, 11, 10, 13, 33), start_station='Mountain View City Hall', start_terminal=27, end_date=datetime.datetime(2013, 11, 10, 14, 42), end_station='Mountain View City Hall', end_terminal='27', bike_id=167, subscription_type='Customer', zip_code='94089'),\n",
       "  Trip(trip_id=90911, duration=3992, start_date=datetime.datetime(2013, 11, 10, 13, 36), start_station='Mountain View City Hall', start_terminal=27, end_date=datetime.datetime(2013, 11, 10, 14, 42), end_station='Mountain View City Hall', end_terminal='27', bike_id=716, subscription_type='Customer', zip_code='94089'),\n",
       "  Trip(trip_id=90972, duration=5476, start_date=datetime.datetime(2013, 11, 10, 15, 3), start_station='Mountain View City Hall', start_terminal=27, end_date=datetime.datetime(2013, 11, 10, 16, 35), end_station='Mountain View City Hall', end_terminal='27', bike_id=681, subscription_type='Customer', zip_code='94043'),\n",
       "  Trip(trip_id=91404, duration=149, start_date=datetime.datetime(2013, 11, 11, 8, 21), start_station='Mountain View City Hall', start_terminal=27, end_date=datetime.datetime(2013, 11, 11, 8, 23), end_station='Mountain View Caltrain Station', end_terminal='28', bike_id=190, subscription_type='Subscriber', zip_code='94041'),\n",
       "  Trip(trip_id=92075, duration=211, start_date=datetime.datetime(2013, 11, 11, 16, 47), start_station='Mountain View City Hall', start_terminal=27, end_date=datetime.datetime(2013, 11, 11, 16, 51), end_station='Mountain View Caltrain Station', end_terminal='28', bike_id=717, subscription_type='Subscriber', zip_code='94107'),\n",
       "  Trip(trip_id=92194, duration=303, start_date=datetime.datetime(2013, 11, 11, 17, 36), start_station='Mountain View City Hall', start_terminal=27, end_date=datetime.datetime(2013, 11, 11, 17, 41), end_station='Mountain View Caltrain Station', end_terminal='28', bike_id=234, subscription_type='Subscriber', zip_code='94107'),\n",
       "  Trip(trip_id=92306, duration=249, start_date=datetime.datetime(2013, 11, 11, 18, 20), start_station='Mountain View City Hall', start_terminal=27, end_date=datetime.datetime(2013, 11, 11, 18, 25), end_station='Mountain View Caltrain Station', end_terminal='28', bike_id=77, subscription_type='Subscriber', zip_code='94040'),\n",
       "  Trip(trip_id=93244, duration=247, start_date=datetime.datetime(2013, 11, 12, 14, 3), start_station='Mountain View City Hall', start_terminal=27, end_date=datetime.datetime(2013, 11, 12, 14, 7), end_station='Mountain View Caltrain Station', end_terminal='28', bike_id=717, subscription_type='Subscriber', zip_code='94107'),\n",
       "  Trip(trip_id=93473, duration=241, start_date=datetime.datetime(2013, 11, 12, 16, 48), start_station='Mountain View City Hall', start_terminal=27, end_date=datetime.datetime(2013, 11, 12, 16, 52), end_station='Mountain View Caltrain Station', end_terminal='28', bike_id=197, subscription_type='Subscriber', zip_code='94107'),\n",
       "  Trip(trip_id=93511, duration=201, start_date=datetime.datetime(2013, 11, 12, 17, 0), start_station='Mountain View City Hall', start_terminal=27, end_date=datetime.datetime(2013, 11, 12, 17, 3), end_station='Mountain View Caltrain Station', end_terminal='28', bike_id=77, subscription_type='Subscriber', zip_code='95126'),\n",
       "  Trip(trip_id=93650, duration=267, start_date=datetime.datetime(2013, 11, 12, 17, 47), start_station='Mountain View City Hall', start_terminal=27, end_date=datetime.datetime(2013, 11, 12, 17, 51), end_station='Mountain View Caltrain Station', end_terminal='28', bike_id=36, subscription_type='Subscriber', zip_code='94107'),\n",
       "  Trip(trip_id=94041, duration=169, start_date=datetime.datetime(2013, 11, 13, 6, 53), start_station='Mountain View City Hall', start_terminal=27, end_date=datetime.datetime(2013, 11, 13, 6, 56), end_station='Mountain View Caltrain Station', end_terminal='28', bike_id=75, subscription_type='Subscriber', zip_code='94024'),\n",
       "  Trip(trip_id=94181, duration=212, start_date=datetime.datetime(2013, 11, 13, 8, 12), start_station='Mountain View City Hall', start_terminal=27, end_date=datetime.datetime(2013, 11, 13, 8, 15), end_station='Mountain View Caltrain Station', end_terminal='28', bike_id=77, subscription_type='Subscriber', zip_code='94041'),\n",
       "  Trip(trip_id=94796, duration=425, start_date=datetime.datetime(2013, 11, 13, 15, 56), start_station='Mountain View City Hall', start_terminal=27, end_date=datetime.datetime(2013, 11, 13, 16, 3), end_station='Mountain View Caltrain Station', end_terminal='28', bike_id=243, subscription_type='Subscriber', zip_code='94041'),\n",
       "  Trip(trip_id=94830, duration=222, start_date=datetime.datetime(2013, 11, 13, 16, 20), start_station='Mountain View City Hall', start_terminal=27, end_date=datetime.datetime(2013, 11, 13, 16, 23), end_station='Mountain View Caltrain Station', end_terminal='28', bike_id=190, subscription_type='Subscriber', zip_code='94107'),\n",
       "  Trip(trip_id=94891, duration=230, start_date=datetime.datetime(2013, 11, 13, 16, 46), start_station='Mountain View City Hall', start_terminal=27, end_date=datetime.datetime(2013, 11, 13, 16, 50), end_station='Mountain View Caltrain Station', end_terminal='28', bike_id=75, subscription_type='Subscriber', zip_code='94123'),\n",
       "  Trip(trip_id=95000, duration=273, start_date=datetime.datetime(2013, 11, 13, 17, 28), start_station='Mountain View City Hall', start_terminal=27, end_date=datetime.datetime(2013, 11, 13, 17, 33), end_station='Mountain View Caltrain Station', end_terminal='28', bike_id=36, subscription_type='Subscriber', zip_code='94107'),\n",
       "  Trip(trip_id=95044, duration=201, start_date=datetime.datetime(2013, 11, 13, 17, 40), start_station='Mountain View City Hall', start_terminal=27, end_date=datetime.datetime(2013, 11, 13, 17, 44), end_station='Mountain View Caltrain Station', end_terminal='28', bike_id=197, subscription_type='Subscriber', zip_code='94040'),\n",
       "  Trip(trip_id=95414, duration=162, start_date=datetime.datetime(2013, 11, 14, 7, 1), start_station='Mountain View City Hall', start_terminal=27, end_date=datetime.datetime(2013, 11, 14, 7, 4), end_station='Mountain View Caltrain Station', end_terminal='28', bike_id=77, subscription_type='Subscriber', zip_code='94024'),\n",
       "  Trip(trip_id=95471, duration=251, start_date=datetime.datetime(2013, 11, 14, 7, 41), start_station='Mountain View City Hall', start_terminal=27, end_date=datetime.datetime(2013, 11, 14, 7, 45), end_station='Mountain View Caltrain Station', end_terminal='28', bike_id=689, subscription_type='Subscriber', zip_code='94041'),\n",
       "  Trip(trip_id=96364, duration=216, start_date=datetime.datetime(2013, 11, 14, 16, 49), start_station='Mountain View City Hall', start_terminal=27, end_date=datetime.datetime(2013, 11, 14, 16, 52), end_station='Mountain View Caltrain Station', end_terminal='28', bike_id=77, subscription_type='Subscriber', zip_code='94107'),\n",
       "  Trip(trip_id=96456, duration=249, start_date=datetime.datetime(2013, 11, 14, 17, 27), start_station='Mountain View City Hall', start_terminal=27, end_date=datetime.datetime(2013, 11, 14, 17, 31), end_station='Mountain View Caltrain Station', end_terminal='28', bike_id=36, subscription_type='Subscriber', zip_code='94107'),\n",
       "  Trip(trip_id=96781, duration=197, start_date=datetime.datetime(2013, 11, 14, 21, 39), start_station='Mountain View City Hall', start_terminal=27, end_date=datetime.datetime(2013, 11, 14, 21, 43), end_station='Mountain View Caltrain Station', end_terminal='28', bike_id=36, subscription_type='Subscriber', zip_code='94114'),\n",
       "  Trip(trip_id=96873, duration=178, start_date=datetime.datetime(2013, 11, 15, 7, 16), start_station='Mountain View City Hall', start_terminal=27, end_date=datetime.datetime(2013, 11, 15, 7, 19), end_station='Mountain View Caltrain Station', end_terminal='28', bike_id=698, subscription_type='Subscriber', zip_code='94041'),\n",
       "  Trip(trip_id=97421, duration=24297, start_date=datetime.datetime(2013, 11, 15, 12, 22), start_station='Mountain View City Hall', start_terminal=27, end_date=datetime.datetime(2013, 11, 15, 19, 7), end_station='Mountain View City Hall', end_terminal='27', bike_id=253, subscription_type='Customer', zip_code=''),\n",
       "  Trip(trip_id=97811, duration=213, start_date=datetime.datetime(2013, 11, 15, 16, 47), start_station='Mountain View City Hall', start_terminal=27, end_date=datetime.datetime(2013, 11, 15, 16, 50), end_station='Mountain View Caltrain Station', end_terminal='28', bike_id=190, subscription_type='Subscriber', zip_code='94107'),\n",
       "  Trip(trip_id=97878, duration=264, start_date=datetime.datetime(2013, 11, 15, 17, 18), start_station='Mountain View City Hall', start_terminal=27, end_date=datetime.datetime(2013, 11, 15, 17, 22), end_station='Mountain View Caltrain Station', end_terminal='28', bike_id=715, subscription_type='Subscriber', zip_code='94110'),\n",
       "  Trip(trip_id=98022, duration=241, start_date=datetime.datetime(2013, 11, 15, 18, 25), start_station='Mountain View City Hall', start_terminal=27, end_date=datetime.datetime(2013, 11, 15, 18, 29), end_station='Mountain View Caltrain Station', end_terminal='28', bike_id=103, subscription_type='Subscriber', zip_code='94107'),\n",
       "  Trip(trip_id=98023, duration=275, start_date=datetime.datetime(2013, 11, 15, 18, 26), start_station='Mountain View City Hall', start_terminal=27, end_date=datetime.datetime(2013, 11, 15, 18, 30), end_station='Mountain View Caltrain Station', end_terminal='28', bike_id=689, subscription_type='Subscriber', zip_code='94158'),\n",
       "  Trip(trip_id=99033, duration=434, start_date=datetime.datetime(2013, 11, 17, 12, 13), start_station='Mountain View City Hall', start_terminal=27, end_date=datetime.datetime(2013, 11, 17, 12, 21), end_station='Mountain View Caltrain Station', end_terminal='28', bike_id=717, subscription_type='Subscriber', zip_code='94041'),\n",
       "  Trip(trip_id=99219, duration=528, start_date=datetime.datetime(2013, 11, 17, 15, 37), start_station='Mountain View City Hall', start_terminal=27, end_date=datetime.datetime(2013, 11, 17, 15, 46), end_station='Mountain View Caltrain Station', end_terminal='28', bike_id=681, subscription_type='Customer', zip_code='98103'),\n",
       "  Trip(trip_id=99743, duration=227, start_date=datetime.datetime(2013, 11, 18, 8, 51), start_station='Mountain View City Hall', start_terminal=27, end_date=datetime.datetime(2013, 11, 18, 8, 55), end_station='Mountain View Caltrain Station', end_terminal='28', bike_id=308, subscription_type='Subscriber', zip_code='94024'),\n",
       "  Trip(trip_id=100437, duration=331, start_date=datetime.datetime(2013, 11, 18, 17, 53), start_station='Mountain View City Hall', start_terminal=27, end_date=datetime.datetime(2013, 11, 18, 17, 59), end_station='Mountain View Caltrain Station', end_terminal='28', bike_id=308, subscription_type='Subscriber', zip_code='94107'),\n",
       "  Trip(trip_id=100516, duration=254, start_date=datetime.datetime(2013, 11, 18, 18, 26), start_station='Mountain View City Hall', start_terminal=27, end_date=datetime.datetime(2013, 11, 18, 18, 30), end_station='Mountain View Caltrain Station', end_terminal='28', bike_id=60, subscription_type='Subscriber', zip_code='94158'),\n",
       "  Trip(trip_id=100561, duration=186, start_date=datetime.datetime(2013, 11, 18, 18, 50), start_station='Mountain View City Hall', start_terminal=27, end_date=datetime.datetime(2013, 11, 18, 18, 53), end_station='Mountain View Caltrain Station', end_terminal='28', bike_id=177, subscription_type='Subscriber', zip_code='94114'),\n",
       "  Trip(trip_id=100726, duration=234, start_date=datetime.datetime(2013, 11, 18, 22, 40), start_station='Mountain View City Hall', start_terminal=27, end_date=datetime.datetime(2013, 11, 18, 22, 44), end_station='Mountain View Caltrain Station', end_terminal='28', bike_id=647, subscription_type='Subscriber', zip_code='94401'),\n",
       "  Trip(trip_id=100818, duration=151, start_date=datetime.datetime(2013, 11, 19, 7, 16), start_station='Mountain View City Hall', start_terminal=27, end_date=datetime.datetime(2013, 11, 19, 7, 18), end_station='Mountain View Caltrain Station', end_terminal='28', bike_id=717, subscription_type='Subscriber', zip_code='94024'),\n",
       "  Trip(trip_id=101476, duration=239, start_date=datetime.datetime(2013, 11, 19, 16, 26), start_station='Mountain View City Hall', start_terminal=27, end_date=datetime.datetime(2013, 11, 19, 16, 30), end_station='Mountain View Caltrain Station', end_terminal='28', bike_id=218, subscription_type='Subscriber', zip_code='94107'),\n",
       "  Trip(trip_id=101667, duration=295, start_date=datetime.datetime(2013, 11, 19, 18, 27), start_station='Mountain View City Hall', start_terminal=27, end_date=datetime.datetime(2013, 11, 19, 18, 32), end_station='Mountain View Caltrain Station', end_terminal='28', bike_id=308, subscription_type='Subscriber', zip_code='94158'),\n",
       "  Trip(trip_id=101700, duration=295, start_date=datetime.datetime(2013, 11, 19, 18, 59), start_station='Mountain View City Hall', start_terminal=27, end_date=datetime.datetime(2013, 11, 19, 19, 4), end_station='Mountain View Caltrain Station', end_terminal='28', bike_id=177, subscription_type='Subscriber', zip_code='94401'),\n",
       "  Trip(trip_id=102179, duration=200, start_date=datetime.datetime(2013, 11, 20, 16, 26), start_station='Mountain View City Hall', start_terminal=27, end_date=datetime.datetime(2013, 11, 20, 16, 30), end_station='Mountain View Caltrain Station', end_terminal='28', bike_id=16, subscription_type='Subscriber', zip_code='94107'),\n",
       "  Trip(trip_id=102233, duration=211, start_date=datetime.datetime(2013, 11, 20, 16, 56), start_station='Mountain View City Hall', start_terminal=27, end_date=datetime.datetime(2013, 11, 20, 17, 0), end_station='Mountain View Caltrain Station', end_terminal='28', bike_id=308, subscription_type='Subscriber', zip_code='95126'),\n",
       "  Trip(trip_id=102288, duration=253, start_date=datetime.datetime(2013, 11, 20, 17, 30), start_station='Mountain View City Hall', start_terminal=27, end_date=datetime.datetime(2013, 11, 20, 17, 34), end_station='Mountain View Caltrain Station', end_terminal='28', bike_id=717, subscription_type='Subscriber', zip_code='94040'),\n",
       "  Trip(trip_id=102311, duration=219, start_date=datetime.datetime(2013, 11, 20, 17, 39), start_station='Mountain View City Hall', start_terminal=27, end_date=datetime.datetime(2013, 11, 20, 17, 42), end_station='Mountain View Caltrain Station', end_terminal='28', bike_id=681, subscription_type='Subscriber', zip_code='94107'),\n",
       "  Trip(trip_id=102394, duration=504, start_date=datetime.datetime(2013, 11, 20, 18, 16), start_station='Mountain View City Hall', start_terminal=27, end_date=datetime.datetime(2013, 11, 20, 18, 25), end_station='Rengstorff Avenue / California Street', end_terminal='33', bike_id=218, subscription_type='Subscriber', zip_code='94043'),\n",
       "  Trip(trip_id=102494, duration=252, start_date=datetime.datetime(2013, 11, 20, 19, 42), start_station='Mountain View City Hall', start_terminal=27, end_date=datetime.datetime(2013, 11, 20, 19, 46), end_station='Mountain View Caltrain Station', end_terminal='28', bike_id=715, subscription_type='Subscriber', zip_code='94158'),\n",
       "  Trip(trip_id=102922, duration=203, start_date=datetime.datetime(2013, 11, 21, 8, 54), start_station='Mountain View City Hall', start_terminal=27, end_date=datetime.datetime(2013, 11, 21, 8, 58), end_station='Mountain View Caltrain Station', end_terminal='28', bike_id=52, subscription_type='Subscriber', zip_code='94024'),\n",
       "  Trip(trip_id=103560, duration=199, start_date=datetime.datetime(2013, 11, 21, 16, 57), start_station='Mountain View City Hall', start_terminal=27, end_date=datetime.datetime(2013, 11, 21, 17, 0), end_station='Mountain View Caltrain Station', end_terminal='28', bike_id=177, subscription_type='Subscriber', zip_code='95126'),\n",
       "  Trip(trip_id=103635, duration=240, start_date=datetime.datetime(2013, 11, 21, 17, 28), start_station='Mountain View City Hall', start_terminal=27, end_date=datetime.datetime(2013, 11, 21, 17, 32), end_station='Mountain View Caltrain Station', end_terminal='28', bike_id=681, subscription_type='Subscriber', zip_code='94107'),\n",
       "  Trip(trip_id=103644, duration=210, start_date=datetime.datetime(2013, 11, 21, 17, 31), start_station='Mountain View City Hall', start_terminal=27, end_date=datetime.datetime(2013, 11, 21, 17, 34), end_station='Mountain View Caltrain Station', end_terminal='28', bike_id=55, subscription_type='Subscriber', zip_code='94040'),\n",
       "  Trip(trip_id=103779, duration=237, start_date=datetime.datetime(2013, 11, 21, 18, 30), start_station='Mountain View City Hall', start_terminal=27, end_date=datetime.datetime(2013, 11, 21, 18, 34), end_station='Mountain View Caltrain Station', end_terminal='28', bike_id=648, subscription_type='Subscriber', zip_code='94158'),\n",
       "  Trip(trip_id=103935, duration=196, start_date=datetime.datetime(2013, 11, 21, 20, 41), start_station='Mountain View City Hall', start_terminal=27, end_date=datetime.datetime(2013, 11, 21, 20, 45), end_station='Mountain View Caltrain Station', end_terminal='28', bike_id=148, subscription_type='Subscriber', zip_code='94114'),\n",
       "  Trip(trip_id=104197, duration=261, start_date=datetime.datetime(2013, 11, 22, 8, 18), start_station='Mountain View City Hall', start_terminal=27, end_date=datetime.datetime(2013, 11, 22, 8, 23), end_station='Mountain View Caltrain Station', end_terminal='28', bike_id=243, subscription_type='Subscriber', zip_code='94041'),\n",
       "  Trip(trip_id=104657, duration=731, start_date=datetime.datetime(2013, 11, 22, 12, 49), start_station='Mountain View City Hall', start_terminal=27, end_date=datetime.datetime(2013, 11, 22, 13, 1), end_station='Evelyn Park and Ride', end_terminal='30', bike_id=717, subscription_type='Subscriber', zip_code='95051'),\n",
       "  Trip(trip_id=104660, duration=363, start_date=datetime.datetime(2013, 11, 22, 12, 52), start_station='Mountain View City Hall', start_terminal=27, end_date=datetime.datetime(2013, 11, 22, 12, 58), end_station='Mountain View Caltrain Station', end_terminal='28', bike_id=52, subscription_type='Subscriber', zip_code='95032'),\n",
       "  Trip(trip_id=104898, duration=189, start_date=datetime.datetime(2013, 11, 22, 16, 26), start_station='Mountain View City Hall', start_terminal=27, end_date=datetime.datetime(2013, 11, 22, 16, 29), end_station='Mountain View Caltrain Station', end_terminal='28', bike_id=16, subscription_type='Subscriber', zip_code='94107'),\n",
       "  Trip(trip_id=104946, duration=274, start_date=datetime.datetime(2013, 11, 22, 16, 49), start_station='Mountain View City Hall', start_terminal=27, end_date=datetime.datetime(2013, 11, 22, 16, 54), end_station='Mountain View Caltrain Station', end_terminal='28', bike_id=148, subscription_type='Subscriber', zip_code='94040'),\n",
       "  Trip(trip_id=105044, duration=242, start_date=datetime.datetime(2013, 11, 22, 17, 27), start_station='Mountain View City Hall', start_terminal=27, end_date=datetime.datetime(2013, 11, 22, 17, 31), end_station='Mountain View Caltrain Station', end_terminal='28', bike_id=254, subscription_type='Subscriber', zip_code='94107'),\n",
       "  Trip(trip_id=105658, duration=1243, start_date=datetime.datetime(2013, 11, 23, 12, 31), start_station='Mountain View City Hall', start_terminal=27, end_date=datetime.datetime(2013, 11, 23, 12, 52), end_station='Mountain View City Hall', end_terminal='27', bike_id=695, subscription_type='Subscriber', zip_code='94044'),\n",
       "  Trip(trip_id=106986, duration=178, start_date=datetime.datetime(2013, 11, 25, 10, 22), start_station='Mountain View City Hall', start_terminal=27, end_date=datetime.datetime(2013, 11, 25, 10, 25), end_station='Mountain View Caltrain Station', end_terminal='28', bike_id=36, subscription_type='Subscriber', zip_code='94024'),\n",
       "  Trip(trip_id=107486, duration=202, start_date=datetime.datetime(2013, 11, 25, 16, 58), start_station='Mountain View City Hall', start_terminal=27, end_date=datetime.datetime(2013, 11, 25, 17, 1), end_station='Mountain View Caltrain Station', end_terminal='28', bike_id=16, subscription_type='Subscriber', zip_code='95126'),\n",
       "  Trip(trip_id=107563, duration=292, start_date=datetime.datetime(2013, 11, 25, 17, 24), start_station='Mountain View City Hall', start_terminal=27, end_date=datetime.datetime(2013, 11, 25, 17, 29), end_station='Mountain View Caltrain Station', end_terminal='28', bike_id=136, subscription_type='Subscriber', zip_code='94103'),\n",
       "  Trip(trip_id=107599, duration=244, start_date=datetime.datetime(2013, 11, 25, 17, 35), start_station='Mountain View City Hall', start_terminal=27, end_date=datetime.datetime(2013, 11, 25, 17, 39), end_station='Mountain View Caltrain Station', end_terminal='28', bike_id=44, subscription_type='Subscriber', zip_code='94107'),\n",
       "  Trip(trip_id=107660, duration=223, start_date=datetime.datetime(2013, 11, 25, 17, 56), start_station='Mountain View City Hall', start_terminal=27, end_date=datetime.datetime(2013, 11, 25, 17, 59), end_station='Mountain View Caltrain Station', end_terminal='28', bike_id=244, subscription_type='Subscriber', zip_code='94040'),\n",
       "  Trip(trip_id=107734, duration=227, start_date=datetime.datetime(2013, 11, 25, 18, 30), start_station='Mountain View City Hall', start_terminal=27, end_date=datetime.datetime(2013, 11, 25, 18, 34), end_station='Mountain View Caltrain Station', end_terminal='28', bike_id=679, subscription_type='Subscriber', zip_code='94158'),\n",
       "  Trip(trip_id=107968, duration=187, start_date=datetime.datetime(2013, 11, 26, 6, 17), start_station='Mountain View City Hall', start_terminal=27, end_date=datetime.datetime(2013, 11, 26, 6, 20), end_station='Mountain View Caltrain Station', end_terminal='28', bike_id=44, subscription_type='Subscriber', zip_code='94024'),\n",
       "  Trip(trip_id=108225, duration=232, start_date=datetime.datetime(2013, 11, 26, 8, 54), start_station='Mountain View City Hall', start_terminal=27, end_date=datetime.datetime(2013, 11, 26, 8, 57), end_station='Mountain View Caltrain Station', end_terminal='28', bike_id=98, subscription_type='Subscriber', zip_code='95032'),\n",
       "  Trip(trip_id=108459, duration=308, start_date=datetime.datetime(2013, 11, 26, 10, 57), start_station='Mountain View City Hall', start_terminal=27, end_date=datetime.datetime(2013, 11, 26, 11, 2), end_station='Mountain View Caltrain Station', end_terminal='28', bike_id=698, subscription_type='Subscriber', zip_code='94040'),\n",
       "  Trip(trip_id=108736, duration=797, start_date=datetime.datetime(2013, 11, 26, 15, 44), start_station='Mountain View City Hall', start_terminal=27, end_date=datetime.datetime(2013, 11, 26, 15, 57), end_station='Evelyn Park and Ride', end_terminal='30', bike_id=136, subscription_type='Customer', zip_code='94040'),\n",
       "  Trip(trip_id=109113, duration=237, start_date=datetime.datetime(2013, 11, 26, 18, 49), start_station='Mountain View City Hall', start_terminal=27, end_date=datetime.datetime(2013, 11, 26, 18, 53), end_station='Mountain View Caltrain Station', end_terminal='28', bike_id=16, subscription_type='Subscriber', zip_code='94107'),\n",
       "  Trip(trip_id=109171, duration=245, start_date=datetime.datetime(2013, 11, 26, 19, 41), start_station='Mountain View City Hall', start_terminal=27, end_date=datetime.datetime(2013, 11, 26, 19, 45), end_station='Mountain View Caltrain Station', end_terminal='28', bike_id=16, subscription_type='Subscriber', zip_code='94158'),\n",
       "  Trip(trip_id=109903, duration=166, start_date=datetime.datetime(2013, 11, 27, 16, 8), start_station='Mountain View City Hall', start_terminal=27, end_date=datetime.datetime(2013, 11, 27, 16, 11), end_station='Mountain View Caltrain Station', end_terminal='28', bike_id=146, subscription_type='Subscriber', zip_code='95126'),\n",
       "  Trip(trip_id=109942, duration=223, start_date=datetime.datetime(2013, 11, 27, 16, 33), start_station='Mountain View City Hall', start_terminal=27, end_date=datetime.datetime(2013, 11, 27, 16, 36), end_station='Mountain View Caltrain Station', end_terminal='28', bike_id=206, subscription_type='Subscriber', zip_code='94111'),\n",
       "  Trip(trip_id=110030, duration=279, start_date=datetime.datetime(2013, 11, 27, 17, 24), start_station='Mountain View City Hall', start_terminal=27, end_date=datetime.datetime(2013, 11, 27, 17, 29), end_station='Mountain View Caltrain Station', end_terminal='28', bike_id=698, subscription_type='Subscriber', zip_code='94107'),\n",
       "  Trip(trip_id=110032, duration=265, start_date=datetime.datetime(2013, 11, 27, 17, 27), start_station='Mountain View City Hall', start_terminal=27, end_date=datetime.datetime(2013, 11, 27, 17, 31), end_station='Mountain View Caltrain Station', end_terminal='28', bike_id=16, subscription_type='Subscriber', zip_code='94158'),\n",
       "  Trip(trip_id=110231, duration=786, start_date=datetime.datetime(2013, 11, 28, 8, 49), start_station='Mountain View City Hall', start_terminal=27, end_date=datetime.datetime(2013, 11, 28, 9, 2), end_station='Mountain View Caltrain Station', end_terminal='28', bike_id=44, subscription_type='Subscriber', zip_code='94041'),\n",
       "  Trip(trip_id=110379, duration=1029, start_date=datetime.datetime(2013, 11, 28, 14, 18), start_station='Mountain View City Hall', start_terminal=27, end_date=datetime.datetime(2013, 11, 28, 14, 35), end_station='Rengstorff Avenue / California Street', end_terminal='33', bike_id=102, subscription_type='Customer', zip_code=''),\n",
       "  Trip(trip_id=110497, duration=179, start_date=datetime.datetime(2013, 11, 28, 18, 52), start_station='Mountain View City Hall', start_terminal=27, end_date=datetime.datetime(2013, 11, 28, 18, 55), end_station='Mountain View Caltrain Station', end_terminal='28', bike_id=93, subscription_type='Subscriber', zip_code='94103'),\n",
       "  Trip(trip_id=110654, duration=17498, start_date=datetime.datetime(2013, 11, 29, 10, 32), start_station='Mountain View City Hall', start_terminal=27, end_date=datetime.datetime(2013, 11, 29, 15, 24), end_station='Mountain View City Hall', end_terminal='27', bike_id=241, subscription_type='Customer', zip_code='92861'),\n",
       "  Trip(trip_id=110656, duration=17453, start_date=datetime.datetime(2013, 11, 29, 10, 33), start_station='Mountain View City Hall', start_terminal=27, end_date=datetime.datetime(2013, 11, 29, 15, 24), end_station='Mountain View City Hall', end_terminal='27', bike_id=27, subscription_type='Customer', zip_code='92861'),\n",
       "  Trip(trip_id=110657, duration=17362, start_date=datetime.datetime(2013, 11, 29, 10, 34), start_station='Mountain View City Hall', start_terminal=27, end_date=datetime.datetime(2013, 11, 29, 15, 24), end_station='Mountain View City Hall', end_terminal='27', bike_id=177, subscription_type='Customer', zip_code='22206'),\n",
       "  Trip(trip_id=110777, duration=2699, start_date=datetime.datetime(2013, 11, 29, 13, 35), start_station='Mountain View City Hall', start_terminal=27, end_date=datetime.datetime(2013, 11, 29, 14, 20), end_station='Mountain View Caltrain Station', end_terminal='28', bike_id=715, subscription_type='Customer', zip_code='94041'),\n",
       "  Trip(trip_id=111970, duration=174, start_date=datetime.datetime(2013, 12, 2, 5, 51), start_station='Mountain View City Hall', start_terminal=27, end_date=datetime.datetime(2013, 12, 2, 5, 54), end_station='Mountain View Caltrain Station', end_terminal='28', bike_id=52, subscription_type='Subscriber', zip_code='94024'),\n",
       "  Trip(trip_id=112028, duration=182, start_date=datetime.datetime(2013, 12, 2, 7, 14), start_station='Mountain View City Hall', start_terminal=27, end_date=datetime.datetime(2013, 12, 2, 7, 17), end_station='Mountain View Caltrain Station', end_terminal='28', bike_id=55, subscription_type='Subscriber', zip_code='94041'),\n",
       "  Trip(trip_id=112652, duration=624, start_date=datetime.datetime(2013, 12, 2, 15, 48), start_station='Mountain View City Hall', start_terminal=27, end_date=datetime.datetime(2013, 12, 2, 15, 58), end_station='San Antonio Caltrain Station', end_terminal='29', bike_id=688, subscription_type='Subscriber', zip_code='94114'),\n",
       "  Trip(trip_id=112754, duration=268, start_date=datetime.datetime(2013, 12, 2, 16, 48), start_station='Mountain View City Hall', start_terminal=27, end_date=datetime.datetime(2013, 12, 2, 16, 52), end_station='Mountain View Caltrain Station', end_terminal='28', bike_id=55, subscription_type='Subscriber', zip_code='94107'),\n",
       "  Trip(trip_id=112760, duration=782, start_date=datetime.datetime(2013, 12, 2, 16, 51), start_station='Mountain View City Hall', start_terminal=27, end_date=datetime.datetime(2013, 12, 2, 17, 4), end_station='San Antonio Caltrain Station', end_terminal='29', bike_id=78, subscription_type='Subscriber', zip_code='94025'),\n",
       "  Trip(trip_id=112877, duration=304, start_date=datetime.datetime(2013, 12, 2, 17, 29), start_station='Mountain View City Hall', start_terminal=27, end_date=datetime.datetime(2013, 12, 2, 17, 34), end_station='Mountain View Caltrain Station', end_terminal='28', bike_id=52, subscription_type='Subscriber', zip_code='94158'),\n",
       "  Trip(trip_id=112972, duration=257, start_date=datetime.datetime(2013, 12, 2, 18, 21), start_station='Mountain View City Hall', start_terminal=27, end_date=datetime.datetime(2013, 12, 2, 18, 26), end_station='Mountain View Caltrain Station', end_terminal='28', bike_id=16, subscription_type='Subscriber', zip_code='94123'),\n",
       "  Trip(trip_id=113175, duration=150, start_date=datetime.datetime(2013, 12, 3, 5, 52), start_station='Mountain View City Hall', start_terminal=27, end_date=datetime.datetime(2013, 12, 3, 5, 55), end_station='Mountain View Caltrain Station', end_terminal='28', bike_id=177, subscription_type='Subscriber', zip_code='94024'),\n",
       "  Trip(trip_id=113217, duration=170, start_date=datetime.datetime(2013, 12, 3, 7, 19), start_station='Mountain View City Hall', start_terminal=27, end_date=datetime.datetime(2013, 12, 3, 7, 22), end_station='Mountain View Caltrain Station', end_terminal='28', bike_id=243, subscription_type='Subscriber', zip_code='94041'),\n",
       "  Trip(trip_id=113723, duration=223, start_date=datetime.datetime(2013, 12, 3, 12, 18), start_station='Mountain View City Hall', start_terminal=27, end_date=datetime.datetime(2013, 12, 3, 12, 22), end_station='Mountain View Caltrain Station', end_terminal='28', bike_id=129, subscription_type='Subscriber', zip_code='95035'),\n",
       "  Trip(trip_id=113816, duration=323, start_date=datetime.datetime(2013, 12, 3, 14, 29), start_station='Mountain View City Hall', start_terminal=27, end_date=datetime.datetime(2013, 12, 3, 14, 34), end_station='Mountain View Caltrain Station', end_terminal='28', bike_id=52, subscription_type='Subscriber', zip_code='94107'),\n",
       "  Trip(trip_id=113980, duration=182, start_date=datetime.datetime(2013, 12, 3, 16, 49), start_station='Mountain View City Hall', start_terminal=27, end_date=datetime.datetime(2013, 12, 3, 16, 52), end_station='Mountain View Caltrain Station', end_terminal='28', bike_id=160, subscription_type='Subscriber', zip_code='94107'),\n",
       "  Trip(trip_id=114097, duration=247, start_date=datetime.datetime(2013, 12, 3, 17, 38), start_station='Mountain View City Hall', start_terminal=27, end_date=datetime.datetime(2013, 12, 3, 17, 42), end_station='Mountain View Caltrain Station', end_terminal='28', bike_id=177, subscription_type='Subscriber', zip_code='94107'),\n",
       "  Trip(trip_id=114250, duration=227, start_date=datetime.datetime(2013, 12, 3, 18, 51), start_station='Mountain View City Hall', start_terminal=27, end_date=datetime.datetime(2013, 12, 3, 18, 55), end_station='Mountain View Caltrain Station', end_terminal='28', bike_id=294, subscription_type='Subscriber', zip_code='94123'),\n",
       "  Trip(trip_id=114299, duration=223, start_date=datetime.datetime(2013, 12, 3, 19, 24), start_station='Mountain View City Hall', start_terminal=27, end_date=datetime.datetime(2013, 12, 3, 19, 28), end_station='Mountain View Caltrain Station', end_terminal='28', bike_id=698, subscription_type='Subscriber', zip_code='94040'),\n",
       "  Trip(trip_id=115212, duration=251, start_date=datetime.datetime(2013, 12, 4, 16, 25), start_station='Mountain View City Hall', start_terminal=27, end_date=datetime.datetime(2013, 12, 4, 16, 30), end_station='Mountain View Caltrain Station', end_terminal='28', bike_id=294, subscription_type='Subscriber', zip_code='94107'),\n",
       "  Trip(trip_id=115221, duration=209, start_date=datetime.datetime(2013, 12, 4, 16, 30), start_station='Mountain View City Hall', start_terminal=27, end_date=datetime.datetime(2013, 12, 4, 16, 33), end_station='Mountain View Caltrain Station', end_terminal='28', bike_id=177, subscription_type='Subscriber', zip_code='94401'),\n",
       "  Trip(trip_id=115292, duration=167, start_date=datetime.datetime(2013, 12, 4, 17, 2), start_station='Mountain View City Hall', start_terminal=27, end_date=datetime.datetime(2013, 12, 4, 17, 5), end_station='Mountain View Caltrain Station', end_terminal='28', bike_id=55, subscription_type='Subscriber', zip_code='95126'),\n",
       "  Trip(trip_id=115294, duration=283, start_date=datetime.datetime(2013, 12, 4, 17, 3), start_station='Mountain View City Hall', start_terminal=27, end_date=datetime.datetime(2013, 12, 4, 17, 7), end_station='Mountain View Caltrain Station', end_terminal='28', bike_id=126, subscription_type='Subscriber', zip_code='94042'),\n",
       "  Trip(trip_id=115390, duration=199, start_date=datetime.datetime(2013, 12, 4, 17, 40), start_station='Mountain View City Hall', start_terminal=27, end_date=datetime.datetime(2013, 12, 4, 17, 43), end_station='Mountain View Caltrain Station', end_terminal='28', bike_id=223, subscription_type='Subscriber', zip_code='94107'),\n",
       "  Trip(trip_id=115503, duration=254, start_date=datetime.datetime(2013, 12, 4, 18, 31), start_station='Mountain View City Hall', start_terminal=27, end_date=datetime.datetime(2013, 12, 4, 18, 36), end_station='Mountain View Caltrain Station', end_terminal='28', bike_id=648, subscription_type='Subscriber', zip_code='94158'),\n",
       "  Trip(trip_id=115845, duration=206, start_date=datetime.datetime(2013, 12, 5, 7, 16), start_station='Mountain View City Hall', start_terminal=27, end_date=datetime.datetime(2013, 12, 5, 7, 19), end_station='Mountain View Caltrain Station', end_terminal='28', bike_id=209, subscription_type='Subscriber', zip_code='94024'),\n",
       "  Trip(trip_id=116367, duration=682, start_date=datetime.datetime(2013, 12, 5, 12, 12), start_station='Mountain View City Hall', start_terminal=27, end_date=datetime.datetime(2013, 12, 5, 12, 23), end_station='Mountain View Caltrain Station', end_terminal='28', bike_id=16, subscription_type='Subscriber', zip_code='94041'),\n",
       "  Trip(trip_id=116616, duration=179, start_date=datetime.datetime(2013, 12, 5, 16, 29), start_station='Mountain View City Hall', start_terminal=27, end_date=datetime.datetime(2013, 12, 5, 16, 32), end_station='Mountain View Caltrain Station', end_terminal='28', bike_id=184, subscription_type='Subscriber', zip_code='94107'),\n",
       "  Trip(trip_id=116777, duration=221, start_date=datetime.datetime(2013, 12, 5, 17, 40), start_station='Mountain View City Hall', start_terminal=27, end_date=datetime.datetime(2013, 12, 5, 17, 44), end_station='Mountain View Caltrain Station', end_terminal='28', bike_id=223, subscription_type='Subscriber', zip_code='94107'),\n",
       "  Trip(trip_id=116874, duration=422, start_date=datetime.datetime(2013, 12, 5, 18, 21), start_station='Mountain View City Hall', start_terminal=27, end_date=datetime.datetime(2013, 12, 5, 18, 28), end_station='Mountain View Caltrain Station', end_terminal='28', bike_id=55, subscription_type='Subscriber', zip_code='94158'),\n",
       "  Trip(trip_id=118053, duration=1339, start_date=datetime.datetime(2013, 12, 6, 20, 46), start_station='Mountain View City Hall', start_terminal=27, end_date=datetime.datetime(2013, 12, 6, 21, 8), end_station='Mountain View City Hall', end_terminal='27', bike_id=27, subscription_type='Customer', zip_code=''),\n",
       "  Trip(trip_id=118562, duration=419, start_date=datetime.datetime(2013, 12, 8, 9, 58), start_station='Mountain View City Hall', start_terminal=27, end_date=datetime.datetime(2013, 12, 8, 10, 5), end_station='Mountain View Caltrain Station', end_terminal='28', bike_id=686, subscription_type='Subscriber', zip_code='94041'),\n",
       "  Trip(trip_id=118589, duration=747, start_date=datetime.datetime(2013, 12, 8, 10, 50), start_station='Mountain View City Hall', start_terminal=27, end_date=datetime.datetime(2013, 12, 8, 11, 3), end_station='Mountain View City Hall', end_terminal='27', bike_id=27, subscription_type='Subscriber', zip_code='94043'),\n",
       "  Trip(trip_id=118827, duration=1863, start_date=datetime.datetime(2013, 12, 8, 18, 19), start_station='Mountain View City Hall', start_terminal=27, end_date=datetime.datetime(2013, 12, 8, 18, 50), end_station='Rengstorff Avenue / California Street', end_terminal='33', bike_id=102, subscription_type='Customer', zip_code='98109'),\n",
       "  Trip(trip_id=119019, duration=317, start_date=datetime.datetime(2013, 12, 9, 8, 14), start_station='Mountain View City Hall', start_terminal=27, end_date=datetime.datetime(2013, 12, 9, 8, 20), end_station='Mountain View Caltrain Station', end_terminal='28', bike_id=206, subscription_type='Subscriber', zip_code='94041'),\n",
       "  Trip(trip_id=119473, duration=598, start_date=datetime.datetime(2013, 12, 9, 14, 15), start_station='Mountain View City Hall', start_terminal=27, end_date=datetime.datetime(2013, 12, 9, 14, 25), end_station='Evelyn Park and Ride', end_terminal='30', bike_id=686, subscription_type='Subscriber', zip_code='95112'),\n",
       "  Trip(trip_id=119717, duration=283, start_date=datetime.datetime(2013, 12, 9, 17, 25), start_station='Mountain View City Hall', start_terminal=27, end_date=datetime.datetime(2013, 12, 9, 17, 30), end_station='Mountain View Caltrain Station', end_terminal='28', bike_id=55, subscription_type='Subscriber', zip_code='94107'),\n",
       "  Trip(trip_id=119759, duration=216, start_date=datetime.datetime(2013, 12, 9, 17, 45), start_station='Mountain View City Hall', start_terminal=27, end_date=datetime.datetime(2013, 12, 9, 17, 49), end_station='Mountain View Caltrain Station', end_terminal='28', bike_id=163, subscription_type='Subscriber', zip_code='94040'),\n",
       "  Trip(trip_id=119835, duration=323, start_date=datetime.datetime(2013, 12, 9, 18, 27), start_station='Mountain View City Hall', start_terminal=27, end_date=datetime.datetime(2013, 12, 9, 18, 32), end_station='Mountain View Caltrain Station', end_terminal='28', bike_id=206, subscription_type='Subscriber', zip_code='94158'),\n",
       "  Trip(trip_id=119837, duration=362, start_date=datetime.datetime(2013, 12, 9, 18, 27), start_station='Mountain View City Hall', start_terminal=27, end_date=datetime.datetime(2013, 12, 9, 18, 33), end_station='Mountain View Caltrain Station', end_terminal='28', bike_id=102, subscription_type='Subscriber', zip_code='94123'),\n",
       "  Trip(trip_id=119989, duration=200, start_date=datetime.datetime(2013, 12, 9, 20, 41), start_station='Mountain View City Hall', start_terminal=27, end_date=datetime.datetime(2013, 12, 9, 20, 45), end_station='Mountain View Caltrain Station', end_terminal='28', bike_id=98, subscription_type='Subscriber', zip_code='94401'),\n",
       "  Trip(trip_id=120857, duration=207, start_date=datetime.datetime(2013, 12, 10, 16, 28), start_station='Mountain View City Hall', start_terminal=27, end_date=datetime.datetime(2013, 12, 10, 16, 31), end_station='Mountain View Caltrain Station', end_terminal='28', bike_id=686, subscription_type='Subscriber', zip_code='94040'),\n",
       "  Trip(trip_id=120860, duration=185, start_date=datetime.datetime(2013, 12, 10, 16, 29), start_station='Mountain View City Hall', start_terminal=27, end_date=datetime.datetime(2013, 12, 10, 16, 32), end_station='Mountain View Caltrain Station', end_terminal='28', bike_id=44, subscription_type='Subscriber', zip_code='94107'),\n",
       "  Trip(trip_id=120973, duration=248, start_date=datetime.datetime(2013, 12, 10, 17, 28), start_station='Mountain View City Hall', start_terminal=27, end_date=datetime.datetime(2013, 12, 10, 17, 32), end_station='Mountain View Caltrain Station', end_terminal='28', bike_id=55, subscription_type='Subscriber', zip_code='94107'),\n",
       "  Trip(trip_id=121146, duration=262, start_date=datetime.datetime(2013, 12, 10, 18, 58), start_station='Mountain View City Hall', start_terminal=27, end_date=datetime.datetime(2013, 12, 10, 19, 2), end_station='Mountain View Caltrain Station', end_terminal='28', bike_id=191, subscription_type='Subscriber', zip_code='94158'),\n",
       "  Trip(trip_id=121212, duration=214, start_date=datetime.datetime(2013, 12, 10, 19, 44), start_station='Mountain View City Hall', start_terminal=27, end_date=datetime.datetime(2013, 12, 10, 19, 47), end_station='Mountain View Caltrain Station', end_terminal='28', bike_id=16, subscription_type='Subscriber', zip_code='94401'),\n",
       "  Trip(trip_id=121232, duration=671, start_date=datetime.datetime(2013, 12, 10, 20, 5), start_station='Mountain View City Hall', start_terminal=27, end_date=datetime.datetime(2013, 12, 10, 20, 17), end_station='Rengstorff Avenue / California Street', end_terminal='33', bike_id=93, subscription_type='Subscriber', zip_code='94040'),\n",
       "  Trip(trip_id=121481, duration=287, start_date=datetime.datetime(2013, 12, 11, 8, 14), start_station='Mountain View City Hall', start_terminal=27, end_date=datetime.datetime(2013, 12, 11, 8, 19), end_station='Mountain View Caltrain Station', end_terminal='28', bike_id=15, subscription_type='Subscriber', zip_code='94041'),\n",
       "  Trip(trip_id=121572, duration=202, start_date=datetime.datetime(2013, 12, 11, 8, 52), start_station='Mountain View City Hall', start_terminal=27, end_date=datetime.datetime(2013, 12, 11, 8, 55), end_station='Mountain View Caltrain Station', end_terminal='28', bike_id=59, subscription_type='Subscriber', zip_code='94024'),\n",
       "  Trip(trip_id=121986, duration=191, start_date=datetime.datetime(2013, 12, 11, 14, 41), start_station='Mountain View City Hall', start_terminal=27, end_date=datetime.datetime(2013, 12, 11, 14, 45), end_station='Mountain View Caltrain Station', end_terminal='28', bike_id=98, subscription_type='Subscriber', zip_code='94117'),\n",
       "  Trip(trip_id=122140, duration=214, start_date=datetime.datetime(2013, 12, 11, 16, 47), start_station='Mountain View City Hall', start_terminal=27, end_date=datetime.datetime(2013, 12, 11, 16, 51), end_station='Mountain View Caltrain Station', end_terminal='28', bike_id=196, subscription_type='Subscriber', zip_code='94107'),\n",
       "  Trip(trip_id=122205, duration=203, start_date=datetime.datetime(2013, 12, 11, 17, 14), start_station='Mountain View City Hall', start_terminal=27, end_date=datetime.datetime(2013, 12, 11, 17, 17), end_station='Mountain View Caltrain Station', end_terminal='28', bike_id=16, subscription_type='Subscriber', zip_code='94040'),\n",
       "  Trip(trip_id=122597, duration=184, start_date=datetime.datetime(2013, 12, 12, 7, 3), start_station='Mountain View City Hall', start_terminal=27, end_date=datetime.datetime(2013, 12, 12, 7, 6), end_station='Mountain View Caltrain Station', end_terminal='28', bike_id=59, subscription_type='Subscriber', zip_code='94041'),\n",
       "  Trip(trip_id=122697, duration=171, start_date=datetime.datetime(2013, 12, 12, 7, 53), start_station='Mountain View City Hall', start_terminal=27, end_date=datetime.datetime(2013, 12, 12, 7, 56), end_station='Mountain View Caltrain Station', end_terminal='28', bike_id=163, subscription_type='Subscriber', zip_code='94024'),\n",
       "  Trip(trip_id=123423, duration=198, start_date=datetime.datetime(2013, 12, 12, 16, 27), start_station='Mountain View City Hall', start_terminal=27, end_date=datetime.datetime(2013, 12, 12, 16, 30), end_station='Mountain View Caltrain Station', end_terminal='28', bike_id=683, subscription_type='Subscriber', zip_code='94107'),\n",
       "  Trip(trip_id=123458, duration=213, start_date=datetime.datetime(2013, 12, 12, 16, 43), start_station='Mountain View City Hall', start_terminal=27, end_date=datetime.datetime(2013, 12, 12, 16, 46), end_station='Mountain View Caltrain Station', end_terminal='28', bike_id=102, subscription_type='Subscriber', zip_code='94103'),\n",
       "  Trip(trip_id=123481, duration=345, start_date=datetime.datetime(2013, 12, 12, 16, 49), start_station='Mountain View City Hall', start_terminal=27, end_date=datetime.datetime(2013, 12, 12, 16, 55), end_station='Mountain View Caltrain Station', end_terminal='28', bike_id=126, subscription_type='Customer', zip_code='94110'),\n",
       "  Trip(trip_id=123560, duration=249, start_date=datetime.datetime(2013, 12, 12, 17, 27), start_station='Mountain View City Hall', start_terminal=27, end_date=datetime.datetime(2013, 12, 12, 17, 31), end_station='Mountain View Caltrain Station', end_terminal='28', bike_id=196, subscription_type='Subscriber', zip_code='94107'),\n",
       "  Trip(trip_id=123679, duration=226, start_date=datetime.datetime(2013, 12, 12, 18, 24), start_station='Mountain View City Hall', start_terminal=27, end_date=datetime.datetime(2013, 12, 12, 18, 27), end_station='Mountain View Caltrain Station', end_terminal='28', bike_id=196, subscription_type='Subscriber', zip_code='94040'),\n",
       "  Trip(trip_id=123825, duration=195, start_date=datetime.datetime(2013, 12, 12, 20, 45), start_station='Mountain View City Hall', start_terminal=27, end_date=datetime.datetime(2013, 12, 12, 20, 48), end_station='Mountain View Caltrain Station', end_terminal='28', bike_id=241, subscription_type='Subscriber', zip_code='94158'),\n",
       "  Trip(trip_id=123846, duration=2243, start_date=datetime.datetime(2013, 12, 12, 21, 21), start_station='Mountain View City Hall', start_terminal=27, end_date=datetime.datetime(2013, 12, 12, 21, 58), end_station='Mountain View City Hall', end_terminal='27', bike_id=191, subscription_type='Customer', zip_code='10011'),\n",
       "  Trip(trip_id=124018, duration=187, start_date=datetime.datetime(2013, 12, 13, 7, 56), start_station='Mountain View City Hall', start_terminal=27, end_date=datetime.datetime(2013, 12, 13, 8, 0), end_station='Mountain View Caltrain Station', end_terminal='28', bike_id=55, subscription_type='Subscriber', zip_code='94041'),\n",
       "  Trip(trip_id=124766, duration=174, start_date=datetime.datetime(2013, 12, 13, 15, 59), start_station='Mountain View City Hall', start_terminal=27, end_date=datetime.datetime(2013, 12, 13, 16, 2), end_station='Mountain View Caltrain Station', end_terminal='28', bike_id=244, subscription_type='Subscriber', zip_code='94114'),\n",
       "  Trip(trip_id=124929, duration=236, start_date=datetime.datetime(2013, 12, 13, 17, 15), start_station='Mountain View City Hall', start_terminal=27, end_date=datetime.datetime(2013, 12, 13, 17, 19), end_station='Mountain View Caltrain Station', end_terminal='28', bike_id=126, subscription_type='Subscriber', zip_code='94107'),\n",
       "  Trip(trip_id=125120, duration=303, start_date=datetime.datetime(2013, 12, 13, 18, 55), start_station='Mountain View City Hall', start_terminal=27, end_date=datetime.datetime(2013, 12, 13, 19, 0), end_station='Mountain View Caltrain Station', end_terminal='28', bike_id=693, subscription_type='Subscriber', zip_code='94158'),\n",
       "  Trip(trip_id=126028, duration=297, start_date=datetime.datetime(2013, 12, 15, 10, 38), start_station='Mountain View City Hall', start_terminal=27, end_date=datetime.datetime(2013, 12, 15, 10, 43), end_station='Mountain View Caltrain Station', end_terminal='28', bike_id=713, subscription_type='Subscriber', zip_code='94041'),\n",
       "  Trip(trip_id=126208, duration=664, start_date=datetime.datetime(2013, 12, 15, 14, 53), start_station='Mountain View City Hall', start_terminal=27, end_date=datetime.datetime(2013, 12, 15, 15, 4), end_station='Rengstorff Avenue / California Street', end_terminal='33', bike_id=223, subscription_type='Subscriber', zip_code='94041'),\n",
       "  Trip(trip_id=127244, duration=279, start_date=datetime.datetime(2013, 12, 16, 16, 24), start_station='Mountain View City Hall', start_terminal=27, end_date=datetime.datetime(2013, 12, 16, 16, 28), end_station='Mountain View Caltrain Station', end_terminal='28', bike_id=293, subscription_type='Subscriber', zip_code='94114'),\n",
       "  Trip(trip_id=127247, duration=228, start_date=datetime.datetime(2013, 12, 16, 16, 27), start_station='Mountain View City Hall', start_terminal=27, end_date=datetime.datetime(2013, 12, 16, 16, 31), end_station='Mountain View Caltrain Station', end_terminal='28', bike_id=126, subscription_type='Subscriber', zip_code='94107'),\n",
       "  Trip(trip_id=127274, duration=187, start_date=datetime.datetime(2013, 12, 16, 16, 40), start_station='Mountain View City Hall', start_terminal=27, end_date=datetime.datetime(2013, 12, 16, 16, 43), end_station='Mountain View Caltrain Station', end_terminal='28', bike_id=656, subscription_type='Subscriber', zip_code='94103'),\n",
       "  Trip(trip_id=127380, duration=348, start_date=datetime.datetime(2013, 12, 16, 17, 19), start_station='Mountain View City Hall', start_terminal=27, end_date=datetime.datetime(2013, 12, 16, 17, 25), end_station='Mountain View Caltrain Station', end_terminal='28', bike_id=244, subscription_type='Subscriber', zip_code='94123'),\n",
       "  Trip(trip_id=127397, duration=237, start_date=datetime.datetime(2013, 12, 16, 17, 28), start_station='Mountain View City Hall', start_terminal=27, end_date=datetime.datetime(2013, 12, 16, 17, 32), end_station='Mountain View Caltrain Station', end_terminal='28', bike_id=692, subscription_type='Subscriber', zip_code='94107'),\n",
       "  Trip(trip_id=127546, duration=224, start_date=datetime.datetime(2013, 12, 16, 18, 32), start_station='Mountain View City Hall', start_terminal=27, end_date=datetime.datetime(2013, 12, 16, 18, 35), end_station='Mountain View Caltrain Station', end_terminal='28', bike_id=682, subscription_type='Subscriber', zip_code='94158'),\n",
       "  Trip(trip_id=127615, duration=465, start_date=datetime.datetime(2013, 12, 16, 19, 11), start_station='Mountain View City Hall', start_terminal=27, end_date=datetime.datetime(2013, 12, 16, 19, 19), end_station='Evelyn Park and Ride', end_terminal='30', bike_id=136, subscription_type='Subscriber', zip_code='94043'),\n",
       "  Trip(trip_id=127993, duration=307, start_date=datetime.datetime(2013, 12, 17, 8, 14), start_station='Mountain View City Hall', start_terminal=27, end_date=datetime.datetime(2013, 12, 17, 8, 20), end_station='Mountain View Caltrain Station', end_terminal='28', bike_id=675, subscription_type='Subscriber', zip_code='94041'),\n",
       "  Trip(trip_id=128680, duration=237, start_date=datetime.datetime(2013, 12, 17, 16, 29), start_station='Mountain View City Hall', start_terminal=27, end_date=datetime.datetime(2013, 12, 17, 16, 33), end_station='Mountain View Caltrain Station', end_terminal='28', bike_id=243, subscription_type='Subscriber', zip_code='94158'),\n",
       "  Trip(trip_id=128699, duration=208, start_date=datetime.datetime(2013, 12, 17, 16, 41), start_station='Mountain View City Hall', start_terminal=27, end_date=datetime.datetime(2013, 12, 17, 16, 44), end_station='Mountain View Caltrain Station', end_terminal='28', bike_id=16, subscription_type='Subscriber', zip_code='94103'),\n",
       "  Trip(trip_id=129198, duration=179, start_date=datetime.datetime(2013, 12, 18, 6, 52), start_station='Mountain View City Hall', start_terminal=27, end_date=datetime.datetime(2013, 12, 18, 6, 55), end_station='Mountain View Caltrain Station', end_terminal='28', bike_id=682, subscription_type='Subscriber', zip_code='94024'),\n",
       "  Trip(trip_id=129334, duration=251, start_date=datetime.datetime(2013, 12, 18, 8, 11), start_station='Mountain View City Hall', start_terminal=27, end_date=datetime.datetime(2013, 12, 18, 8, 16), end_station='Mountain View Caltrain Station', end_terminal='28', bike_id=675, subscription_type='Subscriber', zip_code='94041'),\n",
       "  Trip(trip_id=130016, duration=220, start_date=datetime.datetime(2013, 12, 18, 16, 20), start_station='Mountain View City Hall', start_terminal=27, end_date=datetime.datetime(2013, 12, 18, 16, 24), end_station='Mountain View Caltrain Station', end_terminal='28', bike_id=233, subscription_type='Subscriber', zip_code='94103'),\n",
       "  Trip(trip_id=130053, duration=203, start_date=datetime.datetime(2013, 12, 18, 16, 49), start_station='Mountain View City Hall', start_terminal=27, end_date=datetime.datetime(2013, 12, 18, 16, 52), end_station='Mountain View Caltrain Station', end_terminal='28', bike_id=126, subscription_type='Subscriber', zip_code='94107'),\n",
       "  Trip(trip_id=130274, duration=197, start_date=datetime.datetime(2013, 12, 18, 18, 46), start_station='Mountain View City Hall', start_terminal=27, end_date=datetime.datetime(2013, 12, 18, 18, 50), end_station='Mountain View Caltrain Station', end_terminal='28', bike_id=715, subscription_type='Subscriber', zip_code='94114'),\n",
       "  Trip(trip_id=130375, duration=256, start_date=datetime.datetime(2013, 12, 18, 20, 41), start_station='Mountain View City Hall', start_terminal=27, end_date=datetime.datetime(2013, 12, 18, 20, 46), end_station='Mountain View Caltrain Station', end_terminal='28', bike_id=656, subscription_type='Subscriber', zip_code='94040'),\n",
       "  Trip(trip_id=130377, duration=228, start_date=datetime.datetime(2013, 12, 18, 20, 42), start_station='Mountain View City Hall', start_terminal=27, end_date=datetime.datetime(2013, 12, 18, 20, 46), end_station='Mountain View Caltrain Station', end_terminal='28', bike_id=136, subscription_type='Subscriber', zip_code='94158'),\n",
       "  Trip(trip_id=130428, duration=189, start_date=datetime.datetime(2013, 12, 19, 5, 51), start_station='Mountain View City Hall', start_terminal=27, end_date=datetime.datetime(2013, 12, 19, 5, 54), end_station='Mountain View Caltrain Station', end_terminal='28', bike_id=714, subscription_type='Subscriber', zip_code='94024'),\n",
       "  Trip(trip_id=131077, duration=384, start_date=datetime.datetime(2013, 12, 19, 14, 10), start_station='Mountain View City Hall', start_terminal=27, end_date=datetime.datetime(2013, 12, 19, 14, 16), end_station='Mountain View Caltrain Station', end_terminal='28', bike_id=98, subscription_type='Subscriber', zip_code='94123'),\n",
       "  Trip(trip_id=131212, duration=204, start_date=datetime.datetime(2013, 12, 19, 16, 16), start_station='Mountain View City Hall', start_terminal=27, end_date=datetime.datetime(2013, 12, 19, 16, 20), end_station='Mountain View Caltrain Station', end_terminal='28', bike_id=715, subscription_type='Subscriber', zip_code='94107'),\n",
       "  Trip(trip_id=131556, duration=211, start_date=datetime.datetime(2013, 12, 19, 19, 4), start_station='Mountain View City Hall', start_terminal=27, end_date=datetime.datetime(2013, 12, 19, 19, 8), end_station='Mountain View Caltrain Station', end_terminal='28', bike_id=681, subscription_type='Subscriber', zip_code='94401'),\n",
       "  Trip(trip_id=131641, duration=232, start_date=datetime.datetime(2013, 12, 19, 21, 45), start_station='Mountain View City Hall', start_terminal=27, end_date=datetime.datetime(2013, 12, 19, 21, 48), end_station='Mountain View Caltrain Station', end_terminal='28', bike_id=679, subscription_type='Subscriber', zip_code='94158'),\n",
       "  Trip(trip_id=131653, duration=233, start_date=datetime.datetime(2013, 12, 19, 22, 39), start_station='Mountain View City Hall', start_terminal=27, end_date=datetime.datetime(2013, 12, 19, 22, 43), end_station='Mountain View Caltrain Station', end_terminal='28', bike_id=656, subscription_type='Subscriber', zip_code='94158'),\n",
       "  Trip(trip_id=131781, duration=265, start_date=datetime.datetime(2013, 12, 20, 8, 14), start_station='Mountain View City Hall', start_terminal=27, end_date=datetime.datetime(2013, 12, 20, 8, 19), end_station='Mountain View Caltrain Station', end_terminal='28', bike_id=715, subscription_type='Subscriber', zip_code='94041'),\n",
       "  Trip(trip_id=132418, duration=210, start_date=datetime.datetime(2013, 12, 20, 16, 19), start_station='Mountain View City Hall', start_terminal=27, end_date=datetime.datetime(2013, 12, 20, 16, 22), end_station='Mountain View Caltrain Station', end_terminal='28', bike_id=656, subscription_type='Subscriber', zip_code='94103'),\n",
       "  Trip(trip_id=132481, duration=183, start_date=datetime.datetime(2013, 12, 20, 16, 49), start_station='Mountain View City Hall', start_terminal=27, end_date=datetime.datetime(2013, 12, 20, 16, 52), end_station='Mountain View Caltrain Station', end_terminal='28', bike_id=144, subscription_type='Subscriber', zip_code='94107'),\n",
       "  Trip(trip_id=132568, duration=265, start_date=datetime.datetime(2013, 12, 20, 17, 29), start_station='Mountain View City Hall', start_terminal=27, end_date=datetime.datetime(2013, 12, 20, 17, 33), end_station='Mountain View Caltrain Station', end_terminal='28', bike_id=714, subscription_type='Subscriber', zip_code='94107'),\n",
       "  Trip(trip_id=132674, duration=312, start_date=datetime.datetime(2013, 12, 20, 18, 33), start_station='Mountain View City Hall', start_terminal=27, end_date=datetime.datetime(2013, 12, 20, 18, 38), end_station='Mountain View Caltrain Station', end_terminal='28', bike_id=136, subscription_type='Subscriber', zip_code='94158'),\n",
       "  Trip(trip_id=133428, duration=342, start_date=datetime.datetime(2013, 12, 22, 10, 56), start_station='Mountain View City Hall', start_terminal=27, end_date=datetime.datetime(2013, 12, 22, 11, 2), end_station='Mountain View Caltrain Station', end_terminal='28', bike_id=223, subscription_type='Subscriber', zip_code='94041'),\n",
       "  Trip(trip_id=134407, duration=1772, start_date=datetime.datetime(2013, 12, 23, 16, 11), start_station='Mountain View City Hall', start_terminal=27, end_date=datetime.datetime(2013, 12, 23, 16, 40), end_station='Rengstorff Avenue / California Street', end_terminal='33', bike_id=198, subscription_type='Subscriber', zip_code='94040'),\n",
       "  Trip(trip_id=134633, duration=287, start_date=datetime.datetime(2013, 12, 23, 18, 58), start_station='Mountain View City Hall', start_terminal=27, end_date=datetime.datetime(2013, 12, 23, 19, 3), end_station='Mountain View Caltrain Station', end_terminal='28', bike_id=126, subscription_type='Subscriber', zip_code='94158'),\n",
       "  Trip(trip_id=134649, duration=1955, start_date=datetime.datetime(2013, 12, 23, 19, 24), start_station='Mountain View City Hall', start_terminal=27, end_date=datetime.datetime(2013, 12, 23, 19, 56), end_station='Rengstorff Avenue / California Street', end_terminal='33', bike_id=26, subscription_type='Customer', zip_code='94040'),\n",
       "  Trip(trip_id=135437, duration=663, start_date=datetime.datetime(2013, 12, 25, 14, 50), start_station='Mountain View City Hall', start_terminal=27, end_date=datetime.datetime(2013, 12, 25, 15, 1), end_station='Mountain View City Hall', end_terminal='27', bike_id=16, subscription_type='Customer', zip_code='94040'),\n",
       "  Trip(trip_id=135481, duration=1394, start_date=datetime.datetime(2013, 12, 25, 15, 28), start_station='Mountain View City Hall', start_terminal=27, end_date=datetime.datetime(2013, 12, 25, 15, 51), end_station='Rengstorff Avenue / California Street', end_terminal='33', bike_id=16, subscription_type='Customer', zip_code='94040'),\n",
       "  Trip(trip_id=135482, duration=1374, start_date=datetime.datetime(2013, 12, 25, 15, 28), start_station='Mountain View City Hall', start_terminal=27, end_date=datetime.datetime(2013, 12, 25, 15, 51), end_station='Rengstorff Avenue / California Street', end_terminal='33', bike_id=46, subscription_type='Customer', zip_code='94040'),\n",
       "  Trip(trip_id=135530, duration=698, start_date=datetime.datetime(2013, 12, 25, 16, 7), start_station='Mountain View City Hall', start_terminal=27, end_date=datetime.datetime(2013, 12, 25, 16, 19), end_station='San Antonio Caltrain Station', end_terminal='29', bike_id=85, subscription_type='Subscriber', zip_code='94040'),\n",
       "  Trip(trip_id=135714, duration=220, start_date=datetime.datetime(2013, 12, 26, 7, 47), start_station='Mountain View City Hall', start_terminal=27, end_date=datetime.datetime(2013, 12, 26, 7, 51), end_station='Mountain View Caltrain Station', end_terminal='28', bike_id=161, subscription_type='Subscriber', zip_code='94024'),\n",
       "  Trip(trip_id=137166, duration=1390, start_date=datetime.datetime(2013, 12, 28, 13, 37), start_station='Mountain View City Hall', start_terminal=27, end_date=datetime.datetime(2013, 12, 28, 14, 0), end_station='San Antonio Caltrain Station', end_terminal='29', bike_id=12, subscription_type='Subscriber', zip_code='94040'),\n",
       "  Trip(trip_id=137343, duration=1212, start_date=datetime.datetime(2013, 12, 28, 16, 42), start_station='Mountain View City Hall', start_terminal=27, end_date=datetime.datetime(2013, 12, 28, 17, 2), end_station='Rengstorff Avenue / California Street', end_terminal='33', bike_id=217, subscription_type='Customer', zip_code='10014'),\n",
       "  Trip(trip_id=137344, duration=1218, start_date=datetime.datetime(2013, 12, 28, 16, 42), start_station='Mountain View City Hall', start_terminal=27, end_date=datetime.datetime(2013, 12, 28, 17, 2), end_station='Rengstorff Avenue / California Street', end_terminal='33', bike_id=26, subscription_type='Customer', zip_code='10014'),\n",
       "  Trip(trip_id=137559, duration=77361, start_date=datetime.datetime(2013, 12, 29, 10, 29), start_station='Mountain View City Hall', start_terminal=27, end_date=datetime.datetime(2013, 12, 30, 7, 58), end_station='Mountain View Caltrain Station', end_terminal='28', bike_id=206, subscription_type='Subscriber', zip_code='94041'),\n",
       "  Trip(trip_id=137998, duration=157, start_date=datetime.datetime(2013, 12, 30, 6, 52), start_station='Mountain View City Hall', start_terminal=27, end_date=datetime.datetime(2013, 12, 30, 6, 55), end_station='Mountain View Caltrain Station', end_terminal='28', bike_id=714, subscription_type='Subscriber', zip_code='94024'),\n",
       "  Trip(trip_id=138280, duration=1466, start_date=datetime.datetime(2013, 12, 30, 12, 13), start_station='Mountain View City Hall', start_terminal=27, end_date=datetime.datetime(2013, 12, 30, 12, 37), end_station='Mountain View Caltrain Station', end_terminal='28', bike_id=681, subscription_type='Customer', zip_code='94041'),\n",
       "  Trip(trip_id=138726, duration=90, start_date=datetime.datetime(2013, 12, 30, 18, 49), start_station='Mountain View City Hall', start_terminal=27, end_date=datetime.datetime(2013, 12, 30, 18, 50), end_station='Mountain View City Hall', end_terminal='27', bike_id=79, subscription_type='Subscriber', zip_code='95112'),\n",
       "  Trip(trip_id=140014, duration=49605, start_date=datetime.datetime(2014, 1, 2, 1, 47), start_station='Mountain View City Hall', start_terminal=27, end_date=datetime.datetime(2014, 1, 2, 15, 34), end_station='Mountain View City Hall', end_terminal='27', bike_id=196, subscription_type='Customer', zip_code='94041'),\n",
       "  Trip(trip_id=140349, duration=16135, start_date=datetime.datetime(2014, 1, 2, 10, 8), start_station='Mountain View City Hall', start_terminal=27, end_date=datetime.datetime(2014, 1, 2, 14, 37), end_station='Mountain View City Hall', end_terminal='27', bike_id=679, subscription_type='Customer', zip_code=''),\n",
       "  Trip(trip_id=140626, duration=11432, start_date=datetime.datetime(2014, 1, 2, 15, 27), start_station='Mountain View City Hall', start_terminal=27, end_date=datetime.datetime(2014, 1, 2, 18, 37), end_station='Mountain View City Hall', end_terminal='27', bike_id=233, subscription_type='Customer', zip_code='95050'),\n",
       "  Trip(trip_id=140628, duration=11408, start_date=datetime.datetime(2014, 1, 2, 15, 27), start_station='Mountain View City Hall', start_terminal=27, end_date=datetime.datetime(2014, 1, 2, 18, 37), end_station='Mountain View City Hall', end_terminal='27', bike_id=679, subscription_type='Customer', zip_code='95050'),\n",
       "  Trip(trip_id=140715, duration=69, start_date=datetime.datetime(2014, 1, 2, 16, 25), start_station='Mountain View City Hall', start_terminal=27, end_date=datetime.datetime(2014, 1, 2, 16, 26), end_station='Mountain View City Hall', end_terminal='27', bike_id=98, subscription_type='Subscriber', zip_code='94102'),\n",
       "  Trip(trip_id=140720, duration=408, start_date=datetime.datetime(2014, 1, 2, 16, 27), start_station='Mountain View City Hall', start_terminal=27, end_date=datetime.datetime(2014, 1, 2, 16, 34), end_station='Mountain View Caltrain Station', end_terminal='28', bike_id=27, subscription_type='Subscriber', zip_code='94102'),\n",
       "  Trip(trip_id=140764, duration=205, start_date=datetime.datetime(2014, 1, 2, 16, 40), start_station='Mountain View City Hall', start_terminal=27, end_date=datetime.datetime(2014, 1, 2, 16, 44), end_station='Mountain View Caltrain Station', end_terminal='28', bike_id=87, subscription_type='Subscriber', zip_code='94103'),\n",
       "  Trip(trip_id=140915, duration=230, start_date=datetime.datetime(2014, 1, 2, 17, 52), start_station='Mountain View City Hall', start_terminal=27, end_date=datetime.datetime(2014, 1, 2, 17, 56), end_station='Mountain View Caltrain Station', end_terminal='28', bike_id=144, subscription_type='Subscriber', zip_code='94107'),\n",
       "  Trip(trip_id=141003, duration=199, start_date=datetime.datetime(2014, 1, 2, 18, 31), start_station='Mountain View City Hall', start_terminal=27, end_date=datetime.datetime(2014, 1, 2, 18, 34), end_station='Mountain View Caltrain Station', end_terminal='28', bike_id=714, subscription_type='Subscriber', zip_code='94158'),\n",
       "  Trip(trip_id=141043, duration=214, start_date=datetime.datetime(2014, 1, 2, 19, 4), start_station='Mountain View City Hall', start_terminal=27, end_date=datetime.datetime(2014, 1, 2, 19, 7), end_station='Mountain View Caltrain Station', end_terminal='28', bike_id=196, subscription_type='Subscriber', zip_code='94401'),\n",
       "  Trip(trip_id=141142, duration=267, start_date=datetime.datetime(2014, 1, 3, 6, 2), start_station='Mountain View City Hall', start_terminal=27, end_date=datetime.datetime(2014, 1, 3, 6, 6), end_station='Mountain View Caltrain Station', end_terminal='28', bike_id=713, subscription_type='Subscriber', zip_code='94024'),\n",
       "  Trip(trip_id=141818, duration=207, start_date=datetime.datetime(2014, 1, 3, 15, 49), start_station='Mountain View City Hall', start_terminal=27, end_date=datetime.datetime(2014, 1, 3, 15, 52), end_station='Mountain View Caltrain Station', end_terminal='28', bike_id=87, subscription_type='Subscriber', zip_code='94103'),\n",
       "  Trip(trip_id=141895, duration=213, start_date=datetime.datetime(2014, 1, 3, 16, 30), start_station='Mountain View City Hall', start_terminal=27, end_date=datetime.datetime(2014, 1, 3, 16, 34), end_station='Mountain View Caltrain Station', end_terminal='28', bike_id=714, subscription_type='Customer', zip_code='94110'),\n",
       "  Trip(trip_id=142060, duration=239, start_date=datetime.datetime(2014, 1, 3, 17, 41), start_station='Mountain View City Hall', start_terminal=27, end_date=datetime.datetime(2014, 1, 3, 17, 45), end_station='Mountain View Caltrain Station', end_terminal='28', bike_id=638, subscription_type='Subscriber', zip_code='94107'),\n",
       "  Trip(trip_id=142155, duration=224, start_date=datetime.datetime(2014, 1, 3, 18, 31), start_station='Mountain View City Hall', start_terminal=27, end_date=datetime.datetime(2014, 1, 3, 18, 35), end_station='Mountain View Caltrain Station', end_terminal='28', bike_id=638, subscription_type='Subscriber', zip_code='94158'),\n",
       "  Trip(trip_id=142193, duration=236, start_date=datetime.datetime(2014, 1, 3, 19, 1), start_station='Mountain View City Hall', start_terminal=27, end_date=datetime.datetime(2014, 1, 3, 19, 5), end_station='Mountain View Caltrain Station', end_terminal='28', bike_id=682, subscription_type='Subscriber', zip_code='94401'),\n",
       "  Trip(trip_id=142205, duration=1726, start_date=datetime.datetime(2014, 1, 3, 19, 20), start_station='Mountain View City Hall', start_terminal=27, end_date=datetime.datetime(2014, 1, 3, 19, 48), end_station='Castro Street and El Camino Real', end_terminal='32', bike_id=713, subscription_type='Subscriber', zip_code='94041'),\n",
       "  Trip(trip_id=143092, duration=59026, start_date=datetime.datetime(2014, 1, 5, 17, 8), start_station='Mountain View City Hall', start_terminal=27, end_date=datetime.datetime(2014, 1, 6, 9, 32), end_station='Mountain View Caltrain Station', end_terminal='28', bike_id=679, subscription_type='Customer', zip_code='94041'),\n",
       "  Trip(trip_id=143165, duration=280, start_date=datetime.datetime(2014, 1, 5, 19, 59), start_station='Mountain View City Hall', start_terminal=27, end_date=datetime.datetime(2014, 1, 5, 20, 3), end_station='Mountain View Caltrain Station', end_terminal='28', bike_id=233, subscription_type='Subscriber', zip_code='94301'),\n",
       "  Trip(trip_id=144003, duration=234, start_date=datetime.datetime(2014, 1, 6, 16, 25), start_station='Mountain View City Hall', start_terminal=27, end_date=datetime.datetime(2014, 1, 6, 16, 29), end_station='Mountain View Caltrain Station', end_terminal='28', bike_id=295, subscription_type='Subscriber', zip_code='94107'),\n",
       "  Trip(trip_id=144044, duration=190, start_date=datetime.datetime(2014, 1, 6, 16, 41), start_station='Mountain View City Hall', start_terminal=27, end_date=datetime.datetime(2014, 1, 6, 16, 45), end_station='Mountain View Caltrain Station', end_terminal='28', bike_id=639, subscription_type='Subscriber', zip_code='94103'),\n",
       "  Trip(trip_id=144101, duration=191, start_date=datetime.datetime(2014, 1, 6, 17, 0), start_station='Mountain View City Hall', start_terminal=27, end_date=datetime.datetime(2014, 1, 6, 17, 3), end_station='Mountain View Caltrain Station', end_terminal='28', bike_id=144, subscription_type='Subscriber', zip_code='95126'),\n",
       "  Trip(trip_id=144249, duration=257, start_date=datetime.datetime(2014, 1, 6, 17, 51), start_station='Mountain View City Hall', start_terminal=27, end_date=datetime.datetime(2014, 1, 6, 17, 56), end_station='Mountain View Caltrain Station', end_terminal='28', bike_id=638, subscription_type='Subscriber', zip_code='94107'),\n",
       "  Trip(trip_id=144468, duration=640, start_date=datetime.datetime(2014, 1, 6, 20, 3), start_station='Mountain View City Hall', start_terminal=27, end_date=datetime.datetime(2014, 1, 6, 20, 14), end_station='San Antonio Caltrain Station', end_terminal='29', bike_id=53, subscription_type='Subscriber', zip_code='94040'),\n",
       "  Trip(trip_id=144540, duration=224, start_date=datetime.datetime(2014, 1, 7, 5, 50), start_station='Mountain View City Hall', start_terminal=27, end_date=datetime.datetime(2014, 1, 7, 5, 54), end_station='Mountain View Caltrain Station', end_terminal='28', bike_id=713, subscription_type='Subscriber', zip_code='94024'),\n",
       "  Trip(trip_id=144737, duration=263, start_date=datetime.datetime(2014, 1, 7, 8, 15), start_station='Mountain View City Hall', start_terminal=27, end_date=datetime.datetime(2014, 1, 7, 8, 20), end_station='Mountain View Caltrain Station', end_terminal='28', bike_id=134, subscription_type='Subscriber', zip_code='94041'),\n",
       "  Trip(trip_id=145105, duration=297, start_date=datetime.datetime(2014, 1, 7, 11, 15), start_station='Mountain View City Hall', start_terminal=27, end_date=datetime.datetime(2014, 1, 7, 11, 20), end_station='Mountain View Caltrain Station', end_terminal='28', bike_id=126, subscription_type='Subscriber', zip_code='94301'),\n",
       "  Trip(trip_id=145188, duration=416, start_date=datetime.datetime(2014, 1, 7, 12, 56), start_station='Mountain View City Hall', start_terminal=27, end_date=datetime.datetime(2014, 1, 7, 13, 3), end_station='Rengstorff Avenue / California Street', end_terminal='33', bike_id=16, subscription_type='Subscriber', zip_code='94110'),\n",
       "  Trip(trip_id=145292, duration=152, start_date=datetime.datetime(2014, 1, 7, 15, 32), start_station='Mountain View City Hall', start_terminal=27, end_date=datetime.datetime(2014, 1, 7, 15, 35), end_station='Mountain View City Hall', end_terminal='27', bike_id=136, subscription_type='Subscriber', zip_code='94105'),\n",
       "  Trip(trip_id=145300, duration=1049, start_date=datetime.datetime(2014, 1, 7, 15, 35), start_station='Mountain View City Hall', start_terminal=27, end_date=datetime.datetime(2014, 1, 7, 15, 53), end_station='Mountain View Caltrain Station', end_terminal='28', bike_id=16, subscription_type='Subscriber', zip_code='94105'),\n",
       "  Trip(trip_id=145306, duration=635, start_date=datetime.datetime(2014, 1, 7, 15, 40), start_station='Mountain View City Hall', start_terminal=27, end_date=datetime.datetime(2014, 1, 7, 15, 51), end_station='Mountain View Caltrain Station', end_terminal='28', bike_id=639, subscription_type='Subscriber', zip_code='94110'),\n",
       "  Trip(trip_id=145437, duration=218, start_date=datetime.datetime(2014, 1, 7, 16, 50), start_station='Mountain View City Hall', start_terminal=27, end_date=datetime.datetime(2014, 1, 7, 16, 53), end_station='Mountain View Caltrain Station', end_terminal='28', bike_id=132, subscription_type='Subscriber', zip_code='94107'),\n",
       "  Trip(trip_id=145467, duration=205, start_date=datetime.datetime(2014, 1, 7, 17, 1), start_station='Mountain View City Hall', start_terminal=27, end_date=datetime.datetime(2014, 1, 7, 17, 5), end_station='Mountain View Caltrain Station', end_terminal='28', bike_id=161, subscription_type='Subscriber', zip_code='95126'),\n",
       "  Trip(trip_id=145538, duration=231, start_date=datetime.datetime(2014, 1, 7, 17, 29), start_station='Mountain View City Hall', start_terminal=27, end_date=datetime.datetime(2014, 1, 7, 17, 33), end_station='Mountain View Caltrain Station', end_terminal='28', bike_id=656, subscription_type='Subscriber', zip_code='94107'),\n",
       "  Trip(trip_id=146000, duration=250, start_date=datetime.datetime(2014, 1, 8, 7, 59), start_station='Mountain View City Hall', start_terminal=27, end_date=datetime.datetime(2014, 1, 8, 8, 3), end_station='Mountain View Caltrain Station', end_terminal='28', bike_id=194, subscription_type='Subscriber', zip_code='94041'),\n",
       "  Trip(trip_id=146546, duration=784, start_date=datetime.datetime(2014, 1, 8, 13, 27), start_station='Mountain View City Hall', start_terminal=27, end_date=datetime.datetime(2014, 1, 8, 13, 40), end_station='Mountain View City Hall', end_terminal='27', bike_id=639, subscription_type='Subscriber', zip_code='94114'),\n",
       "  Trip(trip_id=146753, duration=206, start_date=datetime.datetime(2014, 1, 8, 17, 1), start_station='Mountain View City Hall', start_terminal=27, end_date=datetime.datetime(2014, 1, 8, 17, 4), end_station='Mountain View Caltrain Station', end_terminal='28', bike_id=639, subscription_type='Subscriber', zip_code='95126'),\n",
       "  Trip(trip_id=146783, duration=349, start_date=datetime.datetime(2014, 1, 8, 17, 13), start_station='Mountain View City Hall', start_terminal=27, end_date=datetime.datetime(2014, 1, 8, 17, 19), end_station='Mountain View Caltrain Station', end_terminal='28', bike_id=46, subscription_type='Subscriber', zip_code='94102'),\n",
       "  Trip(trip_id=146983, duration=244, start_date=datetime.datetime(2014, 1, 8, 18, 28), start_station='Mountain View City Hall', start_terminal=27, end_date=datetime.datetime(2014, 1, 8, 18, 32), end_station='Mountain View Caltrain Station', end_terminal='28', bike_id=682, subscription_type='Subscriber', zip_code='94158'),\n",
       "  Trip(trip_id=147242, duration=234, start_date=datetime.datetime(2014, 1, 9, 6, 51), start_station='Mountain View City Hall', start_terminal=27, end_date=datetime.datetime(2014, 1, 9, 6, 55), end_station='Mountain View Caltrain Station', end_terminal='28', bike_id=16, subscription_type='Subscriber', zip_code='94024'),\n",
       "  Trip(trip_id=147341, duration=221, start_date=datetime.datetime(2014, 1, 9, 8, 0), start_station='Mountain View City Hall', start_terminal=27, end_date=datetime.datetime(2014, 1, 9, 8, 4), end_station='Mountain View Caltrain Station', end_terminal='28', bike_id=16, subscription_type='Subscriber', zip_code='94041'),\n",
       "  Trip(trip_id=148399, duration=237, start_date=datetime.datetime(2014, 1, 9, 18, 22), start_station='Mountain View City Hall', start_terminal=27, end_date=datetime.datetime(2014, 1, 9, 18, 26), end_station='Mountain View Caltrain Station', end_terminal='28', bike_id=302, subscription_type='Subscriber', zip_code='94107'),\n",
       "  Trip(trip_id=148467, duration=236, start_date=datetime.datetime(2014, 1, 9, 19, 3), start_station='Mountain View City Hall', start_terminal=27, end_date=datetime.datetime(2014, 1, 9, 19, 7), end_station='Mountain View Caltrain Station', end_terminal='28', bike_id=102, subscription_type='Subscriber', zip_code='94158'),\n",
       "  Trip(trip_id=148912, duration=256, start_date=datetime.datetime(2014, 1, 10, 9, 2), start_station='Mountain View City Hall', start_terminal=27, end_date=datetime.datetime(2014, 1, 10, 9, 6), end_station='Mountain View Caltrain Station', end_terminal='28', bike_id=93, subscription_type='Subscriber', zip_code='94301'),\n",
       "  Trip(trip_id=149060, duration=679, start_date=datetime.datetime(2014, 1, 10, 10, 9), start_station='Mountain View City Hall', start_terminal=27, end_date=datetime.datetime(2014, 1, 10, 10, 20), end_station='Rengstorff Avenue / California Street', end_terminal='33', bike_id=134, subscription_type='Subscriber', zip_code='94041'),\n",
       "  Trip(trip_id=149488, duration=236, start_date=datetime.datetime(2014, 1, 10, 16, 26), start_station='Mountain View City Hall', start_terminal=27, end_date=datetime.datetime(2014, 1, 10, 16, 30), end_station='Mountain View Caltrain Station', end_terminal='28', bike_id=77, subscription_type='Subscriber', zip_code='94107'),\n",
       "  Trip(trip_id=149641, duration=223, start_date=datetime.datetime(2014, 1, 10, 17, 21), start_station='Mountain View City Hall', start_terminal=27, end_date=datetime.datetime(2014, 1, 10, 17, 25), end_station='Mountain View Caltrain Station', end_terminal='28', bike_id=53, subscription_type='Subscriber', zip_code='94107'),\n",
       "  Trip(trip_id=149824, duration=225, start_date=datetime.datetime(2014, 1, 10, 19, 4), start_station='Mountain View City Hall', start_terminal=27, end_date=datetime.datetime(2014, 1, 10, 19, 8), end_station='Mountain View Caltrain Station', end_terminal='28', bike_id=144, subscription_type='Subscriber', zip_code='94158'),\n",
       "  Trip(trip_id=150980, duration=232, start_date=datetime.datetime(2014, 1, 13, 8, 0), start_station='Mountain View City Hall', start_terminal=27, end_date=datetime.datetime(2014, 1, 13, 8, 4), end_station='Mountain View Caltrain Station', end_terminal='28', bike_id=31, subscription_type='Subscriber', zip_code='94041'),\n",
       "  Trip(trip_id=151210, duration=226, start_date=datetime.datetime(2014, 1, 13, 9, 17), start_station='Mountain View City Hall', start_terminal=27, end_date=datetime.datetime(2014, 1, 13, 9, 21), end_station='Mountain View Caltrain Station', end_terminal='28', bike_id=132, subscription_type='Subscriber', zip_code='94301'),\n",
       "  Trip(trip_id=151585, duration=636, start_date=datetime.datetime(2014, 1, 13, 14, 55), start_station='Mountain View City Hall', start_terminal=27, end_date=datetime.datetime(2014, 1, 13, 15, 5), end_station='Mountain View City Hall', end_terminal='27', bike_id=98, subscription_type='Customer', zip_code='94043'),\n",
       "  Trip(trip_id=151588, duration=444, start_date=datetime.datetime(2014, 1, 13, 14, 58), start_station='Mountain View City Hall', start_terminal=27, end_date=datetime.datetime(2014, 1, 13, 15, 5), end_station='Mountain View City Hall', end_terminal='27', bike_id=134, subscription_type='Customer', zip_code='94043'),\n",
       "  Trip(trip_id=151637, duration=1344, start_date=datetime.datetime(2014, 1, 13, 15, 50), start_station='Mountain View City Hall', start_terminal=27, end_date=datetime.datetime(2014, 1, 13, 16, 13), end_station='Evelyn Park and Ride', end_terminal='30', bike_id=134, subscription_type='Customer', zip_code='94043'),\n",
       "  Trip(trip_id=151639, duration=1340, start_date=datetime.datetime(2014, 1, 13, 15, 50), start_station='Mountain View City Hall', start_terminal=27, end_date=datetime.datetime(2014, 1, 13, 16, 13), end_station='Evelyn Park and Ride', end_terminal='30', bike_id=638, subscription_type='Customer', zip_code='94043'),\n",
       "  Trip(trip_id=151739, duration=193, start_date=datetime.datetime(2014, 1, 13, 16, 50), start_station='Mountain View City Hall', start_terminal=27, end_date=datetime.datetime(2014, 1, 13, 16, 53), end_station='Mountain View Caltrain Station', end_terminal='28', bike_id=31, subscription_type='Subscriber', zip_code='94107'),\n",
       "  Trip(trip_id=151765, duration=214, start_date=datetime.datetime(2014, 1, 13, 17, 2), start_station='Mountain View City Hall', start_terminal=27, end_date=datetime.datetime(2014, 1, 13, 17, 6), end_station='Mountain View Caltrain Station', end_terminal='28', bike_id=144, subscription_type='Subscriber', zip_code='95126'),\n",
       "  Trip(trip_id=151863, duration=236, start_date=datetime.datetime(2014, 1, 13, 17, 28), start_station='Mountain View City Hall', start_terminal=27, end_date=datetime.datetime(2014, 1, 13, 17, 32), end_station='Mountain View Caltrain Station', end_terminal='28', bike_id=250, subscription_type='Subscriber', zip_code='94107'),\n",
       "  Trip(trip_id=152113, duration=229, start_date=datetime.datetime(2014, 1, 13, 19, 38), start_station='Mountain View City Hall', start_terminal=27, end_date=datetime.datetime(2014, 1, 13, 19, 42), end_station='Mountain View Caltrain Station', end_terminal='28', bike_id=714, subscription_type='Subscriber', zip_code='94158'),\n",
       "  Trip(trip_id=152234, duration=172, start_date=datetime.datetime(2014, 1, 14, 4, 42), start_station='Mountain View City Hall', start_terminal=27, end_date=datetime.datetime(2014, 1, 14, 4, 45), end_station='Mountain View Caltrain Station', end_terminal='28', bike_id=206, subscription_type='Subscriber', zip_code='94024'),\n",
       "  Trip(trip_id=152424, duration=289, start_date=datetime.datetime(2014, 1, 14, 8, 9), start_station='Mountain View City Hall', start_terminal=27, end_date=datetime.datetime(2014, 1, 14, 8, 14), end_station='Mountain View Caltrain Station', end_terminal='28', bike_id=16, subscription_type='Subscriber', zip_code='94041'),\n",
       "  Trip(trip_id=152640, duration=252, start_date=datetime.datetime(2014, 1, 14, 9, 24), start_station='Mountain View City Hall', start_terminal=27, end_date=datetime.datetime(2014, 1, 14, 9, 28), end_station='Mountain View Caltrain Station', end_terminal='28', bike_id=98, subscription_type='Subscriber', zip_code='94301'),\n",
       "  Trip(trip_id=152943, duration=1862, start_date=datetime.datetime(2014, 1, 14, 14, 10), start_station='Mountain View City Hall', start_terminal=27, end_date=datetime.datetime(2014, 1, 14, 14, 41), end_station='Mountain View City Hall', end_terminal='27', bike_id=693, subscription_type='Customer', zip_code='95051'),\n",
       "  Trip(trip_id=153097, duration=750, start_date=datetime.datetime(2014, 1, 14, 16, 35), start_station='Mountain View City Hall', start_terminal=27, end_date=datetime.datetime(2014, 1, 14, 16, 47), end_station='San Antonio Shopping Center', end_terminal='31', bike_id=639, subscription_type='Customer', zip_code='95051'),\n",
       "  Trip(trip_id=153237, duration=237, start_date=datetime.datetime(2014, 1, 14, 17, 28), start_station='Mountain View City Hall', start_terminal=27, end_date=datetime.datetime(2014, 1, 14, 17, 32), end_station='Mountain View Caltrain Station', end_terminal='28', bike_id=144, subscription_type='Subscriber', zip_code='94107'),\n",
       "  Trip(trip_id=153449, duration=221, start_date=datetime.datetime(2014, 1, 14, 19, 6), start_station='Mountain View City Hall', start_terminal=27, end_date=datetime.datetime(2014, 1, 14, 19, 10), end_station='Mountain View Caltrain Station', end_terminal='28', bike_id=144, subscription_type='Subscriber', zip_code='94158'),\n",
       "  Trip(trip_id=153707, duration=138, start_date=datetime.datetime(2014, 1, 15, 7, 53), start_station='Mountain View City Hall', start_terminal=27, end_date=datetime.datetime(2014, 1, 15, 7, 56), end_station='Mountain View Caltrain Station', end_terminal='28', bike_id=16, subscription_type='Subscriber', zip_code='94024'),\n",
       "  Trip(trip_id=154531, duration=229, start_date=datetime.datetime(2014, 1, 15, 16, 22), start_station='Mountain View City Hall', start_terminal=27, end_date=datetime.datetime(2014, 1, 15, 16, 26), end_station='Mountain View Caltrain Station', end_terminal='28', bike_id=693, subscription_type='Subscriber', zip_code='94107'),\n",
       "  Trip(trip_id=154699, duration=227, start_date=datetime.datetime(2014, 1, 15, 17, 29), start_station='Mountain View City Hall', start_terminal=27, end_date=datetime.datetime(2014, 1, 15, 17, 32), end_station='Mountain View Caltrain Station', end_terminal='28', bike_id=144, subscription_type='Subscriber', zip_code='94107'),\n",
       "  Trip(trip_id=154906, duration=249, start_date=datetime.datetime(2014, 1, 15, 19, 2), start_station='Mountain View City Hall', start_terminal=27, end_date=datetime.datetime(2014, 1, 15, 19, 6), end_station='Mountain View Caltrain Station', end_terminal='28', bike_id=679, subscription_type='Subscriber', zip_code='94158'),\n",
       "  Trip(trip_id=155093, duration=164, start_date=datetime.datetime(2014, 1, 16, 6, 52), start_station='Mountain View City Hall', start_terminal=27, end_date=datetime.datetime(2014, 1, 16, 6, 55), end_station='Mountain View Caltrain Station', end_terminal='28', bike_id=134, subscription_type='Subscriber', zip_code='94024'),\n",
       "  Trip(trip_id=155248, duration=281, start_date=datetime.datetime(2014, 1, 16, 8, 11), start_station='Mountain View City Hall', start_terminal=27, end_date=datetime.datetime(2014, 1, 16, 8, 16), end_station='Mountain View Caltrain Station', end_terminal='28', bike_id=31, subscription_type='Subscriber', zip_code='94041'),\n",
       "  Trip(trip_id=155376, duration=82, start_date=datetime.datetime(2014, 1, 16, 8, 51), start_station='Mountain View City Hall', start_terminal=27, end_date=datetime.datetime(2014, 1, 16, 8, 52), end_station='Mountain View City Hall', end_terminal='27', bike_id=662, subscription_type='Subscriber', zip_code='94102'),\n",
       "  Trip(trip_id=156140, duration=234, start_date=datetime.datetime(2014, 1, 16, 17, 21), start_station='Mountain View City Hall', start_terminal=27, end_date=datetime.datetime(2014, 1, 16, 17, 25), end_station='Mountain View Caltrain Station', end_terminal='28', bike_id=31, subscription_type='Subscriber', zip_code='94107'),\n",
       "  Trip(trip_id=156149, duration=234, start_date=datetime.datetime(2014, 1, 16, 17, 25), start_station='Mountain View City Hall', start_terminal=27, end_date=datetime.datetime(2014, 1, 16, 17, 29), end_station='Mountain View Caltrain Station', end_terminal='28', bike_id=146, subscription_type='Subscriber', zip_code='94107'),\n",
       "  Trip(trip_id=156155, duration=253, start_date=datetime.datetime(2014, 1, 16, 17, 29), start_station='Mountain View City Hall', start_terminal=27, end_date=datetime.datetime(2014, 1, 16, 17, 33), end_station='Mountain View Caltrain Station', end_terminal='28', bike_id=67, subscription_type='Subscriber', zip_code='94107'),\n",
       "  Trip(trip_id=156333, duration=195, start_date=datetime.datetime(2014, 1, 16, 18, 32), start_station='Mountain View City Hall', start_terminal=27, end_date=datetime.datetime(2014, 1, 16, 18, 35), end_station='Mountain View Caltrain Station', end_terminal='28', bike_id=713, subscription_type='Subscriber', zip_code='94158'),\n",
       "  Trip(trip_id=156687, duration=195, start_date=datetime.datetime(2014, 1, 17, 8, 18), start_station='Mountain View City Hall', start_terminal=27, end_date=datetime.datetime(2014, 1, 17, 8, 22), end_station='Mountain View Caltrain Station', end_terminal='28', bike_id=251, subscription_type='Subscriber', zip_code='94041'),\n",
       "  Trip(trip_id=157456, duration=207, start_date=datetime.datetime(2014, 1, 17, 16, 50), start_station='Mountain View City Hall', start_terminal=27, end_date=datetime.datetime(2014, 1, 17, 16, 53), end_station='Mountain View Caltrain Station', end_terminal='28', bike_id=713, subscription_type='Subscriber', zip_code='94107'),\n",
       "  Trip(trip_id=157474, duration=57945, start_date=datetime.datetime(2014, 1, 17, 16, 58), start_station='Mountain View City Hall', start_terminal=27, end_date=datetime.datetime(2014, 1, 18, 9, 3), end_station='Rengstorff Avenue / California Street', end_terminal='33', bike_id=98, subscription_type='Customer', zip_code='94043'),\n",
       "  Trip(trip_id=157636, duration=237, start_date=datetime.datetime(2014, 1, 17, 17, 53), start_station='Mountain View City Hall', start_terminal=27, end_date=datetime.datetime(2014, 1, 17, 17, 56), end_station='Mountain View Caltrain Station', end_terminal='28', bike_id=639, subscription_type='Subscriber', zip_code='94107'),\n",
       "  Trip(trip_id=157726, duration=236, start_date=datetime.datetime(2014, 1, 17, 18, 54), start_station='Mountain View City Hall', start_terminal=27, end_date=datetime.datetime(2014, 1, 17, 18, 58), end_station='Mountain View Caltrain Station', end_terminal='28', bike_id=217, subscription_type='Subscriber', zip_code='94158'),\n",
       "  Trip(trip_id=159085, duration=144, start_date=datetime.datetime(2014, 1, 20, 6, 53), start_station='Mountain View City Hall', start_terminal=27, end_date=datetime.datetime(2014, 1, 20, 6, 55), end_station='Mountain View Caltrain Station', end_terminal='28', bike_id=146, subscription_type='Subscriber', zip_code='94024'),\n",
       "  Trip(trip_id=159335, duration=2292, start_date=datetime.datetime(2014, 1, 20, 12, 5), start_station='Mountain View City Hall', start_terminal=27, end_date=datetime.datetime(2014, 1, 20, 12, 43), end_station='Mountain View City Hall', end_terminal='27', bike_id=662, subscription_type='Customer', zip_code='94110'),\n",
       "  Trip(trip_id=160066, duration=231, start_date=datetime.datetime(2014, 1, 21, 8, 18), start_station='Mountain View City Hall', start_terminal=27, end_date=datetime.datetime(2014, 1, 21, 8, 22), end_station='Mountain View Caltrain Station', end_terminal='28', bike_id=93, subscription_type='Subscriber', zip_code='94041'),\n",
       "  Trip(trip_id=160501, duration=175, start_date=datetime.datetime(2014, 1, 21, 13, 13), start_station='Mountain View City Hall', start_terminal=27, end_date=datetime.datetime(2014, 1, 21, 13, 16), end_station='Castro Street and El Camino Real', end_terminal='32', bike_id=31, subscription_type='Subscriber', zip_code='94122'),\n",
       "  Trip(trip_id=160927, duration=346, start_date=datetime.datetime(2014, 1, 21, 17, 54), start_station='Mountain View City Hall', start_terminal=27, end_date=datetime.datetime(2014, 1, 21, 18, 0), end_station='Mountain View Caltrain Station', end_terminal='28', bike_id=225, subscription_type='Subscriber', zip_code='95113'),\n",
       "  Trip(trip_id=161105, duration=197, start_date=datetime.datetime(2014, 1, 21, 19, 44), start_station='Mountain View City Hall', start_terminal=27, end_date=datetime.datetime(2014, 1, 21, 19, 47), end_station='Mountain View Caltrain Station', end_terminal='28', bike_id=251, subscription_type='Subscriber', zip_code='94158'),\n",
       "  Trip(trip_id=162123, duration=246, start_date=datetime.datetime(2014, 1, 22, 16, 48), start_station='Mountain View City Hall', start_terminal=27, end_date=datetime.datetime(2014, 1, 22, 16, 52), end_station='Mountain View Caltrain Station', end_terminal='28', bike_id=302, subscription_type='Subscriber', zip_code='94107'),\n",
       "  Trip(trip_id=162214, duration=273, start_date=datetime.datetime(2014, 1, 22, 17, 16), start_station='Mountain View City Hall', start_terminal=27, end_date=datetime.datetime(2014, 1, 22, 17, 20), end_station='Mountain View Caltrain Station', end_terminal='28', bike_id=84, subscription_type='Subscriber', zip_code='94107'),\n",
       "  Trip(trip_id=162316, duration=241, start_date=datetime.datetime(2014, 1, 22, 17, 55), start_station='Mountain View City Hall', start_terminal=27, end_date=datetime.datetime(2014, 1, 22, 17, 59), end_station='Mountain View Caltrain Station', end_terminal='28', bike_id=233, subscription_type='Subscriber', zip_code='94107'),\n",
       "  Trip(trip_id=162504, duration=216, start_date=datetime.datetime(2014, 1, 22, 19, 44), start_station='Mountain View City Hall', start_terminal=27, end_date=datetime.datetime(2014, 1, 22, 19, 48), end_station='Mountain View Caltrain Station', end_terminal='28', bike_id=225, subscription_type='Subscriber', zip_code='94158'),\n",
       "  Trip(trip_id=162819, duration=234, start_date=datetime.datetime(2014, 1, 23, 8, 16), start_station='Mountain View City Hall', start_terminal=27, end_date=datetime.datetime(2014, 1, 23, 8, 20), end_station='Mountain View Caltrain Station', end_terminal='28', bike_id=126, subscription_type='Subscriber', zip_code='94041'),\n",
       "  Trip(trip_id=163774, duration=305, start_date=datetime.datetime(2014, 1, 23, 17, 23), start_station='Mountain View City Hall', start_terminal=27, end_date=datetime.datetime(2014, 1, 23, 17, 28), end_station='Mountain View Caltrain Station', end_terminal='28', bike_id=58, subscription_type='Subscriber', zip_code='94102'),\n",
       "  Trip(trip_id=163868, duration=223, start_date=datetime.datetime(2014, 1, 23, 17, 55), start_station='Mountain View City Hall', start_terminal=27, end_date=datetime.datetime(2014, 1, 23, 17, 59), end_station='Mountain View Caltrain Station', end_terminal='28', bike_id=251, subscription_type='Subscriber', zip_code='94107'),\n",
       "  Trip(trip_id=163951, duration=257, start_date=datetime.datetime(2014, 1, 23, 18, 39), start_station='Mountain View City Hall', start_terminal=27, end_date=datetime.datetime(2014, 1, 23, 18, 44), end_station='Mountain View Caltrain Station', end_terminal='28', bike_id=679, subscription_type='Subscriber', zip_code='94401'),\n",
       "  Trip(trip_id=164135, duration=292, start_date=datetime.datetime(2014, 1, 24, 6, 55), start_station='Mountain View City Hall', start_terminal=27, end_date=datetime.datetime(2014, 1, 24, 7, 0), end_station='Mountain View Caltrain Station', end_terminal='28', bike_id=61, subscription_type='Customer', zip_code='20003'),\n",
       "  Trip(trip_id=165021, duration=277, start_date=datetime.datetime(2014, 1, 24, 16, 46), start_station='Mountain View City Hall', start_terminal=27, end_date=datetime.datetime(2014, 1, 24, 16, 51), end_station='Mountain View Caltrain Station', end_terminal='28', bike_id=656, subscription_type='Subscriber', zip_code='94107'),\n",
       "  Trip(trip_id=165144, duration=196, start_date=datetime.datetime(2014, 1, 24, 17, 30), start_station='Mountain View City Hall', start_terminal=27, end_date=datetime.datetime(2014, 1, 24, 17, 34), end_station='Mountain View Caltrain Station', end_terminal='28', bike_id=251, subscription_type='Subscriber', zip_code='94107'),\n",
       "  Trip(trip_id=165194, duration=253, start_date=datetime.datetime(2014, 1, 24, 17, 55), start_station='Mountain View City Hall', start_terminal=27, end_date=datetime.datetime(2014, 1, 24, 18, 0), end_station='Mountain View Caltrain Station', end_terminal='28', bike_id=233, subscription_type='Subscriber', zip_code='94158'),\n",
       "  Trip(trip_id=166781, duration=255, start_date=datetime.datetime(2014, 1, 27, 8, 13), start_station='Mountain View City Hall', start_terminal=27, end_date=datetime.datetime(2014, 1, 27, 8, 17), end_station='Mountain View Caltrain Station', end_terminal='28', bike_id=302, subscription_type='Subscriber', zip_code='94041'),\n",
       "  Trip(trip_id=167041, duration=208, start_date=datetime.datetime(2014, 1, 27, 9, 48), start_station='Mountain View City Hall', start_terminal=27, end_date=datetime.datetime(2014, 1, 27, 9, 51), end_station='Mountain View Caltrain Station', end_terminal='28', bike_id=134, subscription_type='Subscriber', zip_code='94024'),\n",
       "  Trip(trip_id=167539, duration=303, start_date=datetime.datetime(2014, 1, 27, 17, 23), start_station='Mountain View City Hall', start_terminal=27, end_date=datetime.datetime(2014, 1, 27, 17, 28), end_station='Mountain View Caltrain Station', end_terminal='28', bike_id=662, subscription_type='Subscriber', zip_code='94102'),\n",
       "  Trip(trip_id=167698, duration=240, start_date=datetime.datetime(2014, 1, 27, 18, 29), start_station='Mountain View City Hall', start_terminal=27, end_date=datetime.datetime(2014, 1, 27, 18, 33), end_station='Mountain View Caltrain Station', end_terminal='28', bike_id=233, subscription_type='Subscriber', zip_code='94158'),\n",
       "  Trip(trip_id=167898, duration=150, start_date=datetime.datetime(2014, 1, 28, 5, 52), start_station='Mountain View City Hall', start_terminal=27, end_date=datetime.datetime(2014, 1, 28, 5, 55), end_station='Mountain View Caltrain Station', end_terminal='28', bike_id=134, subscription_type='Subscriber', zip_code='94024'),\n",
       "  Trip(trip_id=168740, duration=241, start_date=datetime.datetime(2014, 1, 28, 16, 46), start_station='Mountain View City Hall', start_terminal=27, end_date=datetime.datetime(2014, 1, 28, 16, 50), end_station='Mountain View Caltrain Station', end_terminal='28', bike_id=251, subscription_type='Subscriber', zip_code='94107'),\n",
       "  Trip(trip_id=168940, duration=236, start_date=datetime.datetime(2014, 1, 28, 17, 50), start_station='Mountain View City Hall', start_terminal=27, end_date=datetime.datetime(2014, 1, 28, 17, 54), end_station='Mountain View Caltrain Station', end_terminal='28', bike_id=233, subscription_type='Subscriber', zip_code='94107'),\n",
       "  Trip(trip_id=169134, duration=213, start_date=datetime.datetime(2014, 1, 28, 19, 42), start_station='Mountain View City Hall', start_terminal=27, end_date=datetime.datetime(2014, 1, 28, 19, 46), end_station='Mountain View Caltrain Station', end_terminal='28', bike_id=138, subscription_type='Subscriber', zip_code='94158'),\n",
       "  Trip(trip_id=169404, duration=242, start_date=datetime.datetime(2014, 1, 29, 7, 57), start_station='Mountain View City Hall', start_terminal=27, end_date=datetime.datetime(2014, 1, 29, 8, 1), end_station='Mountain View Caltrain Station', end_terminal='28', bike_id=131, subscription_type='Subscriber', zip_code='94041'),\n",
       "  Trip(trip_id=170098, duration=246, start_date=datetime.datetime(2014, 1, 29, 16, 21), start_station='Mountain View City Hall', start_terminal=27, end_date=datetime.datetime(2014, 1, 29, 16, 25), end_station='Mountain View Caltrain Station', end_terminal='28', bike_id=662, subscription_type='Subscriber', zip_code='94107'),\n",
       "  Trip(trip_id=170292, duration=249, start_date=datetime.datetime(2014, 1, 29, 17, 40), start_station='Mountain View City Hall', start_terminal=27, end_date=datetime.datetime(2014, 1, 29, 17, 44), end_station='Mountain View Caltrain Station', end_terminal='28', bike_id=233, subscription_type='Subscriber', zip_code='94107'),\n",
       "  Trip(trip_id=170422, duration=211, start_date=datetime.datetime(2014, 1, 29, 18, 30), start_station='Mountain View City Hall', start_terminal=27, end_date=datetime.datetime(2014, 1, 29, 18, 33), end_station='Mountain View Caltrain Station', end_terminal='28', bike_id=138, subscription_type='Subscriber', zip_code='94158'),\n",
       "  Trip(trip_id=171468, duration=257, start_date=datetime.datetime(2014, 1, 30, 16, 46), start_station='Mountain View City Hall', start_terminal=27, end_date=datetime.datetime(2014, 1, 30, 16, 50), end_station='Mountain View Caltrain Station', end_terminal='28', bike_id=302, subscription_type='Subscriber', zip_code='94107'),\n",
       "  Trip(trip_id=171623, duration=206, start_date=datetime.datetime(2014, 1, 30, 17, 56), start_station='Mountain View City Hall', start_terminal=27, end_date=datetime.datetime(2014, 1, 30, 17, 59), end_station='Mountain View Caltrain Station', end_terminal='28', bike_id=16, subscription_type='Subscriber', zip_code='94107'),\n",
       "  Trip(trip_id=171670, duration=258, start_date=datetime.datetime(2014, 1, 30, 18, 26), start_station='Mountain View City Hall', start_terminal=27, end_date=datetime.datetime(2014, 1, 30, 18, 30), end_station='Mountain View Caltrain Station', end_terminal='28', bike_id=112, subscription_type='Subscriber', zip_code='94158'),\n",
       "  Trip(trip_id=172166, duration=260, start_date=datetime.datetime(2014, 1, 31, 9, 50), start_station='Mountain View City Hall', start_terminal=27, end_date=datetime.datetime(2014, 1, 31, 9, 54), end_station='Mountain View Caltrain Station', end_terminal='28', bike_id=131, subscription_type='Subscriber', zip_code='94040'),\n",
       "  Trip(trip_id=172477, duration=187, start_date=datetime.datetime(2014, 1, 31, 14, 46), start_station='Mountain View City Hall', start_terminal=27, end_date=datetime.datetime(2014, 1, 31, 14, 49), end_station='Mountain View Caltrain Station', end_terminal='28', bike_id=58, subscription_type='Subscriber', zip_code='94041'),\n",
       "  Trip(trip_id=172608, duration=249, start_date=datetime.datetime(2014, 1, 31, 16, 46), start_station='Mountain View City Hall', start_terminal=27, end_date=datetime.datetime(2014, 1, 31, 16, 51), end_station='Mountain View Caltrain Station', end_terminal='28', bike_id=228, subscription_type='Subscriber', zip_code='94107'),\n",
       "  Trip(trip_id=172743, duration=251, start_date=datetime.datetime(2014, 1, 31, 17, 57), start_station='Mountain View City Hall', start_terminal=27, end_date=datetime.datetime(2014, 1, 31, 18, 1), end_station='Mountain View Caltrain Station', end_terminal='28', bike_id=16, subscription_type='Subscriber', zip_code='94107'),\n",
       "  Trip(trip_id=172918, duration=238, start_date=datetime.datetime(2014, 2, 1, 5, 40), start_station='Mountain View City Hall', start_terminal=27, end_date=datetime.datetime(2014, 2, 1, 5, 44), end_station='Mountain View Caltrain Station', end_terminal='28', bike_id=233, subscription_type='Subscriber', zip_code='95110'),\n",
       "  Trip(trip_id=173515, duration=309, start_date=datetime.datetime(2014, 2, 2, 9, 13), start_station='Mountain View City Hall', start_terminal=27, end_date=datetime.datetime(2014, 2, 2, 9, 18), end_station='Mountain View Caltrain Station', end_terminal='28', bike_id=112, subscription_type='Subscriber', zip_code='94041'),\n",
       "  Trip(trip_id=173735, duration=915, start_date=datetime.datetime(2014, 2, 3, 7, 9), start_station='Mountain View City Hall', start_terminal=27, end_date=datetime.datetime(2014, 2, 3, 7, 24), end_station='San Antonio Caltrain Station', end_terminal='29', bike_id=136, subscription_type='Customer', zip_code='94040'),\n",
       "  Trip(trip_id=174191, duration=211, start_date=datetime.datetime(2014, 2, 3, 11, 18), start_station='Mountain View City Hall', start_terminal=27, end_date=datetime.datetime(2014, 2, 3, 11, 22), end_station='Mountain View Caltrain Station', end_terminal='28', bike_id=682, subscription_type='Subscriber', zip_code='94024'),\n",
       "  Trip(trip_id=174399, duration=646, start_date=datetime.datetime(2014, 2, 3, 15, 30), start_station='Mountain View City Hall', start_terminal=27, end_date=datetime.datetime(2014, 2, 3, 15, 41), end_station='San Antonio Shopping Center', end_terminal='31', bike_id=662, subscription_type='Subscriber', zip_code='94025'),\n",
       "  Trip(trip_id=174772, duration=232, start_date=datetime.datetime(2014, 2, 3, 18, 25), start_station='Mountain View City Hall', start_terminal=27, end_date=datetime.datetime(2014, 2, 3, 18, 29), end_station='Mountain View Caltrain Station', end_terminal='28', bike_id=714, subscription_type='Subscriber', zip_code='94158'),\n",
       "  Trip(trip_id=174783, duration=216, start_date=datetime.datetime(2014, 2, 3, 18, 30), start_station='Mountain View City Hall', start_terminal=27, end_date=datetime.datetime(2014, 2, 3, 18, 34), end_station='Mountain View Caltrain Station', end_terminal='28', bike_id=136, subscription_type='Subscriber', zip_code='94107'),\n",
       "  Trip(trip_id=174879, duration=212, start_date=datetime.datetime(2014, 2, 3, 19, 43), start_station='Mountain View City Hall', start_terminal=27, end_date=datetime.datetime(2014, 2, 3, 19, 46), end_station='Mountain View Caltrain Station', end_terminal='28', bike_id=682, subscription_type='Subscriber', zip_code='94401'),\n",
       "  Trip(trip_id=176055, duration=209, start_date=datetime.datetime(2014, 2, 4, 18, 27), start_station='Mountain View City Hall', start_terminal=27, end_date=datetime.datetime(2014, 2, 4, 18, 31), end_station='Mountain View Caltrain Station', end_terminal='28', bike_id=136, subscription_type='Subscriber', zip_code='94158'),\n",
       "  Trip(trip_id=176060, duration=194, start_date=datetime.datetime(2014, 2, 4, 18, 30), start_station='Mountain View City Hall', start_terminal=27, end_date=datetime.datetime(2014, 2, 4, 18, 33), end_station='Mountain View Caltrain Station', end_terminal='28', bike_id=192, subscription_type='Subscriber', zip_code='94107'),\n",
       "  Trip(trip_id=176463, duration=227, start_date=datetime.datetime(2014, 2, 5, 8, 17), start_station='Mountain View City Hall', start_terminal=27, end_date=datetime.datetime(2014, 2, 5, 8, 21), end_station='Mountain View Caltrain Station', end_terminal='28', bike_id=126, subscription_type='Subscriber', zip_code='94041'),\n",
       "  Trip(trip_id=177059, duration=242, start_date=datetime.datetime(2014, 2, 5, 16, 23), start_station='Mountain View City Hall', start_terminal=27, end_date=datetime.datetime(2014, 2, 5, 16, 27), end_station='Mountain View Caltrain Station', end_terminal='28', bike_id=693, subscription_type='Subscriber', zip_code='94107'),\n",
       "  Trip(trip_id=177182, duration=241, start_date=datetime.datetime(2014, 2, 5, 17, 27), start_station='Mountain View City Hall', start_terminal=27, end_date=datetime.datetime(2014, 2, 5, 17, 31), end_station='Mountain View Caltrain Station', end_terminal='28', bike_id=245, subscription_type='Subscriber', zip_code='94107'),\n",
       "  Trip(trip_id=177517, duration=247, start_date=datetime.datetime(2014, 2, 6, 8, 18), start_station='Mountain View City Hall', start_terminal=27, end_date=datetime.datetime(2014, 2, 6, 8, 22), end_station='Mountain View Caltrain Station', end_terminal='28', bike_id=126, subscription_type='Subscriber', zip_code='94041'),\n",
       "  Trip(trip_id=177824, duration=237, start_date=datetime.datetime(2014, 2, 6, 16, 47), start_station='Mountain View City Hall', start_terminal=27, end_date=datetime.datetime(2014, 2, 6, 16, 51), end_station='Mountain View Caltrain Station', end_terminal='28', bike_id=694, subscription_type='Subscriber', zip_code='94107'),\n",
       "  Trip(trip_id=178015, duration=195, start_date=datetime.datetime(2014, 2, 6, 18, 39), start_station='Mountain View City Hall', start_terminal=27, end_date=datetime.datetime(2014, 2, 6, 18, 42), end_station='Mountain View Caltrain Station', end_terminal='28', bike_id=679, subscription_type='Subscriber', zip_code='94401'),\n",
       "  Trip(trip_id=178106, duration=224, start_date=datetime.datetime(2014, 2, 6, 19, 43), start_station='Mountain View City Hall', start_terminal=27, end_date=datetime.datetime(2014, 2, 6, 19, 47), end_station='Mountain View Caltrain Station', end_terminal='28', bike_id=126, subscription_type='Subscriber', zip_code='94158'),\n",
       "  Trip(trip_id=178310, duration=235, start_date=datetime.datetime(2014, 2, 7, 8, 16), start_station='Mountain View City Hall', start_terminal=27, end_date=datetime.datetime(2014, 2, 7, 8, 20), end_station='Mountain View Caltrain Station', end_terminal='28', bike_id=16, subscription_type='Subscriber', zip_code='94041'),\n",
       "  Trip(trip_id=178613, duration=213, start_date=datetime.datetime(2014, 2, 7, 16, 47), start_station='Mountain View City Hall', start_terminal=27, end_date=datetime.datetime(2014, 2, 7, 16, 51), end_station='Mountain View Caltrain Station', end_terminal='28', bike_id=233, subscription_type='Subscriber', zip_code='94107'),\n",
       "  Trip(trip_id=178711, duration=251, start_date=datetime.datetime(2014, 2, 7, 18, 25), start_station='Mountain View City Hall', start_terminal=27, end_date=datetime.datetime(2014, 2, 7, 18, 30), end_station='Mountain View Caltrain Station', end_terminal='28', bike_id=84, subscription_type='Subscriber', zip_code='94107'),\n",
       "  Trip(trip_id=178714, duration=263, start_date=datetime.datetime(2014, 2, 7, 18, 28), start_station='Mountain View City Hall', start_terminal=27, end_date=datetime.datetime(2014, 2, 7, 18, 32), end_station='Mountain View Caltrain Station', end_terminal='28', bike_id=679, subscription_type='Subscriber', zip_code='94158'),\n",
       "  Trip(trip_id=178845, duration=617, start_date=datetime.datetime(2014, 2, 8, 11, 56), start_station='Mountain View City Hall', start_terminal=27, end_date=datetime.datetime(2014, 2, 8, 12, 6), end_station='Rengstorff Avenue / California Street', end_terminal='33', bike_id=656, subscription_type='Subscriber', zip_code='94040'),\n",
       "  Trip(trip_id=179329, duration=430, start_date=datetime.datetime(2014, 2, 10, 9, 6), start_station='Mountain View City Hall', start_terminal=27, end_date=datetime.datetime(2014, 2, 10, 9, 14), end_station='Mountain View Caltrain Station', end_terminal='28', bike_id=95, subscription_type='Customer', zip_code='94041'),\n",
       "  Trip(trip_id=179330, duration=412, start_date=datetime.datetime(2014, 2, 10, 9, 7), start_station='Mountain View City Hall', start_terminal=27, end_date=datetime.datetime(2014, 2, 10, 9, 13), end_station='Mountain View Caltrain Station', end_terminal='28', bike_id=153, subscription_type='Customer', zip_code='94041'),\n",
       "  Trip(trip_id=180116, duration=220, start_date=datetime.datetime(2014, 2, 10, 19, 44), start_station='Mountain View City Hall', start_terminal=27, end_date=datetime.datetime(2014, 2, 10, 19, 48), end_station='Mountain View Caltrain Station', end_terminal='28', bike_id=153, subscription_type='Subscriber', zip_code='94401'),\n",
       "  Trip(trip_id=180352, duration=213, start_date=datetime.datetime(2014, 2, 11, 7, 57), start_station='Mountain View City Hall', start_terminal=27, end_date=datetime.datetime(2014, 2, 11, 8, 1), end_station='Mountain View Caltrain Station', end_terminal='28', bike_id=134, subscription_type='Subscriber', zip_code='94041'),\n",
       "  Trip(trip_id=180516, duration=456, start_date=datetime.datetime(2014, 2, 11, 9, 0), start_station='Mountain View City Hall', start_terminal=27, end_date=datetime.datetime(2014, 2, 11, 9, 8), end_station='Mountain View Caltrain Station', end_terminal='28', bike_id=132, subscription_type='Customer', zip_code='94041'),\n",
       "  Trip(trip_id=180518, duration=411, start_date=datetime.datetime(2014, 2, 11, 9, 1), start_station='Mountain View City Hall', start_terminal=27, end_date=datetime.datetime(2014, 2, 11, 9, 7), end_station='Mountain View Caltrain Station', end_terminal='28', bike_id=682, subscription_type='Customer', zip_code='94041'),\n",
       "  Trip(trip_id=181147, duration=226, start_date=datetime.datetime(2014, 2, 11, 17, 22), start_station='Mountain View City Hall', start_terminal=27, end_date=datetime.datetime(2014, 2, 11, 17, 26), end_station='Mountain View Caltrain Station', end_terminal='28', bike_id=95, subscription_type='Subscriber', zip_code='94107'),\n",
       "  Trip(trip_id=181351, duration=220, start_date=datetime.datetime(2014, 2, 11, 19, 43), start_station='Mountain View City Hall', start_terminal=27, end_date=datetime.datetime(2014, 2, 11, 19, 46), end_station='Mountain View Caltrain Station', end_terminal='28', bike_id=112, subscription_type='Subscriber', zip_code='94158'),\n",
       "  Trip(trip_id=181490, duration=161, start_date=datetime.datetime(2014, 2, 12, 5, 52), start_station='Mountain View City Hall', start_terminal=27, end_date=datetime.datetime(2014, 2, 12, 5, 54), end_station='Mountain View Caltrain Station', end_terminal='28', bike_id=696, subscription_type='Subscriber', zip_code='94024'),\n",
       "  Trip(trip_id=181732, duration=242, start_date=datetime.datetime(2014, 2, 12, 8, 45), start_station='Mountain View City Hall', start_terminal=27, end_date=datetime.datetime(2014, 2, 12, 8, 49), end_station='Mountain View Caltrain Station', end_terminal='28', bike_id=134, subscription_type='Subscriber', zip_code='94041'),\n",
       "  Trip(trip_id=182481, duration=256, start_date=datetime.datetime(2014, 2, 12, 17, 26), start_station='Mountain View City Hall', start_terminal=27, end_date=datetime.datetime(2014, 2, 12, 17, 30), end_station='Mountain View Caltrain Station', end_terminal='28', bike_id=217, subscription_type='Subscriber', zip_code='94107'),\n",
       "  Trip(trip_id=182526, duration=191, start_date=datetime.datetime(2014, 2, 12, 17, 48), start_station='Mountain View City Hall', start_terminal=27, end_date=datetime.datetime(2014, 2, 12, 17, 51), end_station='Mountain View Caltrain Station', end_terminal='28', bike_id=243, subscription_type='Subscriber', zip_code='94107'),\n",
       "  Trip(trip_id=182688, duration=227, start_date=datetime.datetime(2014, 2, 12, 19, 1), start_station='Mountain View City Hall', start_terminal=27, end_date=datetime.datetime(2014, 2, 12, 19, 5), end_station='Mountain View Caltrain Station', end_terminal='28', bike_id=656, subscription_type='Subscriber', zip_code='94158'),\n",
       "  Trip(trip_id=182821, duration=189, start_date=datetime.datetime(2014, 2, 12, 21, 42), start_station='Mountain View City Hall', start_terminal=27, end_date=datetime.datetime(2014, 2, 12, 21, 46), end_station='Mountain View Caltrain Station', end_terminal='28', bike_id=713, subscription_type='Subscriber', zip_code='94401'),\n",
       "  Trip(trip_id=182860, duration=147, start_date=datetime.datetime(2014, 2, 13, 5, 52), start_station='Mountain View City Hall', start_terminal=27, end_date=datetime.datetime(2014, 2, 13, 5, 54), end_station='Mountain View Caltrain Station', end_terminal='28', bike_id=126, subscription_type='Subscriber', zip_code='94024'),\n",
       "  Trip(trip_id=183034, duration=223, start_date=datetime.datetime(2014, 2, 13, 8, 11), start_station='Mountain View City Hall', start_terminal=27, end_date=datetime.datetime(2014, 2, 13, 8, 15), end_station='Mountain View Caltrain Station', end_terminal='28', bike_id=134, subscription_type='Subscriber', zip_code='94041'),\n",
       "  Trip(trip_id=183707, duration=723, start_date=datetime.datetime(2014, 2, 13, 16, 27), start_station='Mountain View City Hall', start_terminal=27, end_date=datetime.datetime(2014, 2, 13, 16, 39), end_station='San Antonio Shopping Center', end_terminal='31', bike_id=243, subscription_type='Subscriber', zip_code='94025'),\n",
       "  Trip(trip_id=183765, duration=255, start_date=datetime.datetime(2014, 2, 13, 16, 49), start_station='Mountain View City Hall', start_terminal=27, end_date=datetime.datetime(2014, 2, 13, 16, 53), end_station='Mountain View Caltrain Station', end_terminal='28', bike_id=51, subscription_type='Subscriber', zip_code='94107'),\n",
       "  Trip(trip_id=183845, duration=215, start_date=datetime.datetime(2014, 2, 13, 17, 29), start_station='Mountain View City Hall', start_terminal=27, end_date=datetime.datetime(2014, 2, 13, 17, 33), end_station='Mountain View Caltrain Station', end_terminal='28', bike_id=126, subscription_type='Subscriber', zip_code='94107'),\n",
       "  Trip(trip_id=184082, duration=193, start_date=datetime.datetime(2014, 2, 13, 19, 43), start_station='Mountain View City Hall', start_terminal=27, end_date=datetime.datetime(2014, 2, 13, 19, 46), end_station='Mountain View Caltrain Station', end_terminal='28', bike_id=146, subscription_type='Subscriber', zip_code='94158'),\n",
       "  Trip(trip_id=184826, duration=1980, start_date=datetime.datetime(2014, 2, 14, 13, 50), start_station='Mountain View City Hall', start_terminal=27, end_date=datetime.datetime(2014, 2, 14, 14, 23), end_station='Mountain View Caltrain Station', end_terminal='28', bike_id=134, subscription_type='Subscriber', zip_code='94041'),\n",
       "  Trip(trip_id=184968, duration=233, start_date=datetime.datetime(2014, 2, 14, 15, 56), start_station='Mountain View City Hall', start_terminal=27, end_date=datetime.datetime(2014, 2, 14, 16, 0), end_station='Mountain View Caltrain Station', end_terminal='28', bike_id=126, subscription_type='Subscriber', zip_code='94107'),\n",
       "  Trip(trip_id=185299, duration=244, start_date=datetime.datetime(2014, 2, 14, 18, 28), start_station='Mountain View City Hall', start_terminal=27, end_date=datetime.datetime(2014, 2, 14, 18, 32), end_station='Mountain View Caltrain Station', end_terminal='28', bike_id=136, subscription_type='Subscriber', zip_code='94158'),\n",
       "  Trip(trip_id=185846, duration=3870, start_date=datetime.datetime(2014, 2, 15, 16, 36), start_station='Mountain View City Hall', start_terminal=27, end_date=datetime.datetime(2014, 2, 15, 17, 40), end_station='Mountain View City Hall', end_terminal='27', bike_id=118, subscription_type='Customer', zip_code='94041'),\n",
       "  Trip(trip_id=187001, duration=248, start_date=datetime.datetime(2014, 2, 17, 16, 43), start_station='Mountain View City Hall', start_terminal=27, end_date=datetime.datetime(2014, 2, 17, 16, 47), end_station='Mountain View Caltrain Station', end_terminal='28', bike_id=126, subscription_type='Subscriber', zip_code='94107'),\n",
       "  Trip(trip_id=187272, duration=217, start_date=datetime.datetime(2014, 2, 18, 7, 6), start_station='Mountain View City Hall', start_terminal=27, end_date=datetime.datetime(2014, 2, 18, 7, 9), end_station='Mountain View Caltrain Station', end_terminal='28', bike_id=118, subscription_type='Subscriber', zip_code='94024'),\n",
       "  Trip(trip_id=187423, duration=223, start_date=datetime.datetime(2014, 2, 18, 8, 20), start_station='Mountain View City Hall', start_terminal=27, end_date=datetime.datetime(2014, 2, 18, 8, 23), end_station='Mountain View Caltrain Station', end_terminal='28', bike_id=714, subscription_type='Subscriber', zip_code='94041'),\n",
       "  Trip(trip_id=188437, duration=353, start_date=datetime.datetime(2014, 2, 18, 19, 2), start_station='Mountain View City Hall', start_terminal=27, end_date=datetime.datetime(2014, 2, 18, 19, 7), end_station='Mountain View Caltrain Station', end_terminal='28', bike_id=102, subscription_type='Customer', zip_code='94041'),\n",
       "  Trip(trip_id=188749, duration=211, start_date=datetime.datetime(2014, 2, 19, 7, 59), start_station='Mountain View City Hall', start_terminal=27, end_date=datetime.datetime(2014, 2, 19, 8, 2), end_station='Mountain View Caltrain Station', end_terminal='28', bike_id=16, subscription_type='Subscriber', zip_code='94041'),\n",
       "  Trip(trip_id=189099, duration=182, start_date=datetime.datetime(2014, 2, 19, 10, 21), start_station='Mountain View City Hall', start_terminal=27, end_date=datetime.datetime(2014, 2, 19, 10, 24), end_station='Mountain View Caltrain Station', end_terminal='28', bike_id=693, subscription_type='Subscriber', zip_code='94024'),\n",
       "  Trip(trip_id=189470, duration=224, start_date=datetime.datetime(2014, 2, 19, 16, 47), start_station='Mountain View City Hall', start_terminal=27, end_date=datetime.datetime(2014, 2, 19, 16, 50), end_station='Mountain View Caltrain Station', end_terminal='28', bike_id=696, subscription_type='Subscriber', zip_code='94107'),\n",
       "  Trip(trip_id=189803, duration=235, start_date=datetime.datetime(2014, 2, 19, 19, 2), start_station='Mountain View City Hall', start_terminal=27, end_date=datetime.datetime(2014, 2, 19, 19, 6), end_station='Mountain View Caltrain Station', end_terminal='28', bike_id=126, subscription_type='Subscriber', zip_code='94158'),\n",
       "  Trip(trip_id=190125, duration=237, start_date=datetime.datetime(2014, 2, 20, 8, 16), start_station='Mountain View City Hall', start_terminal=27, end_date=datetime.datetime(2014, 2, 20, 8, 20), end_station='Mountain View Caltrain Station', end_terminal='28', bike_id=16, subscription_type='Subscriber', zip_code='94041'),\n",
       "  Trip(trip_id=190604, duration=240, start_date=datetime.datetime(2014, 2, 20, 14, 45), start_station='Mountain View City Hall', start_terminal=27, end_date=datetime.datetime(2014, 2, 20, 14, 49), end_station='Mountain View Caltrain Station', end_terminal='28', bike_id=126, subscription_type='Subscriber', zip_code='94043'),\n",
       "  Trip(trip_id=190734, duration=193, start_date=datetime.datetime(2014, 2, 20, 16, 47), start_station='Mountain View City Hall', start_terminal=27, end_date=datetime.datetime(2014, 2, 20, 16, 51), end_station='Mountain View Caltrain Station', end_terminal='28', bike_id=51, subscription_type='Subscriber', zip_code='94107'),\n",
       "  Trip(trip_id=190910, duration=230, start_date=datetime.datetime(2014, 2, 20, 17, 53), start_station='Mountain View City Hall', start_terminal=27, end_date=datetime.datetime(2014, 2, 20, 17, 57), end_station='Mountain View Caltrain Station', end_terminal='28', bike_id=233, subscription_type='Subscriber', zip_code='94107'),\n",
       "  Trip(trip_id=191032, duration=214, start_date=datetime.datetime(2014, 2, 20, 19, 4), start_station='Mountain View City Hall', start_terminal=27, end_date=datetime.datetime(2014, 2, 20, 19, 8), end_station='Mountain View Caltrain Station', end_terminal='28', bike_id=713, subscription_type='Subscriber', zip_code='94158'),\n",
       "  Trip(trip_id=191367, duration=246, start_date=datetime.datetime(2014, 2, 21, 8, 16), start_station='Mountain View City Hall', start_terminal=27, end_date=datetime.datetime(2014, 2, 21, 8, 20), end_station='Mountain View Caltrain Station', end_terminal='28', bike_id=153, subscription_type='Subscriber', zip_code='94041'),\n",
       "  Trip(trip_id=191529, duration=283, start_date=datetime.datetime(2014, 2, 21, 9, 20), start_station='Mountain View City Hall', start_terminal=27, end_date=datetime.datetime(2014, 2, 21, 9, 25), end_station='Mountain View Caltrain Station', end_terminal='28', bike_id=118, subscription_type='Subscriber', zip_code='94041'),\n",
       "  Trip(trip_id=192044, duration=232, start_date=datetime.datetime(2014, 2, 21, 16, 47), start_station='Mountain View City Hall', start_terminal=27, end_date=datetime.datetime(2014, 2, 21, 16, 50), end_station='Mountain View Caltrain Station', end_terminal='28', bike_id=230, subscription_type='Subscriber', zip_code='94107'),\n",
       "  Trip(trip_id=192136, duration=234, start_date=datetime.datetime(2014, 2, 21, 17, 30), start_station='Mountain View City Hall', start_terminal=27, end_date=datetime.datetime(2014, 2, 21, 17, 34), end_station='Mountain View Caltrain Station', end_terminal='28', bike_id=194, subscription_type='Subscriber', zip_code='94107'),\n",
       "  Trip(trip_id=192267, duration=192, start_date=datetime.datetime(2014, 2, 21, 18, 30), start_station='Mountain View City Hall', start_terminal=27, end_date=datetime.datetime(2014, 2, 21, 18, 34), end_station='Mountain View Caltrain Station', end_terminal='28', bike_id=689, subscription_type='Subscriber', zip_code='94158'),\n",
       "  Trip(trip_id=192840, duration=306, start_date=datetime.datetime(2014, 2, 22, 15, 54), start_station='Mountain View City Hall', start_terminal=27, end_date=datetime.datetime(2014, 2, 22, 15, 59), end_station='Mountain View City Hall', end_terminal='27', bike_id=51, subscription_type='Customer', zip_code='94063'),\n",
       "  Trip(trip_id=192841, duration=3017, start_date=datetime.datetime(2014, 2, 22, 15, 54), start_station='Mountain View City Hall', start_terminal=27, end_date=datetime.datetime(2014, 2, 22, 16, 44), end_station='Mountain View City Hall', end_terminal='27', bike_id=53, subscription_type='Customer', zip_code='94063'),\n",
       "  Trip(trip_id=193070, duration=585, start_date=datetime.datetime(2014, 2, 23, 9, 18), start_station='Mountain View City Hall', start_terminal=27, end_date=datetime.datetime(2014, 2, 23, 9, 28), end_station='Mountain View Caltrain Station', end_terminal='28', bike_id=97, subscription_type='Customer', zip_code='94041'),\n",
       "  Trip(trip_id=193071, duration=478, start_date=datetime.datetime(2014, 2, 23, 9, 20), start_station='Mountain View City Hall', start_terminal=27, end_date=datetime.datetime(2014, 2, 23, 9, 28), end_station='Mountain View Caltrain Station', end_terminal='28', bike_id=146, subscription_type='Customer', zip_code='94041'),\n",
       "  Trip(trip_id=193072, duration=274, start_date=datetime.datetime(2014, 2, 23, 9, 23), start_station='Mountain View City Hall', start_terminal=27, end_date=datetime.datetime(2014, 2, 23, 9, 27), end_station='Mountain View Caltrain Station', end_terminal='28', bike_id=67, subscription_type='Subscriber', zip_code='94041'),\n",
       "  Trip(trip_id=193141, duration=268, start_date=datetime.datetime(2014, 2, 23, 11, 22), start_station='Mountain View City Hall', start_terminal=27, end_date=datetime.datetime(2014, 2, 23, 11, 26), end_station='Mountain View Caltrain Station', end_terminal='28', bike_id=16, subscription_type='Subscriber', zip_code='94040'),\n",
       "  Trip(trip_id=193178, duration=807, start_date=datetime.datetime(2014, 2, 23, 12, 11), start_station='Mountain View City Hall', start_terminal=27, end_date=datetime.datetime(2014, 2, 23, 12, 25), end_station='San Antonio Shopping Center', end_terminal='31', bike_id=194, subscription_type='Subscriber', zip_code='94041'),\n",
       "  Trip(trip_id=193258, duration=1393, start_date=datetime.datetime(2014, 2, 23, 14, 37), start_station='Mountain View City Hall', start_terminal=27, end_date=datetime.datetime(2014, 2, 23, 15, 0), end_station='Rengstorff Avenue / California Street', end_terminal='33', bike_id=707, subscription_type='Customer', zip_code='94090'),\n",
       "  Trip(trip_id=193259, duration=1376, start_date=datetime.datetime(2014, 2, 23, 14, 37), start_station='Mountain View City Hall', start_terminal=27, end_date=datetime.datetime(2014, 2, 23, 15, 0), end_station='Rengstorff Avenue / California Street', end_terminal='33', bike_id=155, subscription_type='Customer', zip_code='94090'),\n",
       "  Trip(trip_id=193486, duration=154, start_date=datetime.datetime(2014, 2, 24, 5, 52), start_station='Mountain View City Hall', start_terminal=27, end_date=datetime.datetime(2014, 2, 24, 5, 55), end_station='Mountain View Caltrain Station', end_terminal='28', bike_id=58, subscription_type='Subscriber', zip_code='94024'),\n",
       "  Trip(trip_id=193773, duration=220, start_date=datetime.datetime(2014, 2, 24, 8, 50), start_station='Mountain View City Hall', start_terminal=27, end_date=datetime.datetime(2014, 2, 24, 8, 53), end_station='Mountain View Caltrain Station', end_terminal='28', bike_id=84, subscription_type='Subscriber', zip_code='94041'),\n",
       "  Trip(trip_id=194369, duration=263, start_date=datetime.datetime(2014, 2, 24, 16, 49), start_station='Mountain View City Hall', start_terminal=27, end_date=datetime.datetime(2014, 2, 24, 16, 53), end_station='Mountain View Caltrain Station', end_terminal='28', bike_id=77, subscription_type='Subscriber', zip_code='94107'),\n",
       "  Trip(trip_id=194797, duration=210, start_date=datetime.datetime(2014, 2, 24, 20, 43), start_station='Mountain View City Hall', start_terminal=27, end_date=datetime.datetime(2014, 2, 24, 20, 47), end_station='Mountain View Caltrain Station', end_terminal='28', bike_id=95, subscription_type='Subscriber', zip_code='94401'),\n",
       "  Trip(trip_id=194864, duration=172, start_date=datetime.datetime(2014, 2, 25, 5, 52), start_station='Mountain View City Hall', start_terminal=27, end_date=datetime.datetime(2014, 2, 25, 5, 55), end_station='Mountain View Caltrain Station', end_terminal='28', bike_id=682, subscription_type='Subscriber', zip_code='94024'),\n",
       "  Trip(trip_id=195015, duration=211, start_date=datetime.datetime(2014, 2, 25, 7, 53), start_station='Mountain View City Hall', start_terminal=27, end_date=datetime.datetime(2014, 2, 25, 7, 56), end_station='Mountain View Caltrain Station', end_terminal='28', bike_id=51, subscription_type='Subscriber', zip_code='94041'),\n",
       "  Trip(trip_id=195651, duration=809, start_date=datetime.datetime(2014, 2, 25, 15, 23), start_station='Mountain View City Hall', start_terminal=27, end_date=datetime.datetime(2014, 2, 25, 15, 37), end_station='San Antonio Caltrain Station', end_terminal='29', bike_id=89, subscription_type='Subscriber', zip_code='94025'),\n",
       "  Trip(trip_id=195724, duration=251, start_date=datetime.datetime(2014, 2, 25, 16, 16), start_station='Mountain View City Hall', start_terminal=27, end_date=datetime.datetime(2014, 2, 25, 16, 21), end_station='Mountain View Caltrain Station', end_terminal='28', bike_id=245, subscription_type='Subscriber', zip_code='94107'),\n",
       "  Trip(trip_id=195889, duration=266, start_date=datetime.datetime(2014, 2, 25, 17, 27), start_station='Mountain View City Hall', start_terminal=27, end_date=datetime.datetime(2014, 2, 25, 17, 31), end_station='Mountain View Caltrain Station', end_terminal='28', bike_id=58, subscription_type='Subscriber', zip_code='94107'),\n",
       "  Trip(trip_id=196244, duration=162, start_date=datetime.datetime(2014, 2, 25, 21, 45), start_station='Mountain View City Hall', start_terminal=27, end_date=datetime.datetime(2014, 2, 25, 21, 47), end_station='Mountain View Caltrain Station', end_terminal='28', bike_id=95, subscription_type='Subscriber', zip_code='94401'),\n",
       "  Trip(trip_id=196674, duration=194, start_date=datetime.datetime(2014, 2, 26, 16, 48), start_station='Mountain View City Hall', start_terminal=27, end_date=datetime.datetime(2014, 2, 26, 16, 52), end_station='Mountain View Caltrain Station', end_terminal='28', bike_id=58, subscription_type='Subscriber', zip_code='94122'),\n",
       "  Trip(trip_id=196827, duration=188, start_date=datetime.datetime(2014, 2, 26, 22, 41), start_station='Mountain View City Hall', start_terminal=27, end_date=datetime.datetime(2014, 2, 26, 22, 44), end_station='Mountain View Caltrain Station', end_terminal='28', bike_id=67, subscription_type='Subscriber', zip_code='94401'),\n",
       "  Trip(trip_id=196846, duration=201, start_date=datetime.datetime(2014, 2, 27, 5, 50), start_station='Mountain View City Hall', start_terminal=27, end_date=datetime.datetime(2014, 2, 27, 5, 53), end_station='Mountain View Caltrain Station', end_terminal='28', bike_id=187, subscription_type='Subscriber', zip_code='94024'),\n",
       "  Trip(trip_id=197704, duration=113, start_date=datetime.datetime(2014, 2, 27, 17, 42), start_station='Mountain View City Hall', start_terminal=27, end_date=datetime.datetime(2014, 2, 27, 17, 44), end_station='Castro Street and El Camino Real', end_terminal='32', bike_id=194, subscription_type='Subscriber', zip_code='94041'),\n",
       "  Trip(trip_id=197811, duration=228, start_date=datetime.datetime(2014, 2, 27, 18, 24), start_station='Mountain View City Hall', start_terminal=27, end_date=datetime.datetime(2014, 2, 27, 18, 28), end_station='Mountain View Caltrain Station', end_terminal='28', bike_id=187, subscription_type='Subscriber', zip_code='94107'),\n",
       "  Trip(trip_id=197919, duration=214, start_date=datetime.datetime(2014, 2, 27, 19, 42), start_station='Mountain View City Hall', start_terminal=27, end_date=datetime.datetime(2014, 2, 27, 19, 46), end_station='Mountain View Caltrain Station', end_terminal='28', bike_id=134, subscription_type='Subscriber', zip_code='94158'),\n",
       "  Trip(trip_id=198055, duration=225, start_date=datetime.datetime(2014, 2, 28, 6, 51), start_station='Mountain View City Hall', start_terminal=27, end_date=datetime.datetime(2014, 2, 28, 6, 55), end_station='Mountain View Caltrain Station', end_terminal='28', bike_id=129, subscription_type='Customer', zip_code='94041'),\n",
       "  Trip(trip_id=198245, duration=204, start_date=datetime.datetime(2014, 2, 28, 9, 29), start_station='Mountain View City Hall', start_terminal=27, end_date=datetime.datetime(2014, 2, 28, 9, 32), end_station='Mountain View Caltrain Station', end_terminal='28', bike_id=693, subscription_type='Subscriber', zip_code='94041'),\n",
       "  Trip(trip_id=198335, duration=296, start_date=datetime.datetime(2014, 2, 28, 10, 48), start_station='Mountain View City Hall', start_terminal=27, end_date=datetime.datetime(2014, 2, 28, 10, 53), end_station='Mountain View Caltrain Station', end_terminal='28', bike_id=58, subscription_type='Subscriber', zip_code='94040'),\n",
       "  Trip(trip_id=198739, duration=196, start_date=datetime.datetime(2014, 2, 28, 19, 44), start_station='Mountain View City Hall', start_terminal=27, end_date=datetime.datetime(2014, 2, 28, 19, 48), end_station='Mountain View Caltrain Station', end_terminal='28', bike_id=134, subscription_type='Subscriber', zip_code='94401'),\n",
       "  Trip(trip_id=199744, duration=229, start_date=datetime.datetime(2014, 3, 3, 8, 12), start_station='Mountain View City Hall', start_terminal=27, end_date=datetime.datetime(2014, 3, 3, 8, 15), end_station='Mountain View Caltrain Station', end_terminal='28', bike_id=51, subscription_type='Subscriber', zip_code='94041'),\n",
       "  Trip(trip_id=200338, duration=204, start_date=datetime.datetime(2014, 3, 3, 16, 18), start_station='Mountain View City Hall', start_terminal=27, end_date=datetime.datetime(2014, 3, 3, 16, 21), end_station='Mountain View Caltrain Station', end_terminal='28', bike_id=77, subscription_type='Subscriber', zip_code='94107'),\n",
       "  Trip(trip_id=200340, duration=298, start_date=datetime.datetime(2014, 3, 3, 16, 21), start_station='Mountain View City Hall', start_terminal=27, end_date=datetime.datetime(2014, 3, 3, 16, 26), end_station='Mountain View Caltrain Station', end_terminal='28', bike_id=63, subscription_type='Subscriber', zip_code='94102'),\n",
       "  Trip(trip_id=200474, duration=288, start_date=datetime.datetime(2014, 3, 3, 17, 29), start_station='Mountain View City Hall', start_terminal=27, end_date=datetime.datetime(2014, 3, 3, 17, 33), end_station='Mountain View Caltrain Station', end_terminal='28', bike_id=694, subscription_type='Subscriber', zip_code='94107'),\n",
       "  Trip(trip_id=200596, duration=230, start_date=datetime.datetime(2014, 3, 3, 19, 42), start_station='Mountain View City Hall', start_terminal=27, end_date=datetime.datetime(2014, 3, 3, 19, 46), end_station='Mountain View Caltrain Station', end_terminal='28', bike_id=230, subscription_type='Subscriber', zip_code='94158'),\n",
       "  Trip(trip_id=200758, duration=216, start_date=datetime.datetime(2014, 3, 4, 7, 50), start_station='Mountain View City Hall', start_terminal=27, end_date=datetime.datetime(2014, 3, 4, 7, 53), end_station='Mountain View Caltrain Station', end_terminal='28', bike_id=134, subscription_type='Subscriber', zip_code='94041'),\n",
       "  Trip(trip_id=201412, duration=499, start_date=datetime.datetime(2014, 3, 4, 16, 14), start_station='Mountain View City Hall', start_terminal=27, end_date=datetime.datetime(2014, 3, 4, 16, 23), end_station='Rengstorff Avenue / California Street', end_terminal='33', bike_id=58, subscription_type='Subscriber', zip_code='94025'),\n",
       "  Trip(trip_id=201464, duration=224, start_date=datetime.datetime(2014, 3, 4, 16, 48), start_station='Mountain View City Hall', start_terminal=27, end_date=datetime.datetime(2014, 3, 4, 16, 52), end_station='Mountain View Caltrain Station', end_terminal='28', bike_id=61, subscription_type='Subscriber', zip_code='94107'),\n",
       "  Trip(trip_id=201616, duration=255, start_date=datetime.datetime(2014, 3, 4, 17, 39), start_station='Mountain View City Hall', start_terminal=27, end_date=datetime.datetime(2014, 3, 4, 17, 44), end_station='Mountain View Caltrain Station', end_terminal='28', bike_id=694, subscription_type='Subscriber', zip_code='94107'),\n",
       "  Trip(trip_id=201733, duration=205, start_date=datetime.datetime(2014, 3, 4, 18, 29), start_station='Mountain View City Hall', start_terminal=27, end_date=datetime.datetime(2014, 3, 4, 18, 32), end_station='Mountain View Caltrain Station', end_terminal='28', bike_id=696, subscription_type='Subscriber', zip_code='94158'),\n",
       "  Trip(trip_id=201875, duration=187, start_date=datetime.datetime(2014, 3, 4, 19, 45), start_station='Mountain View City Hall', start_terminal=27, end_date=datetime.datetime(2014, 3, 4, 19, 48), end_station='Mountain View Caltrain Station', end_terminal='28', bike_id=679, subscription_type='Subscriber', zip_code='94401'),\n",
       "  Trip(trip_id=201975, duration=212, start_date=datetime.datetime(2014, 3, 5, 5, 51), start_station='Mountain View City Hall', start_terminal=27, end_date=datetime.datetime(2014, 3, 5, 5, 55), end_station='Mountain View Caltrain Station', end_terminal='28', bike_id=122, subscription_type='Subscriber', zip_code='94024'),\n",
       "  Trip(trip_id=202077, duration=208, start_date=datetime.datetime(2014, 3, 5, 7, 52), start_station='Mountain View City Hall', start_terminal=27, end_date=datetime.datetime(2014, 3, 5, 7, 55), end_station='Mountain View Caltrain Station', end_terminal='28', bike_id=9, subscription_type='Subscriber', zip_code='94041'),\n",
       "  Trip(trip_id=202093, duration=220, start_date=datetime.datetime(2014, 3, 5, 7, 57), start_station='Mountain View City Hall', start_terminal=27, end_date=datetime.datetime(2014, 3, 5, 8, 1), end_station='Mountain View Caltrain Station', end_terminal='28', bike_id=230, subscription_type='Customer', zip_code='94041'),\n",
       "  Trip(trip_id=202347, duration=210, start_date=datetime.datetime(2014, 3, 5, 9, 22), start_station='Mountain View City Hall', start_terminal=27, end_date=datetime.datetime(2014, 3, 5, 9, 25), end_station='Mountain View Caltrain Station', end_terminal='28', bike_id=153, subscription_type='Subscriber', zip_code='94041'),\n",
       "  Trip(trip_id=203129, duration=191, start_date=datetime.datetime(2014, 3, 5, 18, 29), start_station='Mountain View City Hall', start_terminal=27, end_date=datetime.datetime(2014, 3, 5, 18, 32), end_station='Mountain View Caltrain Station', end_terminal='28', bike_id=230, subscription_type='Subscriber', zip_code='94158'),\n",
       "  Trip(trip_id=203535, duration=274, start_date=datetime.datetime(2014, 3, 6, 8, 11), start_station='Mountain View City Hall', start_terminal=27, end_date=datetime.datetime(2014, 3, 6, 8, 16), end_station='Mountain View Caltrain Station', end_terminal='28', bike_id=9, subscription_type='Subscriber', zip_code='94041'),\n",
       "  Trip(trip_id=203670, duration=194, start_date=datetime.datetime(2014, 3, 6, 8, 54), start_station='Mountain View City Hall', start_terminal=27, end_date=datetime.datetime(2014, 3, 6, 8, 57), end_station='Mountain View Caltrain Station', end_terminal='28', bike_id=304, subscription_type='Subscriber', zip_code='94041'),\n",
       "  Trip(trip_id=204092, duration=4046, start_date=datetime.datetime(2014, 3, 6, 13, 50), start_station='Mountain View City Hall', start_terminal=27, end_date=datetime.datetime(2014, 3, 6, 14, 57), end_station='Mountain View Caltrain Station', end_terminal='28', bike_id=85, subscription_type='Customer', zip_code='nil'),\n",
       "  Trip(trip_id=204277, duration=229, start_date=datetime.datetime(2014, 3, 6, 16, 48), start_station='Mountain View City Hall', start_terminal=27, end_date=datetime.datetime(2014, 3, 6, 16, 51), end_station='Mountain View Caltrain Station', end_terminal='28', bike_id=77, subscription_type='Subscriber', zip_code='94107'),\n",
       "  Trip(trip_id=204658, duration=234, start_date=datetime.datetime(2014, 3, 6, 19, 41), start_station='Mountain View City Hall', start_terminal=27, end_date=datetime.datetime(2014, 3, 6, 19, 45), end_station='Mountain View Caltrain Station', end_terminal='28', bike_id=257, subscription_type='Subscriber', zip_code='94158'),\n",
       "  Trip(trip_id=204952, duration=326, start_date=datetime.datetime(2014, 3, 7, 8, 8), start_station='Mountain View City Hall', start_terminal=27, end_date=datetime.datetime(2014, 3, 7, 8, 14), end_station='Mountain View Caltrain Station', end_terminal='28', bike_id=77, subscription_type='Subscriber', zip_code='94041'),\n",
       "  Trip(trip_id=205093, duration=2308, start_date=datetime.datetime(2014, 3, 7, 8, 56), start_station='Mountain View City Hall', start_terminal=27, end_date=datetime.datetime(2014, 3, 7, 9, 34), end_station='Mountain View Caltrain Station', end_terminal='28', bike_id=713, subscription_type='Subscriber', zip_code='94041'),\n",
       "  Trip(trip_id=205635, duration=224, start_date=datetime.datetime(2014, 3, 7, 16, 1), start_station='Mountain View City Hall', start_terminal=27, end_date=datetime.datetime(2014, 3, 7, 16, 5), end_station='Mountain View Caltrain Station', end_terminal='28', bike_id=230, subscription_type='Subscriber', zip_code='94043'),\n",
       "  Trip(trip_id=205658, duration=246, start_date=datetime.datetime(2014, 3, 7, 16, 22), start_station='Mountain View City Hall', start_terminal=27, end_date=datetime.datetime(2014, 3, 7, 16, 26), end_station='Mountain View Caltrain Station', end_terminal='28', bike_id=146, subscription_type='Subscriber', zip_code='94107'),\n",
       "  Trip(trip_id=205767, duration=220, start_date=datetime.datetime(2014, 3, 7, 17, 8), start_station='Mountain View City Hall', start_terminal=27, end_date=datetime.datetime(2014, 3, 7, 17, 12), end_station='Mountain View Caltrain Station', end_terminal='28', bike_id=9, subscription_type='Subscriber', zip_code='94107'),\n",
       "  Trip(trip_id=206835, duration=227, start_date=datetime.datetime(2014, 3, 9, 10, 23), start_station='Mountain View City Hall', start_terminal=27, end_date=datetime.datetime(2014, 3, 9, 10, 27), end_station='Mountain View Caltrain Station', end_terminal='28', bike_id=53, subscription_type='Customer', zip_code='94086'),\n",
       "  Trip(trip_id=207414, duration=258, start_date=datetime.datetime(2014, 3, 9, 18, 47), start_station='Mountain View City Hall', start_terminal=27, end_date=datetime.datetime(2014, 3, 9, 18, 51), end_station='Mountain View Caltrain Station', end_terminal='28', bike_id=106, subscription_type='Subscriber', zip_code='94118'),\n",
       "  Trip(trip_id=207496, duration=235, start_date=datetime.datetime(2014, 3, 9, 20, 44), start_station='Mountain View City Hall', start_terminal=27, end_date=datetime.datetime(2014, 3, 9, 20, 48), end_station='Castro Street and El Camino Real', end_terminal='32', bike_id=257, subscription_type='Customer', zip_code='nil'),\n",
       "  Trip(trip_id=207659, duration=227, start_date=datetime.datetime(2014, 3, 10, 8, 15), start_station='Mountain View City Hall', start_terminal=27, end_date=datetime.datetime(2014, 3, 10, 8, 19), end_station='Mountain View Caltrain Station', end_terminal='28', bike_id=194, subscription_type='Subscriber', zip_code='94041'),\n",
       "  Trip(trip_id=207859, duration=187, start_date=datetime.datetime(2014, 3, 10, 9, 26), start_station='Mountain View City Hall', start_terminal=27, end_date=datetime.datetime(2014, 3, 10, 9, 30), end_station='Mountain View Caltrain Station', end_terminal='28', bike_id=77, subscription_type='Subscriber', zip_code='94041'),\n",
       "  Trip(trip_id=208508, duration=243, start_date=datetime.datetime(2014, 3, 10, 17, 29), start_station='Mountain View City Hall', start_terminal=27, end_date=datetime.datetime(2014, 3, 10, 17, 33), end_station='Mountain View Caltrain Station', end_terminal='28', bike_id=714, subscription_type='Subscriber', zip_code='94107'),\n",
       "  Trip(trip_id=208750, duration=195, start_date=datetime.datetime(2014, 3, 10, 19, 3), start_station='Mountain View City Hall', start_terminal=27, end_date=datetime.datetime(2014, 3, 10, 19, 6), end_station='Mountain View Caltrain Station', end_terminal='28', bike_id=696, subscription_type='Subscriber', zip_code='94158'),\n",
       "  Trip(trip_id=209143, duration=208, start_date=datetime.datetime(2014, 3, 11, 8, 18), start_station='Mountain View City Hall', start_terminal=27, end_date=datetime.datetime(2014, 3, 11, 8, 21), end_station='Mountain View Caltrain Station', end_terminal='28', bike_id=68, subscription_type='Subscriber', zip_code='94041'),\n",
       "  Trip(trip_id=209261, duration=208, start_date=datetime.datetime(2014, 3, 11, 8, 55), start_station='Mountain View City Hall', start_terminal=27, end_date=datetime.datetime(2014, 3, 11, 8, 59), end_station='Mountain View Caltrain Station', end_terminal='28', bike_id=694, subscription_type='Subscriber', zip_code='94041'),\n",
       "  Trip(trip_id=210073, duration=213, start_date=datetime.datetime(2014, 3, 11, 17, 46), start_station='Mountain View City Hall', start_terminal=27, end_date=datetime.datetime(2014, 3, 11, 17, 49), end_station='Mountain View Caltrain Station', end_terminal='28', bike_id=28, subscription_type='Subscriber', zip_code='94123'),\n",
       "  Trip(trip_id=210585, duration=205, start_date=datetime.datetime(2014, 3, 12, 7, 54), start_station='Mountain View City Hall', start_terminal=27, end_date=datetime.datetime(2014, 3, 12, 7, 57), end_station='Mountain View Caltrain Station', end_terminal='28', bike_id=155, subscription_type='Subscriber', zip_code='94040'),\n",
       "  Trip(trip_id=211545, duration=263, start_date=datetime.datetime(2014, 3, 12, 17, 47), start_station='Mountain View City Hall', start_terminal=27, end_date=datetime.datetime(2014, 3, 12, 17, 51), end_station='Mountain View Caltrain Station', end_terminal='28', bike_id=84, subscription_type='Subscriber', zip_code='94107'),\n",
       "  Trip(trip_id=211647, duration=369, start_date=datetime.datetime(2014, 3, 12, 18, 24), start_station='Mountain View City Hall', start_terminal=27, end_date=datetime.datetime(2014, 3, 12, 18, 30), end_station='Mountain View Caltrain Station', end_terminal='28', bike_id=29, subscription_type='Subscriber', zip_code='94102'),\n",
       "  Trip(trip_id=211819, duration=197, start_date=datetime.datetime(2014, 3, 12, 20, 42), start_station='Mountain View City Hall', start_terminal=27, end_date=datetime.datetime(2014, 3, 12, 20, 45), end_station='Mountain View Caltrain Station', end_terminal='28', bike_id=257, subscription_type='Subscriber', zip_code='94158'),\n",
       "  Trip(trip_id=212073, duration=198, start_date=datetime.datetime(2014, 3, 13, 8, 16), start_station='Mountain View City Hall', start_terminal=27, end_date=datetime.datetime(2014, 3, 13, 8, 19), end_station='Mountain View Caltrain Station', end_terminal='28', bike_id=693, subscription_type='Subscriber', zip_code='94041'),\n",
       "  Trip(trip_id=212211, duration=215, start_date=datetime.datetime(2014, 3, 13, 8, 53), start_station='Mountain View City Hall', start_terminal=27, end_date=datetime.datetime(2014, 3, 13, 8, 57), end_station='Mountain View Caltrain Station', end_terminal='28', bike_id=77, subscription_type='Subscriber', zip_code='94041'),\n",
       "  Trip(trip_id=212563, duration=586, start_date=datetime.datetime(2014, 3, 13, 12, 42), start_station='Mountain View City Hall', start_terminal=27, end_date=datetime.datetime(2014, 3, 13, 12, 52), end_station='Evelyn Park and Ride', end_terminal='30', bike_id=246, subscription_type='Subscriber', zip_code='94117'),\n",
       "  Trip(trip_id=213025, duration=254, start_date=datetime.datetime(2014, 3, 13, 17, 26), start_station='Mountain View City Hall', start_terminal=27, end_date=datetime.datetime(2014, 3, 13, 17, 31), end_station='Mountain View Caltrain Station', end_terminal='28', bike_id=257, subscription_type='Subscriber', zip_code='94107'),\n",
       "  Trip(trip_id=213024, duration=258, start_date=datetime.datetime(2014, 3, 13, 17, 26), start_station='Mountain View City Hall', start_terminal=27, end_date=datetime.datetime(2014, 3, 13, 17, 31), end_station='Mountain View Caltrain Station', end_terminal='28', bike_id=662, subscription_type='Subscriber', zip_code='94107'),\n",
       "  Trip(trip_id=213386, duration=236, start_date=datetime.datetime(2014, 3, 13, 20, 40), start_station='Mountain View City Hall', start_terminal=27, end_date=datetime.datetime(2014, 3, 13, 20, 43), end_station='Mountain View Caltrain Station', end_terminal='28', bike_id=155, subscription_type='Subscriber', zip_code='94158'),\n",
       "  Trip(trip_id=213576, duration=240, start_date=datetime.datetime(2014, 3, 14, 7, 57), start_station='Mountain View City Hall', start_terminal=27, end_date=datetime.datetime(2014, 3, 14, 8, 1), end_station='Mountain View Caltrain Station', end_terminal='28', bike_id=713, subscription_type='Subscriber', zip_code='94041'),\n",
       "  Trip(trip_id=213617, duration=192, start_date=datetime.datetime(2014, 3, 14, 8, 19), start_station='Mountain View City Hall', start_terminal=27, end_date=datetime.datetime(2014, 3, 14, 8, 23), end_station='Mountain View Caltrain Station', end_terminal='28', bike_id=77, subscription_type='Subscriber', zip_code='94041'),\n",
       "  Trip(trip_id=214326, duration=252, start_date=datetime.datetime(2014, 3, 14, 16, 23), start_station='Mountain View City Hall', start_terminal=27, end_date=datetime.datetime(2014, 3, 14, 16, 27), end_station='Mountain View Caltrain Station', end_terminal='28', bike_id=77, subscription_type='Subscriber', zip_code='94107'),\n",
       "  Trip(trip_id=214552, duration=257, start_date=datetime.datetime(2014, 3, 14, 17, 53), start_station='Mountain View City Hall', start_terminal=27, end_date=datetime.datetime(2014, 3, 14, 17, 57), end_station='Mountain View Caltrain Station', end_terminal='28', bike_id=713, subscription_type='Subscriber', zip_code='94107'),\n",
       "  Trip(trip_id=215368, duration=372, start_date=datetime.datetime(2014, 3, 15, 17, 11), start_station='Mountain View City Hall', start_terminal=27, end_date=datetime.datetime(2014, 3, 15, 17, 17), end_station='Mountain View Caltrain Station', end_terminal='28', bike_id=650, subscription_type='Customer', zip_code='15217'),\n",
       "  Trip(trip_id=215488, duration=4725, start_date=datetime.datetime(2014, 3, 15, 19, 48), start_station='Mountain View City Hall', start_terminal=27, end_date=datetime.datetime(2014, 3, 15, 21, 6), end_station='Mountain View City Hall', end_terminal='27', bike_id=686, subscription_type='Customer', zip_code='94087'),\n",
       "  Trip(trip_id=215487, duration=4748, start_date=datetime.datetime(2014, 3, 15, 19, 48), start_station='Mountain View City Hall', start_terminal=27, end_date=datetime.datetime(2014, 3, 15, 21, 7), end_station='Mountain View City Hall', end_terminal='27', bike_id=302, subscription_type='Customer', zip_code='94087'),\n",
       "  Trip(trip_id=215494, duration=4534, start_date=datetime.datetime(2014, 3, 15, 19, 51), start_station='Mountain View City Hall', start_terminal=27, end_date=datetime.datetime(2014, 3, 15, 21, 7), end_station='Mountain View City Hall', end_terminal='27', bike_id=68, subscription_type='Customer', zip_code='94403'),\n",
       "  Trip(trip_id=215493, duration=4554, start_date=datetime.datetime(2014, 3, 15, 19, 51), start_station='Mountain View City Hall', start_terminal=27, end_date=datetime.datetime(2014, 3, 15, 21, 7), end_station='Mountain View City Hall', end_terminal='27', bike_id=257, subscription_type='Customer', zip_code='94403'),\n",
       "  Trip(trip_id=215497, duration=4425, start_date=datetime.datetime(2014, 3, 15, 19, 53), start_station='Mountain View City Hall', start_terminal=27, end_date=datetime.datetime(2014, 3, 15, 21, 7), end_station='Mountain View City Hall', end_terminal='27', bike_id=58, subscription_type='Customer', zip_code='95030'),\n",
       "  Trip(trip_id=215496, duration=4428, start_date=datetime.datetime(2014, 3, 15, 19, 53), start_station='Mountain View City Hall', start_terminal=27, end_date=datetime.datetime(2014, 3, 15, 21, 7), end_station='Mountain View City Hall', end_terminal='27', bike_id=41, subscription_type='Customer', zip_code='95030'),\n",
       "  Trip(trip_id=216318, duration=203, start_date=datetime.datetime(2014, 3, 17, 7, 59), start_station='Mountain View City Hall', start_terminal=27, end_date=datetime.datetime(2014, 3, 17, 8, 2), end_station='Mountain View Caltrain Station', end_terminal='28', bike_id=686, subscription_type='Subscriber', zip_code='94041'),\n",
       "  Trip(trip_id=216469, duration=176, start_date=datetime.datetime(2014, 3, 17, 8, 56), start_station='Mountain View City Hall', start_terminal=27, end_date=datetime.datetime(2014, 3, 17, 8, 58), end_station='Mountain View Caltrain Station', end_terminal='28', bike_id=58, subscription_type='Subscriber', zip_code='94041'),\n",
       "  Trip(trip_id=216775, duration=1955, start_date=datetime.datetime(2014, 3, 17, 12, 24), start_station='Mountain View City Hall', start_terminal=27, end_date=datetime.datetime(2014, 3, 17, 12, 56), end_station='Mountain View City Hall', end_terminal='27', bike_id=41, subscription_type='Customer', zip_code='54601'),\n",
       "  Trip(trip_id=216782, duration=15693, start_date=datetime.datetime(2014, 3, 17, 12, 30), start_station='Mountain View City Hall', start_terminal=27, end_date=datetime.datetime(2014, 3, 17, 16, 52), end_station='Mountain View City Hall', end_terminal='27', bike_id=102, subscription_type='Customer', zip_code='94041'),\n",
       "  Trip(trip_id=217060, duration=219, start_date=datetime.datetime(2014, 3, 17, 16, 47), start_station='Mountain View City Hall', start_terminal=27, end_date=datetime.datetime(2014, 3, 17, 16, 51), end_station='Mountain View Caltrain Station', end_terminal='28', bike_id=194, subscription_type='Subscriber', zip_code='94107'),\n",
       "  Trip(trip_id=217425, duration=262, start_date=datetime.datetime(2014, 3, 17, 18, 52), start_station='Mountain View City Hall', start_terminal=27, end_date=datetime.datetime(2014, 3, 17, 18, 57), end_station='Mountain View Caltrain Station', end_terminal='28', bike_id=246, subscription_type='Subscriber', zip_code='94107'),\n",
       "  Trip(trip_id=217541, duration=178, start_date=datetime.datetime(2014, 3, 17, 20, 43), start_station='Mountain View City Hall', start_terminal=27, end_date=datetime.datetime(2014, 3, 17, 20, 46), end_station='Mountain View Caltrain Station', end_terminal='28', bike_id=134, subscription_type='Subscriber', zip_code='94158'),\n",
       "  Trip(trip_id=217608, duration=141, start_date=datetime.datetime(2014, 3, 18, 5, 54), start_station='Mountain View City Hall', start_terminal=27, end_date=datetime.datetime(2014, 3, 18, 5, 56), end_station='Mountain View Caltrain Station', end_terminal='28', bike_id=102, subscription_type='Subscriber', zip_code='94024'),\n",
       "  Trip(trip_id=217727, duration=191, start_date=datetime.datetime(2014, 3, 18, 8, 1), start_station='Mountain View City Hall', start_terminal=27, end_date=datetime.datetime(2014, 3, 18, 8, 4), end_station='Mountain View Caltrain Station', end_terminal='28', bike_id=235, subscription_type='Subscriber', zip_code='94041'),\n",
       "  Trip(trip_id=217963, duration=239, start_date=datetime.datetime(2014, 3, 18, 9, 22), start_station='Mountain View City Hall', start_terminal=27, end_date=datetime.datetime(2014, 3, 18, 9, 26), end_station='Mountain View Caltrain Station', end_terminal='28', bike_id=9, subscription_type='Subscriber', zip_code='94041'),\n",
       "  Trip(trip_id=218573, duration=231, start_date=datetime.datetime(2014, 3, 18, 16, 47), start_station='Mountain View City Hall', start_terminal=27, end_date=datetime.datetime(2014, 3, 18, 16, 51), end_station='Mountain View Caltrain Station', end_terminal='28', bike_id=60, subscription_type='Subscriber', zip_code='94107'),\n",
       "  Trip(trip_id=218583, duration=271, start_date=datetime.datetime(2014, 3, 18, 16, 51), start_station='Mountain View City Hall', start_terminal=27, end_date=datetime.datetime(2014, 3, 18, 16, 55), end_station='Mountain View Caltrain Station', end_terminal='28', bike_id=246, subscription_type='Subscriber', zip_code='94107'),\n",
       "  Trip(trip_id=218904, duration=209, start_date=datetime.datetime(2014, 3, 18, 18, 34), start_station='Mountain View City Hall', start_terminal=27, end_date=datetime.datetime(2014, 3, 18, 18, 37), end_station='Mountain View Caltrain Station', end_terminal='28', bike_id=714, subscription_type='Subscriber', zip_code='94158'),\n",
       "  Trip(trip_id=218933, duration=722, start_date=datetime.datetime(2014, 3, 18, 18, 45), start_station='Mountain View City Hall', start_terminal=27, end_date=datetime.datetime(2014, 3, 18, 18, 57), end_station='San Antonio Caltrain Station', end_terminal='29', bike_id=686, subscription_type='Subscriber', zip_code='94025'),\n",
       "  Trip(trip_id=219323, duration=208, start_date=datetime.datetime(2014, 3, 19, 8, 18), start_station='Mountain View City Hall', start_terminal=27, end_date=datetime.datetime(2014, 3, 19, 8, 21), end_station='Mountain View Caltrain Station', end_terminal='28', bike_id=41, subscription_type='Subscriber', zip_code='94041'),\n",
       "  Trip(trip_id=219436, duration=269, start_date=datetime.datetime(2014, 3, 19, 8, 52), start_station='Mountain View City Hall', start_terminal=27, end_date=datetime.datetime(2014, 3, 19, 8, 56), end_station='Mountain View Caltrain Station', end_terminal='28', bike_id=163, subscription_type='Subscriber', zip_code='94041'),\n",
       "  Trip(trip_id=220523, duration=1435, start_date=datetime.datetime(2014, 3, 19, 19, 54), start_station='Mountain View City Hall', start_terminal=27, end_date=datetime.datetime(2014, 3, 19, 20, 18), end_station='Mountain View Caltrain Station', end_terminal='28', bike_id=705, subscription_type='Customer', zip_code='94043'),\n",
       "  Trip(trip_id=220522, duration=1436, start_date=datetime.datetime(2014, 3, 19, 19, 54), start_station='Mountain View City Hall', start_terminal=27, end_date=datetime.datetime(2014, 3, 19, 20, 18), end_station='Mountain View Caltrain Station', end_terminal='28', bike_id=198, subscription_type='Customer', zip_code='94043'),\n",
       "  Trip(trip_id=220863, duration=237, start_date=datetime.datetime(2014, 3, 20, 8, 16), start_station='Mountain View City Hall', start_terminal=27, end_date=datetime.datetime(2014, 3, 20, 8, 20), end_station='Mountain View Caltrain Station', end_terminal='28', bike_id=68, subscription_type='Subscriber', zip_code='94041'),\n",
       "  Trip(trip_id=221067, duration=203, start_date=datetime.datetime(2014, 3, 20, 9, 23), start_station='Mountain View City Hall', start_terminal=27, end_date=datetime.datetime(2014, 3, 20, 9, 26), end_station='Mountain View Caltrain Station', end_terminal='28', bike_id=197, subscription_type='Subscriber', zip_code='94041'),\n",
       "  Trip(trip_id=222120, duration=198, start_date=datetime.datetime(2014, 3, 20, 21, 43), start_station='Mountain View City Hall', start_terminal=27, end_date=datetime.datetime(2014, 3, 20, 21, 47), end_station='Mountain View Caltrain Station', end_terminal='28', bike_id=28, subscription_type='Subscriber', zip_code='94158'),\n",
       "  Trip(trip_id=222501, duration=209, start_date=datetime.datetime(2014, 3, 21, 9, 24), start_station='Mountain View City Hall', start_terminal=27, end_date=datetime.datetime(2014, 3, 21, 9, 28), end_station='Mountain View Caltrain Station', end_terminal='28', bike_id=134, subscription_type='Subscriber', zip_code='94041'),\n",
       "  Trip(trip_id=223002, duration=205, start_date=datetime.datetime(2014, 3, 21, 15, 50), start_station='Mountain View City Hall', start_terminal=27, end_date=datetime.datetime(2014, 3, 21, 15, 53), end_station='Mountain View Caltrain Station', end_terminal='28', bike_id=131, subscription_type='Subscriber', zip_code='94107'),\n",
       "  Trip(trip_id=224085, duration=256, start_date=datetime.datetime(2014, 3, 23, 9, 6), start_station='Mountain View City Hall', start_terminal=27, end_date=datetime.datetime(2014, 3, 23, 9, 10), end_station='Mountain View Caltrain Station', end_terminal='28', bike_id=693, subscription_type='Subscriber', zip_code='94041'),\n",
       "  Trip(trip_id=224845, duration=278, start_date=datetime.datetime(2014, 3, 24, 8, 52), start_station='Mountain View City Hall', start_terminal=27, end_date=datetime.datetime(2014, 3, 24, 8, 57), end_station='Mountain View Caltrain Station', end_terminal='28', bike_id=139, subscription_type='Subscriber', zip_code='94041'),\n",
       "  Trip(trip_id=225613, duration=255, start_date=datetime.datetime(2014, 3, 24, 17, 53), start_station='Mountain View City Hall', start_terminal=27, end_date=datetime.datetime(2014, 3, 24, 17, 57), end_station='Mountain View Caltrain Station', end_terminal='28', bike_id=714, subscription_type='Subscriber', zip_code='94107'),\n",
       "  Trip(trip_id=225692, duration=220, start_date=datetime.datetime(2014, 3, 24, 18, 26), start_station='Mountain View City Hall', start_terminal=27, end_date=datetime.datetime(2014, 3, 24, 18, 30), end_station='Mountain View Caltrain Station', end_terminal='28', bike_id=97, subscription_type='Subscriber', zip_code='94158'),\n",
       "  Trip(trip_id=225699, duration=5318, start_date=datetime.datetime(2014, 3, 24, 18, 28), start_station='Mountain View City Hall', start_terminal=27, end_date=datetime.datetime(2014, 3, 24, 19, 57), end_station='Mountain View City Hall', end_terminal='27', bike_id=163, subscription_type='Customer', zip_code='95037'),\n",
       "  Trip(trip_id=225700, duration=5297, start_date=datetime.datetime(2014, 3, 24, 18, 29), start_station='Mountain View City Hall', start_terminal=27, end_date=datetime.datetime(2014, 3, 24, 19, 57), end_station='Mountain View City Hall', end_terminal='27', bike_id=106, subscription_type='Customer', zip_code='95037'),\n",
       "  Trip(trip_id=225708, duration=5113, start_date=datetime.datetime(2014, 3, 24, 18, 32), start_station='Mountain View City Hall', start_terminal=27, end_date=datetime.datetime(2014, 3, 24, 19, 57), end_station='Mountain View City Hall', end_terminal='27', bike_id=58, subscription_type='Customer', zip_code='886'),\n",
       "  Trip(trip_id=225892, duration=217, start_date=datetime.datetime(2014, 3, 24, 22, 43), start_station='Mountain View City Hall', start_terminal=27, end_date=datetime.datetime(2014, 3, 24, 22, 46), end_station='Mountain View Caltrain Station', end_terminal='28', bike_id=106, subscription_type='Subscriber', zip_code='94401'),\n",
       "  Trip(trip_id=225912, duration=146, start_date=datetime.datetime(2014, 3, 25, 5, 53), start_station='Mountain View City Hall', start_terminal=27, end_date=datetime.datetime(2014, 3, 25, 5, 56), end_station='Mountain View Caltrain Station', end_terminal='28', bike_id=58, subscription_type='Subscriber', zip_code='94024'),\n",
       "  Trip(trip_id=226319, duration=212, start_date=datetime.datetime(2014, 3, 25, 9, 21), start_station='Mountain View City Hall', start_terminal=27, end_date=datetime.datetime(2014, 3, 25, 9, 25), end_station='Mountain View Caltrain Station', end_terminal='28', bike_id=29, subscription_type='Subscriber', zip_code='94041'),\n",
       "  Trip(trip_id=226467, duration=439, start_date=datetime.datetime(2014, 3, 25, 11, 10), start_station='Mountain View City Hall', start_terminal=27, end_date=datetime.datetime(2014, 3, 25, 11, 17), end_station='Evelyn Park and Ride', end_terminal='30', bike_id=198, subscription_type='Customer', zip_code='94041'),\n",
       "  Trip(trip_id=226504, duration=2786, start_date=datetime.datetime(2014, 3, 25, 12, 19), start_station='Mountain View City Hall', start_terminal=27, end_date=datetime.datetime(2014, 3, 25, 13, 5), end_station='Mountain View City Hall', end_terminal='27', bike_id=29, subscription_type='Customer', zip_code='94402'),\n",
       "  Trip(trip_id=226788, duration=209, start_date=datetime.datetime(2014, 3, 25, 17, 20), start_station='Mountain View City Hall', start_terminal=27, end_date=datetime.datetime(2014, 3, 25, 17, 23), end_station='Mountain View Caltrain Station', end_terminal='28', bike_id=9, subscription_type='Subscriber', zip_code='94107'),\n",
       "  Trip(trip_id=227066, duration=189, start_date=datetime.datetime(2014, 3, 25, 19, 44), start_station='Mountain View City Hall', start_terminal=27, end_date=datetime.datetime(2014, 3, 25, 19, 47), end_station='Mountain View Caltrain Station', end_terminal='28', bike_id=714, subscription_type='Subscriber', zip_code='94107'),\n",
       "  Trip(trip_id=227104, duration=243, start_date=datetime.datetime(2014, 3, 25, 20, 37), start_station='Mountain View City Hall', start_terminal=27, end_date=datetime.datetime(2014, 3, 25, 20, 41), end_station='Mountain View Caltrain Station', end_terminal='28', bike_id=29, subscription_type='Subscriber', zip_code='94158'),\n",
       "  Trip(trip_id=227176, duration=164, start_date=datetime.datetime(2014, 3, 26, 5, 53), start_station='Mountain View City Hall', start_terminal=27, end_date=datetime.datetime(2014, 3, 26, 5, 56), end_station='Mountain View Caltrain Station', end_terminal='28', bike_id=58, subscription_type='Subscriber', zip_code='94024'),\n",
       "  Trip(trip_id=227310, duration=199, start_date=datetime.datetime(2014, 3, 26, 9, 21), start_station='Mountain View City Hall', start_terminal=27, end_date=datetime.datetime(2014, 3, 26, 9, 25), end_station='Mountain View Caltrain Station', end_terminal='28', bike_id=194, subscription_type='Subscriber', zip_code='94041'),\n",
       "  Trip(trip_id=227732, duration=233, start_date=datetime.datetime(2014, 3, 26, 17, 19), start_station='Mountain View City Hall', start_terminal=27, end_date=datetime.datetime(2014, 3, 26, 17, 23), end_station='Mountain View Caltrain Station', end_terminal='28', bike_id=97, subscription_type='Subscriber', zip_code='94107'),\n",
       "  Trip(trip_id=227867, duration=318, start_date=datetime.datetime(2014, 3, 26, 18, 11), start_station='Mountain View City Hall', start_terminal=27, end_date=datetime.datetime(2014, 3, 26, 18, 17), end_station='Mountain View Caltrain Station', end_terminal='28', bike_id=144, subscription_type='Subscriber', zip_code='94158'),\n",
       "  Trip(trip_id=229170, duration=202, start_date=datetime.datetime(2014, 3, 27, 17, 29), start_station='Mountain View City Hall', start_terminal=27, end_date=datetime.datetime(2014, 3, 27, 17, 32), end_station='Mountain View Caltrain Station', end_terminal='28', bike_id=195, subscription_type='Subscriber', zip_code='94107'),\n",
       "  Trip(trip_id=229166, duration=227, start_date=datetime.datetime(2014, 3, 27, 17, 29), start_station='Mountain View City Hall', start_terminal=27, end_date=datetime.datetime(2014, 3, 27, 17, 32), end_station='Mountain View Caltrain Station', end_terminal='28', bike_id=192, subscription_type='Subscriber', zip_code='94107'),\n",
       "  Trip(trip_id=229241, duration=189, start_date=datetime.datetime(2014, 3, 27, 17, 46), start_station='Mountain View City Hall', start_terminal=27, end_date=datetime.datetime(2014, 3, 27, 17, 49), end_station='Mountain View Caltrain Station', end_terminal='28', bike_id=60, subscription_type='Subscriber', zip_code='94114'),\n",
       "  Trip(trip_id=229344, duration=261, start_date=datetime.datetime(2014, 3, 27, 18, 25), start_station='Mountain View City Hall', start_terminal=27, end_date=datetime.datetime(2014, 3, 27, 18, 29), end_station='Mountain View Caltrain Station', end_terminal='28', bike_id=58, subscription_type='Subscriber', zip_code='94158'),\n",
       "  Trip(trip_id=229488, duration=230, start_date=datetime.datetime(2014, 3, 27, 19, 45), start_station='Mountain View City Hall', start_terminal=27, end_date=datetime.datetime(2014, 3, 27, 19, 48), end_station='Mountain View Caltrain Station', end_terminal='28', bike_id=198, subscription_type='Subscriber', zip_code='94401'),\n",
       "  Trip(trip_id=229894, duration=212, start_date=datetime.datetime(2014, 3, 28, 9, 20), start_station='Mountain View City Hall', start_terminal=27, end_date=datetime.datetime(2014, 3, 28, 9, 24), end_station='Mountain View Caltrain Station', end_terminal='28', bike_id=197, subscription_type='Subscriber', zip_code='94041'),\n",
       "  Trip(trip_id=229968, duration=654, start_date=datetime.datetime(2014, 3, 28, 9, 46), start_station='Mountain View City Hall', start_terminal=27, end_date=datetime.datetime(2014, 3, 28, 9, 57), end_station='San Antonio Shopping Center', end_terminal='31', bike_id=647, subscription_type='Customer', zip_code='98028'),\n",
       "  Trip(trip_id=230069, duration=380, start_date=datetime.datetime(2014, 3, 28, 11, 17), start_station='Mountain View City Hall', start_terminal=27, end_date=datetime.datetime(2014, 3, 28, 11, 23), end_station='Mountain View Caltrain Station', end_terminal='28', bike_id=63, subscription_type='Customer', zip_code='95070'),\n",
       "  Trip(trip_id=230108, duration=285, start_date=datetime.datetime(2014, 3, 28, 11, 56), start_station='Mountain View City Hall', start_terminal=27, end_date=datetime.datetime(2014, 3, 28, 12, 1), end_station='Mountain View Caltrain Station', end_terminal='28', bike_id=192, subscription_type='Subscriber', zip_code='94040'),\n",
       "  Trip(trip_id=230124, duration=2323, start_date=datetime.datetime(2014, 3, 28, 12, 11), start_station='Mountain View City Hall', start_terminal=27, end_date=datetime.datetime(2014, 3, 28, 12, 49), end_station='Mountain View City Hall', end_terminal='27', bike_id=28, subscription_type='Customer', zip_code='94040'),\n",
       "  Trip(trip_id=230466, duration=255, start_date=datetime.datetime(2014, 3, 28, 16, 47), start_station='Mountain View City Hall', start_terminal=27, end_date=datetime.datetime(2014, 3, 28, 16, 52), end_station='Mountain View Caltrain Station', end_terminal='28', bike_id=60, subscription_type='Subscriber', zip_code='94107'),\n",
       "  Trip(trip_id=230602, duration=222, start_date=datetime.datetime(2014, 3, 28, 17, 40), start_station='Mountain View City Hall', start_terminal=27, end_date=datetime.datetime(2014, 3, 28, 17, 43), end_station='Mountain View Caltrain Station', end_terminal='28', bike_id=18, subscription_type='Subscriber', zip_code='94107'),\n",
       "  Trip(trip_id=230740, duration=226, start_date=datetime.datetime(2014, 3, 28, 18, 49), start_station='Mountain View City Hall', start_terminal=27, end_date=datetime.datetime(2014, 3, 28, 18, 52), end_station='Mountain View Caltrain Station', end_terminal='28', bike_id=9, subscription_type='Subscriber', zip_code='94158'),\n",
       "  Trip(trip_id=230780, duration=912, start_date=datetime.datetime(2014, 3, 28, 19, 10), start_station='Mountain View City Hall', start_terminal=27, end_date=datetime.datetime(2014, 3, 28, 19, 26), end_station='San Antonio Caltrain Station', end_terminal='29', bike_id=649, subscription_type='Subscriber', zip_code='94040'),\n",
       "  Trip(trip_id=230931, duration=23251, start_date=datetime.datetime(2014, 3, 29, 1, 30), start_station='Mountain View City Hall', start_terminal=27, end_date=datetime.datetime(2014, 3, 29, 7, 57), end_station='San Antonio Caltrain Station', end_terminal='29', bike_id=64, subscription_type='Customer', zip_code='nil'),\n",
       "  Trip(trip_id=231609, duration=924, start_date=datetime.datetime(2014, 3, 30, 17, 52), start_station='Mountain View City Hall', start_terminal=27, end_date=datetime.datetime(2014, 3, 30, 18, 7), end_station='San Antonio Shopping Center', end_terminal='31', bike_id=155, subscription_type='Subscriber', zip_code='94043'),\n",
       "  Trip(trip_id=231655, duration=721, start_date=datetime.datetime(2014, 3, 30, 19, 6), start_station='Mountain View City Hall', start_terminal=27, end_date=datetime.datetime(2014, 3, 30, 19, 18), end_station='Rengstorff Avenue / California Street', end_terminal='33', bike_id=28, subscription_type='Customer', zip_code='94040'),\n",
       "  Trip(trip_id=231654, duration=702, start_date=datetime.datetime(2014, 3, 30, 19, 6), start_station='Mountain View City Hall', start_terminal=27, end_date=datetime.datetime(2014, 3, 30, 19, 17), end_station='Rengstorff Avenue / California Street', end_terminal='33', bike_id=254, subscription_type='Customer', zip_code='93401'),\n",
       "  Trip(trip_id=231653, duration=711, start_date=datetime.datetime(2014, 3, 30, 19, 6), start_station='Mountain View City Hall', start_terminal=27, end_date=datetime.datetime(2014, 3, 30, 19, 18), end_station='Rengstorff Avenue / California Street', end_terminal='33', bike_id=253, subscription_type='Customer', zip_code='93401'),\n",
       "  Trip(trip_id=231652, duration=705, start_date=datetime.datetime(2014, 3, 30, 19, 6), start_station='Mountain View City Hall', start_terminal=27, end_date=datetime.datetime(2014, 3, 30, 19, 17), end_station='Rengstorff Avenue / California Street', end_terminal='33', bike_id=58, subscription_type='Customer', zip_code='94040'),\n",
       "  Trip(trip_id=231750, duration=189, start_date=datetime.datetime(2014, 3, 31, 6, 17), start_station='Mountain View City Hall', start_terminal=27, end_date=datetime.datetime(2014, 3, 31, 6, 20), end_station='Mountain View Caltrain Station', end_terminal='28', bike_id=219, subscription_type='Subscriber', zip_code='94024'),\n",
       "  Trip(trip_id=232114, duration=218, start_date=datetime.datetime(2014, 3, 31, 9, 25), start_station='Mountain View City Hall', start_terminal=27, end_date=datetime.datetime(2014, 3, 31, 9, 28), end_station='Mountain View Caltrain Station', end_terminal='28', bike_id=672, subscription_type='Subscriber', zip_code='94041'),\n",
       "  Trip(trip_id=232362, duration=234, start_date=datetime.datetime(2014, 3, 31, 16, 45), start_station='Mountain View City Hall', start_terminal=27, end_date=datetime.datetime(2014, 3, 31, 16, 49), end_station='Mountain View Caltrain Station', end_terminal='28', bike_id=195, subscription_type='Subscriber', zip_code='94107'),\n",
       "  Trip(trip_id=232544, duration=203, start_date=datetime.datetime(2014, 3, 31, 18, 28), start_station='Mountain View City Hall', start_terminal=27, end_date=datetime.datetime(2014, 3, 31, 18, 31), end_station='Mountain View Caltrain Station', end_terminal='28', bike_id=116, subscription_type='Subscriber', zip_code='94158'),\n",
       "  Trip(trip_id=232979, duration=244, start_date=datetime.datetime(2014, 4, 1, 9, 21), start_station='Mountain View City Hall', start_terminal=27, end_date=datetime.datetime(2014, 4, 1, 9, 25), end_station='Mountain View Caltrain Station', end_terminal='28', bike_id=111, subscription_type='Subscriber', zip_code='94041'),\n",
       "  Trip(trip_id=233262, duration=188, start_date=datetime.datetime(2014, 4, 1, 16, 49), start_station='Mountain View City Hall', start_terminal=27, end_date=datetime.datetime(2014, 4, 1, 16, 52), end_station='Mountain View Caltrain Station', end_terminal='28', bike_id=203, subscription_type='Subscriber', zip_code='94107'),\n",
       "  Trip(trip_id=233308, duration=222, start_date=datetime.datetime(2014, 4, 1, 17, 29), start_station='Mountain View City Hall', start_terminal=27, end_date=datetime.datetime(2014, 4, 1, 17, 33), end_station='Mountain View Caltrain Station', end_terminal='28', bike_id=693, subscription_type='Subscriber', zip_code='94107'),\n",
       "  Trip(trip_id=233344, duration=212, start_date=datetime.datetime(2014, 4, 1, 18, 23), start_station='Mountain View City Hall', start_terminal=27, end_date=datetime.datetime(2014, 4, 1, 18, 26), end_station='Mountain View Caltrain Station', end_terminal='28', bike_id=153, subscription_type='Subscriber', zip_code='94158'),\n",
       "  Trip(trip_id=233428, duration=161, start_date=datetime.datetime(2014, 4, 1, 20, 43), start_station='Mountain View City Hall', start_terminal=27, end_date=datetime.datetime(2014, 4, 1, 20, 46), end_station='Mountain View Caltrain Station', end_terminal='28', bike_id=18, subscription_type='Subscriber', zip_code='94401'),\n",
       "  Trip(trip_id=233577, duration=214, start_date=datetime.datetime(2014, 4, 2, 8, 7), start_station='Mountain View City Hall', start_terminal=27, end_date=datetime.datetime(2014, 4, 2, 8, 11), end_station='Mountain View Caltrain Station', end_terminal='28', bike_id=694, subscription_type='Subscriber', zip_code='94024'),\n",
       "  Trip(trip_id=233780, duration=218, start_date=datetime.datetime(2014, 4, 2, 9, 22), start_station='Mountain View City Hall', start_terminal=27, end_date=datetime.datetime(2014, 4, 2, 9, 26), end_station='Mountain View Caltrain Station', end_terminal='28', bike_id=203, subscription_type='Subscriber', zip_code='94041'),\n",
       "  Trip(trip_id=234196, duration=254, start_date=datetime.datetime(2014, 4, 2, 16, 21), start_station='Mountain View City Hall', start_terminal=27, end_date=datetime.datetime(2014, 4, 2, 16, 25), end_station='Mountain View Caltrain Station', end_terminal='28', bike_id=672, subscription_type='Subscriber', zip_code='94107'),\n",
       "  Trip(trip_id=234496, duration=431, start_date=datetime.datetime(2014, 4, 2, 18, 17), start_station='Mountain View City Hall', start_terminal=27, end_date=datetime.datetime(2014, 4, 2, 18, 24), end_station='Evelyn Park and Ride', end_terminal='30', bike_id=153, subscription_type='Subscriber', zip_code='94043'),\n",
       "  Trip(trip_id=234515, duration=235, start_date=datetime.datetime(2014, 4, 2, 18, 29), start_station='Mountain View City Hall', start_terminal=27, end_date=datetime.datetime(2014, 4, 2, 18, 33), end_station='Mountain View Caltrain Station', end_terminal='28', bike_id=148, subscription_type='Subscriber', zip_code='94107'),\n",
       "  Trip(trip_id=234623, duration=195, start_date=datetime.datetime(2014, 4, 2, 19, 41), start_station='Mountain View City Hall', start_terminal=27, end_date=datetime.datetime(2014, 4, 2, 19, 44), end_station='Mountain View Caltrain Station', end_terminal='28', bike_id=219, subscription_type='Subscriber', zip_code='94158'),\n",
       "  Trip(trip_id=234727, duration=219, start_date=datetime.datetime(2014, 4, 2, 21, 45), start_station='Mountain View City Hall', start_terminal=27, end_date=datetime.datetime(2014, 4, 2, 21, 48), end_station='Mountain View Caltrain Station', end_terminal='28', bike_id=694, subscription_type='Subscriber', zip_code='94401'),\n",
       "  Trip(trip_id=235020, duration=222, start_date=datetime.datetime(2014, 4, 3, 8, 51), start_station='Mountain View City Hall', start_terminal=27, end_date=datetime.datetime(2014, 4, 3, 8, 55), end_station='Mountain View Caltrain Station', end_terminal='28', bike_id=672, subscription_type='Subscriber', zip_code='94041'),\n",
       "  Trip(trip_id=235638, duration=300, start_date=datetime.datetime(2014, 4, 3, 16, 22), start_station='Mountain View City Hall', start_terminal=27, end_date=datetime.datetime(2014, 4, 3, 16, 27), end_station='Mountain View Caltrain Station', end_terminal='28', bike_id=68, subscription_type='Subscriber', zip_code='94110'),\n",
       "  Trip(trip_id=235697, duration=245, start_date=datetime.datetime(2014, 4, 3, 16, 50), start_station='Mountain View City Hall', start_terminal=27, end_date=datetime.datetime(2014, 4, 3, 16, 54), end_station='Mountain View Caltrain Station', end_terminal='28', bike_id=51, subscription_type='Subscriber', zip_code='94107'),\n",
       "  Trip(trip_id=235829, duration=224, start_date=datetime.datetime(2014, 4, 3, 17, 37), start_station='Mountain View City Hall', start_terminal=27, end_date=datetime.datetime(2014, 4, 3, 17, 41), end_station='Mountain View Caltrain Station', end_terminal='28', bike_id=203, subscription_type='Subscriber', zip_code='94107'),\n",
       "  Trip(trip_id=235925, duration=224, start_date=datetime.datetime(2014, 4, 3, 18, 24), start_station='Mountain View City Hall', start_terminal=27, end_date=datetime.datetime(2014, 4, 3, 18, 28), end_station='Mountain View Caltrain Station', end_terminal='28', bike_id=672, subscription_type='Subscriber', zip_code='94158'),\n",
       "  Trip(trip_id=236069, duration=278, start_date=datetime.datetime(2014, 4, 3, 20, 46), start_station='Mountain View City Hall', start_terminal=27, end_date=datetime.datetime(2014, 4, 3, 20, 50), end_station='Castro Street and El Camino Real', end_terminal='32', bike_id=206, subscription_type='Customer', zip_code='nil'),\n",
       "  Trip(trip_id=236387, duration=205, start_date=datetime.datetime(2014, 4, 4, 9, 22), start_station='Mountain View City Hall', start_terminal=27, end_date=datetime.datetime(2014, 4, 4, 9, 25), end_station='Mountain View Caltrain Station', end_terminal='28', bike_id=94, subscription_type='Subscriber', zip_code='94041'),\n",
       "  Trip(trip_id=238068, duration=597, start_date=datetime.datetime(2014, 4, 6, 11, 45), start_station='Mountain View City Hall', start_terminal=27, end_date=datetime.datetime(2014, 4, 6, 11, 55), end_station='Evelyn Park and Ride', end_terminal='30', bike_id=670, subscription_type='Subscriber', zip_code='94043'),\n",
       "  Trip(trip_id=238379, duration=1677, start_date=datetime.datetime(2014, 4, 6, 19, 20), start_station='Mountain View City Hall', start_terminal=27, end_date=datetime.datetime(2014, 4, 6, 19, 48), end_station='Mountain View City Hall', end_terminal='27', bike_id=94, subscription_type='Customer', zip_code='94022'),\n",
       "  Trip(trip_id=239262, duration=825, start_date=datetime.datetime(2014, 4, 7, 15, 50), start_station='Mountain View City Hall', start_terminal=27, end_date=datetime.datetime(2014, 4, 7, 16, 4), end_station='San Antonio Caltrain Station', end_terminal='29', bike_id=693, subscription_type='Subscriber', zip_code='94025'),\n",
       "  Trip(trip_id=239335, duration=240, start_date=datetime.datetime(2014, 4, 7, 16, 26), start_station='Mountain View City Hall', start_terminal=27, end_date=datetime.datetime(2014, 4, 7, 16, 30), end_station='Mountain View Caltrain Station', end_terminal='28', bike_id=68, subscription_type='Subscriber', zip_code='94107'),\n",
       "  Trip(trip_id=239387, duration=244, start_date=datetime.datetime(2014, 4, 7, 16, 49), start_station='Mountain View City Hall', start_terminal=27, end_date=datetime.datetime(2014, 4, 7, 16, 53), end_station='Mountain View Caltrain Station', end_terminal='28', bike_id=647, subscription_type='Subscriber', zip_code='94123'),\n",
       "  Trip(trip_id=239607, duration=434, start_date=datetime.datetime(2014, 4, 7, 17, 55), start_station='Mountain View City Hall', start_terminal=27, end_date=datetime.datetime(2014, 4, 7, 18, 3), end_station='Mountain View Caltrain Station', end_terminal='28', bike_id=245, subscription_type='Customer', zip_code='94022'),\n",
       "  Trip(trip_id=239728, duration=912, start_date=datetime.datetime(2014, 4, 7, 18, 46), start_station='Mountain View City Hall', start_terminal=27, end_date=datetime.datetime(2014, 4, 7, 19, 1), end_station='San Antonio Shopping Center', end_terminal='31', bike_id=245, subscription_type='Customer', zip_code='94022'),\n",
       "  Trip(trip_id=240150, duration=250, start_date=datetime.datetime(2014, 4, 8, 8, 13), start_station='Mountain View City Hall', start_terminal=27, end_date=datetime.datetime(2014, 4, 8, 8, 17), end_station='Mountain View Caltrain Station', end_terminal='28', bike_id=94, subscription_type='Subscriber', zip_code='94041'),\n",
       "  Trip(trip_id=240288, duration=220, start_date=datetime.datetime(2014, 4, 8, 8, 52), start_station='Mountain View City Hall', start_terminal=27, end_date=datetime.datetime(2014, 4, 8, 8, 56), end_station='Mountain View Caltrain Station', end_terminal='28', bike_id=308, subscription_type='Subscriber', zip_code='94041'),\n",
       "  Trip(trip_id=241065, duration=199, start_date=datetime.datetime(2014, 4, 8, 16, 48), start_station='Mountain View City Hall', start_terminal=27, end_date=datetime.datetime(2014, 4, 8, 16, 52), end_station='Mountain View Caltrain Station', end_terminal='28', bike_id=94, subscription_type='Subscriber', zip_code='94107'),\n",
       "  Trip(trip_id=241353, duration=197, start_date=datetime.datetime(2014, 4, 8, 18, 29), start_station='Mountain View City Hall', start_terminal=27, end_date=datetime.datetime(2014, 4, 8, 18, 32), end_station='Mountain View Caltrain Station', end_terminal='28', bike_id=9, subscription_type='Subscriber', zip_code='94158'),\n",
       "  Trip(trip_id=241806, duration=231, start_date=datetime.datetime(2014, 4, 9, 8, 17), start_station='Mountain View City Hall', start_terminal=27, end_date=datetime.datetime(2014, 4, 9, 8, 21), end_station='Mountain View Caltrain Station', end_terminal='28', bike_id=662, subscription_type='Subscriber', zip_code='94041'),\n",
       "  Trip(trip_id=242323, duration=1478, start_date=datetime.datetime(2014, 4, 9, 13, 0), start_station='Mountain View City Hall', start_terminal=27, end_date=datetime.datetime(2014, 4, 9, 13, 24), end_station='Mountain View City Hall', end_terminal='27', bike_id=308, subscription_type='Customer', zip_code='nil'),\n",
       "  Trip(trip_id=242433, duration=1253, start_date=datetime.datetime(2014, 4, 9, 15, 7), start_station='Mountain View City Hall', start_terminal=27, end_date=datetime.datetime(2014, 4, 9, 15, 28), end_station='Mountain View City Hall', end_terminal='27', bike_id=89, subscription_type='Customer', zip_code='nil'),\n",
       "  Trip(trip_id=242585, duration=251, start_date=datetime.datetime(2014, 4, 9, 16, 50), start_station='Mountain View City Hall', start_terminal=27, end_date=datetime.datetime(2014, 4, 9, 16, 54), end_station='Mountain View Caltrain Station', end_terminal='28', bike_id=87, subscription_type='Subscriber', zip_code='94158'),\n",
       "  Trip(trip_id=243413, duration=187, start_date=datetime.datetime(2014, 4, 10, 8, 55), start_station='Mountain View City Hall', start_terminal=27, end_date=datetime.datetime(2014, 4, 10, 8, 58), end_station='Mountain View Caltrain Station', end_terminal='28', bike_id=662, subscription_type='Subscriber', zip_code='94041'),\n",
       "  Trip(trip_id=243685, duration=258, start_date=datetime.datetime(2014, 4, 10, 11, 59), start_station='Mountain View City Hall', start_terminal=27, end_date=datetime.datetime(2014, 4, 10, 12, 3), end_station='Mountain View Caltrain Station', end_terminal='28', bike_id=106, subscription_type='Subscriber', zip_code='94040'),\n",
       "  Trip(trip_id=243958, duration=912, start_date=datetime.datetime(2014, 4, 10, 16, 18), start_station='Mountain View City Hall', start_terminal=27, end_date=datetime.datetime(2014, 4, 10, 16, 33), end_station='San Antonio Caltrain Station', end_terminal='29', bike_id=94, subscription_type='Subscriber', zip_code='94025'),\n",
       "  Trip(trip_id=244261, duration=253, start_date=datetime.datetime(2014, 4, 10, 18, 26), start_station='Mountain View City Hall', start_terminal=27, end_date=datetime.datetime(2014, 4, 10, 18, 30), end_station='Mountain View Caltrain Station', end_terminal='28', bike_id=160, subscription_type='Subscriber', zip_code='94158'),\n",
       "  Trip(trip_id=244413, duration=207, start_date=datetime.datetime(2014, 4, 10, 21, 42), start_station='Mountain View City Hall', start_terminal=27, end_date=datetime.datetime(2014, 4, 10, 21, 45), end_station='Mountain View Caltrain Station', end_terminal='28', bike_id=672, subscription_type='Subscriber', zip_code='94401'),\n",
       "  Trip(trip_id=244684, duration=248, start_date=datetime.datetime(2014, 4, 11, 8, 49), start_station='Mountain View City Hall', start_terminal=27, end_date=datetime.datetime(2014, 4, 11, 8, 53), end_station='Mountain View Caltrain Station', end_terminal='28', bike_id=167, subscription_type='Subscriber', zip_code='94041'),\n",
       "  Trip(trip_id=245409, duration=242, start_date=datetime.datetime(2014, 4, 11, 17, 25), start_station='Mountain View City Hall', start_terminal=27, end_date=datetime.datetime(2014, 4, 11, 17, 29), end_station='Mountain View Caltrain Station', end_terminal='28', bike_id=194, subscription_type='Subscriber', zip_code='94158'),\n",
       "  Trip(trip_id=245534, duration=1689, start_date=datetime.datetime(2014, 4, 11, 18, 17), start_station='Mountain View City Hall', start_terminal=27, end_date=datetime.datetime(2014, 4, 11, 18, 45), end_station='Mountain View Caltrain Station', end_terminal='28', bike_id=163, subscription_type='Customer', zip_code='nil'),\n",
       "  Trip(trip_id=245608, duration=235, start_date=datetime.datetime(2014, 4, 11, 19, 1), start_station='Mountain View City Hall', start_terminal=27, end_date=datetime.datetime(2014, 4, 11, 19, 5), end_station='Mountain View Caltrain Station', end_terminal='28', bike_id=40, subscription_type='Subscriber', zip_code='94401'),\n",
       "  Trip(trip_id=245643, duration=662, start_date=datetime.datetime(2014, 4, 11, 19, 39), start_station='Mountain View City Hall', start_terminal=27, end_date=datetime.datetime(2014, 4, 11, 19, 50), end_station='San Antonio Caltrain Station', end_terminal='29', bike_id=672, subscription_type='Subscriber', zip_code='94040'),\n",
       "  Trip(trip_id=246625, duration=306, start_date=datetime.datetime(2014, 4, 13, 15, 40), start_station='Mountain View City Hall', start_terminal=27, end_date=datetime.datetime(2014, 4, 13, 15, 45), end_station='Mountain View Caltrain Station', end_terminal='28', bike_id=167, subscription_type='Subscriber', zip_code='94118'),\n",
       "  Trip(trip_id=246691, duration=683, start_date=datetime.datetime(2014, 4, 13, 16, 41), start_station='Mountain View City Hall', start_terminal=27, end_date=datetime.datetime(2014, 4, 13, 16, 53), end_station='San Antonio Shopping Center', end_terminal='31', bike_id=89, subscription_type='Subscriber', zip_code='94040'),\n",
       "  Trip(trip_id=247036, duration=250, start_date=datetime.datetime(2014, 4, 14, 8, 16), start_station='Mountain View City Hall', start_terminal=27, end_date=datetime.datetime(2014, 4, 14, 8, 21), end_station='Mountain View Caltrain Station', end_terminal='28', bike_id=662, subscription_type='Subscriber', zip_code='94041'),\n",
       "  Trip(trip_id=247157, duration=217, start_date=datetime.datetime(2014, 4, 14, 8, 55), start_station='Mountain View City Hall', start_terminal=27, end_date=datetime.datetime(2014, 4, 14, 8, 58), end_station='Mountain View Caltrain Station', end_terminal='28', bike_id=120, subscription_type='Subscriber', zip_code='94041'),\n",
       "  Trip(trip_id=247726, duration=227, start_date=datetime.datetime(2014, 4, 14, 16, 41), start_station='Mountain View City Hall', start_terminal=27, end_date=datetime.datetime(2014, 4, 14, 16, 45), end_station='Mountain View Caltrain Station', end_terminal='28', bike_id=648, subscription_type='Subscriber', zip_code='94158'),\n",
       "  Trip(trip_id=247742, duration=179, start_date=datetime.datetime(2014, 4, 14, 16, 46), start_station='Mountain View City Hall', start_terminal=27, end_date=datetime.datetime(2014, 4, 14, 16, 49), end_station='Mountain View Caltrain Station', end_terminal='28', bike_id=262, subscription_type='Subscriber', zip_code='94103'),\n",
       "  Trip(trip_id=247955, duration=238, start_date=datetime.datetime(2014, 4, 14, 17, 53), start_station='Mountain View City Hall', start_terminal=27, end_date=datetime.datetime(2014, 4, 14, 17, 57), end_station='Mountain View Caltrain Station', end_terminal='28', bike_id=9, subscription_type='Subscriber', zip_code='94107'),\n",
       "  Trip(trip_id=248046, duration=227, start_date=datetime.datetime(2014, 4, 14, 18, 23), start_station='Mountain View City Hall', start_terminal=27, end_date=datetime.datetime(2014, 4, 14, 18, 27), end_station='Mountain View Caltrain Station', end_terminal='28', bike_id=51, subscription_type='Subscriber', zip_code='94123'),\n",
       "  Trip(trip_id=248301, duration=193, start_date=datetime.datetime(2014, 4, 14, 22, 39), start_station='Mountain View City Hall', start_terminal=27, end_date=datetime.datetime(2014, 4, 14, 22, 42), end_station='Mountain View Caltrain Station', end_terminal='28', bike_id=106, subscription_type='Subscriber', zip_code='94401'),\n",
       "  Trip(trip_id=248710, duration=202, start_date=datetime.datetime(2014, 4, 15, 9, 24), start_station='Mountain View City Hall', start_terminal=27, end_date=datetime.datetime(2014, 4, 15, 9, 27), end_station='Mountain View Caltrain Station', end_terminal='28', bike_id=13, subscription_type='Subscriber', zip_code='94041'),\n",
       "  Trip(trip_id=249193, duration=246, start_date=datetime.datetime(2014, 4, 15, 16, 18), start_station='Mountain View City Hall', start_terminal=27, end_date=datetime.datetime(2014, 4, 15, 16, 22), end_station='Mountain View Caltrain Station', end_terminal='28', bike_id=167, subscription_type='Subscriber', zip_code='94107'),\n",
       "  Trip(trip_id=249379, duration=236, start_date=datetime.datetime(2014, 4, 15, 17, 28), start_station='Mountain View City Hall', start_terminal=27, end_date=datetime.datetime(2014, 4, 15, 17, 32), end_station='Mountain View Caltrain Station', end_terminal='28', bike_id=135, subscription_type='Subscriber', zip_code='94158'),\n",
       "  Trip(trip_id=249378, duration=247, start_date=datetime.datetime(2014, 4, 15, 17, 28), start_station='Mountain View City Hall', start_terminal=27, end_date=datetime.datetime(2014, 4, 15, 17, 32), end_station='Mountain View Caltrain Station', end_terminal='28', bike_id=13, subscription_type='Subscriber', zip_code='94107'),\n",
       "  Trip(trip_id=249532, duration=239, start_date=datetime.datetime(2014, 4, 15, 18, 24), start_station='Mountain View City Hall', start_terminal=27, end_date=datetime.datetime(2014, 4, 15, 18, 28), end_station='Mountain View Caltrain Station', end_terminal='28', bike_id=163, subscription_type='Subscriber', zip_code='94114'),\n",
       "  Trip(trip_id=249823, duration=1631, start_date=datetime.datetime(2014, 4, 15, 22, 57), start_station='Mountain View City Hall', start_terminal=27, end_date=datetime.datetime(2014, 4, 15, 23, 24), end_station='Mountain View City Hall', end_terminal='27', bike_id=119, subscription_type='Customer', zip_code='nil'),\n",
       "  Trip(trip_id=250142, duration=189, start_date=datetime.datetime(2014, 4, 16, 8, 52), start_station='Mountain View City Hall', start_terminal=27, end_date=datetime.datetime(2014, 4, 16, 8, 55), end_station='Mountain View Caltrain Station', end_terminal='28', bike_id=662, subscription_type='Subscriber', zip_code='94041'),\n",
       "  Trip(trip_id=250642, duration=559, start_date=datetime.datetime(2014, 4, 16, 14, 34), start_station='Mountain View City Hall', start_terminal=27, end_date=datetime.datetime(2014, 4, 16, 14, 44), end_station='Mountain View Caltrain Station', end_terminal='28', bike_id=245, subscription_type='Customer', zip_code='nil'),\n",
       "  Trip(trip_id=250839, duration=250, start_date=datetime.datetime(2014, 4, 16, 16, 46), start_station='Mountain View City Hall', start_terminal=27, end_date=datetime.datetime(2014, 4, 16, 16, 51), end_station='Mountain View Caltrain Station', end_terminal='28', bike_id=662, subscription_type='Subscriber', zip_code='94107'),\n",
       "  Trip(trip_id=250949, duration=294, start_date=datetime.datetime(2014, 4, 16, 17, 21), start_station='Mountain View City Hall', start_terminal=27, end_date=datetime.datetime(2014, 4, 16, 17, 25), end_station='Mountain View Caltrain Station', end_terminal='28', bike_id=197, subscription_type='Subscriber', zip_code='94107'),\n",
       "  Trip(trip_id=251161, duration=217, start_date=datetime.datetime(2014, 4, 16, 18, 25), start_station='Mountain View City Hall', start_terminal=27, end_date=datetime.datetime(2014, 4, 16, 18, 28), end_station='Mountain View Caltrain Station', end_terminal='28', bike_id=69, subscription_type='Subscriber', zip_code='94158'),\n",
       "  Trip(trip_id=251257, duration=218, start_date=datetime.datetime(2014, 4, 16, 19, 1), start_station='Mountain View City Hall', start_terminal=27, end_date=datetime.datetime(2014, 4, 16, 19, 5), end_station='Mountain View Caltrain Station', end_terminal='28', bike_id=649, subscription_type='Subscriber', zip_code='94401'),\n",
       "  Trip(trip_id=251805, duration=228, start_date=datetime.datetime(2014, 4, 17, 9, 22), start_station='Mountain View City Hall', start_terminal=27, end_date=datetime.datetime(2014, 4, 17, 9, 26), end_station='Mountain View Caltrain Station', end_terminal='28', bike_id=662, subscription_type='Subscriber', zip_code='94041'),\n",
       "  Trip(trip_id=252116, duration=220, start_date=datetime.datetime(2014, 4, 17, 13, 19), start_station='Mountain View City Hall', start_terminal=27, end_date=datetime.datetime(2014, 4, 17, 13, 23), end_station='Mountain View Caltrain Station', end_terminal='28', bike_id=69, subscription_type='Subscriber', zip_code='94107'),\n",
       "  Trip(trip_id=252552, duration=221, start_date=datetime.datetime(2014, 4, 17, 17, 35), start_station='Mountain View City Hall', start_terminal=27, end_date=datetime.datetime(2014, 4, 17, 17, 38), end_station='Mountain View Caltrain Station', end_terminal='28', bike_id=194, subscription_type='Subscriber', zip_code='94107'),\n",
       "  Trip(trip_id=253214, duration=227, start_date=datetime.datetime(2014, 4, 18, 9, 18), start_station='Mountain View City Hall', start_terminal=27, end_date=datetime.datetime(2014, 4, 18, 9, 22), end_station='Mountain View Caltrain Station', end_terminal='28', bike_id=262, subscription_type='Subscriber', zip_code='94041'),\n",
       "  Trip(trip_id=253525, duration=220, start_date=datetime.datetime(2014, 4, 18, 13, 23), start_station='Mountain View City Hall', start_terminal=27, end_date=datetime.datetime(2014, 4, 18, 13, 27), end_station='Mountain View Caltrain Station', end_terminal='28', bike_id=705, subscription_type='Subscriber', zip_code='94401'),\n",
       "  Trip(trip_id=253759, duration=177, start_date=datetime.datetime(2014, 4, 18, 16, 29), start_station='Mountain View City Hall', start_terminal=27, end_date=datetime.datetime(2014, 4, 18, 16, 32), end_station='Mountain View Caltrain Station', end_terminal='28', bike_id=203, subscription_type='Subscriber', zip_code='94107'),\n",
       "  Trip(trip_id=253912, duration=252, start_date=datetime.datetime(2014, 4, 18, 17, 38), start_station='Mountain View City Hall', start_terminal=27, end_date=datetime.datetime(2014, 4, 18, 17, 42), end_station='Mountain View Caltrain Station', end_terminal='28', bike_id=120, subscription_type='Subscriber', zip_code='94107'),\n",
       "  Trip(trip_id=253923, duration=282, start_date=datetime.datetime(2014, 4, 18, 17, 45), start_station='Mountain View City Hall', start_terminal=27, end_date=datetime.datetime(2014, 4, 18, 17, 49), end_station='Mountain View Caltrain Station', end_terminal='28', bike_id=160, subscription_type='Subscriber', zip_code='94114'),\n",
       "  Trip(trip_id=254868, duration=830, start_date=datetime.datetime(2014, 4, 20, 12, 10), start_station='Mountain View City Hall', start_terminal=27, end_date=datetime.datetime(2014, 4, 20, 12, 23), end_station='Rengstorff Avenue / California Street', end_terminal='33', bike_id=60, subscription_type='Subscriber', zip_code='94040'),\n",
       "  Trip(trip_id=254986, duration=248, start_date=datetime.datetime(2014, 4, 20, 15, 17), start_station='Mountain View City Hall', start_terminal=27, end_date=datetime.datetime(2014, 4, 20, 15, 22), end_station='Mountain View Caltrain Station', end_terminal='28', bike_id=657, subscription_type='Subscriber', zip_code='94043'),\n",
       "  Trip(trip_id=256073, duration=264, start_date=datetime.datetime(2014, 4, 21, 16, 46), start_station='Mountain View City Hall', start_terminal=27, end_date=datetime.datetime(2014, 4, 21, 16, 51), end_station='Mountain View Caltrain Station', end_terminal='28', bike_id=194, subscription_type='Subscriber', zip_code='94107'),\n",
       "  Trip(trip_id=256181, duration=245, start_date=datetime.datetime(2014, 4, 21, 17, 22), start_station='Mountain View City Hall', start_terminal=27, end_date=datetime.datetime(2014, 4, 21, 17, 26), end_station='Mountain View Caltrain Station', end_terminal='28', bike_id=183, subscription_type='Subscriber', zip_code='94158'),\n",
       "  Trip(trip_id=257049, duration=182, start_date=datetime.datetime(2014, 4, 22, 9, 23), start_station='Mountain View City Hall', start_terminal=27, end_date=datetime.datetime(2014, 4, 22, 9, 26), end_station='Mountain View Caltrain Station', end_terminal='28', bike_id=245, subscription_type='Subscriber', zip_code='94041'),\n",
       "  Trip(trip_id=257448, duration=227, start_date=datetime.datetime(2014, 4, 22, 16, 17), start_station='Mountain View City Hall', start_terminal=27, end_date=datetime.datetime(2014, 4, 22, 16, 21), end_station='Mountain View Caltrain Station', end_terminal='28', bike_id=89, subscription_type='Subscriber', zip_code='94107'),\n",
       "  Trip(trip_id=257622, duration=248, start_date=datetime.datetime(2014, 4, 22, 17, 27), start_station='Mountain View City Hall', start_terminal=27, end_date=datetime.datetime(2014, 4, 22, 17, 31), end_station='Mountain View Caltrain Station', end_terminal='28', bike_id=194, subscription_type='Subscriber', zip_code='94107'),\n",
       "  Trip(trip_id=258329, duration=213, start_date=datetime.datetime(2014, 4, 23, 8, 51), start_station='Mountain View City Hall', start_terminal=27, end_date=datetime.datetime(2014, 4, 23, 8, 55), end_station='Mountain View Caltrain Station', end_terminal='28', bike_id=102, subscription_type='Subscriber', zip_code='94041'),\n",
       "  Trip(trip_id=258839, duration=255, start_date=datetime.datetime(2014, 4, 23, 16, 24), start_station='Mountain View City Hall', start_terminal=27, end_date=datetime.datetime(2014, 4, 23, 16, 29), end_station='Mountain View Caltrain Station', end_terminal='28', bike_id=102, subscription_type='Subscriber', zip_code='94107'),\n",
       "  Trip(trip_id=259072, duration=212, start_date=datetime.datetime(2014, 4, 23, 17, 51), start_station='Mountain View City Hall', start_terminal=27, end_date=datetime.datetime(2014, 4, 23, 17, 54), end_station='Mountain View Caltrain Station', end_terminal='28', bike_id=89, subscription_type='Subscriber', zip_code='94158'),\n",
       "  Trip(trip_id=259268, duration=152, start_date=datetime.datetime(2014, 4, 23, 19, 18), start_station='Mountain View City Hall', start_terminal=27, end_date=datetime.datetime(2014, 4, 23, 19, 20), end_station='Castro Street and El Camino Real', end_terminal='32', bike_id=89, subscription_type='Subscriber', zip_code='94306'),\n",
       "  Trip(trip_id=259803, duration=218, start_date=datetime.datetime(2014, 4, 24, 9, 15), start_station='Mountain View City Hall', start_terminal=27, end_date=datetime.datetime(2014, 4, 24, 9, 18), end_station='Mountain View Caltrain Station', end_terminal='28', bike_id=160, subscription_type='Subscriber', zip_code='94041'),\n",
       "  Trip(trip_id=260311, duration=196, start_date=datetime.datetime(2014, 4, 24, 16, 50), start_station='Mountain View City Hall', start_terminal=27, end_date=datetime.datetime(2014, 4, 24, 16, 53), end_station='Mountain View Caltrain Station', end_terminal='28', bike_id=304, subscription_type='Subscriber', zip_code='94107'),\n",
       "  Trip(trip_id=260476, duration=663, start_date=datetime.datetime(2014, 4, 24, 17, 59), start_station='Mountain View City Hall', start_terminal=27, end_date=datetime.datetime(2014, 4, 24, 18, 10), end_station='Rengstorff Avenue / California Street', end_terminal='33', bike_id=649, subscription_type='Subscriber', zip_code='94114'),\n",
       "  Trip(trip_id=260551, duration=245, start_date=datetime.datetime(2014, 4, 24, 18, 35), start_station='Mountain View City Hall', start_terminal=27, end_date=datetime.datetime(2014, 4, 24, 18, 39), end_station='Mountain View Caltrain Station', end_terminal='28', bike_id=219, subscription_type='Subscriber', zip_code='94158'),\n",
       "  Trip(trip_id=261179, duration=238, start_date=datetime.datetime(2014, 4, 25, 16, 48), start_station='Mountain View City Hall', start_terminal=27, end_date=datetime.datetime(2014, 4, 25, 16, 52), end_station='Mountain View Caltrain Station', end_terminal='28', bike_id=163, subscription_type='Subscriber', zip_code='94107'),\n",
       "  Trip(trip_id=261282, duration=238, start_date=datetime.datetime(2014, 4, 25, 17, 29), start_station='Mountain View City Hall', start_terminal=27, end_date=datetime.datetime(2014, 4, 25, 17, 33), end_station='Mountain View Caltrain Station', end_terminal='28', bike_id=120, subscription_type='Subscriber', zip_code='94107'),\n",
       "  Trip(trip_id=261309, duration=1466, start_date=datetime.datetime(2014, 4, 25, 17, 46), start_station='Mountain View City Hall', start_terminal=27, end_date=datetime.datetime(2014, 4, 25, 18, 10), end_station='Park at Olive', end_terminal='38', bike_id=36, subscription_type='Subscriber', zip_code='94025'),\n",
       "  Trip(trip_id=261468, duration=781, start_date=datetime.datetime(2014, 4, 25, 20, 2), start_station='Mountain View City Hall', start_terminal=27, end_date=datetime.datetime(2014, 4, 25, 20, 15), end_station='San Antonio Caltrain Station', end_terminal='29', bike_id=97, subscription_type='Subscriber', zip_code='94040'),\n",
       "  Trip(trip_id=261467, duration=789, start_date=datetime.datetime(2014, 4, 25, 20, 2), start_station='Mountain View City Hall', start_terminal=27, end_date=datetime.datetime(2014, 4, 25, 20, 15), end_station='San Antonio Caltrain Station', end_terminal='29', bike_id=183, subscription_type='Subscriber', zip_code='94040'),\n",
       "  Trip(trip_id=261486, duration=562, start_date=datetime.datetime(2014, 4, 25, 20, 37), start_station='Mountain View City Hall', start_terminal=27, end_date=datetime.datetime(2014, 4, 25, 20, 47), end_station='Rengstorff Avenue / California Street', end_terminal='33', bike_id=308, subscription_type='Subscriber', zip_code='94040'),\n",
       "  Trip(trip_id=261749, duration=790, start_date=datetime.datetime(2014, 4, 26, 12, 19), start_station='Mountain View City Hall', start_terminal=27, end_date=datetime.datetime(2014, 4, 26, 12, 32), end_station='Mountain View City Hall', end_terminal='27', bike_id=119, subscription_type='Subscriber', zip_code='95015'),\n",
       "  Trip(trip_id=262475, duration=629, start_date=datetime.datetime(2014, 4, 27, 17, 18), start_station='Mountain View City Hall', start_terminal=27, end_date=datetime.datetime(2014, 4, 27, 17, 29), end_station='Rengstorff Avenue / California Street', end_terminal='33', bike_id=662, subscription_type='Subscriber', zip_code='94040'),\n",
       "  Trip(trip_id=262557, duration=397, start_date=datetime.datetime(2014, 4, 27, 19, 58), start_station='Mountain View City Hall', start_terminal=27, end_date=datetime.datetime(2014, 4, 27, 20, 5), end_station='Evelyn Park and Ride', end_terminal='30', bike_id=9, subscription_type='Subscriber', zip_code='94158'),\n",
       "  Trip(trip_id=262806, duration=235, start_date=datetime.datetime(2014, 4, 28, 8, 18), start_station='Mountain View City Hall', start_terminal=27, end_date=datetime.datetime(2014, 4, 28, 8, 22), end_station='Mountain View Caltrain Station', end_terminal='28', bike_id=68, subscription_type='Subscriber', zip_code='94041'),\n",
       "  Trip(trip_id=262987, duration=212, start_date=datetime.datetime(2014, 4, 28, 9, 18), start_station='Mountain View City Hall', start_terminal=27, end_date=datetime.datetime(2014, 4, 28, 9, 21), end_station='Mountain View Caltrain Station', end_terminal='28', bike_id=197, subscription_type='Subscriber', zip_code='94041'),\n",
       "  Trip(trip_id=263468, duration=228, start_date=datetime.datetime(2014, 4, 28, 16, 23), start_station='Mountain View City Hall', start_terminal=27, end_date=datetime.datetime(2014, 4, 28, 16, 27), end_station='Mountain View Caltrain Station', end_terminal='28', bike_id=203, subscription_type='Subscriber', zip_code='94107'),\n",
       "  Trip(trip_id=263682, duration=221, start_date=datetime.datetime(2014, 4, 28, 17, 32), start_station='Mountain View City Hall', start_terminal=27, end_date=datetime.datetime(2014, 4, 28, 17, 35), end_station='Mountain View Caltrain Station', end_terminal='28', bike_id=686, subscription_type='Subscriber', zip_code='94107'),\n",
       "  Trip(trip_id=264023, duration=521, start_date=datetime.datetime(2014, 4, 28, 19, 47), start_station='Mountain View City Hall', start_terminal=27, end_date=datetime.datetime(2014, 4, 28, 19, 56), end_station='Evelyn Park and Ride', end_terminal='30', bike_id=203, subscription_type='Subscriber', zip_code='94043'),\n",
       "  Trip(trip_id=264089, duration=176, start_date=datetime.datetime(2014, 4, 28, 20, 43), start_station='Mountain View City Hall', start_terminal=27, end_date=datetime.datetime(2014, 4, 28, 20, 46), end_station='Mountain View Caltrain Station', end_terminal='28', bike_id=87, subscription_type='Subscriber', zip_code='94401'),\n",
       "  Trip(trip_id=264475, duration=217, start_date=datetime.datetime(2014, 4, 29, 8, 46), start_station='Mountain View City Hall', start_terminal=27, end_date=datetime.datetime(2014, 4, 29, 8, 50), end_station='Mountain View Caltrain Station', end_terminal='28', bike_id=163, subscription_type='Subscriber', zip_code='94041'),\n",
       "  Trip(trip_id=264769, duration=651, start_date=datetime.datetime(2014, 4, 29, 11, 8), start_station='Mountain View City Hall', start_terminal=27, end_date=datetime.datetime(2014, 4, 29, 11, 19), end_station='Rengstorff Avenue / California Street', end_terminal='33', bike_id=219, subscription_type='Subscriber', zip_code='94040'),\n",
       "  Trip(trip_id=265021, duration=267, start_date=datetime.datetime(2014, 4, 29, 14, 45), start_station='Mountain View City Hall', start_terminal=27, end_date=datetime.datetime(2014, 4, 29, 14, 50), end_station='Mountain View Caltrain Station', end_terminal='28', bike_id=100, subscription_type='Subscriber', zip_code='94114'),\n",
       "  Trip(trip_id=265431, duration=313, start_date=datetime.datetime(2014, 4, 29, 18, 12), start_station='Mountain View City Hall', start_terminal=27, end_date=datetime.datetime(2014, 4, 29, 18, 17), end_station='Mountain View Caltrain Station', end_terminal='28', bike_id=119, subscription_type='Subscriber', zip_code='94158'),\n",
       "  Trip(trip_id=265712, duration=222, start_date=datetime.datetime(2014, 4, 29, 20, 41), start_station='Mountain View City Hall', start_terminal=27, end_date=datetime.datetime(2014, 4, 29, 20, 44), end_station='Mountain View Caltrain Station', end_terminal='28', bike_id=87, subscription_type='Subscriber', zip_code='94401'),\n",
       "  Trip(trip_id=265819, duration=187, start_date=datetime.datetime(2014, 4, 30, 5, 51), start_station='Mountain View City Hall', start_terminal=27, end_date=datetime.datetime(2014, 4, 30, 5, 54), end_station='Mountain View Caltrain Station', end_terminal='28', bike_id=68, subscription_type='Subscriber', zip_code='94024'),\n",
       "  Trip(trip_id=266115, duration=226, start_date=datetime.datetime(2014, 4, 30, 8, 43), start_station='Mountain View City Hall', start_terminal=27, end_date=datetime.datetime(2014, 4, 30, 8, 47), end_station='Mountain View Caltrain Station', end_terminal='28', bike_id=701, subscription_type='Subscriber', zip_code='94041'),\n",
       "  Trip(trip_id=266549, duration=1304, start_date=datetime.datetime(2014, 4, 30, 13, 19), start_station='Mountain View City Hall', start_terminal=27, end_date=datetime.datetime(2014, 4, 30, 13, 41), end_station='Mountain View City Hall', end_terminal='27', bike_id=119, subscription_type='Subscriber', zip_code='94114'),\n",
       "  Trip(trip_id=266550, duration=1286, start_date=datetime.datetime(2014, 4, 30, 13, 20), start_station='Mountain View City Hall', start_terminal=27, end_date=datetime.datetime(2014, 4, 30, 13, 41), end_station='Mountain View City Hall', end_terminal='27', bike_id=245, subscription_type='Subscriber', zip_code='94114'),\n",
       "  Trip(trip_id=266736, duration=268, start_date=datetime.datetime(2014, 4, 30, 16, 22), start_station='Mountain View City Hall', start_terminal=27, end_date=datetime.datetime(2014, 4, 30, 16, 27), end_station='Mountain View Caltrain Station', end_terminal='28', bike_id=163, subscription_type='Subscriber', zip_code='94107'),\n",
       "  Trip(trip_id=266916, duration=183, start_date=datetime.datetime(2014, 4, 30, 17, 24), start_station='Mountain View City Hall', start_terminal=27, end_date=datetime.datetime(2014, 4, 30, 17, 27), end_station='Mountain View Caltrain Station', end_terminal='28', bike_id=87, subscription_type='Subscriber', zip_code='94114'),\n",
       "  Trip(trip_id=267107, duration=253, start_date=datetime.datetime(2014, 4, 30, 18, 26), start_station='Mountain View City Hall', start_terminal=27, end_date=datetime.datetime(2014, 4, 30, 18, 30), end_station='Mountain View Caltrain Station', end_terminal='28', bike_id=686, subscription_type='Subscriber', zip_code='94107'),\n",
       "  Trip(trip_id=267109, duration=204, start_date=datetime.datetime(2014, 4, 30, 18, 28), start_station='Mountain View City Hall', start_terminal=27, end_date=datetime.datetime(2014, 4, 30, 18, 31), end_station='Mountain View Caltrain Station', end_terminal='28', bike_id=245, subscription_type='Subscriber', zip_code='94158'),\n",
       "  Trip(trip_id=267698, duration=198, start_date=datetime.datetime(2014, 5, 1, 8, 51), start_station='Mountain View City Hall', start_terminal=27, end_date=datetime.datetime(2014, 5, 1, 8, 54), end_station='Mountain View Caltrain Station', end_terminal='28', bike_id=701, subscription_type='Subscriber', zip_code='94041'),\n",
       "  Trip(trip_id=268350, duration=189, start_date=datetime.datetime(2014, 5, 1, 16, 50), start_station='Mountain View City Hall', start_terminal=27, end_date=datetime.datetime(2014, 5, 1, 16, 54), end_station='Mountain View Caltrain Station', end_terminal='28', bike_id=167, subscription_type='Subscriber', zip_code='94107'),\n",
       "  Trip(trip_id=268615, duration=265, start_date=datetime.datetime(2014, 5, 1, 18, 18), start_station='Mountain View City Hall', start_terminal=27, end_date=datetime.datetime(2014, 5, 1, 18, 22), end_station='Mountain View Caltrain Station', end_terminal='28', bike_id=686, subscription_type='Subscriber', zip_code='94158'),\n",
       "  Trip(trip_id=269206, duration=194, start_date=datetime.datetime(2014, 5, 2, 8, 54), start_station='Mountain View City Hall', start_terminal=27, end_date=datetime.datetime(2014, 5, 2, 8, 57), end_station='Mountain View Caltrain Station', end_terminal='28', bike_id=163, subscription_type='Subscriber', zip_code='94041'),\n",
       "  Trip(trip_id=269503, duration=261, start_date=datetime.datetime(2014, 5, 2, 12, 20), start_station='Mountain View City Hall', start_terminal=27, end_date=datetime.datetime(2014, 5, 2, 12, 25), end_station='Mountain View Caltrain Station', end_terminal='28', bike_id=87, subscription_type='Subscriber', zip_code='94158'),\n",
       "  Trip(trip_id=269829, duration=236, start_date=datetime.datetime(2014, 5, 2, 16, 48), start_station='Mountain View City Hall', start_terminal=27, end_date=datetime.datetime(2014, 5, 2, 16, 52), end_station='Mountain View Caltrain Station', end_terminal='28', bike_id=706, subscription_type='Subscriber', zip_code='94107'),\n",
       "  Trip(trip_id=270746, duration=1287, start_date=datetime.datetime(2014, 5, 3, 18, 49), start_station='Mountain View City Hall', start_terminal=27, end_date=datetime.datetime(2014, 5, 3, 19, 10), end_station='San Antonio Shopping Center', end_terminal='31', bike_id=60, subscription_type='Customer', zip_code='92131'),\n",
       "  Trip(trip_id=270747, duration=1251, start_date=datetime.datetime(2014, 5, 3, 18, 50), start_station='Mountain View City Hall', start_terminal=27, end_date=datetime.datetime(2014, 5, 3, 19, 11), end_station='San Antonio Shopping Center', end_terminal='31', bike_id=686, subscription_type='Customer', zip_code='92131'),\n",
       "  Trip(trip_id=270815, duration=639, start_date=datetime.datetime(2014, 5, 3, 23, 52), start_station='Mountain View City Hall', start_terminal=27, end_date=datetime.datetime(2014, 5, 4, 0, 3), end_station='Rengstorff Avenue / California Street', end_terminal='33', bike_id=706, subscription_type='Subscriber', zip_code='94040'),\n",
       "  Trip(trip_id=271074, duration=528, start_date=datetime.datetime(2014, 5, 4, 14, 26), start_station='Mountain View City Hall', start_terminal=27, end_date=datetime.datetime(2014, 5, 4, 14, 35), end_station='Mountain View City Hall', end_terminal='27', bike_id=657, subscription_type='Subscriber', zip_code='94043'),\n",
       "  Trip(trip_id=271859, duration=209, start_date=datetime.datetime(2014, 5, 5, 9, 20), start_station='Mountain View City Hall', start_terminal=27, end_date=datetime.datetime(2014, 5, 5, 9, 23), end_station='Mountain View Caltrain Station', end_terminal='28', bike_id=686, subscription_type='Subscriber', zip_code='94041'),\n",
       "  Trip(trip_id=272561, duration=320, start_date=datetime.datetime(2014, 5, 5, 17, 21), start_station='Mountain View City Hall', start_terminal=27, end_date=datetime.datetime(2014, 5, 5, 17, 26), end_station='Mountain View Caltrain Station', end_terminal='28', bike_id=100, subscription_type='Subscriber', zip_code='94043'),\n",
       "  Trip(trip_id=272575, duration=320, start_date=datetime.datetime(2014, 5, 5, 17, 26), start_station='Mountain View City Hall', start_terminal=27, end_date=datetime.datetime(2014, 5, 5, 17, 31), end_station='Mountain View Caltrain Station', end_terminal='28', bike_id=142, subscription_type='Customer', zip_code='94110'),\n",
       "  Trip(trip_id=272657, duration=223, start_date=datetime.datetime(2014, 5, 5, 17, 51), start_station='Mountain View City Hall', start_terminal=27, end_date=datetime.datetime(2014, 5, 5, 17, 54), end_station='Mountain View Caltrain Station', end_terminal='28', bike_id=701, subscription_type='Subscriber', zip_code='94158'),\n",
       "  Trip(trip_id=272878, duration=193, start_date=datetime.datetime(2014, 5, 5, 19, 43), start_station='Mountain View City Hall', start_terminal=27, end_date=datetime.datetime(2014, 5, 5, 19, 46), end_station='Mountain View Caltrain Station', end_terminal='28', bike_id=308, subscription_type='Subscriber', zip_code='94401'),\n",
       "  Trip(trip_id=272922, duration=87343, start_date=datetime.datetime(2014, 5, 5, 20, 19), start_station='Mountain View City Hall', start_terminal=27, end_date=datetime.datetime(2014, 5, 6, 20, 35), end_station='Rengstorff Avenue / California Street', end_terminal='33', bike_id=675, subscription_type='Customer', zip_code='650'),\n",
       "  Trip(trip_id=272927, duration=5091, start_date=datetime.datetime(2014, 5, 5, 20, 22), start_station='Mountain View City Hall', start_terminal=27, end_date=datetime.datetime(2014, 5, 5, 21, 47), end_station='Rengstorff Avenue / California Street', end_terminal='33', bike_id=657, subscription_type='Customer', zip_code='650'),\n",
       "  Trip(trip_id=272931, duration=4903, start_date=datetime.datetime(2014, 5, 5, 20, 26), start_station='Mountain View City Hall', start_terminal=27, end_date=datetime.datetime(2014, 5, 5, 21, 48), end_station='Rengstorff Avenue / California Street', end_terminal='33', bike_id=198, subscription_type='Customer', zip_code='650'),\n",
       "  Trip(trip_id=273278, duration=3469, start_date=datetime.datetime(2014, 5, 6, 8, 39), start_station='Mountain View City Hall', start_terminal=27, end_date=datetime.datetime(2014, 5, 6, 9, 37), end_station='Mountain View City Hall', end_terminal='27', bike_id=308, subscription_type='Subscriber', zip_code='94110'),\n",
       "  Trip(trip_id=273545, duration=6846, start_date=datetime.datetime(2014, 5, 6, 10, 7), start_station='Mountain View City Hall', start_terminal=27, end_date=datetime.datetime(2014, 5, 6, 12, 1), end_station='Mountain View City Hall', end_terminal='27', bike_id=308, subscription_type='Subscriber', zip_code='94110'),\n",
       "  Trip(trip_id=274018, duration=246, start_date=datetime.datetime(2014, 5, 6, 16, 48), start_station='Mountain View City Hall', start_terminal=27, end_date=datetime.datetime(2014, 5, 6, 16, 52), end_station='Mountain View Caltrain Station', end_terminal='28', bike_id=686, subscription_type='Subscriber', zip_code='94107'),\n",
       "  Trip(trip_id=274904, duration=229, start_date=datetime.datetime(2014, 5, 7, 8, 46), start_station='Mountain View City Hall', start_terminal=27, end_date=datetime.datetime(2014, 5, 7, 8, 50), end_station='Mountain View Caltrain Station', end_terminal='28', bike_id=106, subscription_type='Subscriber', zip_code='94041'),\n",
       "  Trip(trip_id=275437, duration=743, start_date=datetime.datetime(2014, 5, 7, 14, 52), start_station='Mountain View City Hall', start_terminal=27, end_date=datetime.datetime(2014, 5, 7, 15, 4), end_station='Rengstorff Avenue / California Street', end_terminal='33', bike_id=213, subscription_type='Subscriber', zip_code='94040'),\n",
       "  Trip(trip_id=275560, duration=218, start_date=datetime.datetime(2014, 5, 7, 16, 25), start_station='Mountain View City Hall', start_terminal=27, end_date=datetime.datetime(2014, 5, 7, 16, 29), end_station='Mountain View Caltrain Station', end_terminal='28', bike_id=686, subscription_type='Subscriber', zip_code='94107'),\n",
       "  Trip(trip_id=275565, duration=202, start_date=datetime.datetime(2014, 5, 7, 16, 29), start_station='Mountain View City Hall', start_terminal=27, end_date=datetime.datetime(2014, 5, 7, 16, 33), end_station='Mountain View Caltrain Station', end_terminal='28', bike_id=308, subscription_type='Subscriber', zip_code='94103'),\n",
       "  Trip(trip_id=275729, duration=275, start_date=datetime.datetime(2014, 5, 7, 17, 25), start_station='Mountain View City Hall', start_terminal=27, end_date=datetime.datetime(2014, 5, 7, 17, 30), end_station='Mountain View Caltrain Station', end_terminal='28', bike_id=68, subscription_type='Subscriber', zip_code='94158'),\n",
       "  Trip(trip_id=275887, duration=201, start_date=datetime.datetime(2014, 5, 7, 18, 26), start_station='Mountain View City Hall', start_terminal=27, end_date=datetime.datetime(2014, 5, 7, 18, 30), end_station='Mountain View Caltrain Station', end_terminal='28', bike_id=670, subscription_type='Subscriber', zip_code='94401'),\n",
       "  Trip(trip_id=276519, duration=223, start_date=datetime.datetime(2014, 5, 8, 8, 51), start_station='Mountain View City Hall', start_terminal=27, end_date=datetime.datetime(2014, 5, 8, 8, 55), end_station='Mountain View Caltrain Station', end_terminal='28', bike_id=183, subscription_type='Subscriber', zip_code='94041'),\n",
       "  Trip(trip_id=276935, duration=199, start_date=datetime.datetime(2014, 5, 8, 13, 52), start_station='Mountain View City Hall', start_terminal=27, end_date=datetime.datetime(2014, 5, 8, 13, 55), end_station='Castro Street and El Camino Real', end_terminal='32', bike_id=701, subscription_type='Subscriber', zip_code='94043'),\n",
       "  Trip(trip_id=277120, duration=261, start_date=datetime.datetime(2014, 5, 8, 16, 49), start_station='Mountain View City Hall', start_terminal=27, end_date=datetime.datetime(2014, 5, 8, 16, 54), end_station='Mountain View Caltrain Station', end_terminal='28', bike_id=686, subscription_type='Subscriber', zip_code='94107'),\n",
       "  Trip(trip_id=277891, duration=206, start_date=datetime.datetime(2014, 5, 9, 9, 14), start_station='Mountain View City Hall', start_terminal=27, end_date=datetime.datetime(2014, 5, 9, 9, 17), end_station='Mountain View Caltrain Station', end_terminal='28', bike_id=183, subscription_type='Subscriber', zip_code='94041'),\n",
       "  Trip(trip_id=278445, duration=210, start_date=datetime.datetime(2014, 5, 9, 16, 48), start_station='Mountain View City Hall', start_terminal=27, end_date=datetime.datetime(2014, 5, 9, 16, 52), end_station='Mountain View Caltrain Station', end_terminal='28', bike_id=183, subscription_type='Subscriber', zip_code='94107'),\n",
       "  Trip(trip_id=279001, duration=3951, start_date=datetime.datetime(2014, 5, 10, 10, 25), start_station='Mountain View City Hall', start_terminal=27, end_date=datetime.datetime(2014, 5, 10, 11, 31), end_station='Mountain View City Hall', end_terminal='27', bike_id=254, subscription_type='Customer', zip_code='10015'),\n",
       "  Trip(trip_id=279145, duration=7560, start_date=datetime.datetime(2014, 5, 10, 13, 12), start_station='Mountain View City Hall', start_terminal=27, end_date=datetime.datetime(2014, 5, 10, 15, 18), end_station='Mountain View City Hall', end_terminal='27', bike_id=308, subscription_type='Customer', zip_code='7652'),\n",
       "  Trip(trip_id=279186, duration=391, start_date=datetime.datetime(2014, 5, 10, 13, 58), start_station='Mountain View City Hall', start_terminal=27, end_date=datetime.datetime(2014, 5, 10, 14, 4), end_station='Mountain View Caltrain Station', end_terminal='28', bike_id=119, subscription_type='Customer', zip_code='94040'),\n",
       "  Trip(trip_id=279209, duration=917, start_date=datetime.datetime(2014, 5, 10, 14, 28), start_station='Mountain View City Hall', start_terminal=27, end_date=datetime.datetime(2014, 5, 10, 14, 44), end_station='San Antonio Shopping Center', end_terminal='31', bike_id=194, subscription_type='Customer', zip_code='94041'),\n",
       "  Trip(trip_id=279223, duration=1355, start_date=datetime.datetime(2014, 5, 10, 14, 58), start_station='Mountain View City Hall', start_terminal=27, end_date=datetime.datetime(2014, 5, 10, 15, 20), end_station='Mountain View Caltrain Station', end_terminal='28', bike_id=304, subscription_type='Customer', zip_code='53202'),\n",
       "  Trip(trip_id=279225, duration=1162, start_date=datetime.datetime(2014, 5, 10, 15, 2), start_station='Mountain View City Hall', start_terminal=27, end_date=datetime.datetime(2014, 5, 10, 15, 21), end_station='Mountain View Caltrain Station', end_terminal='28', bike_id=254, subscription_type='Customer', zip_code='94086'),\n",
       "  Trip(trip_id=279464, duration=314, start_date=datetime.datetime(2014, 5, 11, 10, 14), start_station='Mountain View City Hall', start_terminal=27, end_date=datetime.datetime(2014, 5, 11, 10, 19), end_station='Mountain View Caltrain Station', end_terminal='28', bike_id=670, subscription_type='Subscriber', zip_code='94041'),\n",
       "  Trip(trip_id=279498, duration=526, start_date=datetime.datetime(2014, 5, 11, 11, 2), start_station='Mountain View City Hall', start_terminal=27, end_date=datetime.datetime(2014, 5, 11, 11, 11), end_station='Mountain View Caltrain Station', end_terminal='28', bike_id=194, subscription_type='Customer', zip_code='94041'),\n",
       "  Trip(trip_id=279503, duration=435, start_date=datetime.datetime(2014, 5, 11, 11, 10), start_station='Mountain View City Hall', start_terminal=27, end_date=datetime.datetime(2014, 5, 11, 11, 17), end_station='Mountain View Caltrain Station', end_terminal='28', bike_id=296, subscription_type='Customer', zip_code='94041'),\n",
       "  Trip(trip_id=279861, duration=880, start_date=datetime.datetime(2014, 5, 11, 20, 6), start_station='Mountain View City Hall', start_terminal=27, end_date=datetime.datetime(2014, 5, 11, 20, 21), end_station='Mountain View Caltrain Station', end_terminal='28', bike_id=675, subscription_type='Subscriber', zip_code='94041'),\n",
       "  Trip(trip_id=280673, duration=125, start_date=datetime.datetime(2014, 5, 12, 13, 37), start_station='Mountain View City Hall', start_terminal=27, end_date=datetime.datetime(2014, 5, 12, 13, 39), end_station='Castro Street and El Camino Real', end_terminal='32', bike_id=183, subscription_type='Subscriber', zip_code='94043'),\n",
       "  Trip(trip_id=280860, duration=224, start_date=datetime.datetime(2014, 5, 12, 16, 28), start_station='Mountain View City Hall', start_terminal=27, end_date=datetime.datetime(2014, 5, 12, 16, 32), end_station='Mountain View Caltrain Station', end_terminal='28', bike_id=40, subscription_type='Subscriber', zip_code='94107'),\n",
       "  Trip(trip_id=281234, duration=223, start_date=datetime.datetime(2014, 5, 12, 18, 27), start_station='Mountain View City Hall', start_terminal=27, end_date=datetime.datetime(2014, 5, 12, 18, 31), end_station='Mountain View Caltrain Station', end_terminal='28', bike_id=296, subscription_type='Subscriber', zip_code='94158'),\n",
       "  Trip(trip_id=282455, duration=818, start_date=datetime.datetime(2014, 5, 13, 15, 42), start_station='Mountain View City Hall', start_terminal=27, end_date=datetime.datetime(2014, 5, 13, 15, 55), end_station='Mountain View City Hall', end_terminal='27', bike_id=28, subscription_type='Subscriber', zip_code='94114'),\n",
       "  Trip(trip_id=282454, duration=822, start_date=datetime.datetime(2014, 5, 13, 15, 42), start_station='Mountain View City Hall', start_terminal=27, end_date=datetime.datetime(2014, 5, 13, 15, 55), end_station='Mountain View City Hall', end_terminal='27', bike_id=148, subscription_type='Subscriber', zip_code='94114'),\n",
       "  Trip(trip_id=282892, duration=270, start_date=datetime.datetime(2014, 5, 13, 18, 24), start_station='Mountain View City Hall', start_terminal=27, end_date=datetime.datetime(2014, 5, 13, 18, 28), end_station='Mountain View Caltrain Station', end_terminal='28', bike_id=18, subscription_type='Subscriber', zip_code='94158'),\n",
       "  Trip(trip_id=283088, duration=588, start_date=datetime.datetime(2014, 5, 13, 21, 1), start_station='Mountain View City Hall', start_terminal=27, end_date=datetime.datetime(2014, 5, 13, 21, 11), end_station='San Antonio Shopping Center', end_terminal='31', bike_id=142, subscription_type='Subscriber', zip_code='94301'),\n",
       "  Trip(trip_id=283120, duration=198, start_date=datetime.datetime(2014, 5, 13, 21, 40), start_station='Mountain View City Hall', start_terminal=27, end_date=datetime.datetime(2014, 5, 13, 21, 43), end_station='Mountain View Caltrain Station', end_terminal='28', bike_id=148, subscription_type='Subscriber', zip_code='94401'),\n",
       "  Trip(trip_id=283534, duration=213, start_date=datetime.datetime(2014, 5, 14, 8, 46), start_station='Mountain View City Hall', start_terminal=27, end_date=datetime.datetime(2014, 5, 14, 8, 50), end_station='Mountain View Caltrain Station', end_terminal='28', bike_id=28, subscription_type='Subscriber', zip_code='94041'),\n",
       "  Trip(trip_id=284191, duration=231, start_date=datetime.datetime(2014, 5, 14, 16, 46), start_station='Mountain View City Hall', start_terminal=27, end_date=datetime.datetime(2014, 5, 14, 16, 50), end_station='Mountain View Caltrain Station', end_terminal='28', bike_id=160, subscription_type='Subscriber', zip_code='94107'),\n",
       "  Trip(trip_id=284662, duration=230, start_date=datetime.datetime(2014, 5, 14, 20, 37), start_station='Mountain View City Hall', start_terminal=27, end_date=datetime.datetime(2014, 5, 14, 20, 41), end_station='Mountain View Caltrain Station', end_terminal='28', bike_id=28, subscription_type='Subscriber', zip_code='94158'),\n",
       "  Trip(trip_id=285189, duration=169, start_date=datetime.datetime(2014, 5, 15, 9, 21), start_station='Mountain View City Hall', start_terminal=27, end_date=datetime.datetime(2014, 5, 15, 9, 24), end_station='Mountain View Caltrain Station', end_terminal='28', bike_id=296, subscription_type='Subscriber', zip_code='94041'),\n",
       "  Trip(trip_id=286141, duration=271, start_date=datetime.datetime(2014, 5, 15, 18, 52), start_station='Mountain View City Hall', start_terminal=27, end_date=datetime.datetime(2014, 5, 15, 18, 56), end_station='Mountain View Caltrain Station', end_terminal='28', bike_id=194, subscription_type='Subscriber', zip_code='94158'),\n",
       "  Trip(trip_id=286734, duration=650, start_date=datetime.datetime(2014, 5, 16, 9, 7), start_station='Mountain View City Hall', start_terminal=27, end_date=datetime.datetime(2014, 5, 16, 9, 17), end_station='Rengstorff Avenue / California Street', end_terminal='33', bike_id=649, subscription_type='Subscriber', zip_code='94041'),\n",
       "  Trip(trip_id=286781, duration=167, start_date=datetime.datetime(2014, 5, 16, 9, 23), start_station='Mountain View City Hall', start_terminal=27, end_date=datetime.datetime(2014, 5, 16, 9, 26), end_station='Mountain View Caltrain Station', end_terminal='28', bike_id=40, subscription_type='Subscriber', zip_code='94041'),\n",
       "  Trip(trip_id=286900, duration=418, start_date=datetime.datetime(2014, 5, 16, 10, 46), start_station='Mountain View City Hall', start_terminal=27, end_date=datetime.datetime(2014, 5, 16, 10, 53), end_station='Evelyn Park and Ride', end_terminal='30', bike_id=60, subscription_type='Subscriber', zip_code='94022'),\n",
       "  Trip(trip_id=287560, duration=206, start_date=datetime.datetime(2014, 5, 16, 17, 37), start_station='Mountain View City Hall', start_terminal=27, end_date=datetime.datetime(2014, 5, 16, 17, 40), end_station='Mountain View Caltrain Station', end_terminal='28', bike_id=94, subscription_type='Subscriber', zip_code='94401'),\n",
       "  Trip(trip_id=287802, duration=969, start_date=datetime.datetime(2014, 5, 16, 20, 59), start_station='Mountain View City Hall', start_terminal=27, end_date=datetime.datetime(2014, 5, 16, 21, 15), end_station='Mountain View City Hall', end_terminal='27', bike_id=139, subscription_type='Customer', zip_code='94063'),\n",
       "  Trip(trip_id=288518, duration=389, start_date=datetime.datetime(2014, 5, 18, 6, 28), start_station='Mountain View City Hall', start_terminal=27, end_date=datetime.datetime(2014, 5, 18, 6, 35), end_station='Mountain View Caltrain Station', end_terminal='28', bike_id=308, subscription_type='Customer', zip_code='94041'),\n",
       "  Trip(trip_id=288517, duration=443, start_date=datetime.datetime(2014, 5, 18, 6, 28), start_station='Mountain View City Hall', start_terminal=27, end_date=datetime.datetime(2014, 5, 18, 6, 36), end_station='Mountain View Caltrain Station', end_terminal='28', bike_id=92, subscription_type='Customer', zip_code='94041'),\n",
       "  Trip(trip_id=289356, duration=191, start_date=datetime.datetime(2014, 5, 19, 8, 14), start_station='Mountain View City Hall', start_terminal=27, end_date=datetime.datetime(2014, 5, 19, 8, 17), end_station='Mountain View Caltrain Station', end_terminal='28', bike_id=139, subscription_type='Subscriber', zip_code='94041'),\n",
       "  Trip(trip_id=289829, duration=1862, start_date=datetime.datetime(2014, 5, 19, 12, 59), start_station='Mountain View City Hall', start_terminal=27, end_date=datetime.datetime(2014, 5, 19, 13, 30), end_station='San Antonio Shopping Center', end_terminal='31', bike_id=213, subscription_type='Customer', zip_code='94040'),\n",
       "  Trip(trip_id=290688, duration=377, start_date=datetime.datetime(2014, 5, 19, 21, 48), start_station='Mountain View City Hall', start_terminal=27, end_date=datetime.datetime(2014, 5, 19, 21, 54), end_station='Evelyn Park and Ride', end_terminal='30', bike_id=106, subscription_type='Subscriber', zip_code='94043'),\n",
       "  Trip(trip_id=291083, duration=229, start_date=datetime.datetime(2014, 5, 20, 9, 6), start_station='Mountain View City Hall', start_terminal=27, end_date=datetime.datetime(2014, 5, 20, 9, 10), end_station='Mountain View Caltrain Station', end_terminal='28', bike_id=29, subscription_type='Subscriber', zip_code='94041'),\n",
       "  Trip(trip_id=291579, duration=2465, start_date=datetime.datetime(2014, 5, 20, 15, 28), start_station='Mountain View City Hall', start_terminal=27, end_date=datetime.datetime(2014, 5, 20, 16, 9), end_station='California Ave Caltrain Station', end_terminal='36', bike_id=160, subscription_type='Subscriber', zip_code='94612'),\n",
       "  Trip(trip_id=291589, duration=694, start_date=datetime.datetime(2014, 5, 20, 15, 33), start_station='Mountain View City Hall', start_terminal=27, end_date=datetime.datetime(2014, 5, 20, 15, 44), end_station='Mountain View City Hall', end_terminal='27', bike_id=163, subscription_type='Subscriber', zip_code='94112'),\n",
       "  Trip(trip_id=291613, duration=1014, start_date=datetime.datetime(2014, 5, 20, 15, 48), start_station='Mountain View City Hall', start_terminal=27, end_date=datetime.datetime(2014, 5, 20, 16, 4), end_station='Mountain View City Hall', end_terminal='27', bike_id=163, subscription_type='Subscriber', zip_code='94112'),\n",
       "  Trip(trip_id=291679, duration=207, start_date=datetime.datetime(2014, 5, 20, 16, 29), start_station='Mountain View City Hall', start_terminal=27, end_date=datetime.datetime(2014, 5, 20, 16, 32), end_station='Mountain View Caltrain Station', end_terminal='28', bike_id=183, subscription_type='Subscriber', zip_code='94107'),\n",
       "  Trip(trip_id=291853, duration=4155, start_date=datetime.datetime(2014, 5, 20, 17, 26), start_station='Mountain View City Hall', start_terminal=27, end_date=datetime.datetime(2014, 5, 20, 18, 36), end_station='Mountain View City Hall', end_terminal='27', bike_id=29, subscription_type='Customer', zip_code='94087'),\n",
       "  Trip(trip_id=292252, duration=189, start_date=datetime.datetime(2014, 5, 20, 21, 40), start_station='Mountain View City Hall', start_terminal=27, end_date=datetime.datetime(2014, 5, 20, 21, 43), end_station='Mountain View Caltrain Station', end_terminal='28', bike_id=20, subscription_type='Subscriber', zip_code='94401'),\n",
       "  Trip(trip_id=292292, duration=155, start_date=datetime.datetime(2014, 5, 21, 5, 51), start_station='Mountain View City Hall', start_terminal=27, end_date=datetime.datetime(2014, 5, 21, 5, 53), end_station='Mountain View Caltrain Station', end_terminal='28', bike_id=29, subscription_type='Subscriber', zip_code='94024'),\n",
       "  Trip(trip_id=292749, duration=438, start_date=datetime.datetime(2014, 5, 21, 9, 46), start_station='Mountain View City Hall', start_terminal=27, end_date=datetime.datetime(2014, 5, 21, 9, 54), end_station='Mountain View City Hall', end_terminal='27', bike_id=163, subscription_type='Subscriber', zip_code='94041'),\n",
       "  Trip(trip_id=293058, duration=488, start_date=datetime.datetime(2014, 5, 21, 14, 48), start_station='Mountain View City Hall', start_terminal=27, end_date=datetime.datetime(2014, 5, 21, 14, 56), end_station='Evelyn Park and Ride', end_terminal='30', bike_id=246, subscription_type='Subscriber', zip_code='94043'),\n",
       "  Trip(trip_id=293211, duration=211, start_date=datetime.datetime(2014, 5, 21, 16, 47), start_station='Mountain View City Hall', start_terminal=27, end_date=datetime.datetime(2014, 5, 21, 16, 51), end_station='Mountain View Caltrain Station', end_terminal='28', bike_id=24, subscription_type='Subscriber', zip_code='94107'),\n",
       "  Trip(trip_id=293783, duration=124, start_date=datetime.datetime(2014, 5, 22, 5, 53), start_station='Mountain View City Hall', start_terminal=27, end_date=datetime.datetime(2014, 5, 22, 5, 55), end_station='Mountain View Caltrain Station', end_terminal='28', bike_id=246, subscription_type='Subscriber', zip_code='94024'),\n",
       "  Trip(trip_id=294120, duration=262, start_date=datetime.datetime(2014, 5, 22, 8, 52), start_station='Mountain View City Hall', start_terminal=27, end_date=datetime.datetime(2014, 5, 22, 8, 57), end_station='Mountain View Caltrain Station', end_terminal='28', bike_id=163, subscription_type='Subscriber', zip_code='94041'),\n",
       "  Trip(trip_id=294852, duration=260, start_date=datetime.datetime(2014, 5, 22, 16, 45), start_station='Mountain View City Hall', start_terminal=27, end_date=datetime.datetime(2014, 5, 22, 16, 50), end_station='Mountain View Caltrain Station', end_terminal='28', bike_id=100, subscription_type='Subscriber', zip_code='94107'),\n",
       "  Trip(trip_id=295361, duration=205, start_date=datetime.datetime(2014, 5, 22, 21, 44), start_station='Mountain View City Hall', start_terminal=27, end_date=datetime.datetime(2014, 5, 22, 21, 47), end_station='Mountain View Caltrain Station', end_terminal='28', bike_id=24, subscription_type='Subscriber', zip_code='94401'),\n",
       "  Trip(trip_id=295564, duration=231, start_date=datetime.datetime(2014, 5, 23, 8, 10), start_station='Mountain View City Hall', start_terminal=27, end_date=datetime.datetime(2014, 5, 23, 8, 14), end_station='Mountain View Caltrain Station', end_terminal='28', bike_id=9, subscription_type='Subscriber', zip_code='94041'),\n",
       "  Trip(trip_id=296021, duration=13813, start_date=datetime.datetime(2014, 5, 23, 12, 51), start_station='Mountain View City Hall', start_terminal=27, end_date=datetime.datetime(2014, 5, 23, 16, 41), end_station='Mountain View Caltrain Station', end_terminal='28', bike_id=92, subscription_type='Customer', zip_code='94043'),\n",
       "  Trip(trip_id=296709, duration=246, start_date=datetime.datetime(2014, 5, 23, 21, 41), start_station='Mountain View City Hall', start_terminal=27, end_date=datetime.datetime(2014, 5, 23, 21, 45), end_station='Mountain View Caltrain Station', end_terminal='28', bike_id=20, subscription_type='Subscriber', zip_code='94158'),\n",
       "  Trip(trip_id=297226, duration=1223, start_date=datetime.datetime(2014, 5, 24, 20, 54), start_station='Mountain View City Hall', start_terminal=27, end_date=datetime.datetime(2014, 5, 24, 21, 15), end_station='Evelyn Park and Ride', end_terminal='30', bike_id=304, subscription_type='Customer', zip_code='14850'),\n",
       "  Trip(trip_id=297228, duration=1227, start_date=datetime.datetime(2014, 5, 24, 20, 55), start_station='Mountain View City Hall', start_terminal=27, end_date=datetime.datetime(2014, 5, 24, 21, 15), end_station='Evelyn Park and Ride', end_terminal='30', bike_id=649, subscription_type='Customer', zip_code='30318'),\n",
       "  Trip(trip_id=297227, duration=1213, start_date=datetime.datetime(2014, 5, 24, 20, 55), start_station='Mountain View City Hall', start_terminal=27, end_date=datetime.datetime(2014, 5, 24, 21, 15), end_station='Evelyn Park and Ride', end_terminal='30', bike_id=194, subscription_type='Customer', zip_code='10027'),\n",
       "  Trip(trip_id=297481, duration=1207, start_date=datetime.datetime(2014, 5, 25, 12, 6), start_station='Mountain View City Hall', start_terminal=27, end_date=datetime.datetime(2014, 5, 25, 12, 26), end_station='San Antonio Caltrain Station', end_terminal='29', bike_id=163, subscription_type='Customer', zip_code='94403'),\n",
       "  Trip(trip_id=297479, duration=1255, start_date=datetime.datetime(2014, 5, 25, 12, 6), start_station='Mountain View City Hall', start_terminal=27, end_date=datetime.datetime(2014, 5, 25, 12, 27), end_station='San Antonio Caltrain Station', end_terminal='29', bike_id=246, subscription_type='Customer', zip_code='94403'),\n",
       "  Trip(trip_id=297648, duration=487, start_date=datetime.datetime(2014, 5, 25, 14, 24), start_station='Mountain View City Hall', start_terminal=27, end_date=datetime.datetime(2014, 5, 25, 14, 32), end_station='Evelyn Park and Ride', end_terminal='30', bike_id=194, subscription_type='Customer', zip_code='14850'),\n",
       "  Trip(trip_id=297937, duration=1077, start_date=datetime.datetime(2014, 5, 25, 19, 22), start_station='Mountain View City Hall', start_terminal=27, end_date=datetime.datetime(2014, 5, 25, 19, 40), end_station='Mountain View Caltrain Station', end_terminal='28', bike_id=200, subscription_type='Subscriber', zip_code='94119'),\n",
       "  Trip(trip_id=298486, duration=1988, start_date=datetime.datetime(2014, 5, 26, 16, 24), start_station='Mountain View City Hall', start_terminal=27, end_date=datetime.datetime(2014, 5, 26, 16, 57), end_station='Mountain View Caltrain Station', end_terminal='28', bike_id=163, subscription_type='Customer', zip_code='27705'),\n",
       "  Trip(trip_id=298861, duration=508, start_date=datetime.datetime(2014, 5, 27, 7, 50), start_station='Mountain View City Hall', start_terminal=27, end_date=datetime.datetime(2014, 5, 27, 7, 59), end_station='Evelyn Park and Ride', end_terminal='30', bike_id=90, subscription_type='Customer', zip_code='94041'),\n",
       "  Trip(trip_id=298908, duration=232, start_date=datetime.datetime(2014, 5, 27, 8, 11), start_station='Mountain View City Hall', start_terminal=27, end_date=datetime.datetime(2014, 5, 27, 8, 15), end_station='Mountain View Caltrain Station', end_terminal='28', bike_id=9, subscription_type='Subscriber', zip_code='94041'),\n",
       "  Trip(trip_id=299164, duration=257, start_date=datetime.datetime(2014, 5, 27, 9, 11), start_station='Mountain View City Hall', start_terminal=27, end_date=datetime.datetime(2014, 5, 27, 9, 16), end_station='Mountain View Caltrain Station', end_terminal='28', bike_id=120, subscription_type='Subscriber', zip_code='94024'),\n",
       "  Trip(trip_id=299742, duration=204, start_date=datetime.datetime(2014, 5, 27, 16, 48), start_station='Mountain View City Hall', start_terminal=27, end_date=datetime.datetime(2014, 5, 27, 16, 51), end_station='Mountain View Caltrain Station', end_terminal='28', bike_id=202, subscription_type='Subscriber', zip_code='94107'),\n",
       "  Trip(trip_id=300052, duration=254, start_date=datetime.datetime(2014, 5, 27, 18, 25), start_station='Mountain View City Hall', start_terminal=27, end_date=datetime.datetime(2014, 5, 27, 18, 29), end_station='Mountain View Caltrain Station', end_terminal='28', bike_id=87, subscription_type='Subscriber', zip_code='94158'),\n",
       "  Trip(trip_id=300254, duration=256, start_date=datetime.datetime(2014, 5, 27, 20, 15), start_station='Mountain View City Hall', start_terminal=27, end_date=datetime.datetime(2014, 5, 27, 20, 19), end_station='Mountain View Caltrain Station', end_terminal='28', bike_id=202, subscription_type='Subscriber', zip_code='94041'),\n",
       "  Trip(trip_id=300274, duration=201, start_date=datetime.datetime(2014, 5, 27, 20, 43), start_station='Mountain View City Hall', start_terminal=27, end_date=datetime.datetime(2014, 5, 27, 20, 47), end_station='Mountain View Caltrain Station', end_terminal='28', bike_id=120, subscription_type='Subscriber', zip_code='94401'),\n",
       "  Trip(trip_id=300375, duration=157, start_date=datetime.datetime(2014, 5, 28, 5, 51), start_station='Mountain View City Hall', start_terminal=27, end_date=datetime.datetime(2014, 5, 28, 5, 54), end_station='Mountain View Caltrain Station', end_terminal='28', bike_id=670, subscription_type='Subscriber', zip_code='94024'),\n",
       "  Trip(trip_id=300737, duration=474, start_date=datetime.datetime(2014, 5, 28, 8, 53), start_station='Mountain View City Hall', start_terminal=27, end_date=datetime.datetime(2014, 5, 28, 9, 0), end_station='Evelyn Park and Ride', end_terminal='30', bike_id=110, subscription_type='Customer', zip_code='94041'),\n",
       "  Trip(trip_id=300830, duration=208, start_date=datetime.datetime(2014, 5, 28, 9, 19), start_station='Mountain View City Hall', start_terminal=27, end_date=datetime.datetime(2014, 5, 28, 9, 22), end_station='Mountain View Caltrain Station', end_terminal='28', bike_id=20, subscription_type='Subscriber', zip_code='94041'),\n",
       "  Trip(trip_id=301381, duration=209, start_date=datetime.datetime(2014, 5, 28, 16, 47), start_station='Mountain View City Hall', start_terminal=27, end_date=datetime.datetime(2014, 5, 28, 16, 50), end_station='Mountain View Caltrain Station', end_terminal='28', bike_id=40, subscription_type='Subscriber', zip_code='94107'),\n",
       "  Trip(trip_id=301591, duration=246, start_date=datetime.datetime(2014, 5, 28, 17, 45), start_station='Mountain View City Hall', start_terminal=27, end_date=datetime.datetime(2014, 5, 28, 17, 49), end_station='Mountain View Caltrain Station', end_terminal='28', bike_id=686, subscription_type='Subscriber', zip_code='94127'),\n",
       "  Trip(trip_id=301808, duration=197, start_date=datetime.datetime(2014, 5, 28, 18, 56), start_station='Mountain View City Hall', start_terminal=27, end_date=datetime.datetime(2014, 5, 28, 18, 59), end_station='Mountain View Caltrain Station', end_terminal='28', bike_id=202, subscription_type='Subscriber', zip_code='94158'),\n",
       "  Trip(trip_id=302237, duration=472, start_date=datetime.datetime(2014, 5, 29, 8, 18), start_station='Mountain View City Hall', start_terminal=27, end_date=datetime.datetime(2014, 5, 29, 8, 25), end_station='Evelyn Park and Ride', end_terminal='30', bike_id=246, subscription_type='Customer', zip_code='94041'),\n",
       "  Trip(trip_id=302387, duration=189, start_date=datetime.datetime(2014, 5, 29, 8, 54), start_station='Mountain View City Hall', start_terminal=27, end_date=datetime.datetime(2014, 5, 29, 8, 57), end_station='Mountain View Caltrain Station', end_terminal='28', bike_id=110, subscription_type='Subscriber', zip_code='94041'),\n",
       "  Trip(trip_id=303046, duration=231, start_date=datetime.datetime(2014, 5, 29, 16, 48), start_station='Mountain View City Hall', start_terminal=27, end_date=datetime.datetime(2014, 5, 29, 16, 51), end_station='Mountain View Caltrain Station', end_terminal='28', bike_id=194, subscription_type='Subscriber', zip_code='94107'),\n",
       "  Trip(trip_id=304390, duration=449, start_date=datetime.datetime(2014, 5, 30, 15, 7), start_station='Mountain View City Hall', start_terminal=27, end_date=datetime.datetime(2014, 5, 30, 15, 15), end_station='Evelyn Park and Ride', end_terminal='30', bike_id=110, subscription_type='Subscriber', zip_code='94043'),\n",
       "  Trip(trip_id=304586, duration=243, start_date=datetime.datetime(2014, 5, 30, 16, 58), start_station='Mountain View City Hall', start_terminal=27, end_date=datetime.datetime(2014, 5, 30, 17, 2), end_station='Mountain View Caltrain Station', end_terminal='28', bike_id=60, subscription_type='Subscriber', zip_code='94107'),\n",
       "  Trip(trip_id=304881, duration=273, start_date=datetime.datetime(2014, 5, 30, 19, 24), start_station='Mountain View City Hall', start_terminal=27, end_date=datetime.datetime(2014, 5, 30, 19, 29), end_station='Mountain View Caltrain Station', end_terminal='28', bike_id=241, subscription_type='Subscriber', zip_code='94158'),\n",
       "  Trip(trip_id=305116, duration=297, start_date=datetime.datetime(2014, 5, 31, 11, 13), start_station='Mountain View City Hall', start_terminal=27, end_date=datetime.datetime(2014, 5, 31, 11, 18), end_station='Mountain View Caltrain Station', end_terminal='28', bike_id=13, subscription_type='Subscriber', zip_code='94041'),\n",
       "  Trip(trip_id=305135, duration=9436, start_date=datetime.datetime(2014, 5, 31, 11, 29), start_station='Mountain View City Hall', start_terminal=27, end_date=datetime.datetime(2014, 5, 31, 14, 6), end_station='California Ave Caltrain Station', end_terminal='36', bike_id=649, subscription_type='Customer', zip_code='nil'),\n",
       "  Trip(trip_id=305651, duration=192, start_date=datetime.datetime(2014, 6, 1, 10, 40), start_station='Mountain View City Hall', start_terminal=27, end_date=datetime.datetime(2014, 6, 1, 10, 43), end_station='Mountain View Caltrain Station', end_terminal='28', bike_id=106, subscription_type='Subscriber', zip_code='94105'),\n",
       "  Trip(trip_id=305660, duration=311, start_date=datetime.datetime(2014, 6, 1, 10, 49), start_station='Mountain View City Hall', start_terminal=27, end_date=datetime.datetime(2014, 6, 1, 10, 54), end_station='Mountain View Caltrain Station', end_terminal='28', bike_id=694, subscription_type='Subscriber', zip_code='94041'),\n",
       "  Trip(trip_id=305770, duration=2487, start_date=datetime.datetime(2014, 6, 1, 12, 39), start_station='Mountain View City Hall', start_terminal=27, end_date=datetime.datetime(2014, 6, 1, 13, 20), end_station='Mountain View Caltrain Station', end_terminal='28', bike_id=19, subscription_type='Customer', zip_code='94040'),\n",
       "  Trip(trip_id=305788, duration=1845, start_date=datetime.datetime(2014, 6, 1, 12, 57), start_station='Mountain View City Hall', start_terminal=27, end_date=datetime.datetime(2014, 6, 1, 13, 28), end_station='Mountain View Caltrain Station', end_terminal='28', bike_id=40, subscription_type='Customer', zip_code='nil'),\n",
       "  Trip(trip_id=305789, duration=1840, start_date=datetime.datetime(2014, 6, 1, 12, 58), start_station='Mountain View City Hall', start_terminal=27, end_date=datetime.datetime(2014, 6, 1, 13, 29), end_station='Mountain View Caltrain Station', end_terminal='28', bike_id=203, subscription_type='Customer', zip_code='nil'),\n",
       "  Trip(trip_id=306580, duration=225, start_date=datetime.datetime(2014, 6, 2, 8, 50), start_station='Mountain View City Hall', start_terminal=27, end_date=datetime.datetime(2014, 6, 2, 8, 54), end_station='Mountain View Caltrain Station', end_terminal='28', bike_id=203, subscription_type='Subscriber', zip_code='94041'),\n",
       "  Trip(trip_id=306595, duration=163, start_date=datetime.datetime(2014, 6, 2, 8, 54), start_station='Mountain View City Hall', start_terminal=27, end_date=datetime.datetime(2014, 6, 2, 8, 57), end_station='Mountain View Caltrain Station', end_terminal='28', bike_id=19, subscription_type='Subscriber', zip_code='94024'),\n",
       "  Trip(trip_id=306636, duration=215, start_date=datetime.datetime(2014, 6, 2, 9, 6), start_station='Mountain View City Hall', start_terminal=27, end_date=datetime.datetime(2014, 6, 2, 9, 9), end_station='Mountain View Caltrain Station', end_terminal='28', bike_id=142, subscription_type='Subscriber', zip_code='94041'),\n",
       "  Trip(trip_id=307287, duration=227, start_date=datetime.datetime(2014, 6, 2, 16, 47), start_station='Mountain View City Hall', start_terminal=27, end_date=datetime.datetime(2014, 6, 2, 16, 50), end_station='Mountain View Caltrain Station', end_terminal='28', bike_id=701, subscription_type='Subscriber', zip_code='94107'),\n",
       "  Trip(trip_id=307551, duration=242, start_date=datetime.datetime(2014, 6, 2, 17, 48), start_station='Mountain View City Hall', start_terminal=27, end_date=datetime.datetime(2014, 6, 2, 17, 52), end_station='Mountain View Caltrain Station', end_terminal='28', bike_id=87, subscription_type='Subscriber', zip_code='94127'),\n",
       "  Trip(trip_id=307821, duration=171, start_date=datetime.datetime(2014, 6, 2, 19, 7), start_station='Mountain View City Hall', start_terminal=27, end_date=datetime.datetime(2014, 6, 2, 19, 10), end_station='Mountain View Caltrain Station', end_terminal='28', bike_id=19, subscription_type='Subscriber', zip_code='94105'),\n",
       "  Trip(trip_id=308377, duration=250, start_date=datetime.datetime(2014, 6, 3, 8, 50), start_station='Mountain View City Hall', start_terminal=27, end_date=datetime.datetime(2014, 6, 3, 8, 54), end_station='Mountain View Caltrain Station', end_terminal='28', bike_id=163, subscription_type='Subscriber', zip_code='94041'),\n",
       "  Trip(trip_id=309122, duration=209, start_date=datetime.datetime(2014, 6, 3, 16, 51), start_station='Mountain View City Hall', start_terminal=27, end_date=datetime.datetime(2014, 6, 3, 16, 54), end_station='Mountain View Caltrain Station', end_terminal='28', bike_id=67, subscription_type='Subscriber', zip_code='94107'),\n",
       "  Trip(trip_id=309330, duration=258, start_date=datetime.datetime(2014, 6, 3, 17, 41), start_station='Mountain View City Hall', start_terminal=27, end_date=datetime.datetime(2014, 6, 3, 17, 45), end_station='Mountain View Caltrain Station', end_terminal='28', bike_id=19, subscription_type='Subscriber', zip_code='94107'),\n",
       "  Trip(trip_id=309494, duration=185, start_date=datetime.datetime(2014, 6, 3, 18, 32), start_station='Mountain View City Hall', start_terminal=27, end_date=datetime.datetime(2014, 6, 3, 18, 35), end_station='Mountain View Caltrain Station', end_terminal='28', bike_id=694, subscription_type='Subscriber', zip_code='94105'),\n",
       "  Trip(trip_id=309715, duration=147, start_date=datetime.datetime(2014, 6, 3, 21, 14), start_station='Mountain View City Hall', start_terminal=27, end_date=datetime.datetime(2014, 6, 3, 21, 16), end_station='Castro Street and El Camino Real', end_terminal='32', bike_id=20, subscription_type='Subscriber', zip_code='94040'),\n",
       "  Trip(trip_id=309787, duration=161, start_date=datetime.datetime(2014, 6, 4, 5, 51), start_station='Mountain View City Hall', start_terminal=27, end_date=datetime.datetime(2014, 6, 4, 5, 53), end_station='Mountain View Caltrain Station', end_terminal='28', bike_id=304, subscription_type='Subscriber', zip_code='94024'),\n",
       "  Trip(trip_id=310136, duration=220, start_date=datetime.datetime(2014, 6, 4, 8, 48), start_station='Mountain View City Hall', start_terminal=27, end_date=datetime.datetime(2014, 6, 4, 8, 52), end_station='Mountain View Caltrain Station', end_terminal='28', bike_id=148, subscription_type='Subscriber', zip_code='94041'),\n",
       "  Trip(trip_id=311366, duration=208, start_date=datetime.datetime(2014, 6, 4, 19, 56), start_station='Mountain View City Hall', start_terminal=27, end_date=datetime.datetime(2014, 6, 4, 20, 0), end_station='Mountain View Caltrain Station', end_terminal='28', bike_id=304, subscription_type='Subscriber', zip_code='94105'),\n",
       "  ...],\n",
       " 'Mountain View City Hall')"
      ]
     },
     "execution_count": 75,
     "metadata": {},
     "output_type": "execute_result"
    }
   ],
   "source": [
    "firstGrouped.map(lambda x: x[::-1]).first()"
   ]
  },
  {
   "cell_type": "code",
   "execution_count": 76,
   "id": "bce3998c",
   "metadata": {},
   "outputs": [
    {
     "name": "stdout",
     "output_type": "stream",
     "text": [
      "688 ms ± 8.24 ms per loop (mean ± std. dev. of 7 runs, 1 loop each)\n"
     ]
    }
   ],
   "source": [
    "%%timeit\n",
    "firstGrouped.map(lambda x: x[::-1]).first()"
   ]
  },
  {
   "cell_type": "code",
   "execution_count": 77,
   "id": "c17e9f9d",
   "metadata": {},
   "outputs": [],
   "source": [
    "firstGrouped = trips_by_start_station \\\n",
    "    .reduceByKey(\n",
    "        lambda trip1, trip2: trip1 if trip1.start_date < trip2.start_date else trip2\n",
    "    )"
   ]
  },
  {
   "cell_type": "code",
   "execution_count": 78,
   "id": "6b4a3cc4",
   "metadata": {},
   "outputs": [
    {
     "data": {
      "text/plain": [
       "(Trip(trip_id=4081, duration=218, start_date=datetime.datetime(2013, 8, 29, 9, 38), start_station='Mountain View City Hall', start_terminal=27, end_date=datetime.datetime(2013, 8, 29, 9, 41), end_station='Mountain View City Hall', end_terminal='27', bike_id=150, subscription_type='Subscriber', zip_code='97214'),\n",
       " 'Mountain View City Hall')"
      ]
     },
     "execution_count": 78,
     "metadata": {},
     "output_type": "execute_result"
    }
   ],
   "source": [
    "firstGrouped.map(lambda x: x[::-1]).first()"
   ]
  },
  {
   "cell_type": "code",
   "execution_count": 79,
   "id": "4bf795fc",
   "metadata": {},
   "outputs": [
    {
     "name": "stdout",
     "output_type": "stream",
     "text": [
      "46.6 ms ± 2.68 ms per loop (mean ± std. dev. of 7 runs, 10 loops each)\n"
     ]
    }
   ],
   "source": [
    "%%timeit\n",
    "firstGrouped.map(lambda x: x[::-1]).first()"
   ]
  },
  {
   "cell_type": "markdown",
   "id": "94e54b4d",
   "metadata": {},
   "source": [
    "# Assignment"
   ]
  },
  {
   "cell_type": "markdown",
   "id": "604f3c22",
   "metadata": {},
   "source": [
    "## 1. Find a bicycle with the largest total trip time"
   ]
  },
  {
   "cell_type": "code",
   "execution_count": 80,
   "id": "8c496755",
   "metadata": {},
   "outputs": [],
   "source": [
    "trips_by_id = trips_internal.keyBy(lambda x: x.bike_id)"
   ]
  },
  {
   "cell_type": "code",
   "execution_count": 81,
   "id": "6b290fc6",
   "metadata": {},
   "outputs": [],
   "source": [
    "query = trips_by_id.mapValues(lambda x: x.duration) \\\n",
    "    .reduceByKey(lambda a, b: a + b)"
   ]
  },
  {
   "cell_type": "code",
   "execution_count": 82,
   "id": "fc5657a3",
   "metadata": {},
   "outputs": [
    {
     "data": {
      "text/plain": [
       "[(1402501, 465),\n",
       " (1348223, 593),\n",
       " (1319319, 633),\n",
       " (1318159, 425),\n",
       " (1309131, 381)]"
      ]
     },
     "execution_count": 82,
     "metadata": {},
     "output_type": "execute_result"
    }
   ],
   "source": [
    "query.map(lambda x: x[::-1]).top(5)"
   ]
  },
  {
   "cell_type": "code",
   "execution_count": 83,
   "id": "595c420f",
   "metadata": {},
   "outputs": [
    {
     "data": {
      "text/plain": [
       "465"
      ]
     },
     "execution_count": 83,
     "metadata": {},
     "output_type": "execute_result"
    }
   ],
   "source": [
    "top_id = query.map(lambda x: x[::-1]).top(1)[0][1]\n",
    "top_id"
   ]
  },
  {
   "cell_type": "markdown",
   "id": "cadafa1c",
   "metadata": {},
   "source": [
    "## 2. Find the largest distance between stations"
   ]
  },
  {
   "cell_type": "code",
   "execution_count": 84,
   "id": "d74bd671",
   "metadata": {},
   "outputs": [],
   "source": [
    "from math import sqrt"
   ]
  },
  {
   "cell_type": "code",
   "execution_count": 85,
   "id": "8584b555",
   "metadata": {},
   "outputs": [],
   "source": [
    "coords = stations_internal.keyBy(lambda x: (x.station_id, x.name)).mapValues(lambda x: (x.lat, x.long))"
   ]
  },
  {
   "cell_type": "code",
   "execution_count": 86,
   "id": "0b5f701d",
   "metadata": {},
   "outputs": [],
   "source": [
    "coords_pairs = coords.cartesian(coords)"
   ]
  },
  {
   "cell_type": "code",
   "execution_count": 87,
   "id": "da0b445d",
   "metadata": {},
   "outputs": [
    {
     "data": {
      "text/plain": [
       "[(((3, 'San Jose Civic Center'), (37.330698, -121.888979)),\n",
       "  ((3, 'San Jose Civic Center'), (37.330698, -121.888979))),\n",
       " (((3, 'San Jose Civic Center'), (37.330698, -121.888979)),\n",
       "  ((4, 'Santa Clara at Almaden'), (37.333988, -121.894902))),\n",
       " (((3, 'San Jose Civic Center'), (37.330698, -121.888979)),\n",
       "  ((5, 'Adobe on Almaden'), (37.331415, -121.8932)))]"
      ]
     },
     "execution_count": 87,
     "metadata": {},
     "output_type": "execute_result"
    }
   ],
   "source": [
    "coords_pairs.take(3)"
   ]
  },
  {
   "cell_type": "code",
   "execution_count": 88,
   "id": "eaced141",
   "metadata": {},
   "outputs": [],
   "source": [
    "dist_fun = lambda a, b: sqrt((a[0] - b[0])**2 + (a[1] - b[1])**2)"
   ]
  },
  {
   "cell_type": "code",
   "execution_count": 89,
   "id": "f2a062af",
   "metadata": {},
   "outputs": [],
   "source": [
    "# (id1, id2) : ((x1, y1), (x2, y2))\n",
    "coords_pairs = coords_pairs.keyBy(lambda x: (x[0][0], x[1][0])).mapValues(lambda x: (x[0][1], x[1][1]))"
   ]
  },
  {
   "cell_type": "code",
   "execution_count": 90,
   "id": "b2026d78",
   "metadata": {},
   "outputs": [
    {
     "data": {
      "text/plain": [
       "[(((3, 'San Jose Civic Center'), (3, 'San Jose Civic Center')),\n",
       "  ((37.330698, -121.888979), (37.330698, -121.888979)))]"
      ]
     },
     "execution_count": 90,
     "metadata": {},
     "output_type": "execute_result"
    }
   ],
   "source": [
    "coords_pairs.take(1)"
   ]
  },
  {
   "cell_type": "code",
   "execution_count": 91,
   "id": "b732a3b3",
   "metadata": {},
   "outputs": [],
   "source": [
    "distances = coords_pairs.mapValues(lambda x: dist_fun(x[0], x[1]))"
   ]
  },
  {
   "cell_type": "code",
   "execution_count": 92,
   "id": "458d6952",
   "metadata": {},
   "outputs": [
    {
     "data": {
      "text/plain": [
       "[(0.7058482821754244,\n",
       "  ((60, 'Embarcadero at Sansome'), (16, 'SJSU - San Salvador at 9th')))]"
      ]
     },
     "execution_count": 92,
     "metadata": {},
     "output_type": "execute_result"
    }
   ],
   "source": [
    "distances.map(lambda x: x[::-1]).top(1)"
   ]
  },
  {
   "cell_type": "markdown",
   "id": "fe077597",
   "metadata": {},
   "source": [
    "## 3. Find the path went by a bicycle with the largest total trip time"
   ]
  },
  {
   "cell_type": "code",
   "execution_count": 93,
   "id": "28da01d8",
   "metadata": {},
   "outputs": [],
   "source": [
    "total_path = trips_internal.filter(lambda trip: trip.bike_id == top_id)\\\n",
    "        .sortBy(lambda trip: trip.start_date)\\\n",
    "        .map(lambda trip: (trip.start_station, trip.end_station))"
   ]
  },
  {
   "cell_type": "code",
   "execution_count": 94,
   "id": "c1472c8f",
   "metadata": {},
   "outputs": [
    {
     "data": {
      "text/plain": [
       "[('Market at 10th', 'Market at 4th'),\n",
       " ('Market at 4th', 'Harry Bridges Plaza (Ferry Building)'),\n",
       " ('Harry Bridges Plaza (Ferry Building)', 'Howard at 2nd'),\n",
       " ('Howard at 2nd', 'Townsend at 7th'),\n",
       " ('Townsend at 7th', 'Steuart at Market'),\n",
       " ('Steuart at Market', '2nd at Townsend'),\n",
       " ('2nd at Townsend', 'Clay at Battery'),\n",
       " ('Clay at Battery', '2nd at Townsend'),\n",
       " ('2nd at Townsend', 'South Van Ness at Market'),\n",
       " ('South Van Ness at Market', 'Powell Street BART'),\n",
       " ('Powell Street BART', 'South Van Ness at Market'),\n",
       " ('South Van Ness at Market', 'Powell at Post (Union Square)'),\n",
       " ('Powell at Post (Union Square)', 'San Francisco Caltrain (Townsend at 4th)'),\n",
       " ('San Francisco Caltrain (Townsend at 4th)', 'Post at Kearney'),\n",
       " ('Post at Kearney', 'Embarcadero at Sansome'),\n",
       " ('Embarcadero at Sansome', '2nd at Townsend'),\n",
       " ('2nd at Townsend', 'Market at Sansome'),\n",
       " ('Market at Sansome', 'South Van Ness at Market'),\n",
       " ('South Van Ness at Market', 'Civic Center BART (7th at Market)'),\n",
       " ('Civic Center BART (7th at Market)', 'Townsend at 7th'),\n",
       " ('Townsend at 7th', 'Powell Street BART'),\n",
       " ('Powell Street BART', 'South Van Ness at Market'),\n",
       " ('South Van Ness at Market', 'Market at 4th'),\n",
       " ('Market at 4th', 'Washington at Kearney'),\n",
       " ('Mechanics Plaza (Market at Battery)', 'Steuart at Market'),\n",
       " ('Steuart at Market', 'Embarcadero at Sansome'),\n",
       " ('Embarcadero at Sansome', 'Embarcadero at Sansome'),\n",
       " ('Grant Avenue at Columbus Avenue', 'Embarcadero at Folsom'),\n",
       " ('Embarcadero at Folsom', 'San Francisco Caltrain (Townsend at 4th)'),\n",
       " ('San Francisco Caltrain (Townsend at 4th)', 'Townsend at 7th'),\n",
       " ('Townsend at 7th', 'Townsend at 7th'),\n",
       " ('Townsend at 7th', 'Harry Bridges Plaza (Ferry Building)'),\n",
       " ('Harry Bridges Plaza (Ferry Building)', 'Market at Sansome'),\n",
       " ('Market at Sansome', 'South Van Ness at Market'),\n",
       " ('South Van Ness at Market', 'Market at Sansome'),\n",
       " ('Market at Sansome', 'Harry Bridges Plaza (Ferry Building)'),\n",
       " ('Harry Bridges Plaza (Ferry Building)', 'South Van Ness at Market'),\n",
       " ('South Van Ness at Market', 'San Francisco Caltrain (Townsend at 4th)'),\n",
       " ('San Francisco Caltrain (Townsend at 4th)',\n",
       "  'Yerba Buena Center of the Arts (3rd @ Howard)'),\n",
       " ('Yerba Buena Center of the Arts (3rd @ Howard)',\n",
       "  'San Francisco Caltrain 2 (330 Townsend)'),\n",
       " ('Embarcadero at Sansome', 'Yerba Buena Center of the Arts (3rd @ Howard)'),\n",
       " ('Grant Avenue at Columbus Avenue', '5th at Howard'),\n",
       " ('5th at Howard', 'Grant Avenue at Columbus Avenue'),\n",
       " ('Grant Avenue at Columbus Avenue', 'Civic Center BART (7th at Market)'),\n",
       " ('Civic Center BART (7th at Market)', 'Townsend at 7th'),\n",
       " ('Townsend at 7th', '2nd at Townsend'),\n",
       " ('2nd at Townsend', 'Market at 4th'),\n",
       " ('Market at 4th', 'Civic Center BART (7th at Market)'),\n",
       " ('Civic Center BART (7th at Market)', '2nd at South Park'),\n",
       " ('2nd at South Park', 'Grant Avenue at Columbus Avenue'),\n",
       " ('Grant Avenue at Columbus Avenue', 'Powell Street BART'),\n",
       " ('Powell Street BART', 'Embarcadero at Vallejo'),\n",
       " ('Embarcadero at Vallejo', 'Market at 4th'),\n",
       " ('Market at 4th', 'Post at Kearney'),\n",
       " ('Post at Kearney', 'Civic Center BART (7th at Market)'),\n",
       " ('Civic Center BART (7th at Market)',\n",
       "  'San Francisco Caltrain 2 (330 Townsend)'),\n",
       " ('San Francisco Caltrain 2 (330 Townsend)', 'Powell Street BART'),\n",
       " ('Powell Street BART', 'Post at Kearney'),\n",
       " ('Post at Kearney', 'Steuart at Market'),\n",
       " ('Steuart at Market', 'Washington at Kearney'),\n",
       " ('2nd at Folsom', 'Market at Sansome'),\n",
       " ('Market at Sansome', 'Embarcadero at Sansome'),\n",
       " ('Embarcadero at Sansome', 'Embarcadero at Vallejo'),\n",
       " ('Embarcadero at Vallejo', 'Beale at Market'),\n",
       " ('Beale at Market', 'Embarcadero at Vallejo'),\n",
       " ('Grant Avenue at Columbus Avenue',\n",
       "  'San Francisco Caltrain 2 (330 Townsend)'),\n",
       " ('San Francisco Caltrain 2 (330 Townsend)', '2nd at South Park'),\n",
       " ('2nd at South Park', 'Embarcadero at Vallejo'),\n",
       " ('Harry Bridges Plaza (Ferry Building)', 'Market at Sansome'),\n",
       " ('Market at Sansome', 'Yerba Buena Center of the Arts (3rd @ Howard)'),\n",
       " ('San Francisco City Hall', 'Post at Kearney'),\n",
       " ('Post at Kearney', 'Golden Gate at Polk'),\n",
       " ('Golden Gate at Polk', 'Townsend at 7th'),\n",
       " ('Townsend at 7th', 'San Francisco Caltrain (Townsend at 4th)'),\n",
       " ('San Francisco Caltrain (Townsend at 4th)', '5th at Howard'),\n",
       " ('5th at Howard', 'Grant Avenue at Columbus Avenue'),\n",
       " ('Grant Avenue at Columbus Avenue', 'Mechanics Plaza (Market at Battery)'),\n",
       " ('Mechanics Plaza (Market at Battery)',\n",
       "  'San Francisco Caltrain 2 (330 Townsend)'),\n",
       " ('San Francisco Caltrain 2 (330 Townsend)',\n",
       "  'Mechanics Plaza (Market at Battery)'),\n",
       " ('Mechanics Plaza (Market at Battery)', 'Market at 10th'),\n",
       " ('Market at 10th', 'Civic Center BART (7th at Market)'),\n",
       " ('Civic Center BART (7th at Market)', 'South Van Ness at Market'),\n",
       " ('South Van Ness at Market', 'Civic Center BART (7th at Market)'),\n",
       " ('Civic Center BART (7th at Market)', 'South Van Ness at Market'),\n",
       " ('South Van Ness at Market', 'Civic Center BART (7th at Market)'),\n",
       " ('Civic Center BART (7th at Market)', 'Market at 10th'),\n",
       " ('Market at 10th', 'Market at 10th'),\n",
       " ('Market at 10th', 'Civic Center BART (7th at Market)'),\n",
       " ('Civic Center BART (7th at Market)', 'Washington at Kearney'),\n",
       " ('Washington at Kearney', 'Mechanics Plaza (Market at Battery)'),\n",
       " ('Mechanics Plaza (Market at Battery)', 'Spear at Folsom'),\n",
       " ('Spear at Folsom', 'Embarcadero at Vallejo'),\n",
       " ('Embarcadero at Vallejo', 'Temporary Transbay Terminal (Howard at Beale)'),\n",
       " ('Temporary Transbay Terminal (Howard at Beale)', 'Embarcadero at Vallejo'),\n",
       " ('Embarcadero at Vallejo', 'Embarcadero at Sansome'),\n",
       " ('Embarcadero at Sansome', 'Harry Bridges Plaza (Ferry Building)'),\n",
       " ('Harry Bridges Plaza (Ferry Building)', 'Embarcadero at Sansome'),\n",
       " ('Commercial at Montgomery', 'Temporary Transbay Terminal (Howard at Beale)'),\n",
       " ('Temporary Transbay Terminal (Howard at Beale)', 'Howard at 2nd'),\n",
       " ('Howard at 2nd', 'Steuart at Market'),\n",
       " ('Steuart at Market', 'Steuart at Market'),\n",
       " ('Market at 4th', 'Market at 4th'),\n",
       " ('Market at 4th', 'Powell at Post (Union Square)'),\n",
       " ('Powell at Post (Union Square)', 'San Francisco Caltrain (Townsend at 4th)'),\n",
       " ('San Francisco Caltrain (Townsend at 4th)', 'Beale at Market'),\n",
       " ('2nd at Townsend', 'South Van Ness at Market'),\n",
       " ('South Van Ness at Market', '2nd at Townsend'),\n",
       " ('2nd at Townsend', 'San Francisco Caltrain (Townsend at 4th)'),\n",
       " ('San Francisco Caltrain (Townsend at 4th)', '2nd at South Park'),\n",
       " ('2nd at South Park', 'Post at Kearney'),\n",
       " ('Post at Kearney', '2nd at South Park'),\n",
       " ('2nd at South Park', 'Market at Sansome'),\n",
       " ('Market at Sansome', 'Powell Street BART'),\n",
       " ('Powell Street BART', 'San Francisco Caltrain 2 (330 Townsend)'),\n",
       " ('2nd at Folsom', 'San Francisco Caltrain (Townsend at 4th)'),\n",
       " ('Commercial at Montgomery', 'Powell at Post (Union Square)'),\n",
       " ('Powell at Post (Union Square)', 'Powell at Post (Union Square)'),\n",
       " ('Powell at Post (Union Square)', 'Powell at Post (Union Square)'),\n",
       " ('Powell at Post (Union Square)', 'Davis at Jackson'),\n",
       " ('Davis at Jackson', 'Powell Street BART'),\n",
       " ('Powell Street BART', 'Harry Bridges Plaza (Ferry Building)'),\n",
       " ('Harry Bridges Plaza (Ferry Building)', 'Powell at Post (Union Square)'),\n",
       " ('Powell at Post (Union Square)', 'Davis at Jackson'),\n",
       " ('Davis at Jackson', 'Yerba Buena Center of the Arts (3rd @ Howard)'),\n",
       " ('Yerba Buena Center of the Arts (3rd @ Howard)',\n",
       "  'Powell at Post (Union Square)'),\n",
       " ('Powell at Post (Union Square)', 'Post at Kearney'),\n",
       " ('Embarcadero at Sansome', 'Howard at 2nd'),\n",
       " ('Howard at 2nd', 'Market at Sansome'),\n",
       " ('Market at Sansome', 'Clay at Battery'),\n",
       " ('Clay at Battery', 'Market at 4th'),\n",
       " ('Market at 4th', 'Embarcadero at Sansome'),\n",
       " ('Spear at Folsom', 'Spear at Folsom'),\n",
       " ('Spear at Folsom', 'Commercial at Montgomery'),\n",
       " ('Commercial at Montgomery', 'Spear at Folsom'),\n",
       " ('Spear at Folsom', 'San Francisco Caltrain (Townsend at 4th)'),\n",
       " ('San Francisco Caltrain (Townsend at 4th)',\n",
       "  'Harry Bridges Plaza (Ferry Building)'),\n",
       " ('Harry Bridges Plaza (Ferry Building)', 'Townsend at 7th'),\n",
       " ('Townsend at 7th', 'Harry Bridges Plaza (Ferry Building)'),\n",
       " ('Harry Bridges Plaza (Ferry Building)', 'Powell Street BART'),\n",
       " ('Powell Street BART', 'Steuart at Market'),\n",
       " ('Steuart at Market', 'Post at Kearney'),\n",
       " ('Post at Kearney', 'Washington at Kearney'),\n",
       " ('Washington at Kearney', 'Steuart at Market'),\n",
       " ('Steuart at Market', 'Howard at 2nd'),\n",
       " ('Howard at 2nd', 'Spear at Folsom'),\n",
       " ('Spear at Folsom', 'Harry Bridges Plaza (Ferry Building)'),\n",
       " ('Harry Bridges Plaza (Ferry Building)', 'Market at 4th'),\n",
       " ('Market at 4th', 'Spear at Folsom'),\n",
       " ('Spear at Folsom', 'Townsend at 7th'),\n",
       " ('Townsend at 7th', 'Civic Center BART (7th at Market)'),\n",
       " ('Civic Center BART (7th at Market)', '5th at Howard'),\n",
       " ('5th at Howard', 'Powell Street BART'),\n",
       " ('Powell Street BART', 'San Francisco City Hall'),\n",
       " ('San Francisco City Hall', 'Powell Street BART'),\n",
       " ('Powell Street BART', 'Temporary Transbay Terminal (Howard at Beale)'),\n",
       " ('Temporary Transbay Terminal (Howard at Beale)',\n",
       "  'San Francisco Caltrain (Townsend at 4th)'),\n",
       " ('2nd at Townsend', 'Spear at Folsom'),\n",
       " ('Spear at Folsom', 'Beale at Market'),\n",
       " ('Beale at Market', 'Commercial at Montgomery'),\n",
       " ('Commercial at Montgomery', '2nd at South Park'),\n",
       " ('2nd at South Park', 'Commercial at Montgomery'),\n",
       " ('Commercial at Montgomery', 'Davis at Jackson'),\n",
       " ('Davis at Jackson', 'Spear at Folsom'),\n",
       " ('Spear at Folsom', 'Harry Bridges Plaza (Ferry Building)'),\n",
       " ('Harry Bridges Plaza (Ferry Building)', 'Beale at Market'),\n",
       " ('Beale at Market', 'Embarcadero at Sansome'),\n",
       " ('Embarcadero at Sansome', 'Market at 4th'),\n",
       " ('Market at 4th', 'Temporary Transbay Terminal (Howard at Beale)'),\n",
       " ('Temporary Transbay Terminal (Howard at Beale)', 'Embarcadero at Sansome'),\n",
       " ('San Francisco Caltrain (Townsend at 4th)', '2nd at Folsom'),\n",
       " ('Market at 4th', 'Golden Gate at Polk'),\n",
       " ('Townsend at 7th', 'San Francisco Caltrain (Townsend at 4th)'),\n",
       " ('Clay at Battery', 'San Francisco Caltrain (Townsend at 4th)'),\n",
       " ('San Francisco Caltrain (Townsend at 4th)', 'Davis at Jackson'),\n",
       " ('Davis at Jackson', 'Post at Kearney'),\n",
       " ('Post at Kearney', 'Commercial at Montgomery'),\n",
       " ('Commercial at Montgomery', 'Post at Kearney'),\n",
       " ('Post at Kearney', 'Washington at Kearney'),\n",
       " ('Washington at Kearney', 'Powell Street BART'),\n",
       " ('Powell Street BART', 'South Van Ness at Market'),\n",
       " ('South Van Ness at Market', 'San Francisco Caltrain (Townsend at 4th)'),\n",
       " ('San Francisco Caltrain (Townsend at 4th)',\n",
       "  'Temporary Transbay Terminal (Howard at Beale)'),\n",
       " ('Temporary Transbay Terminal (Howard at Beale)', 'Market at 10th'),\n",
       " ('Market at 10th', 'San Francisco Caltrain (Townsend at 4th)'),\n",
       " ('San Francisco Caltrain (Townsend at 4th)',\n",
       "  'Yerba Buena Center of the Arts (3rd @ Howard)'),\n",
       " ('Yerba Buena Center of the Arts (3rd @ Howard)', '2nd at South Park'),\n",
       " ('2nd at South Park', 'Howard at 2nd'),\n",
       " ('Howard at 2nd', 'Grant Avenue at Columbus Avenue'),\n",
       " ('Commercial at Montgomery', 'Mechanics Plaza (Market at Battery)'),\n",
       " ('Mechanics Plaza (Market at Battery)', '5th at Howard'),\n",
       " ('San Francisco Caltrain 2 (330 Townsend)', 'Steuart at Market'),\n",
       " ('Steuart at Market', '2nd at Townsend'),\n",
       " ('2nd at Townsend', 'San Francisco Caltrain (Townsend at 4th)'),\n",
       " ('San Francisco Caltrain (Townsend at 4th)', 'Commercial at Montgomery'),\n",
       " ('Market at 10th', 'San Francisco Caltrain 2 (330 Townsend)'),\n",
       " ('San Francisco Caltrain 2 (330 Townsend)', 'Powell at Post (Union Square)'),\n",
       " ('Powell at Post (Union Square)', 'Steuart at Market'),\n",
       " ('Harry Bridges Plaza (Ferry Building)', 'Townsend at 7th'),\n",
       " ('Grant Avenue at Columbus Avenue', 'Washington at Kearney'),\n",
       " ('Embarcadero at Sansome', 'South Van Ness at Market'),\n",
       " ('South Van Ness at Market', 'Embarcadero at Sansome'),\n",
       " ('Embarcadero at Sansome', 'Beale at Market'),\n",
       " ('Beale at Market', 'Spear at Folsom'),\n",
       " ('Spear at Folsom', 'Steuart at Market'),\n",
       " ('Steuart at Market', 'Powell at Post (Union Square)'),\n",
       " ('Powell at Post (Union Square)', 'Howard at 2nd'),\n",
       " ('Howard at 2nd', 'Civic Center BART (7th at Market)'),\n",
       " ('San Francisco Caltrain (Townsend at 4th)', 'Townsend at 7th'),\n",
       " ('Townsend at 7th', 'San Francisco Caltrain (Townsend at 4th)'),\n",
       " ('San Francisco Caltrain (Townsend at 4th)', 'Townsend at 7th'),\n",
       " ('Civic Center BART (7th at Market)', 'Embarcadero at Sansome'),\n",
       " ('Embarcadero at Sansome', 'Golden Gate at Polk'),\n",
       " ('Golden Gate at Polk', 'Embarcadero at Vallejo'),\n",
       " ('Embarcadero at Vallejo', 'Embarcadero at Sansome'),\n",
       " ('Embarcadero at Sansome', 'Beale at Market'),\n",
       " ('Temporary Transbay Terminal (Howard at Beale)', '5th at Howard'),\n",
       " ('Temporary Transbay Terminal (Howard at Beale)', '5th at Howard'),\n",
       " ('5th at Howard', 'San Francisco City Hall'),\n",
       " ('San Francisco City Hall', 'Civic Center BART (7th at Market)'),\n",
       " ('Civic Center BART (7th at Market)', 'South Van Ness at Market'),\n",
       " ('San Francisco Caltrain (Townsend at 4th)', 'Townsend at 7th'),\n",
       " ('Townsend at 7th', 'Market at 4th'),\n",
       " ('Market at 4th', 'Spear at Folsom'),\n",
       " ('2nd at South Park', 'Golden Gate at Polk'),\n",
       " ('San Francisco Caltrain (Townsend at 4th)', 'Market at 4th'),\n",
       " ('Market at 4th', 'Beale at Market'),\n",
       " ('Beale at Market', 'Beale at Market'),\n",
       " ('Beale at Market', 'San Francisco Caltrain (Townsend at 4th)'),\n",
       " ('Market at 4th', 'Embarcadero at Vallejo'),\n",
       " ('Embarcadero at Vallejo', 'South Van Ness at Market'),\n",
       " ('South Van Ness at Market', 'Powell Street BART'),\n",
       " ('Powell Street BART', 'San Francisco City Hall'),\n",
       " ('San Francisco City Hall', 'South Van Ness at Market'),\n",
       " ('South Van Ness at Market', 'Temporary Transbay Terminal (Howard at Beale)'),\n",
       " ('Temporary Transbay Terminal (Howard at Beale)',\n",
       "  'Yerba Buena Center of the Arts (3rd @ Howard)'),\n",
       " ('Yerba Buena Center of the Arts (3rd @ Howard)', '2nd at Townsend'),\n",
       " ('2nd at Townsend', '2nd at South Park'),\n",
       " ('2nd at South Park', 'Harry Bridges Plaza (Ferry Building)'),\n",
       " ('Temporary Transbay Terminal (Howard at Beale)', '2nd at Townsend'),\n",
       " ('2nd at Townsend', 'Howard at 2nd'),\n",
       " ('Howard at 2nd', 'Post at Kearney'),\n",
       " ('Post at Kearney', 'Harry Bridges Plaza (Ferry Building)'),\n",
       " ('Harry Bridges Plaza (Ferry Building)', 'Embarcadero at Bryant'),\n",
       " ('Embarcadero at Bryant', 'San Francisco Caltrain (Townsend at 4th)'),\n",
       " ('San Francisco Caltrain (Townsend at 4th)', 'Commercial at Montgomery'),\n",
       " ('Commercial at Montgomery', 'Harry Bridges Plaza (Ferry Building)'),\n",
       " ('Harry Bridges Plaza (Ferry Building)', 'Grant Avenue at Columbus Avenue'),\n",
       " ('Grant Avenue at Columbus Avenue',\n",
       "  'San Francisco Caltrain 2 (330 Townsend)'),\n",
       " ('San Francisco Caltrain 2 (330 Townsend)',\n",
       "  'Civic Center BART (7th at Market)'),\n",
       " ('Civic Center BART (7th at Market)',\n",
       "  'San Francisco Caltrain 2 (330 Townsend)'),\n",
       " ('San Francisco Caltrain 2 (330 Townsend)', '2nd at South Park'),\n",
       " ('2nd at South Park', 'San Francisco Caltrain 2 (330 Townsend)'),\n",
       " ('San Francisco Caltrain 2 (330 Townsend)', 'Townsend at 7th'),\n",
       " ('Townsend at 7th', 'San Francisco Caltrain (Townsend at 4th)'),\n",
       " ('San Francisco Caltrain (Townsend at 4th)',\n",
       "  'Temporary Transbay Terminal (Howard at Beale)'),\n",
       " ('Temporary Transbay Terminal (Howard at Beale)', '5th at Howard'),\n",
       " ('5th at Howard', 'San Francisco Caltrain (Townsend at 4th)'),\n",
       " ('Beale at Market', 'Civic Center BART (7th at Market)'),\n",
       " ('Civic Center BART (7th at Market)', 'Townsend at 7th'),\n",
       " ('Townsend at 7th', 'San Francisco Caltrain (Townsend at 4th)'),\n",
       " ('San Francisco Caltrain (Townsend at 4th)', '2nd at Folsom'),\n",
       " ('2nd at Folsom', 'Townsend at 7th'),\n",
       " ('Civic Center BART (7th at Market)', 'Civic Center BART (7th at Market)'),\n",
       " ('Civic Center BART (7th at Market)',\n",
       "  'San Francisco Caltrain (Townsend at 4th)'),\n",
       " ('San Francisco Caltrain (Townsend at 4th)', 'Embarcadero at Folsom'),\n",
       " ('Townsend at 7th', 'San Francisco Caltrain (Townsend at 4th)'),\n",
       " ('Grant Avenue at Columbus Avenue',\n",
       "  'Yerba Buena Center of the Arts (3rd @ Howard)'),\n",
       " ('Yerba Buena Center of the Arts (3rd @ Howard)',\n",
       "  'San Francisco Caltrain (Townsend at 4th)'),\n",
       " ('San Francisco Caltrain (Townsend at 4th)', '2nd at South Park'),\n",
       " ('2nd at South Park', 'San Francisco Caltrain (Townsend at 4th)'),\n",
       " ('San Francisco Caltrain (Townsend at 4th)', 'Beale at Market'),\n",
       " ('Beale at Market', 'San Francisco Caltrain (Townsend at 4th)'),\n",
       " ('Market at 4th', '2nd at Folsom'),\n",
       " ('2nd at Folsom', 'Temporary Transbay Terminal (Howard at Beale)'),\n",
       " ('Temporary Transbay Terminal (Howard at Beale)',\n",
       "  'San Francisco Caltrain (Townsend at 4th)'),\n",
       " ('2nd at South Park', 'Washington at Kearney'),\n",
       " ('Grant Avenue at Columbus Avenue', 'Market at Sansome'),\n",
       " ('Market at Sansome', '2nd at South Park'),\n",
       " ('Steuart at Market', '2nd at South Park'),\n",
       " ('2nd at South Park', 'Spear at Folsom'),\n",
       " ('Spear at Folsom', 'San Francisco Caltrain 2 (330 Townsend)'),\n",
       " ('Beale at Market', 'Harry Bridges Plaza (Ferry Building)'),\n",
       " ('Harry Bridges Plaza (Ferry Building)', 'Powell at Post (Union Square)'),\n",
       " ('Market at 10th', 'Townsend at 7th'),\n",
       " ('Townsend at 7th', 'San Francisco Caltrain (Townsend at 4th)'),\n",
       " ('Commercial at Montgomery', 'Civic Center BART (7th at Market)'),\n",
       " ('Civic Center BART (7th at Market)', '5th at Howard'),\n",
       " ('Beale at Market', 'San Francisco Caltrain 2 (330 Townsend)'),\n",
       " ('San Francisco Caltrain 2 (330 Townsend)', '5th at Howard'),\n",
       " ('Golden Gate at Polk', 'Embarcadero at Vallejo'),\n",
       " ('Embarcadero at Vallejo', 'Steuart at Market'),\n",
       " ('Steuart at Market', 'San Francisco Caltrain 2 (330 Townsend)'),\n",
       " ('San Francisco Caltrain 2 (330 Townsend)', 'Powell Street BART'),\n",
       " ('Powell Street BART', 'Grant Avenue at Columbus Avenue'),\n",
       " ('Grant Avenue at Columbus Avenue', '2nd at Folsom'),\n",
       " ('2nd at Folsom', 'San Francisco Caltrain (Townsend at 4th)'),\n",
       " ('San Francisco Caltrain (Townsend at 4th)', '2nd at Folsom'),\n",
       " ('2nd at Folsom', 'Post at Kearney'),\n",
       " ('Post at Kearney', 'Washington at Kearney'),\n",
       " ('Grant Avenue at Columbus Avenue', 'Mechanics Plaza (Market at Battery)'),\n",
       " ('Mechanics Plaza (Market at Battery)', 'Powell Street BART'),\n",
       " ('Powell Street BART', 'South Van Ness at Market'),\n",
       " ('Powell at Post (Union Square)', 'San Francisco Caltrain (Townsend at 4th)'),\n",
       " ('San Francisco Caltrain (Townsend at 4th)', 'Beale at Market'),\n",
       " ('Beale at Market', 'San Francisco Caltrain (Townsend at 4th)'),\n",
       " ('San Francisco Caltrain (Townsend at 4th)', 'Powell Street BART'),\n",
       " ('Powell Street BART', 'Temporary Transbay Terminal (Howard at Beale)'),\n",
       " ('Temporary Transbay Terminal (Howard at Beale)', '2nd at Townsend'),\n",
       " ('2nd at Townsend', 'Harry Bridges Plaza (Ferry Building)'),\n",
       " ('Harry Bridges Plaza (Ferry Building)', 'Embarcadero at Sansome'),\n",
       " ('Commercial at Montgomery', 'Powell Street BART'),\n",
       " ('Powell Street BART', 'Harry Bridges Plaza (Ferry Building)'),\n",
       " ('Harry Bridges Plaza (Ferry Building)', 'Embarcadero at Bryant'),\n",
       " ('Embarcadero at Bryant', 'Beale at Market'),\n",
       " ('Beale at Market', 'San Francisco Caltrain (Townsend at 4th)'),\n",
       " ('Market at 10th', 'Washington at Kearney'),\n",
       " ('Washington at Kearney', 'Powell Street BART'),\n",
       " ('2nd at Folsom', 'Market at 4th'),\n",
       " ('Market at 4th', 'Davis at Jackson'),\n",
       " ('Davis at Jackson', 'Howard at 2nd'),\n",
       " ('Howard at 2nd', 'Steuart at Market'),\n",
       " ('Steuart at Market', 'Howard at 2nd'),\n",
       " ('Howard at 2nd', '2nd at Townsend'),\n",
       " ('2nd at Townsend', 'Beale at Market'),\n",
       " ('San Francisco Caltrain (Townsend at 4th)',\n",
       "  'Temporary Transbay Terminal (Howard at Beale)'),\n",
       " ('Temporary Transbay Terminal (Howard at Beale)', '2nd at South Park'),\n",
       " ('2nd at South Park', 'Temporary Transbay Terminal (Howard at Beale)'),\n",
       " ('Temporary Transbay Terminal (Howard at Beale)',\n",
       "  'Civic Center BART (7th at Market)'),\n",
       " ('Civic Center BART (7th at Market)', 'Post at Kearney'),\n",
       " ('Post at Kearney', 'Grant Avenue at Columbus Avenue'),\n",
       " ('Grant Avenue at Columbus Avenue', 'Civic Center BART (7th at Market)'),\n",
       " ('Civic Center BART (7th at Market)', 'Civic Center BART (7th at Market)'),\n",
       " ('Civic Center BART (7th at Market)', 'Clay at Battery'),\n",
       " ('Temporary Transbay Terminal (Howard at Beale)', '2nd at Townsend'),\n",
       " ('2nd at Townsend', 'Post at Kearney'),\n",
       " ('Post at Kearney', '2nd at Townsend'),\n",
       " ('2nd at Townsend', 'San Francisco Caltrain (Townsend at 4th)'),\n",
       " ('Embarcadero at Vallejo', 'Beale at Market'),\n",
       " ('Beale at Market', 'Embarcadero at Sansome'),\n",
       " ('Embarcadero at Sansome', 'Steuart at Market'),\n",
       " ('Steuart at Market', 'San Francisco Caltrain (Townsend at 4th)'),\n",
       " ('San Francisco Caltrain (Townsend at 4th)', 'Embarcadero at Folsom'),\n",
       " ('Embarcadero at Folsom', 'Embarcadero at Sansome'),\n",
       " ('Embarcadero at Sansome', 'Embarcadero at Sansome'),\n",
       " ('Embarcadero at Bryant', 'Embarcadero at Sansome'),\n",
       " ('Embarcadero at Sansome', 'San Francisco Caltrain (Townsend at 4th)'),\n",
       " ('San Francisco Caltrain (Townsend at 4th)', 'Embarcadero at Folsom'),\n",
       " ('Golden Gate at Polk', 'Golden Gate at Polk'),\n",
       " ('Golden Gate at Polk', 'Steuart at Market'),\n",
       " ('Steuart at Market', 'Steuart at Market'),\n",
       " ('Steuart at Market', 'Market at 4th'),\n",
       " ('Market at 4th', 'South Van Ness at Market'),\n",
       " ('South Van Ness at Market', 'Commercial at Montgomery'),\n",
       " ('Commercial at Montgomery', 'Powell Street BART'),\n",
       " ('Powell Street BART', 'Market at Sansome'),\n",
       " ('Market at Sansome', '2nd at Folsom'),\n",
       " ('2nd at Folsom', 'Beale at Market'),\n",
       " ('Beale at Market', '2nd at Folsom'),\n",
       " ('2nd at Folsom', 'Beale at Market'),\n",
       " ('Beale at Market', 'San Francisco Caltrain (Townsend at 4th)'),\n",
       " ('2nd at Folsom', 'San Francisco Caltrain (Townsend at 4th)'),\n",
       " ('San Francisco Caltrain (Townsend at 4th)', 'Howard at 2nd'),\n",
       " ('Howard at 2nd', 'Market at Sansome'),\n",
       " ('Market at Sansome', '2nd at Townsend'),\n",
       " ('2nd at Townsend', 'Harry Bridges Plaza (Ferry Building)'),\n",
       " ('Post at Kearny', 'Post at Kearny'),\n",
       " ('Post at Kearny', '2nd at Townsend'),\n",
       " ('Clay at Battery', 'Market at 4th'),\n",
       " ('Market at 4th', 'Clay at Battery'),\n",
       " ('San Francisco Caltrain 2 (330 Townsend)', 'Powell Street BART'),\n",
       " ('Embarcadero at Sansome', 'Spear at Folsom'),\n",
       " ('Spear at Folsom', '2nd at Folsom'),\n",
       " ('2nd at Folsom', 'San Francisco Caltrain (Townsend at 4th)'),\n",
       " ('2nd at Folsom', 'Clay at Battery'),\n",
       " ('Howard at 2nd', 'Davis at Jackson'),\n",
       " ('Davis at Jackson', 'Howard at 2nd'),\n",
       " ('San Francisco Caltrain (Townsend at 4th)', 'Powell Street BART'),\n",
       " ('Powell Street BART', 'Embarcadero at Sansome'),\n",
       " ('Embarcadero at Sansome', 'Golden Gate at Polk'),\n",
       " ('Golden Gate at Polk', 'Temporary Transbay Terminal (Howard at Beale)'),\n",
       " ('Temporary Transbay Terminal (Howard at Beale)', 'Davis at Jackson'),\n",
       " ('Davis at Jackson', 'Embarcadero at Sansome'),\n",
       " ('Embarcadero at Sansome', 'Golden Gate at Polk'),\n",
       " ('Golden Gate at Polk', 'San Francisco Caltrain (Townsend at 4th)'),\n",
       " ('San Francisco Caltrain (Townsend at 4th)',\n",
       "  'Yerba Buena Center of the Arts (3rd @ Howard)'),\n",
       " ('Yerba Buena Center of the Arts (3rd @ Howard)',\n",
       "  'San Francisco Caltrain (Townsend at 4th)'),\n",
       " ('San Francisco Caltrain (Townsend at 4th)',\n",
       "  'Mechanics Plaza (Market at Battery)'),\n",
       " ('Mechanics Plaza (Market at Battery)', 'Spear at Folsom'),\n",
       " ('Beale at Market', 'San Francisco Caltrain (Townsend at 4th)'),\n",
       " ('San Francisco Caltrain (Townsend at 4th)', 'Market at 4th'),\n",
       " ('Market at 4th', 'San Francisco Caltrain (Townsend at 4th)'),\n",
       " ('San Francisco Caltrain (Townsend at 4th)', 'Howard at 2nd'),\n",
       " ('Howard at 2nd', 'Post at Kearny'),\n",
       " ('Broadway St at Battery St', 'Market at Sansome'),\n",
       " ('Market at Sansome', '2nd at South Park'),\n",
       " ('2nd at South Park', 'Clay at Battery'),\n",
       " ('Clay at Battery', 'Townsend at 7th'),\n",
       " ('Townsend at 7th', '2nd at Townsend'),\n",
       " ('2nd at Townsend', 'Harry Bridges Plaza (Ferry Building)'),\n",
       " ('Harry Bridges Plaza (Ferry Building)', 'Embarcadero at Sansome'),\n",
       " ('Beale at Market', 'Embarcadero at Sansome'),\n",
       " ('Embarcadero at Sansome', 'Yerba Buena Center of the Arts (3rd @ Howard)'),\n",
       " ('Yerba Buena Center of the Arts (3rd @ Howard)', 'Embarcadero at Vallejo'),\n",
       " ('Howard at 2nd', 'Market at 10th'),\n",
       " ('Market at 10th', 'Market at 4th'),\n",
       " ('Harry Bridges Plaza (Ferry Building)', 'Embarcadero at Vallejo'),\n",
       " ('Embarcadero at Vallejo', 'San Francisco Caltrain (Townsend at 4th)'),\n",
       " ('San Francisco Caltrain 2 (330 Townsend)', 'Steuart at Market'),\n",
       " ('2nd at Folsom', '2nd at Townsend'),\n",
       " ('2nd at Townsend', 'Yerba Buena Center of the Arts (3rd @ Howard)'),\n",
       " ('Yerba Buena Center of the Arts (3rd @ Howard)',\n",
       "  'San Francisco Caltrain 2 (330 Townsend)'),\n",
       " ('San Francisco Caltrain 2 (330 Townsend)', 'Market at 10th'),\n",
       " ('Market at 10th', '2nd at Townsend'),\n",
       " ('2nd at Townsend', 'Yerba Buena Center of the Arts (3rd @ Howard)'),\n",
       " ('Yerba Buena Center of the Arts (3rd @ Howard)',\n",
       "  'San Francisco Caltrain (Townsend at 4th)'),\n",
       " ('Grant Avenue at Columbus Avenue', 'Powell Street BART'),\n",
       " ('Powell Street BART', 'Market at 10th'),\n",
       " ('Market at 10th', 'San Francisco Caltrain (Townsend at 4th)'),\n",
       " ('San Francisco Caltrain (Townsend at 4th)', 'Post at Kearny'),\n",
       " ('Post at Kearny', 'Davis at Jackson'),\n",
       " ('Davis at Jackson', 'Embarcadero at Folsom'),\n",
       " ('Embarcadero at Folsom', '2nd at Townsend'),\n",
       " ('2nd at Townsend', 'Temporary Transbay Terminal (Howard at Beale)'),\n",
       " ('Temporary Transbay Terminal (Howard at Beale)', 'Market at 4th'),\n",
       " ('Market at 4th', 'South Van Ness at Market'),\n",
       " ('South Van Ness at Market', 'Powell Street BART'),\n",
       " ('Powell at Post (Union Square)', 'Howard at 2nd'),\n",
       " ('Howard at 2nd', 'Mechanics Plaza (Market at Battery)'),\n",
       " ('Mechanics Plaza (Market at Battery)', 'Townsend at 7th'),\n",
       " ('Townsend at 7th', 'San Francisco Caltrain (Townsend at 4th)'),\n",
       " ('5th at Howard', 'Steuart at Market'),\n",
       " ('Embarcadero at Folsom', '2nd at Townsend'),\n",
       " ('San Francisco Caltrain (Townsend at 4th)', '2nd at Townsend'),\n",
       " ('Yerba Buena Center of the Arts (3rd @ Howard)', '5th at Howard'),\n",
       " ('Temporary Transbay Terminal (Howard at Beale)', 'Market at 4th'),\n",
       " ('Market at 4th', 'Harry Bridges Plaza (Ferry Building)'),\n",
       " ('Harry Bridges Plaza (Ferry Building)',\n",
       "  'Temporary Transbay Terminal (Howard at Beale)'),\n",
       " ('Temporary Transbay Terminal (Howard at Beale)',\n",
       "  'Civic Center BART (7th at Market)'),\n",
       " ('Civic Center BART (7th at Market)', 'Howard at 2nd'),\n",
       " ('Howard at 2nd', '2nd at South Park'),\n",
       " ('2nd at South Park', 'Harry Bridges Plaza (Ferry Building)'),\n",
       " ('Harry Bridges Plaza (Ferry Building)', 'Townsend at 7th'),\n",
       " ('Townsend at 7th', 'Temporary Transbay Terminal (Howard at Beale)'),\n",
       " ('Temporary Transbay Terminal (Howard at Beale)', '5th at Howard'),\n",
       " ('5th at Howard', 'Steuart at Market'),\n",
       " ('Steuart at Market', 'San Francisco Caltrain 2 (330 Townsend)'),\n",
       " ('San Francisco Caltrain 2 (330 Townsend)', 'Steuart at Market'),\n",
       " ('Steuart at Market', 'Embarcadero at Folsom'),\n",
       " ('Embarcadero at Folsom', 'Embarcadero at Sansome'),\n",
       " ('Steuart at Market', 'Broadway St at Battery St'),\n",
       " ('Broadway St at Battery St', 'Mechanics Plaza (Market at Battery)'),\n",
       " ('Mechanics Plaza (Market at Battery)', 'Powell at Post (Union Square)'),\n",
       " ('Powell at Post (Union Square)', 'Mechanics Plaza (Market at Battery)'),\n",
       " ('Mechanics Plaza (Market at Battery)',\n",
       "  'San Francisco Caltrain (Townsend at 4th)'),\n",
       " ('San Francisco City Hall', 'Townsend at 7th'),\n",
       " ('Townsend at 7th', 'South Van Ness at Market'),\n",
       " ('South Van Ness at Market', '2nd at Folsom'),\n",
       " ('2nd at Folsom', 'Beale at Market'),\n",
       " ('Beale at Market', '2nd at Townsend'),\n",
       " ('San Francisco Caltrain (Townsend at 4th)',\n",
       "  'Harry Bridges Plaza (Ferry Building)'),\n",
       " ('Harry Bridges Plaza (Ferry Building)', '2nd at Townsend'),\n",
       " ('2nd at Townsend', 'Post at Kearny'),\n",
       " ('Post at Kearny', 'Grant Avenue at Columbus Avenue'),\n",
       " ('Grant Avenue at Columbus Avenue', 'Harry Bridges Plaza (Ferry Building)'),\n",
       " ('Harry Bridges Plaza (Ferry Building)', 'Townsend at 7th'),\n",
       " ('Powell at Post (Union Square)', 'Powell Street BART'),\n",
       " ('Powell Street BART', 'Market at 10th'),\n",
       " ('Market at 10th', 'Market at 4th'),\n",
       " ('Market at 4th', 'Yerba Buena Center of the Arts (3rd @ Howard)'),\n",
       " ('San Francisco Caltrain 2 (330 Townsend)',\n",
       "  'San Francisco Caltrain 2 (330 Townsend)'),\n",
       " ('Powell at Post (Union Square)', 'Powell at Post (Union Square)'),\n",
       " ('Powell at Post (Union Square)', 'Broadway St at Battery St'),\n",
       " ('Broadway St at Battery St', 'San Francisco Caltrain (Townsend at 4th)'),\n",
       " ('2nd at Folsom', 'Spear at Folsom'),\n",
       " ('San Francisco Caltrain 2 (330 Townsend)', '2nd at Folsom'),\n",
       " ('2nd at Folsom', 'Embarcadero at Folsom'),\n",
       " ('Embarcadero at Folsom', '2nd at Townsend'),\n",
       " ('2nd at Townsend', 'Embarcadero at Folsom'),\n",
       " ('Embarcadero at Folsom', 'San Francisco Caltrain (Townsend at 4th)'),\n",
       " ('Golden Gate at Polk', 'Embarcadero at Sansome'),\n",
       " ('Embarcadero at Sansome', 'Townsend at 7th'),\n",
       " ('Townsend at 7th', 'San Francisco Caltrain (Townsend at 4th)'),\n",
       " ('Clay at Battery', '2nd at South Park'),\n",
       " ('2nd at South Park', 'San Francisco Caltrain (Townsend at 4th)'),\n",
       " ('Embarcadero at Folsom', 'Embarcadero at Vallejo'),\n",
       " ('Embarcadero at Vallejo', 'Embarcadero at Sansome'),\n",
       " ('Steuart at Market', '2nd at Townsend'),\n",
       " ('2nd at Townsend', 'Steuart at Market'),\n",
       " ('Steuart at Market', 'San Francisco Caltrain 2 (330 Townsend)'),\n",
       " ('San Francisco Caltrain 2 (330 Townsend)', 'Steuart at Market'),\n",
       " ('Market at 4th', 'Market at 10th'),\n",
       " ('Market at 10th', 'San Francisco Caltrain (Townsend at 4th)'),\n",
       " ('San Francisco Caltrain (Townsend at 4th)', 'Embarcadero at Folsom'),\n",
       " ('Embarcadero at Folsom', 'Steuart at Market'),\n",
       " ('Steuart at Market', 'Embarcadero at Sansome'),\n",
       " ('Embarcadero at Sansome', 'Powell Street BART'),\n",
       " ('Powell Street BART', 'Market at Sansome'),\n",
       " ('Market at Sansome', '2nd at South Park'),\n",
       " ('2nd at South Park', 'Spear at Folsom'),\n",
       " ('Spear at Folsom', 'Townsend at 7th'),\n",
       " ('Townsend at 7th', 'Market at 4th'),\n",
       " ('Market at 4th', 'Townsend at 7th'),\n",
       " ('Townsend at 7th', 'San Francisco Caltrain (Townsend at 4th)'),\n",
       " ('San Francisco Caltrain (Townsend at 4th)', 'Market at Sansome'),\n",
       " ('Market at Sansome', 'Clay at Battery'),\n",
       " ('San Francisco Caltrain (Townsend at 4th)', 'Market at Sansome'),\n",
       " ('Market at Sansome', '2nd at Folsom'),\n",
       " ('2nd at Folsom', 'Yerba Buena Center of the Arts (3rd @ Howard)'),\n",
       " ('5th at Howard', 'San Francisco Caltrain (Townsend at 4th)'),\n",
       " ('Grant Avenue at Columbus Avenue', '2nd at Townsend'),\n",
       " ('2nd at Townsend', 'Harry Bridges Plaza (Ferry Building)'),\n",
       " ('Clay at Battery', 'Embarcadero at Sansome'),\n",
       " ('Embarcadero at Sansome', 'Steuart at Market'),\n",
       " ('Steuart at Market', 'San Francisco Caltrain (Townsend at 4th)'),\n",
       " ('San Francisco Caltrain (Townsend at 4th)', 'Davis at Jackson'),\n",
       " ('San Francisco Caltrain (Townsend at 4th)',\n",
       "  'Temporary Transbay Terminal (Howard at Beale)'),\n",
       " ('Temporary Transbay Terminal (Howard at Beale)', '2nd at Townsend'),\n",
       " ('2nd at Townsend', 'Mechanics Plaza (Market at Battery)'),\n",
       " ('Mechanics Plaza (Market at Battery)', 'South Van Ness at Market'),\n",
       " ('South Van Ness at Market', 'Powell Street BART'),\n",
       " ('Powell Street BART', 'Beale at Market'),\n",
       " ('Beale at Market', '2nd at Townsend'),\n",
       " ('2nd at Townsend', 'Spear at Folsom'),\n",
       " ('Spear at Folsom', 'Steuart at Market'),\n",
       " ('Steuart at Market', 'Embarcadero at Sansome'),\n",
       " ('Embarcadero at Sansome', 'Spear at Folsom'),\n",
       " ('Spear at Folsom', 'Townsend at 7th'),\n",
       " ('Townsend at 7th', 'Harry Bridges Plaza (Ferry Building)'),\n",
       " ('Market at 4th', 'Temporary Transbay Terminal (Howard at Beale)'),\n",
       " ('Temporary Transbay Terminal (Howard at Beale)',\n",
       "  'San Francisco Caltrain 2 (330 Townsend)'),\n",
       " ('Howard at 2nd', 'South Van Ness at Market'),\n",
       " ('South Van Ness at Market', 'Market at Sansome'),\n",
       " ('Market at Sansome', '2nd at Folsom'),\n",
       " ('2nd at Folsom', 'San Francisco Caltrain (Townsend at 4th)'),\n",
       " ('Market at 10th', '2nd at Folsom'),\n",
       " ('2nd at Folsom', 'Embarcadero at Folsom'),\n",
       " ('Embarcadero at Folsom', 'Washington at Kearny'),\n",
       " ('Washington at Kearny', 'San Francisco Caltrain 2 (330 Townsend)'),\n",
       " ('Powell at Post (Union Square)', 'San Francisco Caltrain 2 (330 Townsend)'),\n",
       " ('San Francisco Caltrain 2 (330 Townsend)', 'Davis at Jackson'),\n",
       " ('Davis at Jackson', 'Embarcadero at Vallejo'),\n",
       " ('Embarcadero at Vallejo', 'Washington at Kearny'),\n",
       " ('Washington at Kearny', 'Embarcadero at Vallejo'),\n",
       " ('Embarcadero at Vallejo', 'Davis at Jackson'),\n",
       " ('Davis at Jackson', 'Beale at Market'),\n",
       " ('Beale at Market', '2nd at Townsend'),\n",
       " ('2nd at Townsend', 'Embarcadero at Folsom'),\n",
       " ('Embarcadero at Folsom', 'Davis at Jackson'),\n",
       " ('Davis at Jackson', 'Davis at Jackson'),\n",
       " ('Davis at Jackson', 'Howard at 2nd'),\n",
       " ('Harry Bridges Plaza (Ferry Building)', 'Embarcadero at Sansome'),\n",
       " ('Embarcadero at Sansome', 'Market at 10th'),\n",
       " ('Market at 10th', 'Market at 4th'),\n",
       " ('Market at 4th', 'Temporary Transbay Terminal (Howard at Beale)'),\n",
       " ('Temporary Transbay Terminal (Howard at Beale)',\n",
       "  'San Francisco Caltrain (Townsend at 4th)'),\n",
       " ('San Francisco Caltrain (Townsend at 4th)', '2nd at Townsend'),\n",
       " ('2nd at Townsend', 'Market at Sansome'),\n",
       " ('Market at Sansome', 'South Van Ness at Market'),\n",
       " ('South Van Ness at Market', 'Market at Sansome'),\n",
       " ('Market at Sansome', 'Harry Bridges Plaza (Ferry Building)'),\n",
       " ('Embarcadero at Folsom', 'San Francisco Caltrain (Townsend at 4th)'),\n",
       " ('San Francisco Caltrain (Townsend at 4th)', 'Market at 4th'),\n",
       " ('Market at 4th', 'San Francisco Caltrain (Townsend at 4th)'),\n",
       " ('2nd at Folsom', 'San Francisco Caltrain 2 (330 Townsend)'),\n",
       " ('San Francisco Caltrain 2 (330 Townsend)', 'Spear at Folsom'),\n",
       " ('San Francisco Caltrain (Townsend at 4th)', 'Market at Sansome'),\n",
       " ('Harry Bridges Plaza (Ferry Building)', 'Embarcadero at Sansome'),\n",
       " ('Embarcadero at Sansome', 'Howard at 2nd'),\n",
       " ('Market at Sansome', 'Civic Center BART (7th at Market)'),\n",
       " ('Civic Center BART (7th at Market)',\n",
       "  'San Francisco Caltrain (Townsend at 4th)'),\n",
       " ('Market at 10th', 'Harry Bridges Plaza (Ferry Building)'),\n",
       " ('Harry Bridges Plaza (Ferry Building)', 'Civic Center BART (7th at Market)'),\n",
       " ('Civic Center BART (7th at Market)', 'Market at 4th'),\n",
       " ('Market at 4th', 'Market at Sansome'),\n",
       " ('Market at Sansome', 'Harry Bridges Plaza (Ferry Building)'),\n",
       " ('Harry Bridges Plaza (Ferry Building)',\n",
       "  'Harry Bridges Plaza (Ferry Building)'),\n",
       " ('Harry Bridges Plaza (Ferry Building)', 'Market at 10th'),\n",
       " ('Market at 10th', 'Civic Center BART (7th at Market)'),\n",
       " ('Civic Center BART (7th at Market)', 'Market at Sansome'),\n",
       " ('Market at Sansome', 'San Francisco Caltrain (Townsend at 4th)'),\n",
       " ('2nd at Townsend', 'Beale at Market'),\n",
       " ('Beale at Market', 'Market at 4th'),\n",
       " ('Market at 4th', 'Howard at 2nd'),\n",
       " ('Howard at 2nd', 'Temporary Transbay Terminal (Howard at Beale)'),\n",
       " ('Townsend at 7th', 'San Francisco Caltrain (Townsend at 4th)'),\n",
       " ('San Francisco Caltrain (Townsend at 4th)', '2nd at South Park'),\n",
       " ('Powell at Post (Union Square)', 'Market at 10th'),\n",
       " ('Market at 10th', 'San Francisco Caltrain (Townsend at 4th)'),\n",
       " ('San Francisco Caltrain (Townsend at 4th)', 'Powell Street BART'),\n",
       " ('Powell Street BART', '2nd at Folsom'),\n",
       " ('2nd at Folsom', 'San Francisco Caltrain (Townsend at 4th)'),\n",
       " ('San Francisco Caltrain (Townsend at 4th)', 'Embarcadero at Vallejo'),\n",
       " ('Embarcadero at Vallejo', 'Harry Bridges Plaza (Ferry Building)'),\n",
       " ('Embarcadero at Sansome', 'Steuart at Market'),\n",
       " ('Steuart at Market', 'San Francisco Caltrain (Townsend at 4th)'),\n",
       " ('Embarcadero at Sansome', 'Harry Bridges Plaza (Ferry Building)'),\n",
       " ('Harry Bridges Plaza (Ferry Building)', 'Townsend at 7th'),\n",
       " ('Townsend at 7th', 'Temporary Transbay Terminal (Howard at Beale)'),\n",
       " ('Temporary Transbay Terminal (Howard at Beale)',\n",
       "  'San Francisco Caltrain (Townsend at 4th)'),\n",
       " ('San Francisco Caltrain (Townsend at 4th)', 'Market at 10th'),\n",
       " ('Market at 10th', 'San Francisco Caltrain (Townsend at 4th)'),\n",
       " ('San Francisco Caltrain (Townsend at 4th)', 'Davis at Jackson'),\n",
       " ('Davis at Jackson', 'Howard at 2nd'),\n",
       " ('Market at Sansome', 'Powell Street BART'),\n",
       " ('Powell Street BART', 'San Francisco Caltrain 2 (330 Townsend)'),\n",
       " ('San Francisco Caltrain 2 (330 Townsend)', 'Townsend at 7th'),\n",
       " ('Powell at Post (Union Square)', 'Townsend at 7th'),\n",
       " ('Townsend at 7th', 'Powell Street BART'),\n",
       " ('Powell Street BART', 'South Van Ness at Market'),\n",
       " ('South Van Ness at Market', 'San Francisco Caltrain (Townsend at 4th)'),\n",
       " ('San Francisco Caltrain (Townsend at 4th)',\n",
       "  'Harry Bridges Plaza (Ferry Building)'),\n",
       " ('Harry Bridges Plaza (Ferry Building)', '5th at Howard'),\n",
       " ('5th at Howard', 'Market at 10th'),\n",
       " ('Market at 10th', 'San Francisco Caltrain (Townsend at 4th)'),\n",
       " ('San Francisco Caltrain (Townsend at 4th)', 'Steuart at Market'),\n",
       " ('Steuart at Market', 'Embarcadero at Sansome'),\n",
       " ('Embarcadero at Sansome', 'Yerba Buena Center of the Arts (3rd @ Howard)'),\n",
       " ('Yerba Buena Center of the Arts (3rd @ Howard)', 'Market at 10th'),\n",
       " ('Market at 10th', 'San Francisco Caltrain (Townsend at 4th)'),\n",
       " ('San Francisco Caltrain (Townsend at 4th)', 'Powell Street BART'),\n",
       " ('San Francisco Caltrain (Townsend at 4th)',\n",
       "  'Temporary Transbay Terminal (Howard at Beale)'),\n",
       " ('Temporary Transbay Terminal (Howard at Beale)', '2nd at Townsend'),\n",
       " ('2nd at Townsend', 'San Francisco Caltrain (Townsend at 4th)'),\n",
       " ('San Francisco Caltrain (Townsend at 4th)', 'Market at Sansome'),\n",
       " ('Market at Sansome', '2nd at South Park'),\n",
       " ('2nd at South Park', 'San Francisco Caltrain 2 (330 Townsend)'),\n",
       " ('San Francisco Caltrain 2 (330 Townsend)', 'Steuart at Market'),\n",
       " ('Steuart at Market', 'San Francisco Caltrain (Townsend at 4th)'),\n",
       " ('Market at Sansome', 'Howard at 2nd'),\n",
       " ('Howard at 2nd', 'Market at 4th'),\n",
       " ('Market at 4th', 'Grant Avenue at Columbus Avenue'),\n",
       " ('Grant Avenue at Columbus Avenue', 'Beale at Market'),\n",
       " ('Beale at Market', 'Temporary Transbay Terminal (Howard at Beale)'),\n",
       " ('Temporary Transbay Terminal (Howard at Beale)', '2nd at Folsom'),\n",
       " ('2nd at Folsom', 'Market at Sansome'),\n",
       " ('Market at Sansome', 'Steuart at Market'),\n",
       " ('Steuart at Market', 'Golden Gate at Polk'),\n",
       " ('Golden Gate at Polk', 'San Francisco Caltrain (Townsend at 4th)'),\n",
       " ('San Francisco Caltrain (Townsend at 4th)', 'Spear at Folsom'),\n",
       " ('Spear at Folsom', 'San Francisco Caltrain (Townsend at 4th)'),\n",
       " ('San Francisco Caltrain (Townsend at 4th)', 'Market at Sansome'),\n",
       " ('Market at Sansome', 'Grant Avenue at Columbus Avenue'),\n",
       " ('Grant Avenue at Columbus Avenue', 'Market at Sansome'),\n",
       " ('Market at Sansome', 'Townsend at 7th'),\n",
       " ('Townsend at 7th', 'Spear at Folsom'),\n",
       " ('Grant Avenue at Columbus Avenue', 'Embarcadero at Folsom'),\n",
       " ('Golden Gate at Polk', 'San Francisco Caltrain 2 (330 Townsend)'),\n",
       " ('San Francisco Caltrain 2 (330 Townsend)', 'Powell Street BART'),\n",
       " ('Powell Street BART', '5th at Howard'),\n",
       " ('5th at Howard', 'San Francisco Caltrain 2 (330 Townsend)'),\n",
       " ('San Francisco Caltrain 2 (330 Townsend)', 'South Van Ness at Market'),\n",
       " ('South Van Ness at Market', 'San Francisco Caltrain (Townsend at 4th)'),\n",
       " ('San Francisco Caltrain (Townsend at 4th)',\n",
       "  'Civic Center BART (7th at Market)'),\n",
       " ('Civic Center BART (7th at Market)', 'Clay at Battery'),\n",
       " ('Clay at Battery', 'Powell Street BART'),\n",
       " ('Powell Street BART', 'Washington at Kearny'),\n",
       " ('Grant Avenue at Columbus Avenue', 'Market at Sansome'),\n",
       " ('Market at Sansome', 'Harry Bridges Plaza (Ferry Building)'),\n",
       " ('Clay at Battery', 'Powell at Post (Union Square)'),\n",
       " ('Powell at Post (Union Square)', 'Clay at Battery'),\n",
       " ('2nd at Townsend', 'San Francisco Caltrain (Townsend at 4th)'),\n",
       " ('San Francisco Caltrain (Townsend at 4th)', 'Steuart at Market'),\n",
       " ('Steuart at Market', 'Civic Center BART (7th at Market)'),\n",
       " ('Civic Center BART (7th at Market)', 'South Van Ness at Market'),\n",
       " ('South Van Ness at Market', 'San Francisco Caltrain 2 (330 Townsend)'),\n",
       " ('San Francisco Caltrain 2 (330 Townsend)', 'Market at 10th'),\n",
       " ('Market at 10th', 'San Francisco Caltrain (Townsend at 4th)'),\n",
       " ('Broadway St at Battery St', 'Beale at Market'),\n",
       " ('Beale at Market', 'Spear at Folsom'),\n",
       " ('Spear at Folsom', 'San Francisco Caltrain (Townsend at 4th)'),\n",
       " ('Temporary Transbay Terminal (Howard at Beale)', 'Howard at 2nd'),\n",
       " ('Embarcadero at Bryant', 'Clay at Battery'),\n",
       " ('Clay at Battery', 'Powell at Post (Union Square)'),\n",
       " ('Powell at Post (Union Square)', '2nd at Folsom'),\n",
       " ('2nd at Folsom', '2nd at Townsend'),\n",
       " ('2nd at Townsend', 'Davis at Jackson'),\n",
       " ('Davis at Jackson', 'Embarcadero at Sansome'),\n",
       " ('Embarcadero at Sansome', 'Steuart at Market'),\n",
       " ('Steuart at Market', 'San Francisco Caltrain 2 (330 Townsend)'),\n",
       " ('San Francisco Caltrain 2 (330 Townsend)', 'Washington at Kearny'),\n",
       " ('Washington at Kearny', 'Market at 4th'),\n",
       " ('Market at 4th', 'Davis at Jackson'),\n",
       " ('Davis at Jackson', 'Market at 4th'),\n",
       " ('Market at 4th', 'Market at Sansome'),\n",
       " ('Beale at Market', 'Civic Center BART (7th at Market)'),\n",
       " ('Civic Center BART (7th at Market)', 'Civic Center BART (7th at Market)'),\n",
       " ('Civic Center BART (7th at Market)', 'Townsend at 7th'),\n",
       " ('Townsend at 7th', 'San Francisco Caltrain (Townsend at 4th)'),\n",
       " ('Clay at Battery', 'Embarcadero at Sansome'),\n",
       " ('Embarcadero at Sansome', 'Embarcadero at Folsom'),\n",
       " ('2nd at Folsom', 'San Francisco Caltrain (Townsend at 4th)'),\n",
       " ('San Francisco Caltrain (Townsend at 4th)', '2nd at Townsend'),\n",
       " ('2nd at Townsend', 'Beale at Market'),\n",
       " ('2nd at Folsom', 'Harry Bridges Plaza (Ferry Building)'),\n",
       " ('Harry Bridges Plaza (Ferry Building)', 'Embarcadero at Sansome'),\n",
       " ('Embarcadero at Sansome', 'Powell at Post (Union Square)'),\n",
       " ('Powell at Post (Union Square)', 'Mechanics Plaza (Market at Battery)'),\n",
       " ('Mechanics Plaza (Market at Battery)', 'Spear at Folsom'),\n",
       " ('Spear at Folsom', 'Townsend at 7th'),\n",
       " ('Townsend at 7th', 'Spear at Folsom'),\n",
       " ('Spear at Folsom', 'Embarcadero at Sansome'),\n",
       " ('2nd at Townsend', 'San Francisco Caltrain 2 (330 Townsend)'),\n",
       " ('San Francisco Caltrain 2 (330 Townsend)', '5th at Howard'),\n",
       " ('5th at Howard', 'Harry Bridges Plaza (Ferry Building)'),\n",
       " ('Harry Bridges Plaza (Ferry Building)', 'Grant Avenue at Columbus Avenue'),\n",
       " ('Grant Avenue at Columbus Avenue', 'San Francisco City Hall'),\n",
       " ('San Francisco City Hall', 'Powell Street BART'),\n",
       " ('Powell Street BART', 'Market at Sansome'),\n",
       " ('Market at Sansome', 'Market at 4th'),\n",
       " ('Harry Bridges Plaza (Ferry Building)',\n",
       "  'Mechanics Plaza (Market at Battery)'),\n",
       " ('Mechanics Plaza (Market at Battery)', 'Broadway St at Battery St'),\n",
       " ('Broadway St at Battery St',\n",
       "  'Temporary Transbay Terminal (Howard at Beale)'),\n",
       " ('Temporary Transbay Terminal (Howard at Beale)',\n",
       "  'San Francisco Caltrain 2 (330 Townsend)'),\n",
       " ('San Francisco Caltrain 2 (330 Townsend)', '5th at Howard'),\n",
       " ('5th at Howard', 'San Francisco Caltrain 2 (330 Townsend)'),\n",
       " ('South Van Ness at Market', 'Embarcadero at Vallejo'),\n",
       " ('Harry Bridges Plaza (Ferry Building)', 'Market at Sansome'),\n",
       " ('San Francisco Caltrain (Townsend at 4th)', 'Market at 10th'),\n",
       " ('Market at 10th', 'Civic Center BART (7th at Market)'),\n",
       " ('Civic Center BART (7th at Market)',\n",
       "  'San Francisco Caltrain (Townsend at 4th)'),\n",
       " ('San Francisco Caltrain (Townsend at 4th)', 'Market at 10th'),\n",
       " ('Market at 10th', 'Washington at Kearny'),\n",
       " ('Market at 10th', 'Embarcadero at Bryant'),\n",
       " ('Harry Bridges Plaza (Ferry Building)', 'Embarcadero at Sansome'),\n",
       " ('Embarcadero at Sansome', 'Washington at Kearny'),\n",
       " ('Washington at Kearny', 'Embarcadero at Sansome'),\n",
       " ('Grant Avenue at Columbus Avenue', 'Commercial at Montgomery'),\n",
       " ('Grant Avenue at Columbus Avenue', 'Beale at Market'),\n",
       " ('2nd at South Park', 'Townsend at 7th'),\n",
       " ('Beale at Market', 'Embarcadero at Bryant'),\n",
       " ('Steuart at Market', '2nd at Townsend'),\n",
       " ('2nd at Townsend', 'Townsend at 7th'),\n",
       " ('Townsend at 7th', 'Temporary Transbay Terminal (Howard at Beale)'),\n",
       " ('Temporary Transbay Terminal (Howard at Beale)',\n",
       "  'San Francisco Caltrain 2 (330 Townsend)'),\n",
       " ('San Francisco Caltrain 2 (330 Townsend)', '5th at Howard'),\n",
       " ('5th at Howard', 'Market at 4th'),\n",
       " ('Market at 4th', 'Embarcadero at Sansome'),\n",
       " ('Embarcadero at Sansome', 'Embarcadero at Sansome'),\n",
       " ('Embarcadero at Folsom', 'Embarcadero at Bryant'),\n",
       " ('Harry Bridges Plaza (Ferry Building)', 'Market at 4th'),\n",
       " ('Market at 4th', 'Market at 4th'),\n",
       " ('Market at 4th', 'San Francisco City Hall'),\n",
       " ('Market at 10th', 'Powell Street BART'),\n",
       " ('Powell Street BART', 'Market at 10th'),\n",
       " ('Market at 10th', 'Powell Street BART'),\n",
       " ('Powell Street BART', 'Commercial at Montgomery'),\n",
       " ('Harry Bridges Plaza (Ferry Building)', '2nd at Townsend'),\n",
       " ('2nd at Townsend', 'Market at Sansome'),\n",
       " ('Market at Sansome', '2nd at South Park'),\n",
       " ('2nd at South Park', 'Market at Sansome'),\n",
       " ('Market at Sansome', 'Townsend at 7th'),\n",
       " ('Townsend at 7th', 'San Francisco Caltrain 2 (330 Townsend)'),\n",
       " ('San Francisco Caltrain 2 (330 Townsend)', 'Steuart at Market'),\n",
       " ('Steuart at Market', 'Spear at Folsom'),\n",
       " ('Spear at Folsom', 'Beale at Market'),\n",
       " ('Beale at Market', 'San Francisco Caltrain 2 (330 Townsend)'),\n",
       " ('San Francisco Caltrain 2 (330 Townsend)', 'Powell Street BART'),\n",
       " ('Powell Street BART', 'Market at 10th'),\n",
       " ('Market at 10th', 'South Van Ness at Market'),\n",
       " ('South Van Ness at Market', 'Market at Sansome'),\n",
       " ('Market at Sansome', 'Embarcadero at Sansome'),\n",
       " ('Embarcadero at Sansome', 'Embarcadero at Folsom'),\n",
       " ('Embarcadero at Folsom', 'San Francisco Caltrain 2 (330 Townsend)'),\n",
       " ('San Francisco Caltrain 2 (330 Townsend)', 'Townsend at 7th'),\n",
       " ('Townsend at 7th', 'Civic Center BART (7th at Market)'),\n",
       " ('Civic Center BART (7th at Market)', 'Powell Street BART'),\n",
       " ('Powell Street BART', 'San Francisco City Hall'),\n",
       " ('San Francisco City Hall', 'Powell Street BART'),\n",
       " ('Powell Street BART', 'Steuart at Market'),\n",
       " ('Steuart at Market', 'San Francisco Caltrain 2 (330 Townsend)'),\n",
       " ('San Francisco Caltrain 2 (330 Townsend)',\n",
       "  'Civic Center BART (7th at Market)'),\n",
       " ('Civic Center BART (7th at Market)', 'Townsend at 7th'),\n",
       " ('Embarcadero at Bryant', 'San Francisco Caltrain 2 (330 Townsend)'),\n",
       " ('2nd at Folsom', 'Market at Sansome'),\n",
       " ('San Francisco Caltrain 2 (330 Townsend)', 'Townsend at 7th'),\n",
       " ('Broadway St at Battery St', 'Mechanics Plaza (Market at Battery)'),\n",
       " ('Mechanics Plaza (Market at Battery)', 'South Van Ness at Market'),\n",
       " ('South Van Ness at Market', 'San Francisco Caltrain (Townsend at 4th)'),\n",
       " ('Howard at 2nd', 'Market at 4th'),\n",
       " ('Market at 4th', 'Market at 4th'),\n",
       " ('Market at 4th', 'Market at 4th'),\n",
       " ('Market at 4th', 'Market at 10th'),\n",
       " ('Market at 10th', 'San Francisco Caltrain (Townsend at 4th)'),\n",
       " ('San Francisco Caltrain (Townsend at 4th)', 'Commercial at Montgomery'),\n",
       " ('Commercial at Montgomery', 'Grant Avenue at Columbus Avenue'),\n",
       " ('Grant Avenue at Columbus Avenue', 'Commercial at Montgomery'),\n",
       " ('Commercial at Montgomery', 'Market at Sansome'),\n",
       " ('Market at Sansome', 'Civic Center BART (7th at Market)'),\n",
       " ('Civic Center BART (7th at Market)',\n",
       "  'San Francisco Caltrain 2 (330 Townsend)'),\n",
       " ('San Francisco Caltrain 2 (330 Townsend)', 'Townsend at 7th'),\n",
       " ('Townsend at 7th', 'South Van Ness at Market'),\n",
       " ('South Van Ness at Market', 'Market at Sansome'),\n",
       " ('Steuart at Market', 'Market at Sansome'),\n",
       " ('Market at Sansome', 'San Francisco Caltrain (Townsend at 4th)'),\n",
       " ('San Francisco Caltrain (Townsend at 4th)', 'Townsend at 7th'),\n",
       " ('Townsend at 7th', '2nd at Townsend'),\n",
       " ('2nd at Townsend', 'Steuart at Market'),\n",
       " ('Steuart at Market', 'Embarcadero at Sansome'),\n",
       " ('Embarcadero at Sansome', 'Embarcadero at Sansome'),\n",
       " ('Beale at Market', 'Broadway St at Battery St'),\n",
       " ('Powell at Post (Union Square)', 'Townsend at 7th'),\n",
       " ('Market at 10th', 'Market at 4th'),\n",
       " ('Market at 4th', 'Spear at Folsom'),\n",
       " ('Spear at Folsom', 'Steuart at Market'),\n",
       " ('Steuart at Market', 'Embarcadero at Bryant'),\n",
       " ('Embarcadero at Bryant', 'Embarcadero at Vallejo'),\n",
       " ('Grant Avenue at Columbus Avenue', 'Beale at Market'),\n",
       " ('Beale at Market', 'San Francisco Caltrain (Townsend at 4th)'),\n",
       " ('San Francisco Caltrain (Townsend at 4th)', 'Market at Sansome'),\n",
       " ('Market at Sansome', '2nd at Townsend'),\n",
       " ('2nd at Townsend', 'Powell at Post (Union Square)'),\n",
       " ('Golden Gate at Polk', 'San Francisco Caltrain (Townsend at 4th)'),\n",
       " ('San Francisco Caltrain (Townsend at 4th)', 'Steuart at Market'),\n",
       " ('Steuart at Market', 'Embarcadero at Sansome'),\n",
       " ('Embarcadero at Sansome', 'Mechanics Plaza (Market at Battery)'),\n",
       " ('Mechanics Plaza (Market at Battery)', 'Civic Center BART (7th at Market)'),\n",
       " ('Civic Center BART (7th at Market)',\n",
       "  'San Francisco Caltrain (Townsend at 4th)')]"
      ]
     },
     "execution_count": 94,
     "metadata": {},
     "output_type": "execute_result"
    }
   ],
   "source": [
    "total_path.collect()"
   ]
  },
  {
   "cell_type": "markdown",
   "id": "8b3e65f2",
   "metadata": {},
   "source": [
    "## 4. Find the total number of bikes in the system"
   ]
  },
  {
   "cell_type": "code",
   "execution_count": 95,
   "id": "46461b1a",
   "metadata": {},
   "outputs": [
    {
     "data": {
      "text/plain": [
       "699"
      ]
     },
     "execution_count": 95,
     "metadata": {},
     "output_type": "execute_result"
    }
   ],
   "source": [
    "trips_internal.map(lambda trip: trip.bike_id).distinct().count()"
   ]
  },
  {
   "cell_type": "markdown",
   "id": "04484989",
   "metadata": {},
   "source": [
    "## 5. Find users that spent more than 3 hours on their trips"
   ]
  },
  {
   "cell_type": "code",
   "execution_count": 97,
   "id": "18bd5cdf",
   "metadata": {},
   "outputs": [],
   "source": [
    "# Since there is no notion of a user, we will find trip_ids that fulfill the aforementioned condition\n",
    "time_period = 3 * 60 * 60    # sec\n",
    "trip_ids = trips_internal.filter(lambda trip: trip.duration > time_period).map(lambda trip: trip.trip_id)"
   ]
  },
  {
   "cell_type": "code",
   "execution_count": 98,
   "id": "65cdf107",
   "metadata": {},
   "outputs": [
    {
     "data": {
      "text/plain": [
       "[4639, 4637, 4528, 4363, 4193, 4190, 4225, 4663, 4532, 4521]"
      ]
     },
     "execution_count": 98,
     "metadata": {},
     "output_type": "execute_result"
    }
   ],
   "source": [
    "trip_ids.take(10)"
   ]
  },
  {
   "cell_type": "code",
   "execution_count": 99,
   "id": "0f51347e",
   "metadata": {},
   "outputs": [
    {
     "data": {
      "text/plain": [
       "4770"
      ]
     },
     "execution_count": 99,
     "metadata": {},
     "output_type": "execute_result"
    }
   ],
   "source": [
    "trip_ids.count()"
   ]
  },
  {
   "cell_type": "code",
   "execution_count": null,
   "id": "65e5160f",
   "metadata": {},
   "outputs": [],
   "source": []
  }
 ],
 "metadata": {
  "kernelspec": {
   "display_name": "Python 3",
   "language": "python",
   "name": "python3"
  },
  "language_info": {
   "codemirror_mode": {
    "name": "ipython",
    "version": 3
   },
   "file_extension": ".py",
   "mimetype": "text/x-python",
   "name": "python",
   "nbconvert_exporter": "python",
   "pygments_lexer": "ipython3",
   "version": "3.6.9"
  }
 },
 "nbformat": 4,
 "nbformat_minor": 5
}
