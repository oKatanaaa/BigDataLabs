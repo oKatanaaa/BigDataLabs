{
 "cells": [
  {
   "cell_type": "code",
   "execution_count": 1,
   "id": "0ab61e37",
   "metadata": {},
   "outputs": [
    {
     "name": "stdout",
     "output_type": "stream",
     "text": [
      "Requirement already satisfied: findspark in /usr/local/lib/python3.6/dist-packages (1.4.2)\n",
      "\u001b[33mWARNING: Running pip as the 'root' user can result in broken permissions and conflicting behaviour with the system package manager. It is recommended to use a virtual environment instead: https://pip.pypa.io/warnings/venv\u001b[0m\n"
     ]
    }
   ],
   "source": [
    "!pip install findspark\n",
    "import findspark\n",
    "findspark.init()"
   ]
  },
  {
   "cell_type": "code",
   "execution_count": 2,
   "id": "f409ad5d",
   "metadata": {},
   "outputs": [],
   "source": [
    "from datetime import datetime\n",
    "from pyspark.sql.functions import col\n",
    "from pyspark.sql.types import StructType, StructField, StringType, DateType"
   ]
  },
  {
   "cell_type": "code",
   "execution_count": 3,
   "id": "56d1bc84",
   "metadata": {},
   "outputs": [],
   "source": [
    "from pyspark.sql import SparkSession\n",
    "import os\n",
    "\n",
    "os.environ['PYSPARK_SUBMIT_ARGS'] = '--packages com.databricks:spark-xml_2.12:0.13.0 pyspark-shell'\n",
    "\n",
    "spark_session = SparkSession\\\n",
    "    .builder\\\n",
    "    .getOrCreate()"
   ]
  },
  {
   "cell_type": "code",
   "execution_count": 4,
   "id": "c621bbf8",
   "metadata": {},
   "outputs": [
    {
     "data": {
      "text/html": [
       "\n",
       "            <div>\n",
       "                <p><b>SparkSession - in-memory</b></p>\n",
       "                \n",
       "        <div>\n",
       "            <p><b>SparkContext</b></p>\n",
       "\n",
       "            <p><a href=\"http://maprdemo.mapr.io:4040\">Spark UI</a></p>\n",
       "\n",
       "            <dl>\n",
       "              <dt>Version</dt>\n",
       "                <dd><code>v2.4.5.0-mapr-700</code></dd>\n",
       "              <dt>Master</dt>\n",
       "                <dd><code>local[*]</code></dd>\n",
       "              <dt>AppName</dt>\n",
       "                <dd><code>pyspark-shell</code></dd>\n",
       "            </dl>\n",
       "        </div>\n",
       "        \n",
       "            </div>\n",
       "        "
      ],
      "text/plain": [
       "<pyspark.sql.session.SparkSession at 0x7f2faed87e48>"
      ]
     },
     "execution_count": 4,
     "metadata": {},
     "output_type": "execute_result"
    }
   ],
   "source": [
    "spark_session"
   ]
  },
  {
   "cell_type": "code",
   "execution_count": 5,
   "id": "caa3bfb7",
   "metadata": {},
   "outputs": [],
   "source": [
    " sc = spark_session._sc"
   ]
  },
  {
   "cell_type": "code",
   "execution_count": 6,
   "id": "a4252e8c",
   "metadata": {},
   "outputs": [
    {
     "name": "stdout",
     "output_type": "stream",
     "text": [
      "name,wikipedia_url\r",
      "\r\n",
      "A# .NET,https://en.wikipedia.org/wiki/A_Sharp_(.NET)\r",
      "\r\n",
      "A# (Axiom),https://en.wikipedia.org/wiki/A_Sharp_(Axiom)\r",
      "\r\n",
      "A-0 System,https://en.wikipedia.org/wiki/A-0_System\r",
      "\r\n",
      "A+,https://en.wikipedia.org/wiki/A%2B_(programming_language)\r",
      "\r\n",
      "A++,https://en.wikipedia.org/wiki/A%2B%2B\r",
      "\r\n",
      "ABAP,https://en.wikipedia.org/wiki/ABAP\r",
      "\r\n",
      "ABC,https://en.wikipedia.org/wiki/ABC_(programming_language)\r",
      "\r\n",
      "ABC ALGOL,https://en.wikipedia.org/wiki/ABC_ALGOL\r",
      "\r\n",
      "ABSET,https://en.wikipedia.org/wiki/ABSET\r",
      "\r\n"
     ]
    }
   ],
   "source": [
    "!head /mnt/data/programming-languages.csv"
   ]
  },
  {
   "cell_type": "markdown",
   "id": "46859d54",
   "metadata": {},
   "source": [
    "## Read csv file"
   ]
  },
  {
   "cell_type": "code",
   "execution_count": 7,
   "id": "4a973c9e",
   "metadata": {},
   "outputs": [],
   "source": [
    "prog_lang_schema = StructType([\n",
    "    StructField(\"name\", StringType(), False),\n",
    "    StructField(\"wikipedia_url\", StringType(), False),\n",
    "])"
   ]
  },
  {
   "cell_type": "code",
   "execution_count": 8,
   "id": "4a3b30f2",
   "metadata": {},
   "outputs": [],
   "source": [
    "prog_langs_df = spark_session.read.csv(\"file:///mnt/data/programming-languages.csv\", schema=prog_lang_schema)"
   ]
  },
  {
   "cell_type": "code",
   "execution_count": 9,
   "id": "c05b2bd4",
   "metadata": {},
   "outputs": [
    {
     "data": {
      "text/plain": [
       "DataFrame[name: string, wikipedia_url: string]"
      ]
     },
     "execution_count": 9,
     "metadata": {},
     "output_type": "execute_result"
    }
   ],
   "source": [
    "prog_langs_df"
   ]
  },
  {
   "cell_type": "code",
   "execution_count": 10,
   "id": "02c7a451",
   "metadata": {},
   "outputs": [
    {
     "data": {
      "text/plain": [
       "Row(name='name', wikipedia_url='wikipedia_url')"
      ]
     },
     "execution_count": 10,
     "metadata": {},
     "output_type": "execute_result"
    }
   ],
   "source": [
    "prog_langs_df.head()"
   ]
  },
  {
   "cell_type": "code",
   "execution_count": 11,
   "id": "0f939cdc",
   "metadata": {},
   "outputs": [],
   "source": [
    "prog_langs_list = [str(row[0]) for row in prog_langs_df.select('name').collect()]"
   ]
  },
  {
   "cell_type": "code",
   "execution_count": 12,
   "id": "c2c04bb0",
   "metadata": {},
   "outputs": [
    {
     "data": {
      "text/plain": [
       "['name', 'A# .NET', 'A# (Axiom)', 'A-0 System']"
      ]
     },
     "execution_count": 12,
     "metadata": {},
     "output_type": "execute_result"
    }
   ],
   "source": [
    "prog_langs_list[:4]"
   ]
  },
  {
   "cell_type": "markdown",
   "id": "3b72ec3f",
   "metadata": {},
   "source": [
    "## Read xml file"
   ]
  },
  {
   "cell_type": "code",
   "execution_count": 13,
   "id": "5d642a64",
   "metadata": {},
   "outputs": [
    {
     "name": "stdout",
     "output_type": "stream",
     "text": [
      "���<?xml version=\"1.0\" encoding=\"utf-8\"?>\r",
      "\r\n",
      "<posts>\r",
      "\r\n",
      "  <row Id=\"4\" PostTypeId=\"1\" AcceptedAnswerId=\"7\" CreationDate=\"2008-07-31T21:42:52.667\" Score=\"630\" ViewCount=\"42817\" Body=\"&lt;p&gt;I want to use a track-bar to change a form's opacity.&lt;/p&gt;&#xA;&#xA;&lt;p&gt;This is my code:&lt;/p&gt;&#xA;&#xA;&lt;pre&gt;&lt;code&gt;decimal trans = trackBar1.Value / 5000;&#xA;this.Opacity = trans;&#xA;&lt;/code&gt;&lt;/pre&gt;&#xA;&#xA;&lt;p&gt;When I build the application, it gives the following error:&lt;/p&gt;&#xA;&#xA;&lt;blockquote&gt;&#xA;  &lt;p&gt;Cannot implicitly convert type &lt;code&gt;'decimal'&lt;/code&gt; to &lt;code&gt;'double'&lt;/code&gt;&lt;/p&gt;&#xA;&lt;/blockquote&gt;&#xA;&#xA;&lt;p&gt;I tried using &lt;code&gt;trans&lt;/code&gt; and &lt;code&gt;double&lt;/code&gt; but then the control doesn't work. This code worked fine in a past VB.NET project.&lt;/p&gt;&#xA;\" OwnerUserId=\"8\" LastEditorUserId=\"3641067\" LastEditorDisplayName=\"Rich B\" LastEditDate=\"2019-07-19T01:39:54.173\" LastActivityDate=\"2019-07-19T01:39:54.173\" Title=\"Convert Decimal to Double?\" Tags=\"&lt;c#&gt;&lt;floating-point&gt;&lt;type-conversion&gt;&lt;double&gt;&lt;decimal&gt;\" AnswerCount=\"13\" CommentCount=\"2\" FavoriteCount=\"48\" CommunityOwnedDate=\"2012-10-31T16:42:47.213\" />\r",
      "\r\n",
      "  <row Id=\"6\" PostTypeId=\"1\" AcceptedAnswerId=\"31\" CreationDate=\"2008-07-31T22:08:08.620\" Score=\"281\" ViewCount=\"18214\" Body=\"&lt;p&gt;I have an absolutely positioned &lt;code&gt;div&lt;/code&gt; containing several children, one of which is a relatively positioned &lt;code&gt;div&lt;/code&gt;. When I use a &lt;code&gt;percentage-based width&lt;/code&gt; on the child &lt;code&gt;div&lt;/code&gt;, it collapses to &lt;code&gt;0 width&lt;/code&gt; on IE7, but not on Firefox or Safari.&lt;/p&gt;&#xA;&#xA;&lt;p&gt;If I use &lt;code&gt;pixel width&lt;/code&gt;, it works. If the parent is relatively positioned, the percentage width on the child works.&lt;/p&gt;&#xA;&#xA;&lt;ol&gt;&#xA;&lt;li&gt;Is there something I'm missing here?&lt;/li&gt;&#xA;&lt;li&gt;Is there an easy fix for this besides the &lt;code&gt;pixel-based width&lt;/code&gt; on the&#xA;child?&lt;/li&gt;&#xA;&lt;li&gt;Is there an area of the CSS specification that covers this?&lt;/li&gt;&#xA;&lt;/ol&gt;&#xA;\" OwnerUserId=\"9\" LastEditorUserId=\"3641067\" LastEditorDisplayName=\"Rich B\" LastEditDate=\"2019-07-19T01:43:04.077\" LastActivityDate=\"2019-07-19T01:43:04.077\" Title=\"Percentage width child element in absolutely positioned parent on Internet Explorer 7\" Tags=\"&lt;html&gt;&lt;css&gt;&lt;internet-explorer-7&gt;\" AnswerCount=\"6\" CommentCount=\"0\" FavoriteCount=\"10\" />\r",
      "\r\n"
     ]
    }
   ],
   "source": [
    "!head -n 4 /mnt/data/posts_sample.xml"
   ]
  },
  {
   "cell_type": "code",
   "execution_count": 14,
   "id": "a2153b57",
   "metadata": {},
   "outputs": [],
   "source": [
    "posts_sample_df = spark_session.read.format(\"xml\").options(rowTag=\"row\").load('file:///mnt/data/posts_sample.xml')"
   ]
  },
  {
   "cell_type": "code",
   "execution_count": 15,
   "id": "bbdae993",
   "metadata": {},
   "outputs": [
    {
     "data": {
      "text/plain": [
       "Row(_AcceptedAnswerId=7, _AnswerCount=13, _Body=\"<p>I want to use a track-bar to change a form's opacity.</p>\\n\\n<p>This is my code:</p>\\n\\n<pre><code>decimal trans = trackBar1.Value / 5000;\\nthis.Opacity = trans;\\n</code></pre>\\n\\n<p>When I build the application, it gives the following error:</p>\\n\\n<blockquote>\\n  <p>Cannot implicitly convert type <code>'decimal'</code> to <code>'double'</code></p>\\n</blockquote>\\n\\n<p>I tried using <code>trans</code> and <code>double</code> but then the control doesn't work. This code worked fine in a past VB.NET project.</p>\\n\", _ClosedDate=None, _CommentCount=2, _CommunityOwnedDate=datetime.datetime(2012, 10, 31, 16, 42, 47, 213000), _CreationDate=datetime.datetime(2008, 7, 31, 21, 42, 52, 667000), _FavoriteCount=48, _Id=4, _LastActivityDate=datetime.datetime(2019, 7, 19, 1, 39, 54, 173000), _LastEditDate=datetime.datetime(2019, 7, 19, 1, 39, 54, 173000), _LastEditorDisplayName='Rich B', _LastEditorUserId=3641067, _OwnerDisplayName=None, _OwnerUserId=8, _ParentId=None, _PostTypeId=1, _Score=630, _Tags='<c#><floating-point><type-conversion><double><decimal>', _Title='Convert Decimal to Double?', _ViewCount=42817)"
      ]
     },
     "execution_count": 15,
     "metadata": {},
     "output_type": "execute_result"
    }
   ],
   "source": [
    "posts_sample_df.head()"
   ]
  },
  {
   "cell_type": "code",
   "execution_count": 22,
   "id": "75ce74fa",
   "metadata": {},
   "outputs": [],
   "source": [
    "def define_language(row):\n",
    "    language_tag = None\n",
    "    for lang in prog_langs_list:\n",
    "        if '<' + lang.lower() + '>' in row._Tags.lower():\n",
    "            language_tag = lang\n",
    "            break\n",
    "    if language_tag is None:\n",
    "        return None\n",
    "    return (row._Id, row._CreationDate.year, language_tag)"
   ]
  },
  {
   "cell_type": "code",
   "execution_count": 23,
   "id": "5ce0c82f",
   "metadata": {},
   "outputs": [
    {
     "data": {
      "text/plain": [
       "2020"
      ]
     },
     "execution_count": 23,
     "metadata": {},
     "output_type": "execute_result"
    }
   ],
   "source": [
    "datetime(year=2020, month=1, day=1).year"
   ]
  },
  {
   "cell_type": "code",
   "execution_count": 61,
   "id": "d5ff4d99",
   "metadata": {},
   "outputs": [],
   "source": [
    "def check_date_range(row):\n",
    "    left_border = datetime(year=2010, month=1, day=1)\n",
    "    right_border = datetime(year=2021, month=1, day=1)\n",
    "    created_date = row._CreationDate\n",
    "    return created_date > left_border and created_date < right_border"
   ]
  },
  {
   "cell_type": "code",
   "execution_count": 62,
   "id": "cb038f3d",
   "metadata": {},
   "outputs": [],
   "source": [
    "def flatten(row):\n",
    "    key, value = row\n",
    "    language, year = key\n",
    "    n_samples = value\n",
    "    return language, year, n_samples"
   ]
  },
  {
   "cell_type": "code",
   "execution_count": 63,
   "id": "297b2d76",
   "metadata": {},
   "outputs": [],
   "source": [
    "# 1. Select rows with not null tag and an appropriate date\n",
    "# 2. (xml ...) -> (id, date, labguage)\n",
    "# 3. Remove rows with tags without language\n",
    "# 4. [(id, data, language)] -> {(language, date): (id, date, language)}\n",
    "# 5. {(language, date): n_samples}\n",
    "# 6. [(language, date, n_samples)]\n",
    "top_languages = posts_sample_df.rdd\\\n",
    "    .filter(lambda row: row._Tags is not None and check_date_range(row))\\\n",
    "    .map(define_language)\\\n",
    "    .filter(lambda row: row is not None)\\\n",
    "    .keyBy(lambda row: (row[2], row[1]))\\\n",
    "    .aggregateByKey(\n",
    "        0,\n",
    "        lambda acc, value: acc + 1,\n",
    "        lambda acc1, acc2: acc1 + acc2,\n",
    "    )\\\n",
    "    .sortBy(lambda row: row[1], ascending=False)\\\n",
    "    .map(flatten)"
   ]
  },
  {
   "cell_type": "code",
   "execution_count": 67,
   "id": "2d31aecc",
   "metadata": {},
   "outputs": [],
   "source": [
    "per_year_report = {}\n",
    "for year in range(2010, 2020 + 1):\n",
    "    # 1. Take rows for a particular year\n",
    "    # 2. Remove year from all rows\n",
    "    # 3. Sort by the number of posts\n",
    "    # 4. Convert to dataframe\n",
    "    # 5. Change columns names\n",
    "    # 6. Take 10 most popular languages\n",
    "    # 7. Convert list of top languages to RDD\n",
    "    # 8. Converr to dataframe\n",
    "    try:\n",
    "        result = top_languages\\\n",
    "            .filter(lambda row: int(row[1]) == year)\\\n",
    "            .map(lambda row: (row[0], row[2]))\\\n",
    "            .sortBy(lambda row: row[1], ascending=False)\\\n",
    "            .toDF()\\\n",
    "            .select(col('_1').alias('ProgrammingLanguage'), col('_2').alias('NumberOfPosts'))\\\n",
    "            .take(10)\n",
    "        result = sc.parallelize(result).toDF()\n",
    "        per_year_report[year] = result\n",
    "    except:\n",
    "        continue"
   ]
  },
  {
   "cell_type": "code",
   "execution_count": 68,
   "id": "16eb4fab",
   "metadata": {},
   "outputs": [
    {
     "data": {
      "text/plain": [
       "{2010: DataFrame[ProgrammingLanguage: string, NumberOfPosts: bigint],\n",
       " 2011: DataFrame[ProgrammingLanguage: string, NumberOfPosts: bigint],\n",
       " 2012: DataFrame[ProgrammingLanguage: string, NumberOfPosts: bigint],\n",
       " 2013: DataFrame[ProgrammingLanguage: string, NumberOfPosts: bigint],\n",
       " 2014: DataFrame[ProgrammingLanguage: string, NumberOfPosts: bigint],\n",
       " 2015: DataFrame[ProgrammingLanguage: string, NumberOfPosts: bigint],\n",
       " 2016: DataFrame[ProgrammingLanguage: string, NumberOfPosts: bigint],\n",
       " 2017: DataFrame[ProgrammingLanguage: string, NumberOfPosts: bigint],\n",
       " 2018: DataFrame[ProgrammingLanguage: string, NumberOfPosts: bigint],\n",
       " 2019: DataFrame[ProgrammingLanguage: string, NumberOfPosts: bigint]}"
      ]
     },
     "execution_count": 68,
     "metadata": {},
     "output_type": "execute_result"
    }
   ],
   "source": [
    "# There are no posts in 2020\n",
    "per_year_report"
   ]
  },
  {
   "cell_type": "code",
   "execution_count": 69,
   "id": "e41181df",
   "metadata": {
    "scrolled": false
   },
   "outputs": [
    {
     "name": "stdout",
     "output_type": "stream",
     "text": [
      "Report for 2010 year.\n",
      "+-------------------+-------------+\n",
      "|ProgrammingLanguage|NumberOfPosts|\n",
      "+-------------------+-------------+\n",
      "|               Java|           52|\n",
      "|         JavaScript|           44|\n",
      "|                PHP|           42|\n",
      "|             Python|           25|\n",
      "|        Objective-C|           23|\n",
      "|                  C|           20|\n",
      "|               Ruby|           11|\n",
      "|             Delphi|            7|\n",
      "|        AppleScript|            3|\n",
      "|                  R|            3|\n",
      "+-------------------+-------------+\n",
      "\n",
      "\n",
      "\n",
      "\n",
      "\n",
      "Report for 2011 year.\n",
      "+-------------------+-------------+\n",
      "|ProgrammingLanguage|NumberOfPosts|\n",
      "+-------------------+-------------+\n",
      "|                PHP|           97|\n",
      "|               Java|           92|\n",
      "|         JavaScript|           82|\n",
      "|             Python|           35|\n",
      "|        Objective-C|           33|\n",
      "|                  C|           24|\n",
      "|               Ruby|           17|\n",
      "|             Delphi|            8|\n",
      "|               Perl|            8|\n",
      "|               Bash|            7|\n",
      "+-------------------+-------------+\n",
      "\n",
      "\n",
      "\n",
      "\n",
      "\n",
      "Report for 2012 year.\n",
      "+-------------------+-------------+\n",
      "|ProgrammingLanguage|NumberOfPosts|\n",
      "+-------------------+-------------+\n",
      "|                PHP|          136|\n",
      "|         JavaScript|          129|\n",
      "|               Java|          124|\n",
      "|             Python|           65|\n",
      "|        Objective-C|           45|\n",
      "|                  C|           27|\n",
      "|               Ruby|           25|\n",
      "|               Bash|            9|\n",
      "|                  R|            9|\n",
      "|             MATLAB|            6|\n",
      "+-------------------+-------------+\n",
      "\n",
      "\n",
      "\n",
      "\n",
      "\n",
      "Report for 2013 year.\n",
      "+-------------------+-------------+\n",
      "|ProgrammingLanguage|NumberOfPosts|\n",
      "+-------------------+-------------+\n",
      "|         JavaScript|          196|\n",
      "|               Java|          191|\n",
      "|                PHP|          173|\n",
      "|             Python|           87|\n",
      "|        Objective-C|           40|\n",
      "|                  C|           36|\n",
      "|               Ruby|           30|\n",
      "|                  R|           25|\n",
      "|               Bash|           11|\n",
      "|              Scala|           10|\n",
      "+-------------------+-------------+\n",
      "\n",
      "\n",
      "\n",
      "\n",
      "\n",
      "Report for 2014 year.\n",
      "+-------------------+-------------+\n",
      "|ProgrammingLanguage|NumberOfPosts|\n",
      "+-------------------+-------------+\n",
      "|         JavaScript|          235|\n",
      "|               Java|          228|\n",
      "|                PHP|          154|\n",
      "|             Python|          103|\n",
      "|                  C|           52|\n",
      "|        Objective-C|           49|\n",
      "|                  R|           28|\n",
      "|               Ruby|           20|\n",
      "|             MATLAB|           16|\n",
      "|               Bash|           13|\n",
      "+-------------------+-------------+\n",
      "\n",
      "\n",
      "\n",
      "\n",
      "\n",
      "Report for 2015 year.\n",
      "+-------------------+-------------+\n",
      "|ProgrammingLanguage|NumberOfPosts|\n",
      "+-------------------+-------------+\n",
      "|         JavaScript|          270|\n",
      "|               Java|          208|\n",
      "|                PHP|          147|\n",
      "|             Python|          119|\n",
      "|                  R|           43|\n",
      "|                  C|           38|\n",
      "|        Objective-C|           30|\n",
      "|               Ruby|           21|\n",
      "|             MATLAB|           16|\n",
      "|              Scala|           13|\n",
      "+-------------------+-------------+\n",
      "\n",
      "\n",
      "\n",
      "\n",
      "\n",
      "Report for 2016 year.\n",
      "+-------------------+-------------+\n",
      "|ProgrammingLanguage|NumberOfPosts|\n",
      "+-------------------+-------------+\n",
      "|         JavaScript|          272|\n",
      "|               Java|          179|\n",
      "|             Python|          141|\n",
      "|                PHP|          126|\n",
      "|                  R|           50|\n",
      "|                  C|           32|\n",
      "|               Ruby|           21|\n",
      "|               Bash|           16|\n",
      "|              Scala|           16|\n",
      "|             MATLAB|           15|\n",
      "+-------------------+-------------+\n",
      "\n",
      "\n",
      "\n",
      "\n",
      "\n",
      "Report for 2017 year.\n",
      "+-------------------+-------------+\n",
      "|ProgrammingLanguage|NumberOfPosts|\n",
      "+-------------------+-------------+\n",
      "|         JavaScript|          244|\n",
      "|               Java|          204|\n",
      "|             Python|          185|\n",
      "|                PHP|          122|\n",
      "|                  R|           53|\n",
      "|                  C|           24|\n",
      "|        Objective-C|           19|\n",
      "|               Ruby|           16|\n",
      "|         PowerShell|           14|\n",
      "|         TypeScript|           14|\n",
      "+-------------------+-------------+\n",
      "\n",
      "\n",
      "\n",
      "\n",
      "\n",
      "Report for 2018 year.\n",
      "+-------------------+-------------+\n",
      "|ProgrammingLanguage|NumberOfPosts|\n",
      "+-------------------+-------------+\n",
      "|             Python|          214|\n",
      "|         JavaScript|          196|\n",
      "|               Java|          145|\n",
      "|                PHP|           99|\n",
      "|                  R|           63|\n",
      "|                  C|           24|\n",
      "|              Scala|           22|\n",
      "|         TypeScript|           21|\n",
      "|         PowerShell|           13|\n",
      "|               Bash|           12|\n",
      "+-------------------+-------------+\n",
      "\n",
      "\n",
      "\n",
      "\n",
      "\n",
      "Report for 2019 year.\n",
      "+-------------------+-------------+\n",
      "|ProgrammingLanguage|NumberOfPosts|\n",
      "+-------------------+-------------+\n",
      "|             Python|          162|\n",
      "|         JavaScript|          131|\n",
      "|               Java|           95|\n",
      "|                PHP|           59|\n",
      "|                  R|           36|\n",
      "|                  C|           14|\n",
      "|             MATLAB|            9|\n",
      "|                 Go|            9|\n",
      "|               Dart|            9|\n",
      "|               Bash|            8|\n",
      "+-------------------+-------------+\n",
      "\n",
      "\n",
      "\n",
      "\n",
      "\n"
     ]
    }
   ],
   "source": [
    "for year, report in per_year_report.items():\n",
    "    print(f'Report for {year} year.')\n",
    "    report.show()\n",
    "    print('\\n\\n\\n')"
   ]
  },
  {
   "cell_type": "code",
   "execution_count": 70,
   "id": "d7426e38",
   "metadata": {},
   "outputs": [],
   "source": [
    "# We can see that Python started to dominate other languages over time"
   ]
  },
  {
   "cell_type": "code",
   "execution_count": 71,
   "id": "1a78ad90",
   "metadata": {},
   "outputs": [
    {
     "name": "stdout",
     "output_type": "stream",
     "text": [
      "All reports saved!\n"
     ]
    }
   ],
   "source": [
    "for year, report in per_year_report.items():\n",
    "    report.write.parquet(f\"{year}_top_languages_report.parquet\")\n",
    "print('All reports saved!')"
   ]
  }
 ],
 "metadata": {
  "kernelspec": {
   "display_name": "Python 3",
   "language": "python",
   "name": "python3"
  },
  "language_info": {
   "codemirror_mode": {
    "name": "ipython",
    "version": 3
   },
   "file_extension": ".py",
   "mimetype": "text/x-python",
   "name": "python",
   "nbconvert_exporter": "python",
   "pygments_lexer": "ipython3",
   "version": "3.6.9"
  }
 },
 "nbformat": 4,
 "nbformat_minor": 5
}
