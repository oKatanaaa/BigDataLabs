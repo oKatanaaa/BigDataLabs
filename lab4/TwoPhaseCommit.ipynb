{
 "cells": [
  {
   "cell_type": "code",
   "execution_count": 1,
   "metadata": {},
   "outputs": [],
   "source": [
    "import logging\n",
    "import threading\n",
    "from time import sleep, time\n",
    "import random\n",
    "\n",
    "from kazoo.protocol.paths import join\n",
    "\n",
    "logging.basicConfig()\n",
    "\n",
    "from kazoo.client import KazooClient"
   ]
  },
  {
   "cell_type": "code",
   "execution_count": 2,
   "metadata": {},
   "outputs": [],
   "source": [
    "class Client(threading.Thread):\n",
    "    def __init__(self, root: str, _id: int):\n",
    "        super().__init__()\n",
    "        self.url = f'{root}/{_id}'\n",
    "        self.root = root\n",
    "        self.id = _id\n",
    "\n",
    "    def run(self):\n",
    "        zk = KazooClient()\n",
    "        zk.start()\n",
    "\n",
    "        value = b'commit' if random.random() > 0.5 else b'abort'\n",
    "        print(f'Client {self.id} request {value.decode()}')\n",
    "        zk.create(self.url, value, ephemeral=True)\n",
    "        \n",
    "        @zk.DataWatch(self.url)\n",
    "        def watch_myself(data, stat):\n",
    "            if stat.version != 0:\n",
    "                print(f'Data of client {self.id} was set to {data.decode()}')\n",
    "\n",
    "        sleep(5)\n",
    "\n",
    "        zk.stop()\n",
    "        zk.close()"
   ]
  },
  {
   "cell_type": "code",
   "execution_count": 3,
   "metadata": {},
   "outputs": [],
   "source": [
    "class Coordinator():\n",
    "    def main(self):\n",
    "        coordinator = KazooClient()\n",
    "        coordinator.start()\n",
    "\n",
    "        if coordinator.exists('/coordinator'):\n",
    "            coordinator.delete('/coordinator', recursive=True)\n",
    "\n",
    "        coordinator.create('/coordinator')\n",
    "        coordinator.create('/coordinator/tx')\n",
    "        number_of_clients = 5\n",
    "\n",
    "        def make_decision():\n",
    "            clients = coordinator.get_children('/coordinator/tx')\n",
    "            n_commit = 0\n",
    "            n_abort = 0\n",
    "            for client in clients:\n",
    "                n_commit += int(coordinator.get(f'/coordinator/tx/{client}')[0] == b'commit')\n",
    "                n_abort += int(coordinator.get(f'/coordinator/tx/{client}')[0] == b'abort')\n",
    "\n",
    "            target = b'commit' if n_commit > n_abort else b'abort'\n",
    "            for client in clients:\n",
    "                coordinator.set(f'/coordinator/tx/{client}', target)\n",
    "\n",
    "        @coordinator.ChildrenWatch('/coordinator/tx')\n",
    "        def watch_clients(clients):\n",
    "            if len(clients) < number_of_clients:\n",
    "                print('Waiting for the others.', clients)\n",
    "            elif len(clients) == number_of_clients:\n",
    "                print('Gathering voices and making final decision')\n",
    "                make_decision()\n",
    "\n",
    "        root = '/coordinator/tx'\n",
    "        for i in range(5):\n",
    "            p = Client(root, i)\n",
    "            p.start()"
   ]
  },
  {
   "cell_type": "code",
   "execution_count": 4,
   "metadata": {},
   "outputs": [
    {
     "name": "stdout",
     "output_type": "stream",
     "text": [
      "Waiting for the others. []\n",
      "Client 0 request abort\n",
      "Client 1 request abort\n",
      "Client 2 request commit\n",
      "Client 3 request abort\n",
      "Client 4 request abort\n",
      "Waiting for the others. ['0', '1', '2', '3']\n",
      "Gathering voices and making final decision\n",
      "Data of client 0 was set to abort\n",
      "Data of client 1 was set to abort\n",
      "Data of client 2 was set to abort\n",
      "Data of client 3 was set to abort\n",
      "Data of client 4 was set to abort\n",
      "Waiting for the others. ['3', '4']\n",
      "Waiting for the others. []\n"
     ]
    }
   ],
   "source": [
    "Coordinator().main()"
   ]
  },
  {
   "cell_type": "code",
   "execution_count": null,
   "metadata": {},
   "outputs": [],
   "source": []
  }
 ],
 "metadata": {
  "kernelspec": {
   "display_name": "Python [conda env:tf1] *",
   "language": "python",
   "name": "conda-env-tf1-py"
  },
  "language_info": {
   "codemirror_mode": {
    "name": "ipython",
    "version": 3
   },
   "file_extension": ".py",
   "mimetype": "text/x-python",
   "name": "python",
   "nbconvert_exporter": "python",
   "pygments_lexer": "ipython3",
   "version": "3.7.9"
  }
 },
 "nbformat": 4,
 "nbformat_minor": 4
}
