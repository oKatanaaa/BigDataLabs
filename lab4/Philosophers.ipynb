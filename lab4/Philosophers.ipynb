{
 "cells": [
  {
   "cell_type": "code",
   "execution_count": null,
   "metadata": {},
   "outputs": [],
   "source": [
    "from kazoo.client import KazooClient\n",
    "from threading import Thread\n",
    "import time"
   ]
  },
  {
   "cell_type": "code",
   "execution_count": null,
   "metadata": {},
   "outputs": [],
   "source": [
    "import logging\n",
    "\n",
    "from time import time, sleep\n",
    "from multiprocessing import Process\n",
    "logging.basicConfig()\n",
    "\n",
    "from kazoo.client import KazooClient\n",
    "\n",
    "\n",
    "class Philosopher(Thread):\n",
    "    def __init__(self, root: str, _id: int, fork_path: str, duration: int = 100):\n",
    "        super().__init__()\n",
    "        self.url = f'{root}/{_id}'\n",
    "        self.root = root\n",
    "        self.fork = fork_path\n",
    "        self.id = _id\n",
    "        self.left_fork_id = _id\n",
    "        self.right_fork_id = _id + 1 if _id + 1 < 5 else 0\n",
    "        self.duration = duration\n",
    "\n",
    "    def run(self):\n",
    "        zk = KazooClient()\n",
    "        zk.start()\n",
    "\n",
    "        table_lock = zk.Lock(f'{self.root}', self.id)\n",
    "        left_fork = zk.Lock(f'{self.root}/{self.fork}/{self.left_fork_id}', self.id)\n",
    "        right_fork = zk.Lock(f'{self.root}/{self.fork}/{self.right_fork_id}', self.id)\n",
    "\n",
    "        start = time()\n",
    "        while time() - start < self.duration:\n",
    "            print(f'Philosopher {self.id}', 'Im thinking')\n",
    "            with table_lock:\n",
    "                if len(left_fork.contenders()) == 0 and len(right_fork.contenders()) == 0:\n",
    "                    left_fork.acquire()\n",
    "                    right_fork.acquire()\n",
    "                    \n",
    "            if left_fork.is_acquired:\n",
    "                print(f'Philosopher {self.id}', 'Im eating')\n",
    "                sleep(1)\n",
    "                left_fork.release()\n",
    "                right_fork.release()\n",
    "            sleep(0.5)\n",
    "            \n",
    "        zk.stop()\n",
    "        zk.close()"
   ]
  },
  {
   "cell_type": "code",
   "execution_count": null,
   "metadata": {},
   "outputs": [],
   "source": [
    "master_zk = KazooClient()\n",
    "master_zk.start()\n",
    "\n",
    "if master_zk.exists('/table'):\n",
    "    master_zk.delete('/table', recursive=True)\n",
    "\n",
    "master_zk.create('/table')\n",
    "master_zk.create('/table/forks')\n",
    "master_zk.create('/table/forks/1')\n",
    "master_zk.create('/table/forks/2')\n",
    "master_zk.create('/table/forks/3')\n",
    "master_zk.create('/table/forks/4')\n",
    "master_zk.create('/table/forks/5')\n",
    "\n",
    "root = '/table'\n",
    "fork_path = 'forks'\n",
    "for i in range(5):\n",
    "    p = Philosopher(root, i, fork_path, 20)\n",
    "    p.start()"
   ]
  },
  {
   "cell_type": "code",
   "execution_count": null,
   "metadata": {},
   "outputs": [],
   "source": [
    "master_zk.delete('/table/forks/1', recursive=True)"
   ]
  },
  {
   "cell_type": "code",
   "execution_count": null,
   "metadata": {},
   "outputs": [],
   "source": []
  }
 ],
 "metadata": {
  "kernelspec": {
   "display_name": "Python [conda env:tf1] *",
   "language": "python",
   "name": "conda-env-tf1-py"
  },
  "language_info": {
   "codemirror_mode": {
    "name": "ipython",
    "version": 3
   },
   "file_extension": ".py",
   "mimetype": "text/x-python",
   "name": "python",
   "nbconvert_exporter": "python",
   "pygments_lexer": "ipython3",
   "version": "3.7.9"
  }
 },
 "nbformat": 4,
 "nbformat_minor": 4
}
