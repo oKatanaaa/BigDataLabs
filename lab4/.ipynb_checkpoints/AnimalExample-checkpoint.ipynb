{
 "cells": [
  {
   "cell_type": "code",
   "execution_count": 1,
   "metadata": {},
   "outputs": [],
   "source": [
    "from kazoo.client import KazooClient\n",
    "from threading import Thread\n",
    "from time import sleep"
   ]
  },
  {
   "cell_type": "code",
   "execution_count": 2,
   "metadata": {},
   "outputs": [],
   "source": [
    "kc = KazooClient()\n",
    "kc.start()"
   ]
  },
  {
   "cell_type": "code",
   "execution_count": 3,
   "metadata": {},
   "outputs": [
    {
     "data": {
      "text/plain": [
       "'/zoo'"
      ]
     },
     "execution_count": 3,
     "metadata": {},
     "output_type": "execute_result"
    }
   ],
   "source": [
    "kc.create('/zoo', value=b'core_node')"
   ]
  },
  {
   "cell_type": "code",
   "execution_count": 4,
   "metadata": {},
   "outputs": [],
   "source": [
    "N_ANIMALS = 2"
   ]
  },
  {
   "cell_type": "code",
   "execution_count": 5,
   "metadata": {},
   "outputs": [
    {
     "name": "stdout",
     "output_type": "stream",
     "text": [
      "Current children list: []\n"
     ]
    }
   ],
   "source": [
    "@kc.ChildrenWatch('/zoo')\n",
    "def watch_children(children):\n",
    "    print('Current children list:', children)\n",
    "    if len(children) == N_ANIMALS:\n",
    "        print('Zoo is full.')"
   ]
  },
  {
   "cell_type": "code",
   "execution_count": 6,
   "metadata": {},
   "outputs": [],
   "source": [
    "class Animal(Thread):\n",
    "    def __init__(self, root: str, name: str, run_delay: int = 3):\n",
    "        super().__init__()   \n",
    "        self.kc = KazooClient()\n",
    "        self.kc.start()\n",
    "        self.url = f'{root}/{name}'\n",
    "        self.run_delay = run_delay\n",
    "\n",
    "    def enter(self):\n",
    "        self.kc.create(self.url, ephemeral=True)\n",
    "        \n",
    "    def run(self):\n",
    "        print(f'Animal with url={self.url} started running')\n",
    "        sleep(self.run_delay)\n",
    "        self.kc.stop()\n",
    "        print(f'Animal with url={self.url} stopped running')"
   ]
  },
  {
   "cell_type": "code",
   "execution_count": 7,
   "metadata": {},
   "outputs": [],
   "source": [
    "a1 = Animal('zoo', 'a1')\n",
    "a2 = Animal('zoo', 'a2')"
   ]
  },
  {
   "cell_type": "code",
   "execution_count": 8,
   "metadata": {},
   "outputs": [
    {
     "data": {
      "text/plain": [
       "(None, None)"
      ]
     },
     "execution_count": 8,
     "metadata": {},
     "output_type": "execute_result"
    },
    {
     "name": "stdout",
     "output_type": "stream",
     "text": [
      "Current children list: ['a1', 'a2']\n",
      "Zoo is full.\n"
     ]
    }
   ],
   "source": [
    "a1.enter(), a2.enter()"
   ]
  },
  {
   "cell_type": "code",
   "execution_count": 9,
   "metadata": {},
   "outputs": [
    {
     "name": "stdout",
     "output_type": "stream",
     "text": [
      "Animal with url=zoo/a1 started running\n",
      "Animal with url=zoo/a1 stopped running\n",
      "Current children list: ['a2']\n"
     ]
    }
   ],
   "source": [
    "a1.start()"
   ]
  },
  {
   "cell_type": "code",
   "execution_count": 10,
   "metadata": {
    "scrolled": true
   },
   "outputs": [
    {
     "name": "stdout",
     "output_type": "stream",
     "text": [
      "Animal with url=zoo/a2 started running\n",
      "Animal with url=zoo/a2 stopped running\n",
      "Current children list: []\n"
     ]
    }
   ],
   "source": [
    "a2.start()"
   ]
  },
  {
   "cell_type": "code",
   "execution_count": 11,
   "metadata": {},
   "outputs": [],
   "source": [
    "kc.delete('/zoo', recursive=True)"
   ]
  },
  {
   "cell_type": "code",
   "execution_count": null,
   "metadata": {},
   "outputs": [],
   "source": []
  }
 ],
 "metadata": {
  "kernelspec": {
   "display_name": "Python [conda env:tf1] *",
   "language": "python",
   "name": "conda-env-tf1-py"
  },
  "language_info": {
   "codemirror_mode": {
    "name": "ipython",
    "version": 3
   },
   "file_extension": ".py",
   "mimetype": "text/x-python",
   "name": "python",
   "nbconvert_exporter": "python",
   "pygments_lexer": "ipython3",
   "version": "3.7.9"
  }
 },
 "nbformat": 4,
 "nbformat_minor": 4
}
