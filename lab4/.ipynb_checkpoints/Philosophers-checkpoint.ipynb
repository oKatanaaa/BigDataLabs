{
 "cells": [
  {
   "cell_type": "code",
   "execution_count": 4,
   "metadata": {},
   "outputs": [],
   "source": [
    "from kazoo.client import KazooClient\n",
    "from threading import Thread\n",
    "import time"
   ]
  },
  {
   "cell_type": "code",
   "execution_count": 3,
   "metadata": {},
   "outputs": [],
   "source": [
    "class State:\n",
    "    IS_ALLOWED = b'IS_ALLOWED'\n",
    "    IS_NOT_ALLOWED = b'IS_NOT_ALLOWED'\n",
    "    IS_EATING = b'IS_EATING'"
   ]
  },
  {
   "cell_type": "code",
   "execution_count": null,
   "metadata": {},
   "outputs": [],
   "source": [
    "# Our children `process`\n",
    "class Philosopher(Thread):\n",
    "    def __init__(self, root: str, name: str, process_time: int = 30):\n",
    "        super().__init__()   \n",
    "        self.root = root\n",
    "        self.name = name\n",
    "        self.process_time = process_time\n",
    "        @kc.DataWatch(self.url)\n",
    "        def watch_data(*args):\n",
    "            print('Current data list:', *args)\n",
    "            return True\n",
    "    \n",
    "    def run(self):\n",
    "        kc = KazooClient()\n",
    "        kc.start()\n",
    "        waiter_lock = kc.Lock(self.root)\n",
    "        start = time()\n",
    "        while time() - start < self.process_time:\n",
    "            print(f'Philosopher {self.name} is thinking.')\n",
    "            with waiter_lock:\n",
    "                is_allowed_to_eat = kc.get(f'{self.root}/{self.name}')\n",
    "                if is_allowed_to_eat == State.IS_ALLOWED:\n",
    "                    kc.set(f'{self.root}/{self.name}', State.IS_EATING)\n",
    "        \n",
    "            print(f'Philosopher {self.name} is eating.')\n",
    "            time.sleep(1)\n",
    "            kc.set(f'{self.root}/{self.name}', self.url.encode())\n",
    "            \n",
    "        kc.stop()\n",
    "        print(f'Philosopher {self.name} has finished dining')"
   ]
  },
  {
   "cell_type": "code",
   "execution_count": null,
   "metadata": {},
   "outputs": [],
   "source": [
    "class Waiter(Thread):\n",
    "    def __init__(self, root: str):\n",
    "        super().__init__()   \n",
    "        self.kc = KazooClient()\n",
    "        self.kc.start()\n",
    "        self.kc.create(root)\n",
    "        @kc.DataWatch(self.url)\n",
    "        def watch_data(*args):\n",
    "            print('Current data list:', *args)\n",
    "            return True\n",
    "\n",
    "    def enter(self):\n",
    "        self.kc.create(self.url, ephemeral=True)\n",
    "    \n",
    "    def run(self):\n",
    "        print(f'Animal with url={self.url} started running')\n",
    "        print('Animal is screaming!')\n",
    "        self.kc.set(self.url, self.url.encode())\n",
    "        sleep(self.run_delay)\n",
    "        self.kc.stop()\n",
    "        print(f'Animal with url={self.url} stopped running')"
   ]
  }
 ],
 "metadata": {
  "kernelspec": {
   "display_name": "Python [conda env:tf1] *",
   "language": "python",
   "name": "conda-env-tf1-py"
  },
  "language_info": {
   "codemirror_mode": {
    "name": "ipython",
    "version": 3
   },
   "file_extension": ".py",
   "mimetype": "text/x-python",
   "name": "python",
   "nbconvert_exporter": "python",
   "pygments_lexer": "ipython3",
   "version": "3.7.9"
  }
 },
 "nbformat": 4,
 "nbformat_minor": 4
}
