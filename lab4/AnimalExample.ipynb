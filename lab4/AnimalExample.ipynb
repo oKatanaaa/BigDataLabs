{
 "cells": [
  {
   "cell_type": "code",
   "execution_count": 12,
   "metadata": {},
   "outputs": [],
   "source": [
    "from kazoo.client import KazooClient\n",
    "from threading import Thread\n",
    "from time import sleep"
   ]
  },
  {
   "cell_type": "code",
   "execution_count": 13,
   "metadata": {},
   "outputs": [
    {
     "name": "stdout",
     "output_type": "stream",
     "text": [
      "Current children list: ['a2']\n",
      "Current data list: None\n",
      "<class 'NoneType'>\n",
      "Current children list: []\n",
      "Current children list: []\n",
      "Current data list: None\n",
      "<class 'NoneType'>\n",
      "Current children list: []\n",
      "Current data list: b'' ZnodeStat(czxid=19247, mzxid=19247, ctime=1640018142684, mtime=1640018142684, version=0, cversion=0, aversion=0, ephemeralOwner=0, dataLength=0, numChildren=0, pzxid=19247) WatchedEvent(type='DELETED', state='CONNECTED', path='/zoo')\n",
      "Current data list: b'' ZnodeStat(czxid=19247, mzxid=19247, ctime=1640018142684, mtime=1640018142684, version=0, cversion=0, aversion=0, ephemeralOwner=0, dataLength=0, numChildren=0, pzxid=19247) None\n",
      "Current children list: []\n"
     ]
    }
   ],
   "source": [
    "# Create the root node ZOO\n",
    "kc = KazooClient()\n",
    "kc.start()\n",
    "if kc.exists('/zoo'):\n",
    "    kc.delete('/zoo', recursive=True)\n",
    "kc.create('/zoo')\n",
    "\n",
    "N_ANIMALS = 2"
   ]
  },
  {
   "cell_type": "code",
   "execution_count": 14,
   "metadata": {},
   "outputs": [],
   "source": [
    "barrier = kc.Barrier('/zoo')"
   ]
  },
  {
   "cell_type": "code",
   "execution_count": 15,
   "metadata": {},
   "outputs": [],
   "source": [
    "barrier.create()"
   ]
  },
  {
   "cell_type": "code",
   "execution_count": 21,
   "metadata": {},
   "outputs": [
    {
     "data": {
      "text/plain": [
       "False"
      ]
     },
     "execution_count": 21,
     "metadata": {},
     "output_type": "execute_result"
    },
    {
     "name": "stdout",
     "output_type": "stream",
     "text": [
      "Current data list: b'' Current data list:ZnodeStat(czxid=19378, mzxid=19378, ctime=1640018598267, mtime=1640018598267, version=0, cversion=0, aversion=0, ephemeralOwner=0, dataLength=0, numChildren=0, pzxid=19378) WatchedEvent(type='CREATED', state='CONNECTED', path='/zoo')\n",
      " b'' ZnodeStat(czxid=19378, mzxid=19378, ctime=1640018598267, mtime=1640018598267, version=0, cversion=0, aversion=0, ephemeralOwner=0, dataLength=0, numChildren=0, pzxid=19378) WatchedEvent(type='CREATED', state='CONNECTED', path='/zoo')\n",
      "Current data list:Current data list: None None WatchedEvent(type='DELETED', state='CONNECTED', path='/zoo')\n",
      " None None WatchedEvent(type='DELETED', state='CONNECTED', path='/zoo')\n"
     ]
    }
   ],
   "source": [
    "barrier.remove()"
   ]
  },
  {
   "cell_type": "code",
   "execution_count": 17,
   "metadata": {},
   "outputs": [
    {
     "data": {
      "text/plain": [
       "True"
      ]
     },
     "execution_count": 17,
     "metadata": {},
     "output_type": "execute_result"
    },
    {
     "name": "stdout",
     "output_type": "stream",
     "text": [
      "Current data list:Current data list: None None WatchedEvent(type='DELETED', state='CONNECTED', path='/zoo')\n",
      " None None WatchedEvent(type='DELETED', state='CONNECTED', path='/zoo')\n"
     ]
    }
   ],
   "source": [
    "barrier.wait()"
   ]
  },
  {
   "cell_type": "code",
   "execution_count": 6,
   "metadata": {},
   "outputs": [
    {
     "name": "stdout",
     "output_type": "stream",
     "text": [
      "Current children list: []\n"
     ]
    }
   ],
   "source": [
    "# Create a watch for children of the root\n",
    "\n",
    "@kc.ChildrenWatch('/zoo')\n",
    "def watch_children(children):\n",
    "    print('Current children list:', children)\n",
    "    if len(children) == N_ANIMALS:\n",
    "        print('Zoo is full.')"
   ]
  },
  {
   "cell_type": "code",
   "execution_count": 8,
   "metadata": {},
   "outputs": [],
   "source": [
    "# Our children `process`\n",
    "class Animal(Thread):\n",
    "    def __init__(self, root: str, name: str, run_delay: int = 3):\n",
    "        super().__init__()   \n",
    "        self.kc = KazooClient()\n",
    "        self.kc.start()\n",
    "        self.url = f'{root}/{name}'\n",
    "        self.run_delay = run_delay\n",
    "        @kc.DataWatch(self.url)\n",
    "        def watch_data(data, stat):\n",
    "            print('Current data list:', data)\n",
    "            print(type(data))\n",
    "            return True\n",
    "\n",
    "    def enter(self):\n",
    "        self.kc.create(self.url, ephemeral=True)\n",
    "    \n",
    "    def run(self):\n",
    "        print(f'Animal with url={self.url} started running')\n",
    "        print('Animal is screaming!')\n",
    "        self.kc.set(self.url, self.url.encode())\n",
    "        sleep(self.run_delay)\n",
    "        self.kc.stop()\n",
    "        print(f'Animal with url={self.url} stopped running')"
   ]
  },
  {
   "cell_type": "code",
   "execution_count": 9,
   "metadata": {},
   "outputs": [
    {
     "name": "stdout",
     "output_type": "stream",
     "text": [
      "Current data list: None\n",
      "<class 'NoneType'>\n",
      "Current data list: None\n",
      "<class 'NoneType'>\n"
     ]
    }
   ],
   "source": [
    "a1 = Animal('zoo', 'a1')\n",
    "a2 = Animal('zoo', 'a2')"
   ]
  },
  {
   "cell_type": "code",
   "execution_count": 10,
   "metadata": {},
   "outputs": [
    {
     "name": "stdout",
     "output_type": "stream",
     "text": [
      "Current children list: ['a1']\n",
      "Current data list: b''\n",
      "<class 'bytes'>\n",
      "Current children list: ['a1']\n"
     ]
    }
   ],
   "source": [
    "a1.enter()"
   ]
  },
  {
   "cell_type": "code",
   "execution_count": 11,
   "metadata": {},
   "outputs": [
    {
     "name": "stdout",
     "output_type": "stream",
     "text": [
      "Current children list: ['a1', 'a2']\n",
      "Zoo is full.\n",
      "Current data list: b''\n",
      "<class 'bytes'>\n",
      "Current children list: ['a1', 'a2']\n",
      "Zoo is full.\n"
     ]
    }
   ],
   "source": [
    "a2.enter()"
   ]
  },
  {
   "cell_type": "code",
   "execution_count": 15,
   "metadata": {},
   "outputs": [
    {
     "name": "stdout",
     "output_type": "stream",
     "text": [
      "Animal with url=zoo/a1 started running\n",
      "Animal is screaming!\n",
      "Current data list: b'zoo/a1' ZnodeStat(czxid=209, mzxid=211, ctime=1640013557744, mtime=1640013565596, version=1, cversion=0, aversion=0, ephemeralOwner=72057598961844276, dataLength=6, numChildren=0, pzxid=209) WatchedEvent(type='CHANGED', state='CONNECTED', path='/zoo/a1')\n",
      "Animal with url=zoo/a1 stopped running\n",
      "Current data list: None None WatchedEvent(type='DELETED', state='CONNECTED', path='/zoo/a1')\n",
      "Current children list: ['a2']\n"
     ]
    }
   ],
   "source": [
    "# We see that zoo is full, we can release our animals\n",
    "a1.start()"
   ]
  },
  {
   "cell_type": "code",
   "execution_count": 10,
   "metadata": {
    "scrolled": false
   },
   "outputs": [
    {
     "name": "stdout",
     "output_type": "stream",
     "text": [
      "Animal with url=zoo/a2 started running\n",
      "Animal is screaming!\n",
      "Animal with url=zoo/a1 stopped running\n",
      "Current children list: ['a2']\n",
      "Animal with url=zoo/a2 stopped running\n",
      "Current children list: []\n"
     ]
    }
   ],
   "source": [
    "a2.start()"
   ]
  },
  {
   "cell_type": "code",
   "execution_count": 11,
   "metadata": {},
   "outputs": [
    {
     "name": "stdout",
     "output_type": "stream",
     "text": [
      "Animal with url=zoo/a1 stopped running\n",
      "Current children list: ['a2']\n",
      "Current children list: []\n",
      "Current data list: None None WatchedEvent(type='DELETED', state='CONNECTED', path='/zoo')\n",
      "Animal with url=zoo/a2 stopped running\n"
     ]
    }
   ],
   "source": [
    "kc.delete('/zoo', recursive=True)"
   ]
  },
  {
   "cell_type": "code",
   "execution_count": null,
   "metadata": {},
   "outputs": [],
   "source": []
  },
  {
   "cell_type": "code",
   "execution_count": null,
   "metadata": {},
   "outputs": [],
   "source": []
  }
 ],
 "metadata": {
  "kernelspec": {
   "display_name": "Python [conda env:tf1] *",
   "language": "python",
   "name": "conda-env-tf1-py"
  },
  "language_info": {
   "codemirror_mode": {
    "name": "ipython",
    "version": 3
   },
   "file_extension": ".py",
   "mimetype": "text/x-python",
   "name": "python",
   "nbconvert_exporter": "python",
   "pygments_lexer": "ipython3",
   "version": "3.7.9"
  }
 },
 "nbformat": 4,
 "nbformat_minor": 4
}
